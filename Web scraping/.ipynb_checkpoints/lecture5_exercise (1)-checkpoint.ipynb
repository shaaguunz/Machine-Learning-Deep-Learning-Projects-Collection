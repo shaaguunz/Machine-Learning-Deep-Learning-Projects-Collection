{
 "cells": [
  {
   "cell_type": "code",
   "execution_count": 1,
   "id": "44abe8de",
   "metadata": {},
   "outputs": [
    {
     "name": "stdout",
     "output_type": "stream",
     "text": [
      "Requirement already satisfied: beautifulsoup4 in e:\\miniconda\\lib\\site-packages (4.11.1)\n",
      "Requirement already satisfied: soupsieve>1.2 in e:\\miniconda\\lib\\site-packages (from beautifulsoup4) (2.3.2.post1)\n"
     ]
    }
   ],
   "source": [
    "!pip install beautifulsoup4"
   ]
  },
  {
   "cell_type": "code",
   "execution_count": 92,
   "id": "ac3c4211",
   "metadata": {},
   "outputs": [],
   "source": [
    "import requests\n",
    "import pandas as pd\n",
    "from bs4 import BeautifulSoup"
   ]
  },
  {
   "cell_type": "code",
   "execution_count": 88,
   "id": "31dca923",
   "metadata": {},
   "outputs": [],
   "source": [
    "URL = \"https://forecast.weather.gov/MapClick.php?lat=47.6036&lon=-122.3294\"\n",
    "page = requests.get(URL)\n",
    "\n",
    "soup = BeautifulSoup(page.content, \"html.parser\")"
   ]
  },
  {
   "cell_type": "code",
   "execution_count": 90,
   "id": "f76f0002",
   "metadata": {},
   "outputs": [],
   "source": [
    "periods = []\n",
    "short_descs = []\n",
    "temps = []\n",
    "descs = []"
   ]
  },
  {
   "cell_type": "code",
   "execution_count": 81,
   "id": "72f34334",
   "metadata": {},
   "outputs": [],
   "source": [
    "results = soup.find(id=\"seven-day-forecast-container\")"
   ]
  },
  {
   "cell_type": "code",
   "execution_count": 83,
   "id": "d02c0470",
   "metadata": {},
   "outputs": [],
   "source": [
    "forcast = results.find_all(\"div\", class_=\"tombstone-container\")"
   ]
  },
  {
   "cell_type": "code",
   "execution_count": 91,
   "id": "bca10bc3",
   "metadata": {},
   "outputs": [
    {
     "name": "stdout",
     "output_type": "stream",
     "text": [
      "Tonight\n",
      "Partly Cloudy\n",
      "Low: 50 °F\n",
      "Tonight: Partly cloudy, with a low around 50. Northeast wind around 5 mph. \n",
      "\n",
      "Wednesday\n",
      "Mostly Sunny\n",
      "High: 67 °F\n",
      "Wednesday: Mostly sunny, with a high near 67. Light and variable wind becoming north northwest around 6 mph in the afternoon. \n",
      "\n",
      "WednesdayNight\n",
      "Partly Cloudy\n",
      "Low: 51 °F\n",
      "Wednesday Night: Partly cloudy, with a low around 51. North northwest wind around 5 mph becoming light and variable  after midnight. \n",
      "\n",
      "Thursday\n",
      "Partly Sunny\n",
      "High: 63 °F\n",
      "Thursday: Partly sunny, with a high near 63. Light and variable wind. \n",
      "\n",
      "ThursdayNight\n",
      "Slight ChanceRain\n",
      "Low: 50 °F\n",
      "Thursday Night: A 20 percent chance of rain.  Mostly cloudy, with a low around 50. Light and variable wind. \n",
      "\n",
      "Friday\n",
      "Rain\n",
      "High: 56 °F\n",
      "Friday: Rain, mainly after 11am.  High near 56. Chance of precipitation is 80%. New precipitation amounts between a quarter and half of an inch possible. \n",
      "\n",
      "FridayNight\n",
      "Rain\n",
      "Low: 48 °F\n",
      "Friday Night: Rain.  Low around 48. Chance of precipitation is 100%.\n",
      "\n",
      "Saturday\n",
      "Rain Likely\n",
      "High: 54 °F\n",
      "Saturday: Rain likely.  Mostly cloudy, with a high near 54.\n",
      "\n",
      "SaturdayNight\n",
      "Chance Rain\n",
      "Low: 45 °F\n",
      "Saturday Night: A chance of rain, mainly before 11pm.  Mostly cloudy, with a low around 45.\n",
      "\n"
     ]
    }
   ],
   "source": [
    "for day in forcast:\n",
    "    period = day.find(\"p\", class_=\"period-name\").get_text()\n",
    "    short_desc = day.find(\"p\", class_=\"short-desc\").get_text()\n",
    "    temp = day.find(\"p\", class_=\"temp\").get_text()\n",
    "    desc = day.find(\"img\")['title']\n",
    "    print(period)\n",
    "    print(short_desc)\n",
    "    print(temp)\n",
    "    print(desc)\n",
    "    periods.append(period)\n",
    "    short_descs.append(short_desc)\n",
    "    temps.append(temp)\n",
    "    descs.append(desc)\n",
    "    print()"
   ]
  },
  {
   "cell_type": "code",
   "execution_count": 93,
   "id": "67c20233",
   "metadata": {},
   "outputs": [],
   "source": [
    "weather = pd.DataFrame({\n",
    "    \"period\": periods,\n",
    "    \"short_desc\": short_descs,\n",
    "    \"temp\": temps,\n",
    "    \"desc\":descs\n",
    "})"
   ]
  },
  {
   "cell_type": "code",
   "execution_count": 95,
   "id": "092b6602",
   "metadata": {},
   "outputs": [
    {
     "data": {
      "text/html": [
       "<div>\n",
       "<style scoped>\n",
       "    .dataframe tbody tr th:only-of-type {\n",
       "        vertical-align: middle;\n",
       "    }\n",
       "\n",
       "    .dataframe tbody tr th {\n",
       "        vertical-align: top;\n",
       "    }\n",
       "\n",
       "    .dataframe thead th {\n",
       "        text-align: right;\n",
       "    }\n",
       "</style>\n",
       "<table border=\"1\" class=\"dataframe\">\n",
       "  <thead>\n",
       "    <tr style=\"text-align: right;\">\n",
       "      <th></th>\n",
       "      <th>period</th>\n",
       "      <th>short_desc</th>\n",
       "      <th>temp</th>\n",
       "      <th>desc</th>\n",
       "    </tr>\n",
       "  </thead>\n",
       "  <tbody>\n",
       "    <tr>\n",
       "      <th>0</th>\n",
       "      <td>Tonight</td>\n",
       "      <td>Partly Cloudy</td>\n",
       "      <td>Low: 50 °F</td>\n",
       "      <td>Tonight: Partly cloudy, with a low around 50. ...</td>\n",
       "    </tr>\n",
       "    <tr>\n",
       "      <th>1</th>\n",
       "      <td>Wednesday</td>\n",
       "      <td>Mostly Sunny</td>\n",
       "      <td>High: 67 °F</td>\n",
       "      <td>Wednesday: Mostly sunny, with a high near 67. ...</td>\n",
       "    </tr>\n",
       "    <tr>\n",
       "      <th>2</th>\n",
       "      <td>WednesdayNight</td>\n",
       "      <td>Partly Cloudy</td>\n",
       "      <td>Low: 51 °F</td>\n",
       "      <td>Wednesday Night: Partly cloudy, with a low aro...</td>\n",
       "    </tr>\n",
       "    <tr>\n",
       "      <th>3</th>\n",
       "      <td>Thursday</td>\n",
       "      <td>Partly Sunny</td>\n",
       "      <td>High: 63 °F</td>\n",
       "      <td>Thursday: Partly sunny, with a high near 63. L...</td>\n",
       "    </tr>\n",
       "    <tr>\n",
       "      <th>4</th>\n",
       "      <td>ThursdayNight</td>\n",
       "      <td>Slight ChanceRain</td>\n",
       "      <td>Low: 50 °F</td>\n",
       "      <td>Thursday Night: A 20 percent chance of rain.  ...</td>\n",
       "    </tr>\n",
       "    <tr>\n",
       "      <th>5</th>\n",
       "      <td>Friday</td>\n",
       "      <td>Rain</td>\n",
       "      <td>High: 56 °F</td>\n",
       "      <td>Friday: Rain, mainly after 11am.  High near 56...</td>\n",
       "    </tr>\n",
       "    <tr>\n",
       "      <th>6</th>\n",
       "      <td>FridayNight</td>\n",
       "      <td>Rain</td>\n",
       "      <td>Low: 48 °F</td>\n",
       "      <td>Friday Night: Rain.  Low around 48. Chance of ...</td>\n",
       "    </tr>\n",
       "    <tr>\n",
       "      <th>7</th>\n",
       "      <td>Saturday</td>\n",
       "      <td>Rain Likely</td>\n",
       "      <td>High: 54 °F</td>\n",
       "      <td>Saturday: Rain likely.  Mostly cloudy, with a ...</td>\n",
       "    </tr>\n",
       "    <tr>\n",
       "      <th>8</th>\n",
       "      <td>SaturdayNight</td>\n",
       "      <td>Chance Rain</td>\n",
       "      <td>Low: 45 °F</td>\n",
       "      <td>Saturday Night: A chance of rain, mainly befor...</td>\n",
       "    </tr>\n",
       "  </tbody>\n",
       "</table>\n",
       "</div>"
      ],
      "text/plain": [
       "           period         short_desc         temp  \\\n",
       "0         Tonight      Partly Cloudy   Low: 50 °F   \n",
       "1       Wednesday       Mostly Sunny  High: 67 °F   \n",
       "2  WednesdayNight      Partly Cloudy   Low: 51 °F   \n",
       "3        Thursday       Partly Sunny  High: 63 °F   \n",
       "4   ThursdayNight  Slight ChanceRain   Low: 50 °F   \n",
       "5          Friday               Rain  High: 56 °F   \n",
       "6     FridayNight               Rain   Low: 48 °F   \n",
       "7        Saturday        Rain Likely  High: 54 °F   \n",
       "8   SaturdayNight        Chance Rain   Low: 45 °F   \n",
       "\n",
       "                                                desc  \n",
       "0  Tonight: Partly cloudy, with a low around 50. ...  \n",
       "1  Wednesday: Mostly sunny, with a high near 67. ...  \n",
       "2  Wednesday Night: Partly cloudy, with a low aro...  \n",
       "3  Thursday: Partly sunny, with a high near 63. L...  \n",
       "4  Thursday Night: A 20 percent chance of rain.  ...  \n",
       "5  Friday: Rain, mainly after 11am.  High near 56...  \n",
       "6  Friday Night: Rain.  Low around 48. Chance of ...  \n",
       "7  Saturday: Rain likely.  Mostly cloudy, with a ...  \n",
       "8  Saturday Night: A chance of rain, mainly befor...  "
      ]
     },
     "execution_count": 95,
     "metadata": {},
     "output_type": "execute_result"
    }
   ],
   "source": [
    "weather"
   ]
  }
 ],
 "metadata": {
  "kernelspec": {
   "display_name": "Python 3 (ipykernel)",
   "language": "python",
   "name": "python3"
  },
  "language_info": {
   "codemirror_mode": {
    "name": "ipython",
    "version": 3
   },
   "file_extension": ".py",
   "mimetype": "text/x-python",
   "name": "python",
   "nbconvert_exporter": "python",
   "pygments_lexer": "ipython3",
   "version": "3.9.13"
  }
 },
 "nbformat": 4,
 "nbformat_minor": 5
}
