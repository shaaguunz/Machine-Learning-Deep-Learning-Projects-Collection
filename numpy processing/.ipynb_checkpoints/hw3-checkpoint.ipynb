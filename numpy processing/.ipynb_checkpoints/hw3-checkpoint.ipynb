{
 "cells": [
  {
   "cell_type": "code",
   "execution_count": 1,
   "id": "34198229",
   "metadata": {},
   "outputs": [],
   "source": [
    "import numpy as np"
   ]
  },
  {
   "cell_type": "markdown",
   "id": "7ddd4b9d",
   "metadata": {},
   "source": [
    "## Task 1 "
   ]
  },
  {
   "cell_type": "code",
   "execution_count": 2,
   "id": "7378f542",
   "metadata": {},
   "outputs": [],
   "source": [
    "B = np.array([[1, 2, -3], [3, 4, -1]])"
   ]
  },
  {
   "cell_type": "code",
   "execution_count": 3,
   "id": "41dfdd6e",
   "metadata": {},
   "outputs": [],
   "source": [
    "A = np.array([[2, -5, 1], [1, 4, 5], [2,-1,6]])"
   ]
  },
  {
   "cell_type": "code",
   "execution_count": 4,
   "id": "08e3566c",
   "metadata": {},
   "outputs": [],
   "source": [
    "y = np.array([2, -4, 1])"
   ]
  },
  {
   "cell_type": "code",
   "execution_count": 5,
   "id": "5c430f36",
   "metadata": {},
   "outputs": [],
   "source": [
    "z = np.array([-15, -8, -22])"
   ]
  },
  {
   "cell_type": "code",
   "execution_count": 6,
   "id": "778089a9",
   "metadata": {},
   "outputs": [
    {
     "data": {
      "text/plain": [
       "array([[-2,  6, -7],\n",
       "       [ 8,  2, 17]])"
      ]
     },
     "execution_count": 6,
     "metadata": {},
     "output_type": "execute_result"
    }
   ],
   "source": [
    "# BA (matrix dot product) \n",
    "BA = np.dot(B, A)\n",
    "BA"
   ]
  },
  {
   "cell_type": "code",
   "execution_count": 7,
   "id": "c37f12f4",
   "metadata": {},
   "outputs": [
    {
     "name": "stdout",
     "output_type": "stream",
     "text": [
      "[[-2  6 -7]\n",
      " [ 8  2 17]]\n"
     ]
    }
   ],
   "source": [
    "print(BA)"
   ]
  },
  {
   "cell_type": "code",
   "execution_count": 8,
   "id": "c8b08fb2",
   "metadata": {},
   "outputs": [
    {
     "data": {
      "text/plain": [
       "array([[-11, -15],\n",
       "       [ -6,  14],\n",
       "       [-18,  -4]])"
      ]
     },
     "execution_count": 8,
     "metadata": {},
     "output_type": "execute_result"
    }
   ],
   "source": [
    "# A.B^T (matrix dot product) \n",
    "B_transpose = np.transpose(B)\n",
    "np.dot(A, B_transpose)"
   ]
  },
  {
   "cell_type": "code",
   "execution_count": 9,
   "id": "c914f846",
   "metadata": {},
   "outputs": [
    {
     "name": "stdout",
     "output_type": "stream",
     "text": [
      "[[-11 -15]\n",
      " [ -6  14]\n",
      " [-18  -4]]\n"
     ]
    }
   ],
   "source": [
    "print(np.dot(A, B_transpose))"
   ]
  },
  {
   "cell_type": "code",
   "execution_count": 10,
   "id": "af41b06d",
   "metadata": {},
   "outputs": [
    {
     "data": {
      "text/plain": [
       "array([[  4,  20,   1],\n",
       "       [  2, -16,   5],\n",
       "       [  4,   4,   6]])"
      ]
     },
     "execution_count": 10,
     "metadata": {},
     "output_type": "execute_result"
    }
   ],
   "source": [
    "#Ay  (element-wise product) \n",
    "np.multiply(A, y)"
   ]
  },
  {
   "cell_type": "code",
   "execution_count": 11,
   "id": "838f38c1",
   "metadata": {},
   "outputs": [
    {
     "name": "stdout",
     "output_type": "stream",
     "text": [
      "[[  4  20   1]\n",
      " [  2 -16   5]\n",
      " [  4   4   6]]\n"
     ]
    }
   ],
   "source": [
    "print(np.multiply(A, y))"
   ]
  },
  {
   "cell_type": "code",
   "execution_count": 12,
   "id": "aab359bd",
   "metadata": {},
   "outputs": [
    {
     "data": {
      "text/plain": [
       "-20"
      ]
     },
     "execution_count": 12,
     "metadata": {},
     "output_type": "execute_result"
    }
   ],
   "source": [
    "# y^T.z (dot product) \n",
    "y_transpose = np.transpose(y)\n",
    "np.dot(y_transpose, z)"
   ]
  },
  {
   "cell_type": "code",
   "execution_count": 13,
   "id": "3fb495ee",
   "metadata": {},
   "outputs": [
    {
     "name": "stdout",
     "output_type": "stream",
     "text": [
      "-20\n"
     ]
    }
   ],
   "source": [
    "print(np.dot(y_transpose, z))"
   ]
  },
  {
   "cell_type": "code",
   "execution_count": 14,
   "id": "35bef490",
   "metadata": {},
   "outputs": [
    {
     "data": {
      "text/plain": [
       "-20"
      ]
     },
     "execution_count": 14,
     "metadata": {},
     "output_type": "execute_result"
    }
   ],
   "source": [
    "# y.z^T (dot product)\n",
    "z_transpose = np.transpose(z)\n",
    "np.dot(y, z_transpose)"
   ]
  },
  {
   "cell_type": "code",
   "execution_count": 15,
   "id": "087d57e8",
   "metadata": {},
   "outputs": [
    {
     "name": "stdout",
     "output_type": "stream",
     "text": [
      "-20\n"
     ]
    }
   ],
   "source": [
    "print(np.dot(y, z_transpose))"
   ]
  },
  {
   "cell_type": "markdown",
   "id": "2fcfcc57",
   "metadata": {},
   "source": [
    "## Task 2"
   ]
  },
  {
   "cell_type": "code",
   "execution_count": 70,
   "id": "73279321",
   "metadata": {},
   "outputs": [],
   "source": [
    "data_sea = np.loadtxt(\"./sea_ice.txt \")\n"
   ]
  },
  {
   "cell_type": "code",
   "execution_count": 81,
   "id": "daa03d59",
   "metadata": {},
   "outputs": [],
   "source": [
    "# Drop \"year\" column in the array\n",
    "data = np.loadtxt(\"./sea_ice.txt \")\n",
    "years = data[:,0];   # first column, easy\n",
    "data = np.delete(data, 0, axis=1)  "
   ]
  },
  {
   "cell_type": "code",
   "execution_count": 72,
   "id": "58699af5",
   "metadata": {},
   "outputs": [
    {
     "data": {
      "text/plain": [
       "(35, 24)"
      ]
     },
     "execution_count": 72,
     "metadata": {},
     "output_type": "execute_result"
    }
   ],
   "source": [
    "data.shape"
   ]
  },
  {
   "cell_type": "code",
   "execution_count": 73,
   "id": "6b410a38",
   "metadata": {},
   "outputs": [
    {
     "data": {
      "text/plain": [
       "(35, 24)"
      ]
     },
     "execution_count": 73,
     "metadata": {},
     "output_type": "execute_result"
    }
   ],
   "source": [
    "data.shape"
   ]
  },
  {
   "cell_type": "markdown",
   "id": "98a54d4a",
   "metadata": {},
   "source": [
    "### Question 1"
   ]
  },
  {
   "cell_type": "code",
   "execution_count": 74,
   "id": "fe26ca48",
   "metadata": {},
   "outputs": [
    {
     "name": "stdout",
     "output_type": "stream",
     "text": [
      "[12.35368667 12.30826667 12.14558083 12.45686208 12.33568708 11.87747083\n",
      " 12.01045667 12.19226375 12.24189292 12.17807125 11.94431792 11.69843125\n",
      " 11.748975   12.09240667 11.89199708 12.00314333 11.4399725  11.80077417\n",
      " 11.65201667 11.73174042 11.69837125 11.47028208 11.59702792 11.37123083\n",
      " 11.40933625 11.23321208 10.91517292 10.77606792 10.46224167 10.9652475\n",
      " 10.96187958 10.7319675  10.5070525  10.38419    10.93400333]\n"
     ]
    }
   ],
   "source": [
    "ann_avg=np.average(data, axis =1)\n",
    "print(ann_avg)"
   ]
  },
  {
   "cell_type": "markdown",
   "id": "6a62278c",
   "metadata": {},
   "source": [
    "### Question 2\n"
   ]
  },
  {
   "cell_type": "code",
   "execution_count": 75,
   "id": "dbdedf2f",
   "metadata": {},
   "outputs": [
    {
     "name": "stdout",
     "output_type": "stream",
     "text": [
      "[13.75893829 14.38377    14.95408257 15.27054543 15.45235886 15.41495714\n",
      " 15.16558229 14.64904771 13.918912   13.276534   12.47003314 11.735488\n",
      " 10.60278257  9.364288    7.98030429  7.01232314  6.32387371  6.17908857\n",
      "  6.84253057  8.23250714  9.69354457 10.67239057 11.85054943 12.86731457]\n"
     ]
    }
   ],
   "source": [
    "avg_sea=np.average(data, axis =0)\n",
    "print(avg_sea)"
   ]
  },
  {
   "cell_type": "markdown",
   "id": "c0abe421",
   "metadata": {},
   "source": [
    "### Question 3"
   ]
  },
  {
   "cell_type": "code",
   "execution_count": 76,
   "id": "c61b8287",
   "metadata": {},
   "outputs": [
    {
     "name": "stdout",
     "output_type": "stream",
     "text": [
      "11.586322773809522\n"
     ]
    }
   ],
   "source": [
    "avg=np.average(data)\n",
    "print(avg)"
   ]
  },
  {
   "cell_type": "markdown",
   "id": "56e72bd7",
   "metadata": {},
   "source": [
    "### Question 4"
   ]
  },
  {
   "cell_type": "code",
   "execution_count": 77,
   "id": "d715f350",
   "metadata": {},
   "outputs": [
    {
     "data": {
      "text/plain": [
       "array([14, 14, 14, 15, 15, 14, 14, 15, 14, 14, 14, 14, 14, 14, 14, 14, 13,\n",
       "       14, 14, 13, 14, 14, 12, 14, 13, 13, 12, 12, 12, 12, 12, 12, 12, 12,\n",
       "       12])"
      ]
     },
     "execution_count": 77,
     "metadata": {},
     "output_type": "execute_result"
    }
   ],
   "source": [
    "np.sum(data>avg, axis=1)"
   ]
  },
  {
   "cell_type": "markdown",
   "id": "f53d639a",
   "metadata": {},
   "source": [
    "### Question 5"
   ]
  },
  {
   "cell_type": "code",
   "execution_count": 78,
   "id": "3903aa49",
   "metadata": {},
   "outputs": [
    {
     "data": {
      "text/plain": [
       "14"
      ]
     },
     "execution_count": 78,
     "metadata": {},
     "output_type": "execute_result"
    }
   ],
   "source": [
    "np.sum(ann_avg<avg)"
   ]
  },
  {
   "cell_type": "markdown",
   "id": "fa4d4011",
   "metadata": {},
   "source": [
    "### Question 6"
   ]
  },
  {
   "cell_type": "code",
   "execution_count": 79,
   "id": "39a84086",
   "metadata": {},
   "outputs": [
    {
     "data": {
      "text/plain": [
       "10"
      ]
     },
     "execution_count": 79,
     "metadata": {},
     "output_type": "execute_result"
    }
   ],
   "source": [
    "np.sum(ann_avg[-10:]<avg)"
   ]
  },
  {
   "cell_type": "markdown",
   "id": "7f066e7d",
   "metadata": {},
   "source": [
    "### Question 7"
   ]
  },
  {
   "cell_type": "code",
   "execution_count": 83,
   "id": "1aeb9b90",
   "metadata": {},
   "outputs": [
    {
     "data": {
      "text/plain": [
       "array([2012., 2007., 2011., 2010., 2006., 2005., 2013., 2009., 2008.,\n",
       "       2004.])"
      ]
     },
     "execution_count": 83,
     "metadata": {},
     "output_type": "execute_result"
    }
   ],
   "source": [
    "years[np.argsort(ann_avg)][0:10]"
   ]
  },
  {
   "cell_type": "markdown",
   "id": "fcdaa5e9",
   "metadata": {},
   "source": [
    "### Question 8"
   ]
  },
  {
   "cell_type": "code",
   "execution_count": 80,
   "id": "02fce3a0",
   "metadata": {},
   "outputs": [
    {
     "name": "stdout",
     "output_type": "stream",
     "text": [
      "[[15.222785 16.03922  16.502235 15.487985 14.234555 12.795925 10.889195\n",
      "   8.458435  7.104105  8.139475 10.521235 12.84909 ]\n",
      " [14.566385 15.69721  16.03959  15.54056  14.218145 12.448105 10.60904\n",
      "   8.237025  7.56087   8.701425 10.796405 13.28444 ]\n",
      " [14.60416  15.5588   15.63654  15.174915 14.05192  12.754105 10.88579\n",
      "   8.20017   7.08079   8.452515 10.528315 12.81895 ]\n",
      " [14.826685 15.90264  16.040625 15.682185 14.366755 12.78276  10.843545\n",
      "   8.43953   7.29333   8.72657  11.26506  13.31266 ]\n",
      " [14.61097  15.818835 16.07317  15.43969  13.724755 12.557345 11.137015\n",
      "   8.55396   7.271585  8.73976  11.06832  13.03284 ]\n",
      " [14.228095 15.18463  15.535565 15.16605  13.821705 12.487135 10.55727\n",
      "   8.16625   6.611005  7.99829  10.290275 12.48338 ]\n",
      " [14.34628  15.306865 15.916425 15.497485 14.36783  12.607245 10.40943\n",
      "   7.703655  6.683945  7.98022  10.630895 12.675205]\n",
      " [14.461635 15.52753  15.96407  15.28153  13.7612   12.24093  10.676685\n",
      "   8.303815  7.273075  8.879285 11.074805 12.862605]\n",
      " [14.512015 15.94221  15.92315  15.45623  14.01397  12.7482   10.93344\n",
      "   8.179205  7.048555  8.506725 10.80021  12.838805]\n",
      " [14.62464  15.461125 15.99083  15.292675 13.97141  12.28135  10.354395\n",
      "   8.1987    7.2403    8.679395 10.832785 13.20925 ]\n",
      " [14.58198  15.336425 15.41195  14.645885 13.184855 12.509085 10.75346\n",
      "   8.342165  7.020705  8.08095  10.537355 12.927   ]\n",
      " [14.439865 15.37898  15.96326  15.002865 13.445855 12.01898   9.89292\n",
      "   7.183335  6.145445  7.53994  10.622805 12.746925]\n",
      " [13.981515 15.084455 15.47591  15.0922   13.770165 12.40976  10.21915\n",
      "   7.691935  6.516725  7.859395 10.404465 12.482025]\n",
      " [14.25039  15.4431   15.40379  14.932845 13.48416  12.40225  10.855825\n",
      "   8.29185   7.28169   8.818795 10.85577  13.088415]\n",
      " [14.48292  15.49962  15.758915 15.326885 13.747245 12.11989  10.08566\n",
      "   7.757495  6.27432   8.0051   10.81264  12.833275]\n",
      " [14.380025 15.415275 15.572445 15.08963  13.8896   12.372875 10.521305\n",
      "   7.99423   7.090265  8.289075 10.647265 12.77573 ]\n",
      " [14.31937  15.085955 15.20991  14.722355 13.313945 11.79745   9.717725\n",
      "   7.07363   6.10731   6.974005 10.383605 12.57441 ]\n",
      " [13.937035 14.84373  15.117565 14.450445 13.295735 12.299335 10.72374\n",
      "   8.53901   7.44414   8.698475 10.00366  12.25642 ]\n",
      " [13.94269  15.26689  15.495555 14.786165 13.53353  12.049245  9.997895\n",
      "   7.61777   6.67039   7.65182  10.192415 12.619835]\n",
      " [14.3131   15.53244  15.63257  15.054225 13.859595 12.192575  9.88834\n",
      "   7.878855  6.520885  7.797685 10.014745 12.09587 ]\n",
      " [14.09981  15.111575 15.263795 15.278045 14.03621  12.33571   9.974755\n",
      "   7.782865  5.994615  7.851385 10.501235 12.150455]\n",
      " [13.736045 14.937155 15.24149  14.73149  13.47634  12.009895 10.08223\n",
      "   7.5696    6.146815  7.62751   9.930885 12.15393 ]\n",
      " [13.785365 15.038475 15.610295 14.925445 13.90937  11.897865  9.543155\n",
      "   7.758985  6.709595  7.716705 10.323595 11.945485]\n",
      " [13.909045 15.265475 15.391435 14.593475 13.28551  11.9096    9.94844\n",
      "   7.057745  5.74702   7.34062   9.81326  12.193145]\n",
      " [14.03709  15.07427  15.437535 14.85362  13.32374  12.003665  9.8326\n",
      "   7.292475  6.164955  7.09278   9.75753  12.041775]\n",
      " [13.822925 14.66184  14.982965 14.24715  12.830175 11.750555 10.063365\n",
      "   7.398095  5.871515  7.265615  9.796715 12.10763 ]\n",
      " [13.405935 14.221355 14.742165 14.16958  13.26031  11.59318   9.365495\n",
      "   6.68896   5.567165  6.43001   9.74427  11.79365 ]\n",
      " [13.25217  14.19573  14.36359  14.06685  12.80985  11.41924   9.060175\n",
      "   6.86572   5.87655   6.82414   9.43136  11.14744 ]\n",
      " [13.355285 14.32029  14.561035 13.97187  13.05277  11.696285  8.727535\n",
      "   5.855865  4.32934   5.125575  9.11576  11.43529 ]\n",
      " [13.48541  14.6157   15.154925 14.57372  13.353085 11.677985  9.310025\n",
      "   6.546695  4.728005  6.338805  9.856    11.942615]\n",
      " [13.59428  14.651075 15.02327  14.588145 13.551565 11.75983   9.28292\n",
      "   6.56205   5.27051   6.242475  9.28285  11.733585]\n",
      " [13.44862  14.404745 14.97961  14.89879  13.36161  11.23861   8.60569\n",
      "   6.272405  4.924405  6.20848   9.10697  11.333675]\n",
      " [13.151465 14.247435 14.526475 14.30879  13.03474  11.271075  8.41318\n",
      "   6.008805  4.56713   5.634215  9.26114  11.66018 ]\n",
      " [13.454385 14.32933  15.147545 14.86403  13.28138  11.255585  8.33425\n",
      "   5.43344   3.476055  4.9473    8.71289  11.37409 ]\n",
      " [13.327025 14.530605 15.08783  14.56222  13.29672  11.902995  8.928095\n",
      "   6.466255  5.18873   6.648645  9.486375 11.782545]]\n"
     ]
    }
   ],
   "source": [
    "new_data=data.reshape((-1,2)).mean(1).reshape(35,12)\n",
    "print(new_data)"
   ]
  },
  {
   "cell_type": "code",
   "execution_count": null,
   "id": "d92ea5fd",
   "metadata": {},
   "outputs": [],
   "source": []
  },
  {
   "cell_type": "code",
   "execution_count": null,
   "id": "ff10e369",
   "metadata": {},
   "outputs": [],
   "source": []
  },
  {
   "cell_type": "code",
   "execution_count": null,
   "id": "b2a84cae",
   "metadata": {},
   "outputs": [],
   "source": []
  },
  {
   "cell_type": "code",
   "execution_count": null,
   "id": "da478f3d",
   "metadata": {},
   "outputs": [],
   "source": []
  }
 ],
 "metadata": {
  "kernelspec": {
   "display_name": "Python 3 (ipykernel)",
   "language": "python",
   "name": "python3"
  },
  "language_info": {
   "codemirror_mode": {
    "name": "ipython",
    "version": 3
   },
   "file_extension": ".py",
   "mimetype": "text/x-python",
   "name": "python",
   "nbconvert_exporter": "python",
   "pygments_lexer": "ipython3",
   "version": "3.9.13"
  }
 },
 "nbformat": 4,
 "nbformat_minor": 5
}
