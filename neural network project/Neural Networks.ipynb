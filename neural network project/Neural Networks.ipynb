{
 "cells": [
  {
   "cell_type": "markdown",
   "metadata": {},
   "source": [
    "This notebook is detailed enough and clearly specifies what you are required to do. This notebook does not contain any interactive feedback cells. Rather, at each stage of the assignment, you're given complete detail on what to do along with possible (expected) results, in order to give you an indication of whether you are on track with your implementation.\n",
    "\n",
    "This notebook requires you to implement neural networks, that includes e.g. forward propagation, the cost function, back propagation etc. The data sets are provided along with this notebook. The assignment consists of several parts, but some parts are not for your learning purposes and not for marks.\n",
    "\n",
    "**Important Note**: Please take care to only fill in code between the two comments that I put in as follows:\n",
    "\n",
    "```\n",
    "#FILL IN BELOW\n",
    "\n",
    "#STOP FILLING IN HERE\n",
    "```\n",
    "\n",
    "Hardly anything else needs to be changed. There are things you can toy with though. Use your discretion.\n",
    "\n",
    "Very importantly, you'll see a ```debug``` variable or function parameter from place to place. Don't touch, change or otherwise manipulate this in any way. Doing so will render your work unmarkable.\n",
    "\n",
    "This notebook provides the ability to make use of several data sets. I would strongly suggest not changing the data set initially. I would strongly strongly suggest just using the noise-moons data set. This will ensure the best learning experience. In the last part of this notebook, I've taken the effort to combine everything into one cell where you can try out different data sets and parameters freely. Still, the choice is yours.\n",
    "\n",
    "After you're done coding, feel completely free to toy with parameters in Part Z e.g. try increasing (or decreasing) the degree of the polynomial used in the second part of the assignment, and see what the effect is; try increasing or decreasing learning rates, number of iterations etc. There's lots to be learned here.\n",
    "\n",
    "And do note that the NN cost function is also (like logistic regression) a bit (actually a LOT) more sensitive than that of linear regression; one wrong move and you either have ```NaN``` or ```InF``` errors. These errors aren't irreversible, so do experiment. But it might be wiser, when you toy with things, to try and make small changes to initial $\\theta$ and $\\alpha$ parameters, as well as the number of iterations, e.g. might not be such a good idea to go from $\\alpha=0.1$ suddenly to $\\alpha=1000000$.\n",
    "\n",
    "**VERY IMPORTANT NOTE:** Your notebook will be auto-marked. The output of the marked functions will either be 100% right or 100% wrong. Either your output is perfect in both value(s) and format(s), or it isn't. When you go out there and get a dev job, you'll be required to produce code that meets very exact and precise specs. Calling your manager over and saying \"But this value is produces is still right. Can I still get marks for this?\" No you can't. It's either right or wrong. If it fails the auto-marker test, it fails .\n",
    "\n",
    "Bon apetit."
   ]
  },
  {
   "cell_type": "markdown",
   "metadata": {},
   "source": [
    "### Some Initializing Code\n",
    "\n",
    "Run the code below to initialize the notebook. Don't change any of it."
   ]
  },
  {
   "cell_type": "code",
   "execution_count": 137,
   "metadata": {},
   "outputs": [],
   "source": [
    "debug = 0\n",
    "\n",
    "import numpy as np\n",
    "import pandas as pd\n",
    "from IPython.display import display,HTML\n",
    "\n",
    "ass_date_met = \"7721hdjfh56nkf771!190sd1hdjfhjhs0071!skskhb0091hdjfh77262jhdywyyuqkjbsdu0811hdjfhnkf771!hslknhd7612oi7!#daiw@_eadafgfjd$##*Dkdjhq91hdj1hdjfhfhjhdfi1998nkf771!7nkknkf771!@#!@likkhdh1hdjfhuhs919872863jnjhg23\"\n",
    "sets = ['449f', 'bce2', 'ee42', 'b758']\n",
    "sets += ['bcc4', 'ab65', 'ccd3', 'c6f1']\n",
    "lend = \"\\n\".join(sets)\n",
    "\n",
    "np.set_printoptions(suppress=True)\n",
    "\n",
    "from IPython.display import Markdown, display\n",
    "def printmd(string):\n",
    "    display(Markdown(string))"
   ]
  },
  {
   "cell_type": "markdown",
   "metadata": {},
   "source": [
    "\n",
    "In this problem, we'll be making use of a series of data sets with two features ($x_0$ and $x_1$) and two classes that can only be separated by a non-linear decision boundary. We'll be creating and using a neural network to model these data sets."
   ]
  },
  {
   "cell_type": "markdown",
   "metadata": {},
   "source": [
    "---"
   ]
  },
  {
   "cell_type": "markdown",
   "metadata": {},
   "source": [
    "## Part A -  Reading, Readying, and Plotting the Data"
   ]
  },
  {
   "cell_type": "markdown",
   "metadata": {},
   "source": [
    "### Reading in the Data\n",
    "\n",
    "The first step is to load the data. The data is loaded from an external script that automatically generates the data sets. Run the script below."
   ]
  },
  {
   "cell_type": "code",
   "execution_count": 138,
   "metadata": {
    "scrolled": true
   },
   "outputs": [],
   "source": [
    "from planar_utils import *\n",
    "\n",
    "np.random.seed(1) # set a seed so that the results are consistent\n",
    "\n",
    "#Leave this as is initially, but feel free to change it later. This specifies how many data points will be contained in the data sets.\n",
    "N = 400\n",
    "\n",
    "noisy_circles, noisy_moons, blobs, gaussian_quantiles = load_extra_datasets(N)\n",
    "planar_data = load_planar_dataset()\n",
    "\n",
    "\n",
    "datasets = {'noisy_circles': noisy_circles, \n",
    "            'noisy_moons': noisy_moons, \n",
    "            'blobs': blobs, \n",
    "            'gaussian_quantiles': gaussian_quantiles, \n",
    "            'planar': planar_data}\n"
   ]
  },
  {
   "cell_type": "markdown",
   "metadata": {},
   "source": [
    "The script loads five different data sets, namely, the ```noisy_circles```, ```noisy_moons```, ```blobs```, ```gaussian_quantiles``` and ```planar``` data sets. In the code below, you can specify which of the data sets you'd like to use. Practically speaking, since they are all 2-class data sets, it shouldn't make any difference which you use. You're also free to change around the data set once you're done writing all of your Neural Network (NN) code to see how it would work on each data set."
   ]
  },
  {
   "cell_type": "code",
   "execution_count": 139,
   "metadata": {},
   "outputs": [
    {
     "data": {
      "text/html": [
       "<div>\n",
       "<style scoped>\n",
       "    .dataframe tbody tr th:only-of-type {\n",
       "        vertical-align: middle;\n",
       "    }\n",
       "\n",
       "    .dataframe tbody tr th {\n",
       "        vertical-align: top;\n",
       "    }\n",
       "\n",
       "    .dataframe thead th {\n",
       "        text-align: right;\n",
       "    }\n",
       "</style>\n",
       "<table border=\"1\" class=\"dataframe\">\n",
       "  <thead>\n",
       "    <tr style=\"text-align: right;\">\n",
       "      <th></th>\n",
       "      <th>x1</th>\n",
       "      <th>x2</th>\n",
       "      <th>y</th>\n",
       "    </tr>\n",
       "  </thead>\n",
       "  <tbody>\n",
       "    <tr>\n",
       "      <th>0</th>\n",
       "      <td>-1.044475</td>\n",
       "      <td>0.504478</td>\n",
       "      <td>0</td>\n",
       "    </tr>\n",
       "    <tr>\n",
       "      <th>1</th>\n",
       "      <td>-0.090460</td>\n",
       "      <td>0.847058</td>\n",
       "      <td>0</td>\n",
       "    </tr>\n",
       "    <tr>\n",
       "      <th>2</th>\n",
       "      <td>0.827203</td>\n",
       "      <td>0.122143</td>\n",
       "      <td>0</td>\n",
       "    </tr>\n",
       "    <tr>\n",
       "      <th>3</th>\n",
       "      <td>1.207337</td>\n",
       "      <td>-0.716480</td>\n",
       "      <td>1</td>\n",
       "    </tr>\n",
       "    <tr>\n",
       "      <th>4</th>\n",
       "      <td>-0.071733</td>\n",
       "      <td>0.484330</td>\n",
       "      <td>1</td>\n",
       "    </tr>\n",
       "    <tr>\n",
       "      <th>5</th>\n",
       "      <td>0.508494</td>\n",
       "      <td>-0.248622</td>\n",
       "      <td>1</td>\n",
       "    </tr>\n",
       "    <tr>\n",
       "      <th>6</th>\n",
       "      <td>-0.814097</td>\n",
       "      <td>-0.241485</td>\n",
       "      <td>0</td>\n",
       "    </tr>\n",
       "    <tr>\n",
       "      <th>7</th>\n",
       "      <td>1.148401</td>\n",
       "      <td>0.343829</td>\n",
       "      <td>0</td>\n",
       "    </tr>\n",
       "    <tr>\n",
       "      <th>8</th>\n",
       "      <td>0.864095</td>\n",
       "      <td>-0.607039</td>\n",
       "      <td>1</td>\n",
       "    </tr>\n",
       "    <tr>\n",
       "      <th>9</th>\n",
       "      <td>1.002816</td>\n",
       "      <td>-0.471706</td>\n",
       "      <td>1</td>\n",
       "    </tr>\n",
       "    <tr>\n",
       "      <th>10</th>\n",
       "      <td>0.811568</td>\n",
       "      <td>0.547221</td>\n",
       "      <td>0</td>\n",
       "    </tr>\n",
       "    <tr>\n",
       "      <th>11</th>\n",
       "      <td>0.188693</td>\n",
       "      <td>0.019030</td>\n",
       "      <td>1</td>\n",
       "    </tr>\n",
       "    <tr>\n",
       "      <th>12</th>\n",
       "      <td>-0.546341</td>\n",
       "      <td>1.325773</td>\n",
       "      <td>0</td>\n",
       "    </tr>\n",
       "    <tr>\n",
       "      <th>13</th>\n",
       "      <td>-0.397497</td>\n",
       "      <td>0.665222</td>\n",
       "      <td>0</td>\n",
       "    </tr>\n",
       "    <tr>\n",
       "      <th>14</th>\n",
       "      <td>-0.182876</td>\n",
       "      <td>0.977858</td>\n",
       "      <td>0</td>\n",
       "    </tr>\n",
       "    <tr>\n",
       "      <th>15</th>\n",
       "      <td>0.187598</td>\n",
       "      <td>0.678787</td>\n",
       "      <td>0</td>\n",
       "    </tr>\n",
       "    <tr>\n",
       "      <th>16</th>\n",
       "      <td>-0.803614</td>\n",
       "      <td>0.147834</td>\n",
       "      <td>0</td>\n",
       "    </tr>\n",
       "    <tr>\n",
       "      <th>17</th>\n",
       "      <td>-0.832788</td>\n",
       "      <td>0.596682</td>\n",
       "      <td>0</td>\n",
       "    </tr>\n",
       "    <tr>\n",
       "      <th>18</th>\n",
       "      <td>-0.519100</td>\n",
       "      <td>1.274108</td>\n",
       "      <td>0</td>\n",
       "    </tr>\n",
       "    <tr>\n",
       "      <th>19</th>\n",
       "      <td>-1.027027</td>\n",
       "      <td>0.396505</td>\n",
       "      <td>0</td>\n",
       "    </tr>\n",
       "  </tbody>\n",
       "</table>\n",
       "</div>"
      ],
      "text/plain": [
       "          x1        x2  y\n",
       "0  -1.044475  0.504478  0\n",
       "1  -0.090460  0.847058  0\n",
       "2   0.827203  0.122143  0\n",
       "3   1.207337 -0.716480  1\n",
       "4  -0.071733  0.484330  1\n",
       "5   0.508494 -0.248622  1\n",
       "6  -0.814097 -0.241485  0\n",
       "7   1.148401  0.343829  0\n",
       "8   0.864095 -0.607039  1\n",
       "9   1.002816 -0.471706  1\n",
       "10  0.811568  0.547221  0\n",
       "11  0.188693  0.019030  1\n",
       "12 -0.546341  1.325773  0\n",
       "13 -0.397497  0.665222  0\n",
       "14 -0.182876  0.977858  0\n",
       "15  0.187598  0.678787  0\n",
       "16 -0.803614  0.147834  0\n",
       "17 -0.832788  0.596682  0\n",
       "18 -0.519100  1.274108  0\n",
       "19 -1.027027  0.396505  0"
      ]
     },
     "metadata": {},
     "output_type": "display_data"
    }
   ],
   "source": [
    "#I would advise leaving the line below as is initially\n",
    "#And once everything is working, change it to see how it works\n",
    "#on other data sets\n",
    "#Options: noisy_circles, noisy_moons, blobs, gaussian_quantiles, no_structure\n",
    "dataset = \"noisy_moons\"\n",
    "\n",
    "\n",
    "#DON'T CHANGE ANYTHING BELOW\n",
    "X, y = datasets[dataset]\n",
    "\n",
    "X, y = X.T, y.reshape(1, y.shape[0])\n",
    "\n",
    "# make blobs binary\n",
    "if dataset == blobs:\n",
    "    y = y%2\n",
    "\n",
    "X,y = X.T,y.T\n",
    "\n",
    "#Convert the numpy array to a pandas DataFrame\n",
    "#and display the first 10 rows as html\n",
    "datadisplay = pd.DataFrame(np.hstack((X,y)))\n",
    "datadisplay.columns = [\"x1\",\"x2\",\"y\"]\n",
    "datadisplay[\"y\"] = datadisplay[\"y\"].astype(int)\n",
    "display(datadisplay.head(20))"
   ]
  },
  {
   "cell_type": "markdown",
   "metadata": {},
   "source": [
    "### Visualizing the Data (If Possible)\n",
    "\n",
    "Once loaded, it is a good idea to try  and visualise the data. Generally in data science, visualising the data is recommended (where possible) in order to give you a sense of the underlying structure of the data and/or the kind of function that you may need to use as a decision boundary. However, **note** that for more than two features in a classification model (which is almost all classification problems one will every encounter), this is not possible, unless you plot them in pairs, or something like that...\n",
    "\n",
    "So to skip forward, I've gone ahead and displayed the plot of the points below.\n"
   ]
  },
  {
   "cell_type": "code",
   "execution_count": 140,
   "metadata": {},
   "outputs": [
    {
     "data": {
      "image/png": "[encoded data removed]",
      "text/plain": [
       "<Figure size 864x720 with 1 Axes>"
      ]
     },
     "metadata": {
      "needs_background": "light"
     },
     "output_type": "display_data"
    }
   ],
   "source": [
    "plotDecisionBoundary(X,y,\"$x_0$\",\"$x_1$\",debug=debug)"
   ]
  },
  {
   "cell_type": "markdown",
   "metadata": {},
   "source": [
    "### Dividing up the Data Into Train and Test Sets\n",
    "\n",
    "So technically speaking, if we had a file with a bunch of data, at this stage we would have had to manually set ```X``` and ```y``` as we did in the previous two pracs, but luckily the function in the previous step has automatically set these for us.\n",
    "\n",
    "We will now go ahead and divide up the data into train, CV and test sets.\n",
    "\n",
    "I've generously put in the code for you."
   ]
  },
  {
   "cell_type": "code",
   "execution_count": 141,
   "metadata": {
    "scrolled": true
   },
   "outputs": [],
   "source": [
    "from sklearn.model_selection import train_test_split\n",
    "\n",
    "mtrainratio = 0.5 #Ratio of total samples used for training\n",
    "mcvratio = 0.5 #Ratio of testing samples used for CV\n",
    "\n",
    "mtrain = int(X.shape[0] * mtrainratio) #Get number of training samples\n",
    "mtest = X.shape[0] - mtrain #Testing samples is everything that remains\n",
    "mcv = int(mtest * mcvratio) #Get number of CV samples\n",
    "mtest = mtest - mcv #Testing part is everything that remains\n",
    "\n",
    "X_train, X_test, y_train, y_test = train_test_split(X,y,train_size=mtrain,random_state=1,stratify=y,shuffle=True)\n",
    "X_cv, X_test, y_cv, y_test = train_test_split(X_test,y_test,train_size=mcv,random_state=1,stratify=y_test,shuffle=True)"
   ]
  },
  {
   "cell_type": "code",
   "execution_count": 142,
   "metadata": {},
   "outputs": [],
   "source": [
    "from sklearn.preprocessing import StandardScaler\n",
    "\n",
    "def getScaledX(X):\n",
    "    X_scaled = np.zeros(X.shape)\n",
    "    scaler = None\n",
    "    \n",
    "    scaler = StandardScaler().fit(X)\n",
    "    X_scaled = scaler.transform(X)\n",
    "    \n",
    "    return X_scaled,scaler\n",
    "\n",
    "\n",
    "X_train_scaled, scaler1 = getScaledX(X_train)\n",
    "X_test_scaled = scaler1.transform(X_test)\n",
    "X_cv_scaled = scaler1.transform(X_cv)"
   ]
  },
  {
   "cell_type": "markdown",
   "metadata": {},
   "source": [
    "### Preparing the $y$ Vectors Using One-Hot Encoding (If Necessary)\n",
    "\n",
    "As explained if the number of classes $K = 2$, then we will only use a single output node and the $y$ vector will remain as it is. However, if $K \\geq 3$, then we will have $K$ output nodes and we will have to reformat our $y$ vector(s) using one-hot-encoding.\n",
    "\n",
    "Given a column vector of labels $y$ with ascending labels starting from 0, the one-hot-encoded vector $\\widehat{y}$ corresponding to $y$ is a vector with the same number of rows as $y$ and $K$ columns in which the value of each row in $y$ specifies the index of the column in $\\widehat{y}$ of the same row that should be set to 1. All other values are zeros.\n",
    "\n",
    "This can either be done in vectorized format with numpy indexing magic, or a loop if you want to. Up to you. Since we'll only ever do this operation a very small number of times, it isn't criticial that it be vectorized.\n",
    "\n",
    "Go ahead and complete the function below to produce the matrix ```yhat``` corresponding to a given ```y```, as per the spec described.\n",
    "\n",
    "**[2 marks]**"
   ]
  },
  {
   "cell_type": "code",
   "execution_count": 143,
   "metadata": {},
   "outputs": [],
   "source": [
    "def onehotenc(y):\n",
    "    #y - a column vector with one label per row, assumed to contain ascending labels from 0 up to K.\n",
    "    \n",
    "    K = len(np.unique(y)) #You will need this. Don't change. Number of classes K.\n",
    "    yhat = np.zeros((y.shape[0],K))\n",
    "    for i in range (y.shape[0]):\n",
    "        yhat[i,y[i]] = 1\n",
    "    \n",
    "    #You need to set the variable yhat correctly\n",
    "    \n",
    "    #Code to set the variable yhat correctly. I would suggest first setting the dimensions of yhat correctly and then proceeding to set its values.\n",
    "\n",
    "    #STOP FILLING IN HERE\n",
    "    \n",
    "    return yhat.astype(\"int\")"
   ]
  },
  {
   "cell_type": "code",
   "execution_count": 144,
   "metadata": {},
   "outputs": [
    {
     "name": "stdout",
     "output_type": "stream",
     "text": [
      "[[0 1 0]\n",
      " [1 0 0]\n",
      " [0 1 0]\n",
      " [0 0 1]\n",
      " [0 1 0]]\n"
     ]
    }
   ],
   "source": [
    "y=np.array([1,0,1,2,1])\n",
    "print(onehotenc(y))"
   ]
  },
  {
   "cell_type": "code",
   "execution_count": 145,
   "metadata": {},
   "outputs": [
    {
     "ename": "NameError",
     "evalue": "name 'zz' is not defined",
     "output_type": "error",
     "traceback": [
      "\u001b[1;31m---------------------------------------------------------------------------\u001b[0m",
      "\u001b[1;31mNameError\u001b[0m                                 Traceback (most recent call last)",
      "\u001b[1;32m~\\AppData\\Local\\Temp/ipykernel_15808/1048690823.py\u001b[0m in \u001b[0;36m<module>\u001b[1;34m\u001b[0m\n\u001b[1;32m----> 1\u001b[1;33m \u001b[0mzz\u001b[0m\u001b[1;33m\u001b[0m\u001b[1;33m\u001b[0m\u001b[0m\n\u001b[0m",
      "\u001b[1;31mNameError\u001b[0m: name 'zz' is not defined"
     ]
    }
   ],
   "source": [
    "zz"
   ]
  },
  {
   "cell_type": "markdown",
   "metadata": {},
   "source": [
    "To give you an indication:\n",
    "\n",
    "- Given a ```y``` vector $\\begin{bmatrix}1\\\\\n",
    "0\\\\\n",
    "1\\\\\n",
    "2\\\\\n",
    "1\\end{bmatrix}$, ```onehotenc``` should produce a ```yhat``` matrix $\\begin{bmatrix} 0 & 1 & 0\\\\\n",
    "1 & 0 & 0\\\\\n",
    "0 & 1 & 0\\\\\n",
    "0 & 0 & 1\\\\\n",
    "0 & 1 & 0\n",
    "\\end{bmatrix}$\n",
    "\n",
    "- \n",
    "\n",
    "- Given a ```y``` vector $\\begin{bmatrix} 1\\\\\n",
    " 3\\\\\n",
    " 2\\\\\n",
    " 1\\\\\n",
    " 0\\\\\n",
    " 3\n",
    "\\end{bmatrix}$, ```onehotenc``` should produce a ```yhat``` matrix $\\begin{bmatrix} 0 & 1 & 0 & 0\\\\\n",
    "0 & 0 & 0 & 1\\\\\n",
    "0 & 0 & 1 & 0\\\\\n",
    "0 & 1 & 0 & 0\\\\\n",
    "1 & 0 & 0 & 0\\\\\n",
    "0 & 0 & 0 & 1\n",
    "\\end{bmatrix}$"
   ]
  },
  {
   "cell_type": "code",
   "execution_count": 146,
   "metadata": {},
   "outputs": [],
   "source": [
    "def onehottify_only_1d(x, n=None, dtype=float):\n",
    "    x = np.asarray(x)\n",
    "    n = np.max(x) + 1 if n is None else n\n",
    "    b = np.zeros((len(x), n), dtype=dtype)\n",
    "    b[np.arange(len(x)), x] = 1\n",
    "    return b"
   ]
  },
  {
   "cell_type": "code",
   "execution_count": 147,
   "metadata": {},
   "outputs": [
    {
     "data": {
      "text/plain": [
       "array([1, 0, 1, 2, 1])"
      ]
     },
     "execution_count": 147,
     "metadata": {},
     "output_type": "execute_result"
    }
   ],
   "source": [
    "y"
   ]
  },
  {
   "cell_type": "code",
   "execution_count": 148,
   "metadata": {},
   "outputs": [
    {
     "name": "stdout",
     "output_type": "stream",
     "text": [
      "[[0 1]\n",
      " [1 0]]\n"
     ]
    }
   ],
   "source": [
    "#Snippet for you to try out your function\n",
    "mat = np.array([1,0]).reshape(-1,1) #Interesting question: what does setting an array dimension to -1 do??\n",
    "\n",
    "\n",
    "print(onehotenc(mat))"
   ]
  },
  {
   "cell_type": "markdown",
   "metadata": {},
   "source": [
    "---"
   ]
  },
  {
   "cell_type": "markdown",
   "metadata": {},
   "source": [
    "## Part B -  Implementing the Neural Network Functionality\n",
    "\n",
    "Now we're going to proceed to construct all the functions required to create Neural Networks of varying sizes (both layers and nodes). Note that this is certainly not **the** way to do it (i.e. this is not the only way it can be done), but **a** way to do it. Follow the steps below."
   ]
  },
  {
   "cell_type": "markdown",
   "metadata": {
    "pycharm": {
     "name": "#%% md\n"
    }
   },
   "source": [
    "I've provided two helper functions below which you can use to display the contents of various matrices and/or their dimensions, possibly to compare to expected outputs to see if you're on the right track. I've provided example usages so you can see how they could be used."
   ]
  },
  {
   "cell_type": "code",
   "execution_count": 149,
   "metadata": {
    "pycharm": {
     "name": "#%%\n"
    }
   },
   "outputs": [
    {
     "data": {
      "text/markdown": [
       "$\\Theta^1 \\approx \\begin{bmatrix} 0.417 & 0.72 & 0.0 & 0.302 & 0.147 & 0.092 & 0.186 & 0.346 & 0.397 & 0.539 & 0.419\\\\\n",
       "0.685 & 0.204 & 0.878 & 0.027 & 0.67 & 0.417 & 0.559 & 0.14 & 0.198 & 0.801 & 0.968\\\\\n",
       "0.313 & 0.692 & 0.876 & 0.895 & 0.085 & 0.039 & 0.17 & 0.878 & 0.098 & 0.421 & 0.958\n",
       "\\end{bmatrix}$<br>"
      ],
      "text/plain": [
       "<IPython.core.display.Markdown object>"
      ]
     },
     "metadata": {},
     "output_type": "display_data"
    },
    {
     "data": {
      "text/markdown": [
       "$\\Theta^1 \\approx \\begin{bmatrix} 0.417 & 0.72 & 0.0 & \\ldots  & 0.186 & 0.346 & 0.397 & 0.539 & 0.419\\\\\n",
       "0.685 & 0.204 & 0.878 & \\ldots  & 0.559 & 0.14 & 0.198 & 0.801 & 0.968\\\\\n",
       "0.313 & 0.692 & 0.876 & \\ldots  & 0.17 & 0.878 & 0.098 & 0.421 & 0.958\n",
       "\\end{bmatrix}$<br>"
      ],
      "text/plain": [
       "<IPython.core.display.Markdown object>"
      ]
     },
     "metadata": {},
     "output_type": "display_data"
    },
    {
     "data": {
      "text/markdown": [
       "$\\Theta^2 \\approx \\begin{bmatrix} 0.186 & \\ldots  & 0.419\\\\\n",
       "0.559 & \\ldots  & 0.968\\\\\n",
       "0.17 & \\ldots  & 0.958\\\\\n",
       "0.685 & \\ldots  & 0.67\\\\\n",
       "0.313 & \\ldots  & 0.085\n",
       "\\end{bmatrix}$<br>"
      ],
      "text/plain": [
       "<IPython.core.display.Markdown object>"
      ]
     },
     "metadata": {},
     "output_type": "display_data"
    },
    {
     "data": {
      "text/markdown": [
       " - $\\Theta^1$: $(3 \\times 11)$ matrix\n",
       " - $\\Theta^2$: $(5 \\times 5)$ matrix"
      ],
      "text/plain": [
       "<IPython.core.display.Markdown object>"
      ]
     },
     "metadata": {},
     "output_type": "display_data"
    },
    {
     "data": {
      "text/markdown": [
       "$\\Theta^1 \\approx \\begin{bmatrix} 0.42 & 0.72 & 0.0 & 0.3 & \\ldots  & 0.4 & 0.54 & 0.42\\\\\n",
       " . & . & . & .  & \\ldots  &  . & . & . \\\\\n",
       " . & . & . & .  & \\ldots  &  . & . & . \\\\\n",
       " . & . & . & .  & \\ldots  &  . & . & . \\\\\n",
       "0.31 & 0.69 & 0.88 & 0.9 & \\ldots  & 0.1 & 0.42 & 0.96\n",
       "\\end{bmatrix}$"
      ],
      "text/plain": [
       "<IPython.core.display.Markdown object>"
      ]
     },
     "metadata": {},
     "output_type": "display_data"
    },
    {
     "data": {
      "text/markdown": [
       "$\\Theta^1 \\approx \\begin{bmatrix} 0.42 & 0.72 & 0.0 & 0.3 & 0.15 & 0.09 & 0.19 & 0.35 & 0.4 & 0.54 & 0.42\\\\\n",
       "0.68 & 0.2 & 0.88 & 0.03 & 0.67 & 0.42 & 0.56 & 0.14 & 0.2 & 0.8 & 0.97\\\\\n",
       "0.31 & 0.69 & 0.88 & 0.9 & 0.08 & 0.04 & 0.17 & 0.88 & 0.1 & 0.42 & 0.96\n",
       "\\end{bmatrix}$"
      ],
      "text/plain": [
       "<IPython.core.display.Markdown object>"
      ]
     },
     "metadata": {},
     "output_type": "display_data"
    }
   ],
   "source": [
    "#I've provided these two helper functions for you. Use them if you wish.\n",
    "def getMatSizes(dictt,lab=\"Mat\"):\n",
    "    '''\n",
    "    Returns a string containing very visually friendly/appealing dimensions of the matrices in a dict\n",
    "    Args:\n",
    "        dictt: A dictionary in which each key refers to a numpy matrix of values e.g. a thetas dict\n",
    "        lab: (Optional) Just a label that describes the dictionary passed in e.g. \\Theta will display a proper mathematical Theta\n",
    "\n",
    "    Returns: A string that needs to be displayed using printmd function\n",
    "\n",
    "    '''\n",
    "    return(\"\\n\".join([\" - ${}^{}$: $({} \\\\times {})$ matrix\".format(lab,l,dictt[l].shape[0],dictt[l].shape[1]) for l in dictt]))\n",
    "\n",
    "def getMatSummary(arr, lab=\"\", showcolshead=None, showcolstail=None, showrowshead=None, showrowstail=None, rounding=8):\n",
    "    '''\n",
    "    Returns a string containing very visually friendly/appealing depiction of a single numpy matrix\n",
    "    Args:\n",
    "        dictt: A numpy matrix of values\n",
    "        lab: (Optional) Just a label that describes the matrix passed in e.g. \\Theta^1 will display a proper mathematical Theta with a superscript 1\n",
    "        showcolshead: How many columns to show to the left (beginning - head) of the matrix (used to limit size of large arrays). If None, display the whole array. If set to a value larger than the number of columns, will default to displaying the whole array.\n",
    "        showcolstail: How many columns to show to the right (end - tail) of the matrix (used to limit size of large arrays). If None, display the whole array. If set to a value larger than the number of columns, will default to displaying the whole array.\n",
    "        showrowshead: How many rows to show to the top of the matrix (used to limit size of large arrays). If None, display the whole array. If set to a value larger than the number of rows, will default to displaying the whole array.\n",
    "        showrowstail: How many columns to show to the bottom of the matrix (used to limit size of large arrays). If None, display the whole array. If set to a value larger than the number of rows, will default to displaying the whole array.\n",
    "        rounding: Number of digits to round to: default 8\n",
    "\n",
    "    Returns: A string that needs to be displayed using printmd function\n",
    "    '''\n",
    "\n",
    "    r, c = arr.shape\n",
    "\n",
    "    disp = \"\"\n",
    "\n",
    "    lab = lab + \" \\\\approx \" if lab!=\"\" else \"\"\n",
    "\n",
    "    if showcolshead==None or showcolstail == None:\n",
    "        showcolshead = c -1\n",
    "        showcolstail = 1\n",
    "\n",
    "    if showrowshead==None or showrowstail == None:\n",
    "        showrowshead = r -1\n",
    "        showrowstail = 1\n",
    "\n",
    "    #If we're showing all rows, no need for dots\n",
    "    if showrowstail+showrowshead < r:\n",
    "        showallrows = True\n",
    "    else:\n",
    "        showallrows = False\n",
    "\n",
    "    if showrowstail + showrowshead > r:\n",
    "        showrowshead = c -1\n",
    "        showrowstail = 1\n",
    "\n",
    "    #If we're showing all columns, no need for dots\n",
    "    ldots = \" & \\\\ldots \" if showcolstail+showcolshead < c else \"\"\n",
    "\n",
    "    if showcolstail + showcolshead > c:\n",
    "        showcolshead = c -1\n",
    "        showcolstail = 1\n",
    "\n",
    "    ampersand = \" & \"\n",
    "    if (showcolshead == 0):\n",
    "        ampersand = \"\"\n",
    "\n",
    "    if rounding:\n",
    "        arr = arr.round(rounding)\n",
    "\n",
    "\n",
    "    disp = \"$\" + lab + \"\\\\begin{bmatrix} \" + \\\n",
    "           \"\\\\\\\\\\n\".join([\" & \".join(map(str, list(arr[rw, 0:showcolshead]))) + ldots + ampersand + \" & \".join(\n",
    "        map(str, list(arr[rw, c-showcolstail:c]))) for rw in range(showrowshead)]) + \"\\\\\\\\\\n\"\n",
    "\n",
    "    if showallrows:\n",
    "        disp += \"&\".join([\" . \" for cc in range(showcolshead)]) + ldots + ampersand + \"&\".join([\" . \" for cc in range(c-showcolstail,c)]) + \"\\\\\\\\\\n\"\n",
    "        disp += \"&\".join([\" . \" for cc in range(showcolshead)]) + ldots + ampersand + \"&\".join([\" . \" for cc in range(c-showcolstail,c)]) + \"\\\\\\\\\\n\"\n",
    "        disp += \"&\".join([\" . \" for cc in range(showcolshead)]) + ldots + ampersand + \"&\".join([\" . \" for cc in range(c-showcolstail,c)]) + \"\\\\\\\\\\n\"\n",
    "\n",
    "\n",
    "    disp += \"\\\\\\\\\\n\".join([\" & \".join(map(str, list(arr[rw, 0:showcolshead]))) + ldots + ampersand + \" & \".join(\n",
    "        map(str, list(arr[rw, c-showcolstail:c]))) for rw in range(r-showrowstail,r)])\n",
    "\n",
    "    # else:\n",
    "    #     disp = \"$\" + lab + \"\\\\begin{bmatrix} \" + \"\\\\\\\\\\n\".join([\" & \".join(map(str, list(arr[rw, 0:showcolshead].round(rounding))))\n",
    "    #     + ldots + ampersand\n",
    "    #     + \" & \".join(map(str, list(arr[rw, c-showcolstail:c].round(rounding)))) for rw in range(r)])\n",
    "\n",
    "\n",
    "    disp += \"\\n\\\\end{bmatrix}$\"\n",
    "    return disp\n",
    "\n",
    "thetastry = {1:np.array([[0.417,0.72,0.0,0.302,0.147,0.092,0.186,0.346,0.397,0.539,0.419],[0.685,0.204,0.878,0.027,0.67,0.417,0.559,0.14,0.198,0.801,0.968],[0.313,0.692,0.876,0.895,0.085,0.039,0.17,0.878,0.098,0.421,0.958]]),\n",
    "              2:np.array([[0.186,0.346,0.397,0.539,0.419],[0.559,0.14,0.198,0.801,0.968],[0.17,0.878,0.098,0.421,0.958],[0.685,0.204,0.878,0.027,0.67],[0.313,0.692,0.876,0.895,0.085]])}\n",
    "#Dislay the entire array of thetastry1[1]\n",
    "printmd(getMatSummary(thetastry[1],\"\\Theta^1\") + \"<br>\")\n",
    "#Dislay the first 3 columns and last 5 columns of thetastry1[1]\n",
    "printmd(getMatSummary(thetastry[1],\"\\Theta^1\", showcolshead=3, showcolstail=5) + \"<br>\")\n",
    "#Dislay the first column and last column of thetastry1[2]\n",
    "printmd(getMatSummary(thetastry[2],\"\\Theta^2\", showcolshead=1, showcolstail=1) + \"<br>\")\n",
    "#Display size of the array\n",
    "printmd(getMatSizes(thetastry,\"\\Theta\"))\n",
    "\n",
    "printmd(getMatSummary(thetastry[1],\"\\Theta^1\",showrowshead=1,showrowstail=1,showcolshead=4,showcolstail=3,rounding=2))\n",
    "printmd(getMatSummary(thetastry[1],\"\\Theta^1\",rounding=2))"
   ]
  },
  {
   "cell_type": "markdown",
   "metadata": {},
   "source": [
    "### Setting Up and Initializing the $\\Theta$ Parameters\n",
    "\n",
    "In this implementation, I'm going to use a Python dictionary to store and manipulate the $\\Theta$ parameters of every layer. The dictionary will have one entry/key $l$ for every layer, each of which is a matrix (in the form of a Numpy array) specifying the weights connecting layer $l$ to layer $(l+1)$, in exactly the same format as mentioned in the lectures i.e. given that layers $l$ and $(l+1)$ contain $n_l$ and $n_{l+1}$ nodes respectively, each matrix $\\Theta^l$ (i.e. each entry $l$ of the Python dictionary defined below) will have $(n_l+1)$ columns and $n_{l+1}$ rows. If this is sounding new or unfamiliar to you (despite flogging this point to death in lectures), feel free to (re-)watch the videos several times before continuing. This is explained in detail in the videos.\n",
    "\n",
    "Below, I've provided most of the function that creates the empty dictionary and loops through pairs of $n_l$ and $n_{l+1}$. You just need to provide code that sets each dictionary entry ```thetas[l]``` to a random numpy array with $(n_l+1)$ columns and $n_{l+1}$ rows of random values in the range $[0,1)$ i.e. between 0 and 1, inclusive of 0 and exlusive of 1. **USE THE ```np.random.rand``` function** and not any other function to generate your random values.\n",
    "\n",
    "Just so you know: the function also takes in a random seed which is by default set to 1; this is so that some of the functions lower below can yield output that is consistent with mine to allow me to give you guidelines to work with. Don't change anything to do with the random seed (unless you like torturing yourself - in which case do it at your own risk).\n",
    "\n",
    "**[0.5 marks]**\n"
   ]
  },
  {
   "cell_type": "code",
   "execution_count": 150,
   "metadata": {},
   "outputs": [],
   "source": [
    "def genRandThetasArray(ns,randseed=1):\n",
    "    #ns - An ordered list containing the number of nodes of the NN starting from the input layer (left) to the output layer (right)..\n",
    "    #E.g. [2,3,1,5] means 2 input nodes, then 3 hidden nodes, then 1 hidden node, then 5 output nodes.\n",
    "\n",
    "    #Create empty dictionary\n",
    "    thetas = {}\n",
    "\n",
    "    np.random.seed(randseed) #Don't change!\n",
    "\n",
    "    #For every layer l with n_l nodes and n_(l+1) nodes in the next layer\n",
    "\n",
    "    for l,nl,nlplus1 in zip(range(1,len(ns)),ns[:-1],ns[1:]):\n",
    "\n",
    "        #FILL IN THE LINE BELOW:\n",
    "        thetas[l] = np.random.rand(nl+1,nl+1)  #YOU NEED TO SET THIS ONLY - np.random.randn function\n",
    "        #DON'T CHANGE ANYTHING ELSE BELOW\n",
    "\n",
    "    return thetas\n",
    "\n",
    "#The number of nodes in each layer\n",
    "ns = [2,5,1]\n",
    "\n",
    "thetas = genRandThetasArray(ns)"
   ]
  },
  {
   "cell_type": "code",
   "execution_count": 151,
   "metadata": {},
   "outputs": [
    {
     "name": "stdout",
     "output_type": "stream",
     "text": [
      "[[0.417022   0.72032449 0.00011437 0.30233257]\n",
      " [0.14675589 0.09233859 0.18626021 0.34556073]\n",
      " [0.39676747 0.53881673 0.41919451 0.6852195 ]\n",
      " [0.20445225 0.87811744 0.02738759 0.67046751]]\n"
     ]
    }
   ],
   "source": [
    "ns=[3,4,2,1]\n",
    "thetas = genRandThetasArray(ns)\n",
    "print(thetas[1])"
   ]
  },
  {
   "cell_type": "markdown",
   "metadata": {},
   "source": [
    "Make sure your function is returning the right data structure i.e. a ```dict``` containing the right number of keys, with each key being a numpy matrix with the right dimensions and values. Below I've provided you with two example cases, each with an ```ns``` list to pass in to the ```genRandThetasArray``` function, along what what the matrices in the resulting ```dict``` should look like, noting that for display purposes I've had no choice but to round off to 8dp so use it as an **indication** to check your work - **you shouldn't round anything off in your matrices**.\n",
    "\n",
    " - Given ns=[3,4,2,1], it should return a ```dict``` with 3 keys (1,2 and 3), with each key referring to the following matrices:\n",
    " \n",
    "$\\Theta^1 \\approx \\begin{bmatrix} 0.417022 & 0.72032449 & 0.00011437 & 0.30233257\\\\\n",
    "0.14675589 & 0.09233859 & 0.18626021 & 0.34556073\\\\\n",
    "0.39676747 & 0.53881673 & 0.41919451 & 0.6852195\\\\\n",
    "0.20445225 & 0.87811744 & 0.02738759 & 0.67046751\n",
    "\\end{bmatrix}$<br>\n",
    "$\\Theta^2 \\approx \\begin{bmatrix} 0.4173048 & 0.55868983 & 0.14038694 & 0.19810149 & 0.80074457\\\\\n",
    "0.96826158 & 0.31342418 & 0.69232262 & 0.87638915 & 0.89460666\n",
    "\\end{bmatrix}$<br>\n",
    "$\\Theta^3 \\approx \\begin{bmatrix} 0.08504421 & 0.03905478 & 0.16983042\n",
    "\\end{bmatrix}$\n",
    " \n",
    " <br>\n",
    " \n",
    " - Given ns=[2,3,4,3,4], it should return a ```dict``` with 4 keys (1,2,3 and 4), with each key referring to the following matrices:\n",
    " \n",
    "$\\Theta^1 \\approx \\begin{bmatrix} 0.417022 & 0.72032449 & 0.00011437\\\\\n",
    "0.30233257 & 0.14675589 & 0.09233859\\\\\n",
    "0.18626021 & 0.34556073 & 0.39676747\n",
    "\\end{bmatrix}$<br>\n",
    "$\\Theta^2 \\approx \\begin{bmatrix} 0.53881673 & 0.41919451 & 0.6852195 & 0.20445225\\\\\n",
    "0.87811744 & 0.02738759 & 0.67046751 & 0.4173048\\\\\n",
    "0.55868983 & 0.14038694 & 0.19810149 & 0.80074457\\\\\n",
    "0.96826158 & 0.31342418 & 0.69232262 & 0.87638915\n",
    "\\end{bmatrix}$<br>\n",
    "$\\Theta^3 \\approx \\begin{bmatrix} 0.89460666 & 0.08504421 & 0.03905478 & 0.16983042 & 0.8781425\\\\\n",
    "0.09834683 & 0.42110763 & 0.95788953 & 0.53316528 & 0.69187711\\\\\n",
    "0.31551563 & 0.68650093 & 0.83462567 & 0.01828828 & 0.75014431\n",
    "\\end{bmatrix}$<br>\n",
    "$\\Theta^4 \\approx \\begin{bmatrix} 0.98886109 & 0.74816565 & 0.28044399 & 0.78927933\\\\\n",
    "0.10322601 & 0.44789353 & 0.9085955 & 0.29361415\\\\\n",
    "0.28777534 & 0.13002857 & 0.01936696 & 0.67883553\\\\\n",
    "0.21162812 & 0.26554666 & 0.49157316 & 0.05336255\n",
    "\\end{bmatrix}$\n"
   ]
  },
  {
   "cell_type": "code",
   "execution_count": 152,
   "metadata": {},
   "outputs": [
    {
     "data": {
      "text/markdown": [
       "$\\Theta^1 \\approx \\begin{bmatrix} 0.417022 & 0.72032449\\\\\n",
       "0.00011437 & 0.30233257\n",
       "\\end{bmatrix}$"
      ],
      "text/plain": [
       "<IPython.core.display.Markdown object>"
      ]
     },
     "metadata": {},
     "output_type": "display_data"
    },
    {
     "data": {
      "text/markdown": [
       "$\\Theta^2 \\approx \\begin{bmatrix} 0.14675589 & 0.09233859 & 0.18626021\\\\\n",
       "0.34556073 & 0.39676747 & 0.53881673\\\\\n",
       "0.41919451 & 0.6852195 & 0.20445225\n",
       "\\end{bmatrix}$"
      ],
      "text/plain": [
       "<IPython.core.display.Markdown object>"
      ]
     },
     "metadata": {},
     "output_type": "display_data"
    },
    {
     "data": {
      "text/markdown": [
       " - $\\Theta^1$: $(2 \\times 2)$ matrix\n",
       " - $\\Theta^2$: $(3 \\times 3)$ matrix"
      ],
      "text/plain": [
       "<IPython.core.display.Markdown object>"
      ]
     },
     "metadata": {},
     "output_type": "display_data"
    }
   ],
   "source": [
    "#Below is code for you to test the output of your function\n",
    "#Since it's the first time in this assignment, I've put in code to show you how you could potentially use the getMatSummary function to your advantage. Going forward, you'll need to produce your own output and check if it's right\n",
    "thetastry1 = genRandThetasArray([1,2,1])\n",
    "\n",
    "# print(\"\\n\".join(map(str,[thetastry1[l].shape for l in thetastry1])))\n",
    "printmd(getMatSummary(thetastry1[1],\"\\Theta^1\",8))\n",
    "printmd(getMatSummary(thetastry1[2],\"\\Theta^2\",8))\n",
    "printmd(getMatSizes(thetastry1,\"\\Theta\"))"
   ]
  },
  {
   "cell_type": "markdown",
   "metadata": {},
   "source": [
    "### Implementing the Sigmoid Function\n",
    "Before moving on, we need to create the sigmoid function which we already did in the previous prac, which will be used in forward propagation. Let's not waste time on this.\n",
    "\n",
    "Remember that the sigmoid function $g$ is given by:\n",
    "<center>$\\large g(z)= \\dfrac{1}{1 + e^{-z}} $</center>\n",
    "\n",
    "Recall that: this function (g($z$)) maps any real number (say $z$) to the $(0,1)$ interval; g(0) should be exactly 0.5 i.e. the sigmoid curve cuts the y-axis at 0.5; for large negative values of $z$ from about $-4$ downwards, the sigmoid should be increasingly close to 0; and for large positive values of $z$ from about $+4$ upwards, the sigmoid curve should be increasingly close to 1.\n",
    "\n",
    "**Ensure that your code can also work with matrices and vectors, in which case the sigmoid function works for every element in the matrix or vector. DON'T use any loops in the function.**\n",
    "\n",
    "Go ahead and quickly complete the function definition below.\n",
    "\n",
    "**[0.5 marks]**\n"
   ]
  },
  {
   "cell_type": "code",
   "execution_count": 153,
   "metadata": {},
   "outputs": [],
   "source": [
    "def g(z):\n",
    "    \n",
    "    g=0\n",
    "    \n",
    "    #FILL IN BELOW: Start filling in your code below: set g correctly\n",
    "    g=1 /(1+np.exp(-z))\n",
    "   \n",
    "    #STOP FILLING IN HERE\n",
    "\n",
    "    \n",
    "    return g"
   ]
  },
  {
   "cell_type": "code",
   "execution_count": 154,
   "metadata": {
    "scrolled": true
   },
   "outputs": [
    {
     "name": "stdout",
     "output_type": "stream",
     "text": [
      "0.5\n",
      "1.0\n",
      "3.7200759760208356e-44\n"
     ]
    },
    {
     "data": {
      "text/markdown": [
       "$g(zarr) \\approx \\begin{bmatrix} 4.54e-05\\\\\n",
       "0.5\\\\\n",
       "0.9999546\n",
       "\\end{bmatrix}$"
      ],
      "text/plain": [
       "<IPython.core.display.Markdown object>"
      ]
     },
     "metadata": {},
     "output_type": "display_data"
    }
   ],
   "source": [
    "#This cell is for YOU to try out your sigmoid function to make sure it works correctly:\n",
    "#Modify if you wish\n",
    "\n",
    "print(g(0)) #Should be 0.5\n",
    "print(g(100)) #Should be close to 1\n",
    "print(g(-100)) #Should be close to 0\n",
    "\n",
    "zarr = np.array([\n",
    "    [-10],\n",
    "    [0],\n",
    "    [10]\n",
    "])\n",
    "\n",
    "printmd(getMatSummary(g(zarr),\"g(zarr)\")) #Should print an np.array with three values: [~0, 0.5, ~1]"
   ]
  },
  {
   "cell_type": "markdown",
   "metadata": {},
   "source": [
    "### Implementing Forward Propagation\n",
    "\n",
    "As explained in lectures, forward propagation involves repeatedly (hint: loop) applying the following vectorized expression to each layer $l$ from layer 2 onwards:\n",
    "\n",
    "$$\\begin{aligned}\n",
    "\\large z^l &= \\large \\Theta^{l-1}a^{l-1}\\\\\n",
    "\\\\\n",
    "\\large \\widehat{a^l} &= \\large g(z^l)\n",
    "\\end{aligned}$$\n",
    "\n",
    "**Noting that** $\\widehat{a^1} = X^T$ i.e. to be exact, $X$ with one example in each column, and one feature in each row, and $a^1$ is $\\widehat{a^1}$ with a row of 1s in its first row.\n",
    "\n",
    "Below I've fleshed out a function for forwardProp. The function takes in a feature vector ```X``` to forward Propagate (which doesn't include an extra column of 1s, and has 1 example on each row and 1 feature in each column), as well as a ```dict``` structure of $\\Theta$ values created by the function ```genRandThetasArray``` that we created earlier.\n",
    "\n",
    "The function then creates three empty ```dict``` structures called ```z```, ```ahat``` and ```a``` in which we'll store the $z$, $\\widehat{a^l}$ and $a^l$ values of each layer (including layer 1), which we'll need, both, when computing the partial derivatives, and when we're trying to make a prediction on one or more unseen/test samples. Go ahead and complete the function definition below to set the values of all ```z[l]```, ```ahat[l]``` and ```a[l]``` for every layer ```l``` correctly based on the expressions given above. Remember that all $\\Theta^l$ have been fed into the function as a parameter ```thetas```.\n",
    "\n",
    "Note: Given the recursive definition of forwardProp above, you could, if you really wanted to, implement this function recursively, but we won't do that here. \n",
    "\n",
    "**[5 marks]**\n"
   ]
  },
  {
   "cell_type": "code",
   "execution_count": 155,
   "metadata": {},
   "outputs": [],
   "source": [
    "a=X_train"
   ]
  },
  {
   "cell_type": "code",
   "execution_count": 156,
   "metadata": {},
   "outputs": [],
   "source": [
    "a[0]=1"
   ]
  },
  {
   "cell_type": "code",
   "execution_count": 157,
   "metadata": {},
   "outputs": [
    {
     "data": {
      "text/plain": [
       "(200, 2)"
      ]
     },
     "execution_count": 157,
     "metadata": {},
     "output_type": "execute_result"
    }
   ],
   "source": [
    "a.shape"
   ]
  },
  {
   "cell_type": "code",
   "execution_count": 158,
   "metadata": {},
   "outputs": [
    {
     "data": {
      "text/plain": [
       "(5, 5)"
      ]
     },
     "execution_count": 158,
     "metadata": {},
     "output_type": "execute_result"
    }
   ],
   "source": [
    "thetas[2].shape\n"
   ]
  },
  {
   "cell_type": "code",
   "execution_count": 122,
   "metadata": {},
   "outputs": [
    {
     "data": {
      "text/plain": [
       "array([[0.4173048 , 0.55868983, 0.14038694, 0.19810149, 0.80074457],\n",
       "       [0.96826158, 0.31342418, 0.69232262, 0.87638915, 0.89460666],\n",
       "       [0.08504421, 0.03905478, 0.16983042, 0.8781425 , 0.09834683],\n",
       "       [0.42110763, 0.95788953, 0.53316528, 0.69187711, 0.31551563],\n",
       "       [0.68650093, 0.83462567, 0.01828828, 0.75014431, 0.98886109]])"
      ]
     },
     "execution_count": 122,
     "metadata": {},
     "output_type": "execute_result"
    }
   ],
   "source": [
    "thetas[2]"
   ]
  },
  {
   "cell_type": "code",
   "execution_count": 165,
   "metadata": {},
   "outputs": [],
   "source": [
    "theta=np.array([[0.417022 , 0.72032449, 0.00011437]])"
   ]
  },
  {
   "cell_type": "code",
   "execution_count": 166,
   "metadata": {},
   "outputs": [
    {
     "data": {
      "text/plain": [
       "(1, 3)"
      ]
     },
     "execution_count": 166,
     "metadata": {},
     "output_type": "execute_result"
    }
   ],
   "source": [
    "theta.shape"
   ]
  },
  {
   "cell_type": "code",
   "execution_count": 167,
   "metadata": {},
   "outputs": [],
   "source": [
    "theta2=np.array([[0.30233257, 0.14675589], [0.09233859, 0.18626021], [0.34556073, 0.39676747]])"
   ]
  },
  {
   "cell_type": "code",
   "execution_count": 168,
   "metadata": {},
   "outputs": [
    {
     "data": {
      "text/plain": [
       "(3, 2)"
      ]
     },
     "execution_count": 168,
     "metadata": {},
     "output_type": "execute_result"
    }
   ],
   "source": [
    "theta2.shape"
   ]
  },
  {
   "cell_type": "code",
   "execution_count": 162,
   "metadata": {},
   "outputs": [],
   "source": [
    "def forwardProp(X, thetas):\n",
    "\n",
    "    L = len(thetas.keys()) + 1 #You'll need this. Don't touch. Basically, the number of layers is obtained by querying the number of keys in the thetas dict and adding one to it\n",
    "\n",
    "    \n",
    "    z = {}\n",
    "    ahat = {}\n",
    "    a = {}\n",
    "\n",
    "    #Don't touch anything above this point\n",
    "\n",
    "    #FILL IN CODE BELOW:\n",
    "    \n",
    "    ahat[1] = X #FILL IN: Set this correctly\n",
    "    ab=ahat[1]\n",
    "    ab[0]=1\n",
    "    a[1] = ab #FILL IN: Set this correctly\n",
    "\n",
    "    #Create a loop that loops l between 2 and L (inclusive), and computes z[l], ahat[l] and a[l] correctly.\n",
    "    for i in range(2,L):\n",
    "        z[i]=np.dot(thetas[i-1],a[i-1])\n",
    "        ahat[i]=g(z[i])\n",
    "        \n",
    "\n",
    "    #STOP FILLING IN HERE\n",
    "        \n",
    "    #Don't change anything below    \n",
    "\n",
    "    return z,ahat,a"
   ]
  },
  {
   "cell_type": "markdown",
   "metadata": {},
   "source": [
    "Remember that, if you'll be testing your function using ```X_train```, which you probably should, the first layer of your NN needs to have two nodes, since ```X_train``` has two features (but maybe you should also try constructing your own smaller ```X``` if necessary?? \n",
    "\n",
    "Make sure your function is returning the right set of data structures with the correct values. You'll need to look at the values and dimensions and make sure they match up. It could be helpful to only examine the values in $\\widehat{a^L}$ which are the final outputs of the Neural Network. If those come out with the right dimensions and values, you're likely on the right path. As a rough guideline, given the following example inputs, the function should return the following:\n",
    "\n",
    "Given ```X_train``` and a ```thetas1``` dict given by the below:\n",
    " - ```{1: np.array([[0.417022  , 0.72032449, 0.00011437]]), 2: np.array([[0.30233257, 0.14675589], [0.09233859, 0.18626021], [0.34556073, 0.39676747]])}```\n",
    "\n",
    "```forwardProp``` should return three ```dict```s (```z``` with 2 items (keys 2 and 3), and ```ahat``` and ```a``` both with 3 items (keys 1,2 and 3)), with the following dimensions:\n",
    " - $z^2$: $(1 \\times 200)$ matrix\n",
    " - $z^3$: $(3 \\times 200)$ matrix\n",
    " - $a^1$: $(3 \\times 200)$ matrix\n",
    " - $a^2$: $(2 \\times 200)$ matrix\n",
    " - $a^3$: $(4 \\times 200)$ matrix\n",
    " - $ahat^1$: $(3 \\times 200)$ matrix\n",
    " - $ahat^2$: $(2 \\times 200)$ matrix\n",
    " - $ahat^3$: $(4 \\times 200)$ matrix\n",
    "\n",
    "and to give you a concrete indication, the outputs $z^3$ and $\\widehat{a}^3$ in the final layer are as follows (rounded to 8dp):\n",
    "     $z^3 \\approx \\begin{bmatrix} 0.40966809 & 0.35806581 & 0.40475341 & 0.40574602 & \\ldots  & 0.3699573 & 0.41226255 & 0.41936218 & 0.40968923\\\\\n",
    "0.2285671 & 0.16307432 & 0.22232947 & 0.22358928 & \\ldots  & 0.1781668 & 0.23185995 & 0.24087068 & 0.22859393\\\\\n",
    "0.63575176 & 0.49624045 & 0.62246448 & 0.62514811 & \\ldots  & 0.52839013 & 0.64276611 & 0.66196057 & 0.63580891\n",
    "\\end{bmatrix}$<br>\n",
    "$\\widehat{a}^3 \\approx \\begin{bmatrix} 0.60100829 & 0.58857214 & 0.59982918 & 0.60006742 & \\ldots  & 0.59144866 & 0.60163027 & 0.60333061 & 0.60101336\\\\\n",
    "0.5568943 & 0.54067847 & 0.55535454 & 0.55566561 & \\ldots  & 0.54442425 & 0.5577067 & 0.5599282 & 0.55690092\\\\\n",
    "0.65379251 & 0.62157542 & 0.65077885 & 0.6513885 & \\ldots  & 0.62910756 & 0.65537847 & 0.65970067 & 0.65380545\n",
    "\\end{bmatrix}$<br><br>\n",
    "\n",
    "---\n",
    "\n",
    "As a second example, given ```X_train``` and a ```thetas2``` dict given by the below:\n",
    " - ```{1: np.array([[0.417022  , 0.72032449, 0.00011437],[0.30233257, 0.14675589, 0.09233859],[0.18626021, 0.34556073, 0.39676747]]), 2: np.array([[0.53881673, 0.41919451, 0.6852195 , 0.20445225]]), 3: np.array([[0.87811744, 0.02738759], [0.67046751, 0.4173048 ]])}```\n",
    "\n",
    "```forwardProp``` should return three ```dict```s (```z``` with 3 items (keys 2, 3 and 4), and ```ahat``` and ```a``` both with 4 items (keys 1,2,3 and 4)), with the following dimensions:\n",
    " - $z^2$: $(3 \\times 200)$ matrix\n",
    " - $z^3$: $(1 \\times 200)$ matrix\n",
    " - $z^4$: $(2 \\times 200)$ matrix\n",
    " - $a^1$: $(3 \\times 200)$ matrix\n",
    " - $a^2$: $(4 \\times 200)$ matrix\n",
    " - $a^3$: $(2 \\times 200)$ matrix\n",
    " - $a^4$: $(3 \\times 200)$ matrix\n",
    " - $ahat^1$: $(3 \\times 200)$ matrix\n",
    " - $ahat^2$: $(4 \\times 200)$ matrix\n",
    " - $ahat^3$: $(2 \\times 200)$ matrix\n",
    " - $ahat^4$: $(3 \\times 200)$ matrix\n",
    "\n",
    "and to give you a concrete indication, the outputs $z^4$ and $\\widehat{a}^4$ in the final layer are as follows (rounded to 8dp):\n",
    "     $ztry1^4 \\approx \\begin{bmatrix} 0.90010156 & 0.89893068 & 0.8998931 & 0.90004393 & \\ldots  & 0.8992579 & 0.90008044 & 0.90012124 & 0.90005059\\\\\n",
    "1.00543965 & 0.9875989 & 1.00226329 & 1.00456158 & \\ldots  & 0.99258472 & 1.00511787 & 1.00573954 & 1.00466299\n",
    "\\end{bmatrix}$<br>\n",
    "$ahattry1^4 \\approx \\begin{bmatrix} 0.71097037 & 0.71072971 & 0.71092753 & 0.71095853 & \\ldots  & 0.71079698 & 0.71096603 & 0.71097442 & 0.7109599\\\\\n",
    "0.73212673 & 0.7286134 & 0.73150334 & 0.73195449 & \\ldots  & 0.72959815 & 0.73206362 & 0.73218554 & 0.73197439\n",
    "\\end{bmatrix}$\n"
   ]
  },
  {
   "cell_type": "code",
   "execution_count": 163,
   "metadata": {},
   "outputs": [],
   "source": [
    "thetas1={1: np.array([[0.417022  , 0.72032449, 0.00011437]]), 2: np.array([[0.30233257, 0.14675589], [0.09233859, 0.18626021], [0.34556073, 0.39676747]])}"
   ]
  },
  {
   "cell_type": "code",
   "execution_count": 164,
   "metadata": {},
   "outputs": [
    {
     "ename": "ValueError",
     "evalue": "shapes (1,3) and (200,2) not aligned: 3 (dim 1) != 200 (dim 0)",
     "output_type": "error",
     "traceback": [
      "\u001b[1;31m---------------------------------------------------------------------------\u001b[0m",
      "\u001b[1;31mValueError\u001b[0m                                Traceback (most recent call last)",
      "\u001b[1;32m~\\AppData\\Local\\Temp/ipykernel_15808/2051905382.py\u001b[0m in \u001b[0;36m<module>\u001b[1;34m\u001b[0m\n\u001b[1;32m----> 1\u001b[1;33m \u001b[0mztry1\u001b[0m\u001b[1;33m,\u001b[0m\u001b[0mahattry1\u001b[0m\u001b[1;33m,\u001b[0m\u001b[0matry1\u001b[0m \u001b[1;33m=\u001b[0m \u001b[0mforwardProp\u001b[0m\u001b[1;33m(\u001b[0m\u001b[0mX_train\u001b[0m\u001b[1;33m,\u001b[0m\u001b[0mthetas1\u001b[0m\u001b[1;33m)\u001b[0m\u001b[1;33m\u001b[0m\u001b[1;33m\u001b[0m\u001b[0m\n\u001b[0m",
      "\u001b[1;32m~\\AppData\\Local\\Temp/ipykernel_15808/4231929360.py\u001b[0m in \u001b[0;36mforwardProp\u001b[1;34m(X, thetas)\u001b[0m\n\u001b[0;32m     19\u001b[0m     \u001b[1;31m#Create a loop that loops l between 2 and L (inclusive), and computes z[l], ahat[l] and a[l] correctly.\u001b[0m\u001b[1;33m\u001b[0m\u001b[1;33m\u001b[0m\u001b[0m\n\u001b[0;32m     20\u001b[0m     \u001b[1;32mfor\u001b[0m \u001b[0mi\u001b[0m \u001b[1;32min\u001b[0m \u001b[0mrange\u001b[0m\u001b[1;33m(\u001b[0m\u001b[1;36m2\u001b[0m\u001b[1;33m,\u001b[0m\u001b[0mL\u001b[0m\u001b[1;33m)\u001b[0m\u001b[1;33m:\u001b[0m\u001b[1;33m\u001b[0m\u001b[1;33m\u001b[0m\u001b[0m\n\u001b[1;32m---> 21\u001b[1;33m         \u001b[0mz\u001b[0m\u001b[1;33m[\u001b[0m\u001b[0mi\u001b[0m\u001b[1;33m]\u001b[0m\u001b[1;33m=\u001b[0m\u001b[0mnp\u001b[0m\u001b[1;33m.\u001b[0m\u001b[0mdot\u001b[0m\u001b[1;33m(\u001b[0m\u001b[0mthetas\u001b[0m\u001b[1;33m[\u001b[0m\u001b[0mi\u001b[0m\u001b[1;33m-\u001b[0m\u001b[1;36m1\u001b[0m\u001b[1;33m]\u001b[0m\u001b[1;33m,\u001b[0m\u001b[0ma\u001b[0m\u001b[1;33m[\u001b[0m\u001b[0mi\u001b[0m\u001b[1;33m-\u001b[0m\u001b[1;36m1\u001b[0m\u001b[1;33m]\u001b[0m\u001b[1;33m)\u001b[0m\u001b[1;33m\u001b[0m\u001b[1;33m\u001b[0m\u001b[0m\n\u001b[0m\u001b[0;32m     22\u001b[0m         \u001b[0mahat\u001b[0m\u001b[1;33m[\u001b[0m\u001b[0mi\u001b[0m\u001b[1;33m]\u001b[0m\u001b[1;33m=\u001b[0m\u001b[0mg\u001b[0m\u001b[1;33m(\u001b[0m\u001b[0mz\u001b[0m\u001b[1;33m[\u001b[0m\u001b[0mi\u001b[0m\u001b[1;33m]\u001b[0m\u001b[1;33m)\u001b[0m\u001b[1;33m\u001b[0m\u001b[1;33m\u001b[0m\u001b[0m\n\u001b[0;32m     23\u001b[0m \u001b[1;33m\u001b[0m\u001b[0m\n",
      "\u001b[1;32m<__array_function__ internals>\u001b[0m in \u001b[0;36mdot\u001b[1;34m(*args, **kwargs)\u001b[0m\n",
      "\u001b[1;31mValueError\u001b[0m: shapes (1,3) and (200,2) not aligned: 3 (dim 1) != 200 (dim 0)"
     ]
    }
   ],
   "source": [
    "ztry1,ahattry1,atry1 = forwardProp(X_train,thetas1)"
   ]
  },
  {
   "cell_type": "code",
   "execution_count": 109,
   "metadata": {
    "pycharm": {
     "name": "#%%\n"
    }
   },
   "outputs": [
    {
     "ename": "KeyError",
     "evalue": "3",
     "output_type": "error",
     "traceback": [
      "\u001b[1;31m---------------------------------------------------------------------------\u001b[0m",
      "\u001b[1;31mKeyError\u001b[0m                                  Traceback (most recent call last)",
      "\u001b[1;32m~\\AppData\\Local\\Temp/ipykernel_15808/952029776.py\u001b[0m in \u001b[0;36m<module>\u001b[1;34m\u001b[0m\n\u001b[0;32m      6\u001b[0m \u001b[1;33m\u001b[0m\u001b[0m\n\u001b[0;32m      7\u001b[0m \u001b[1;31m#Here's some example function calls for how the functions could be used\u001b[0m\u001b[1;33m\u001b[0m\u001b[1;33m\u001b[0m\u001b[0m\n\u001b[1;32m----> 8\u001b[1;33m \u001b[0mprintmd\u001b[0m\u001b[1;33m(\u001b[0m\u001b[0mgetMatSummary\u001b[0m\u001b[1;33m(\u001b[0m\u001b[0mztry1\u001b[0m\u001b[1;33m[\u001b[0m\u001b[1;36m3\u001b[0m\u001b[1;33m]\u001b[0m\u001b[1;33m,\u001b[0m\u001b[1;34m\"z^3\"\u001b[0m\u001b[1;33m)\u001b[0m\u001b[1;33m)\u001b[0m\u001b[1;33m\u001b[0m\u001b[1;33m\u001b[0m\u001b[0m\n\u001b[0m\u001b[0;32m      9\u001b[0m \u001b[1;33m\u001b[0m\u001b[0m\n\u001b[0;32m     10\u001b[0m \u001b[0mprintmd\u001b[0m\u001b[1;33m(\u001b[0m\u001b[0mgetMatSummary\u001b[0m\u001b[1;33m(\u001b[0m\u001b[0mahattry1\u001b[0m\u001b[1;33m[\u001b[0m\u001b[1;36m3\u001b[0m\u001b[1;33m]\u001b[0m\u001b[1;33m,\u001b[0m\u001b[1;34m\"\\widehat{a^3}\"\u001b[0m\u001b[1;33m)\u001b[0m\u001b[1;33m)\u001b[0m\u001b[1;33m\u001b[0m\u001b[1;33m\u001b[0m\u001b[0m\n",
      "\u001b[1;31mKeyError\u001b[0m: 3"
     ]
    }
   ],
   "source": [
    "#Below is code for you to test the output of your function\n",
    "\n",
    "thetastry1 = {1: np.array([[0  , 0]]), 2: np.array([[0, 0], [0, 0], [0, 0]])}\n",
    "ztry1,ahattry1,atry1 = forwardProp(X_train,thetastry1)\n",
    "\n",
    "\n",
    "#Here's some example function calls for how the functions could be used\n",
    "printmd(getMatSummary(ztry1[3],\"z^3\"))\n",
    "\n",
    "printmd(getMatSummary(ahattry1[3],\"\\widehat{a^3}\"))"
   ]
  },
  {
   "cell_type": "markdown",
   "metadata": {},
   "source": [
    "### Implementing the Neural Network Cost Function\n",
    "\n",
    "The iterative cost function for neural networks was provided to you in the slides and lectures, but World War 1 is over so we won't even bother with that. We can now use the vectorized approach to achieve modern fast computation. Recall that the vectorized cost function for neural networks can be given by:\n",
    "\n",
    "$$\n",
    "\\require{color}\n",
    "\\large J(\\theta) = \\colorbox{lightgreen}{$−\\frac{1}{m} \\text{SUM} \\Large[y \\ln (h_\\Theta (X)) + (1 − y) \\ln(1 − h_\\Theta (X))\\Large]$} \\\\\n",
    "+ \\colorbox{yellow}{$\\large \\frac{\\lambda}{2m}\\sum\\limits_{l=1}^{L-1} \\text{SUM}\\Large[(\\theta^l_{pq})^2\\Large] \\text{ for } p>0$}\n",
    "$$\n",
    "\n",
    "The expression above is comprised of a $\\colorbox{lightgreen}{first part (highlighted in green)}$ and a $\\colorbox{yellow}{second part (highlighted in yellow)}$.\n",
    "\n",
    "The first part of the above expression should be very straight-forward to compute. Note that the $\\text{SUM}$ operation above denotes a sum of all the elements in a matrix; there's a ```numpy``` function just for this. \n",
    "\n",
    "Also note that to compute the first part of $J$ above, we have to first compute $h_\\Theta(X)$, which is used in the expression. Remember that $h_\\Theta(X)$ in a neural network is just the output of all output nodes of the network i.e. $\\widehat{a^L}$, and can therefore be obtained quite easily by means of the ```forwardProp``` function we just wrote using ```X``` and ```thetas``` as inputs, which we have in this function. Remember, also, that ```forwardProp``` returns ```z```, ```ahat``` and ```a``` which are ```dict```s of the $z$, $\\widehat{a}$ and $a$ values for every layer. It should be quite easy, therefore, to obtain $\\widehat{a^L}$, using one of those ```dict```s, which we will need to proceed.\n",
    "\n",
    "Just remember (as explained in lectures) that ```forwardProp``` retrieves matrices in which each column represents the output corresponding to each example, and each row corresponds to the output of each output node, whereas the expression above requires $h_\\Theta(X)$ to have each column representing the output of each output node, and each row representing the output corresponding to each example, which can be done using a transpose operation. So once you've retrieved $\\widehat{a^L}$, you'll need to re-format (transpose) it before using it to compute the first part of $J$ in the above formula.\n",
    "\n",
    "Summary of computation of first part:\n",
    "\n",
    " - Obtain $\\widehat{a^L}$\n",
    " - Re-format it to have the output of each example on each row (rather than column, as it is by default)\n",
    " - Go ahead and compute the first part of $J$\n",
    "\n",
    "**NOTE: You should not have any loops when computing the first part.**\n",
    "\n",
    "The second part involves the use of a single loop that loops through each layer $l$ and computes the square of all items in the matrix ```theta[l]``` except for the first column of the matrix, and sums up all the items in the resulting matrix. Using ```numpy``` operations e.g. np.square, np.sum and array indexing to select all rows and columns of ```theta[l]``` except the first column, this can be done in one line inside the for loop, but feel free to break it up into a few steps.\n",
    "\n",
    "**NOTE: There should only be one loop when computing the second part, that loops through the layers.** DON'T use more than a single loop (to loop through each layer $l$).\n",
    "\n",
    "Below, go ahead and complete the function definition given to you so that the function computes the cost using the vectorized equation above, and returns the cost as a **<u>single value</u>** (NOT an array or any other funny/weird data structure).\n",
    "\n",
    "**[4.5 marks]**"
   ]
  },
  {
   "cell_type": "code",
   "execution_count": null,
   "metadata": {},
   "outputs": [],
   "source": [
    "def costJVec(X,y,thetas,lambd = 0):\n",
    "    #Here thetas is a dict containing numpy arrays of theta params for each layer\n",
    "\n",
    "    #You'll almost definitely need these. Don't change.\n",
    "    L = len(thetas.keys())+1 #The number of layers\n",
    "    K = len(thetas[L-1]) # The number of nodes in the final layer determines the number of classes\n",
    "    m = len(X) #Number of samples in X provided\n",
    "\n",
    "    #FILL IN CODE BELOW:\n",
    "    \n",
    "    #1. Obtain ahat of the output layer using X and thetas\n",
    "    #2. Re-format it (without any loops) to have the output of each node on each row\n",
    "    \n",
    "    ahatL = {} #Make sure this variable gets set correctly\n",
    "        \n",
    "    #STOP FILLING IN HERE\n",
    "    \n",
    "    #FILL IN CODE BELOW:\n",
    "    \n",
    "    #Code to compute the first part of the cost shown above (highlighted in green)\n",
    "    \n",
    "    Jpart1 = 0 #Make sure this variable gets set correctly\n",
    "\n",
    "    #STOP FILLING IN HERE\n",
    "    \n",
    "        \n",
    "    if lambd == 0: #Don't change - If no regularization is required, just return sum1 - J of the first part\n",
    "        return Jpart1 #Don't change\n",
    "\n",
    "    #FILL IN CODE BELOW:\n",
    "    \n",
    "    #You may need a loop that loops through each theta matrix here\n",
    "    \n",
    "    Jpart2 = 0 #Make sure this variable gets set correctly\n",
    "\n",
    "\n",
    "    #STOP FILLING IN HERE\n",
    "    \n",
    "    \n",
    "    J = Jpart1 + Jpart2 #Don't change - but make sure this ends up being a single (float) number - not a matrix\n",
    "\n",
    "    return J #Don't change"
   ]
  },
  {
   "cell_type": "markdown",
   "metadata": {},
   "source": [
    "Note that, unlike in the previous prac, we could potentially have a LOT of theta parameters, and creating the ```thetas``` dict manually is doable but difficult. Therefore, to give you an indication of what values the function should be producing, I'll refer to ```thetas``` dicts produced using the ```genRandThetasArray``` function.\n",
    "\n",
    "Note also that, unlike with previous functions, this function makes use of a label/target vector, and therefore the number of output nodes needs to correspond correctly to the number of labels in the ```y``` vector provided. This is in addition to the number of input nodes that needs to also match the number of features in the provided ```X``` matrix.\n",
    "\n",
    "Anyway, to give you an indication, given the following inputs, ```costJVec``` should be producing the following output (which I've had to round off to 8 dp, but you shouldn't round off your values):\n",
    "\n",
    "- for ```theta``` with layers [2,2,1] (as produced by the ```genRandThetasArray``` function), and using ```X_train_scaled``` and ```y_train``` as inputs, with no regularization, the cost should be about 0.72472288...\n",
    "- for ```theta``` with layers [2,2,1] (as produced by the ```genRandThetasArray``` function), and using ```X_train_scaled``` and ```y_train``` as inputs, with $\\lambda=2$, the cost should be about 0.72678730...\n",
    "- for ```theta``` with layers [2,5,4,1] (as produced by the ```genRandThetasArray``` function), and using ```X_train_scaled``` and ```y_train``` as inputs, with no regularization, the cost should be about 1.64298193...\n",
    "- for ```theta``` with layers [2,5,4,1] (as produced by the ```genRandThetasArray``` function), and using ```X_train_scaled``` and ```y_train``` as inputs, with $\\lambda=2$, the cost should be about 1.70034513...\n",
    "\n",
    "We have to also try it with multi-class outputs to make sure it works. For multi-class outputs, we'll need to pass our ```y``` vector to the function ```onehotenc``` **before** passing it to the ```costJVec``` function, which assumes it will be in that format if the NN has multiple output nodes. To give you an indication\n",
    "\n",
    "Given an arbitrary $X = \\begin{bmatrix} \n",
    "1 & 2\\\\\n",
    "3 & 4\\\\\n",
    "5 & 6\\\\\n",
    "7 & 8\\\\\n",
    "9 & 10\\\\\n",
    " 11 & 12\\\\\n",
    " 13 & 14\\\\\n",
    " 15 & 16\\\\\n",
    " 17 & 18\n",
    "\\end{bmatrix}$ and y = $\\begin{bmatrix}  \n",
    "0\\\\\n",
    " 1\\\\\n",
    " 2\\\\\n",
    " 0\\\\\n",
    " 1\\\\\n",
    " 2\\\\\n",
    " 0\\\\\n",
    " 1\\\\\n",
    " 2\n",
    "\\end{bmatrix}$, ```costJVec``` should produce the following:\n",
    "\n",
    " - for ```theta``` with layers [2,5,3,3] (as produced by the ```genRandThetasArray``` function), and using the arbitrary $X$ and $y$ shown above used as inputs, with no regularization, the cost should be about 4.65878787...\n",
    " - for ```theta``` with layers [2,5,3,3] (as produced by the ```genRandThetasArray``` function), and using the arbitrary $X$ and $y$ shown above used as inputs, with $\\lambda=2$, the cost should be about 5.85763906...\n",
    " - for ```theta``` with layers [2,2,3] (as produced by the ```genRandThetasArray``` function), and using the arbitrary $X$ and $y$ shown above used as inputs, with no regularization, the cost should be about 3.16451459...\n",
    " - for ```theta``` with layers [2,2,3] (as produced by the ```genRandThetasArray``` function), and using the arbitrary $X$ and $y$ shown above used as inputs, with $\\lambda=2$, the cost should be about 3.41372102...\n",
    " \n",
    "**JUST TO STRESS AGAIN:** If you're working with more than 2 classes, you need to pass your $y$ vector to ```onehotenc``` and pass the resulting one-hot-encoded $\\widehat{y}$ matrix to ```costJVec```. If you don't, there's a good chance your function will still just return a value; it will just be wrong... and frustrating..."
   ]
  },
  {
   "cell_type": "code",
   "execution_count": null,
   "metadata": {},
   "outputs": [],
   "source": [
    "#This snippet is for you to try out your function\n",
    "thetastry1 = genRandThetasArray([2,1,2])\n",
    "print(thetastry1)\n",
    "\n",
    "Jtry1 = costJVec(X_train_scaled,y_train,thetastry1,lambd=2)\n",
    "print(Jtry1)"
   ]
  },
  {
   "cell_type": "markdown",
   "metadata": {},
   "source": [
    "### Implementing ```predict``` to Make Predictions\n",
    "\n",
    "At this stage, since we've just implemented ```forwardProp```, and since we've somehow managed to figure out how to obtain the final output of the Neural Network $\\widehat{a^L}$, let's go ahead and implement the ```predict``` function that will make use of the Neural Network output obtained from ```forwardProp``` to actually make predictions.\n",
    "\n",
    "Recall that, as explained in the lectures, making a prediction on one or more samples involves first carrying out forwardProp to obtain the final outputs at all of the output nodes of the Neural Network. If there are only two classes, the output at the final layer provided by forwardProp involves one output value per example input provided. If , and then:\n",
    "\n",
    " - If the number of classes is 2:\n",
    "     - Thresholding the forwardProp entry such that each label of the output is assigned according to the following scheme:\n",
    "     - $\\begin{matrix} \\text{Predict } y=1 \\text{  if  } h_\\Theta(X)\\geq0.5 \\\\\n",
    "     \\text{Predict } y=0 \\text{  if  } h_\\Theta(X) < 0.5 \\end{matrix}$\n",
    "     - \n",
    "     - This should absolutely be done using numpy indexing magic, rather than looping through ```y```.\n",
    "     \n",
    "      \n",
    "     \n",
    " - If the number of classes is greater than 2:\n",
    "     - Examining the output nodes corresponding to each example, and setting the label of each example to be the index of the output node with the highest value \n",
    "     \n",
    " Go ahead and complete the function below.\n",
    " \n",
    " **[3 marks]**"
   ]
  },
  {
   "cell_type": "code",
   "execution_count": null,
   "metadata": {},
   "outputs": [],
   "source": [
    "def predict(X,thetas):\n",
    "    \n",
    "    L = len(thetas.keys()) + 1 #Don't change - number of layers\n",
    "    K = len(thetas[L - 1]) #Don't change - number of output nodes\n",
    "    m = len(X) #Don't change - number of samples\n",
    "    \n",
    "    #BEGIN FILLING IN BELOW:\n",
    "    \n",
    "    ahatL = {} #This variable needs to be set correctly\n",
    "\n",
    "    #STOP FILLING IN HERE\n",
    "    \n",
    "    if (K == 1):#Don't change - If there's only one output node\n",
    "        \n",
    "        #BEGIN FILLING IN BELOW:\n",
    "        \n",
    "        ypred = np.array([]) #This variable needs to be set correctly based on what's inside ahatL\n",
    "\n",
    "        \n",
    "        #STOP FILLING IN HERE\n",
    "        \n",
    "        \n",
    "    else:#Don't change - Otherwise, if there's 3 or more output nodes\n",
    "        \n",
    "        #BEGIN FILLING IN BELOW:\n",
    "        \n",
    "        ypred = np.array([]) #This variable needs to be set correctly based on what's inside ahatL\n",
    "\n",
    "        \n",
    "        #STOP FILLING IN HERE\n",
    "    \n",
    "    return ypred.astype(\"int\").reshape(m,1) #Don't change\n"
   ]
  },
  {
   "cell_type": "markdown",
   "metadata": {},
   "source": [
    "To give you an indication, I've provided ```X``` and ```thetas``` that you can use to test you ```predict``` function. The reason I've provided exact ```thetas``` dicts rather than generating them using the ```genRandThetasArray``` function as we've done so far is that using random values will provide predicted values that aren't quite so distinct (either all 1s or all 0s - in which case you won't be able to tell if your function works correctly). Note that the ```thetas``` structures I've provided can be copy/pasted as is, and they should work:\n",
    "\n",
    "- Given ```X_train_scaled``` and a ```thetas``` ```dict``` with the following structure\n",
    "\n",
    "<code>{1: np.array([[ 9.63,  0.29, -8.58],[ 0.38,  0.27, -4.17]]), 2: np.array([[-0.92, 11.46,  2.04]])}</code>, ```predict``` should produce the following vector:\n",
    "       \n",
    "- $pred = \\begin{bmatrix}1 &\n",
    "1 & \n",
    "1 & \n",
    "1 & \n",
    "1 & \n",
    "1 & \n",
    "1 & \n",
    "1 & \n",
    "0 & \n",
    "1 & \n",
    "\\ldots & \n",
    "1 & \n",
    "1 & \n",
    "1 & \n",
    "0 & \n",
    "1 & \n",
    "0 & \n",
    "1 & \n",
    "1 & \n",
    "1 & \n",
    "1\n",
    "\\end{bmatrix}^T$\n",
    "\n",
    "<br>\n",
    "<br>\n",
    "\n",
    "- Given ```X_train_scaled``` and a ```thetas``` ```dict``` with the following structure:\n",
    "  \n",
    "  \n",
    "  <code>{1: np.array([[ 1.11,  0.3 , -1.33],[ 6.46, -4.92, -0.95],[ 3.26, -0.34,  2.59]]), 2: np.array([[ 0.49,  4.58, -0.49, -2.13],[-2.  , -3.96,  5.02,  3.57]]), 3: np.array([[ 0.52,  7.85, -7.3 ]])}</code>\n",
    "       \n",
    "- $pred = \\begin{bmatrix}0 &\n",
    "0 & \n",
    "1 & \n",
    "0 & \n",
    "1 & \n",
    "0 & \n",
    "1 & \n",
    "0 & \n",
    "0 & \n",
    "1 & \n",
    "\\ldots & \n",
    "1 & \n",
    "1 & \n",
    "1 & \n",
    "0 & \n",
    "0 & \n",
    "0 & \n",
    "0 & \n",
    "1 & \n",
    "1 & \n",
    "0\n",
    "\\end{bmatrix}^T$\n",
    "\n",
    "<br>\n",
    "<br>\n",
    "\n",
    "And here's two multi-class examples:\n",
    "\n",
    "- Given ```X_train_scaled``` and a ```thetas``` ```dict``` with the following structure\n",
    "\n",
    "<code>{1: np.array([[-17.36,  10.45,  -5.73],[  6.64, -20.62,   6.67],[ 14.44, -21.33,  -8.91]]), 2: np.array([[ -1.08,  -2.15, -0.67,   1.32],[ -1.77, -13.77,   5.97,  -5.68],[  0.43,  -5.99, -15.77,  -4.06],[ -3.03,   9.87,  -5.58,   8.34]])}</code>, ```predict``` should produce the following vector:\n",
    "       \n",
    "- $pred = \\begin{bmatrix}1 &\n",
    "3 & \n",
    "3 & \n",
    "0 & \n",
    "3 & \n",
    "3 & \n",
    "3 & \n",
    "3 & \n",
    "3 & \n",
    "3 & \n",
    "\\ldots & \n",
    "3 & \n",
    "3 & \n",
    "2 & \n",
    "3 & \n",
    "2 & \n",
    "3 & \n",
    "3 & \n",
    "3 & \n",
    "3 & \n",
    "3\n",
    "\\end{bmatrix}^T$\n",
    "\n",
    "<br>\n",
    "<br>\n",
    "\n",
    "- Given ```X_train_scaled``` and a ```thetas``` ```dict``` with the following structure\n",
    "\n",
    "<code>{1: np.array([[ 8.13,  1.66, -5.86],[11.46,  1.71, -7.96],[-2.82,  8.16,  0.63]]), 2: np.array([[ 9.71, -1.42, -7.83, -6.3 ],[ 4.73, -5.28, -7.59, -4.65]]), 3: np.array([[ -1.53,   2.22,  -4.87],[ -2.28,   1.54,   5.69],[ -0.15, -12.55,  -4.02],[ -0.98,   1.02, -17.69]])}</code>, ```predict``` should produce the following vector:\n",
    "\n",
    "- $pred = \\begin{bmatrix}2 &\n",
    "0 & \n",
    "3 & \n",
    "3 & \n",
    "2 & \n",
    "0 & \n",
    "0 & \n",
    "3 & \n",
    "1 & \n",
    "2 & \n",
    "\\ldots & \n",
    "3 & \n",
    "0 & \n",
    "2 & \n",
    "1 & \n",
    "2 & \n",
    "1 & \n",
    "0 & \n",
    "2 & \n",
    "2 & \n",
    "2\n",
    "\\end{bmatrix}^T$"
   ]
  },
  {
   "cell_type": "code",
   "execution_count": null,
   "metadata": {},
   "outputs": [],
   "source": [
    "thetastry2 = {1: np.array([[ 8.13,  1.66, -5.86],[11.46,  1.71, -7.96],[-2.82,  8.16,  0.63]]), 2: np.array([[ 9.71, -1.42, -7.83, -6.3 ],[ 4.73, -5.28, -7.59, -4.65]]), 3: np.array([[ -1.53,   2.22,  -4.87],[ -2.28,   1.54,   5.69],[ -0.15, -12.55,  -4.02],[ -0.98,   1.02, -17.69]])}\n",
    "\n",
    "predtry1 = predict(X_train_scaled,thetastry2)\n",
    "\n",
    "#Try printing the first and last 10 items of predtry1 (maybe you can use the getMatSummary function to do this; but if you do, make sure to transpose predtry1 before you do otherwise all the values will appear on one column... that's going to be 200 values..."
   ]
  },
  {
   "attachments": {
    "BackProp.png": {
     "image/png": "[encoded data removed]"
    }
   },
   "cell_type": "markdown",
   "metadata": {},
   "source": [
    "### Implementing Back Propagation a.k.a BackProp\n",
    "\n",
    "Back propagation a.k.a BackProp is the algorithm that helps obtain the partial derivatives $\\large\\frac{\\delta J}{\\delta \\Theta^l}$ of all parameters in every layer $\\Theta^l$ with respect to the cost function $J$ of the neural network, based on a training set of examples. These partial derivatives can then be used with a function optimization algorithm such as gradient descent to optimize the $\\Theta$ parameters to obtain the best decision boundary for the training set.\n",
    "\n",
    "The BackProp algorithm is shown in the diagram below:\n",
    "\n",
    "![BackProp.png](attachment:BackProp.png)\n",
    "\n",
    "Note that step 5 in this algorithm is not technically part of BackProp itself, but is included because it is the means to continuously update (and therefore learn) the weights.\n",
    "\n",
    "We're going to implement each part of this algorithm in the function below step by step (apart from step 5 which will be done in a separate function later), from the top going downwards. Using the algorithm design above, follow the instructions given to you in the comments in the code below to implement each part of the BackProp.\n",
    "\n",
    "**IMPORTANT NOTE**: The way I've set this BackProp function up, if the number of classes if more than 2 i.e. $K>1$, it expects a ```y``` to be passed in that has already been one-hot-encoded.\n",
    "\n",
    "**ANOTHER IMPORTANT NOTE**: Remember that $a^L$ is actually $\\widehat{a}^L$ i.e. $a$ in the output layer doesn't get the extra 1s added to it. However, our ```forwardProp``` function currently returns an $a^L$ that **does** have the extra ones in it. Therefore, when computing $a^L - y$, you should actually use the value $\\widehat{a}^L$ obtained from the ```forwardProp``` function instead of $a^L$.\n",
    "\n",
    "**[7 marks]**"
   ]
  },
  {
   "cell_type": "code",
   "execution_count": null,
   "metadata": {
    "pycharm": {
     "name": "#%%\n"
    }
   },
   "outputs": [],
   "source": [
    "def backProp(X, y, thetas, lambd=0, round=0):\n",
    "    #You'll almost definitely need at least some of these. Don't change.\n",
    "    L = len(thetas.keys())+1 #The number of layers\n",
    "    K = len(thetas[L-1]) # The number of nodes in the final layer determines the number of classes\n",
    "    m = len(X) #Number of samples in X provided\n",
    "\n",
    "    #Don't change - this function expects the label of each example in y to be on a separate column (not row) - transpose it\n",
    "    y = y.T\n",
    "\n",
    "    #FILL IN BELOW:\n",
    "\n",
    "    #1. Make a call to forwardProp to get the z, ahat and a of all layers\n",
    "\n",
    "    z = {} #You need to set this correctly\n",
    "    ahat = {} #You need to set this correctly\n",
    "    a = {} #You need to set this correctly\n",
    "\n",
    "\n",
    "    #STOP FILLING IN HERE\n",
    "\n",
    "\n",
    "    delta = {} #Don't change - this will be used to store delta values for all relevant layers\n",
    "\n",
    "\n",
    "    #FILL IN BELOW:\n",
    "\n",
    "    # 2. Compute delta[L] - See the algorithm above\n",
    "\n",
    "\n",
    "    #STOP FILLING IN HERE\n",
    "\n",
    "    #FILL IN BELOW:\n",
    "\n",
    "    # 3. Compute delta[l] for all layers {(L-1),...,2}. You'll need a loop here looping through layers, and for each layer:\n",
    "    #    compute delta[l] and also\n",
    "    # 3.1 Discard the first row of each delta[l]\n",
    "\n",
    "\n",
    "    #STOP FILLING IN HERE\n",
    "\n",
    "\n",
    "    dthetas = {} #Don't change - this will be used to store dtheta values for the thetas of every layer\n",
    "\n",
    "    #FILL IN BELOW:\n",
    "\n",
    "    # 4. Loop through all layers l from 1 to (L-1) and for each l:\n",
    "    #    4.1 Set dthetas[l] to the partial derivative of each theta[l] matrix theta[l] using the expression given in the slides\n",
    "    #    4.2 If necessary (if lamda>0), add regularization to each dthetas[l] using the expression given in the algorithm above\n",
    "\n",
    "\n",
    "    #STOP FILLING HERE\n",
    "\n",
    "    return dthetas #Don't change - This should end up being a dict with the exact same structure and sizes as thetas, except that it contains the partial derivatives"
   ]
  },
  {
   "cell_type": "markdown",
   "metadata": {},
   "source": [
    " - Given ```X_train_scaled```, ```y_train``` and ```thetas``` with layers [2,2,1] as generated by ```genRandThetasArray```, and no regularization, below is a print out of the dthetas dict returned:\n",
    " \n",
    "{1: array([[ 0.01320783, -0.01820009,  0.02663851],\n",
    "       [ 0.01453844, -0.02539648,  0.03281782]]), 2: array([[0.14981101, 0.0470727 , 0.08440743]])}\n",
    "\n",
    " - Given ```X_train_scaled```, ```y_train``` and ```thetas``` with layers [2,2,1] as generated by ```genRandThetasArray```, and $\\lambda = 2$, below is a print out of the dthetas dict returned:\n",
    "\n",
    "{1: array([[ 0.01320783, -0.01099685,  0.02663965],\n",
    "       [ 0.01453844, -0.02392893,  0.0337412 ]]), 2: array([[0.14981101, 0.0505283 , 0.0883751 ]])}\n",
    "\n",
    " - Given ```X_train_scaled```, ```y_train``` and ```thetas``` with layers [2,3,4,1] as generated by ```genRandThetasArray```, and no regularization, below is a print out of the dthetas dict returned:\n",
    " \n",
    "{1: array([[ 0.00336834, -0.00263012,  0.00305275],\n",
    "       [ 0.0075422 , -0.00625491,  0.00669888],\n",
    "       [ 0.00958499, -0.00800013,  0.00854402]]), 2: array([[0.00545884, 0.00254712, 0.00309654, 0.0030979 ],\n",
    "       [0.00213828, 0.00100076, 0.0012137 , 0.00121563],\n",
    "       [0.01118624, 0.00521853, 0.00634491, 0.0063472 ],\n",
    "       [0.03390222, 0.01554875, 0.0191554 , 0.0190278 ]]), 3: array([[0.36975398, 0.28688273, 0.30286338, 0.28375193, 0.32583098]])}\n",
    "\n",
    " - Given ```X_train_scaled```, ```y_train``` and ```thetas``` with layers [2,3,4,1] as generated by ```genRandThetasArray```, and $\\lambda = 2$, below is a print out of the dthetas dict returned:\n",
    "\n",
    "{1: array([[ 0.00336834,  0.00457312,  0.00305389],\n",
    "       [ 0.0075422 , -0.00478735,  0.00762227],\n",
    "       [ 0.00958499, -0.00454452,  0.0125117 ]]), 2: array([[0.00545884, 0.00673907, 0.00994874, 0.00514242],\n",
    "       [0.00213828, 0.00127464, 0.00791838, 0.00538868],\n",
    "       [0.01118624, 0.0066224 , 0.00832592, 0.01435464],\n",
    "       [0.03390222, 0.01868299, 0.02607863, 0.02779169]]), 3: array([[0.36975398, 0.28773318, 0.30325393, 0.28545023, 0.3346124 ]])}\n",
    "\n",
    "\n",
    "<br>\n",
    " \n",
    " \n",
    "We also need to try it out with a multi-class output. Given an arbitrary $X = \\begin{bmatrix} \n",
    "1 & 2\\\\\n",
    "3 & 4\\\\\n",
    "5 & 6\\\\\n",
    "7 & 8\\\\\n",
    "9 & 10\\\\\n",
    " 11 & 12\\\\\n",
    " 13 & 14\\\\\n",
    " 15 & 16\\\\\n",
    " 17 & 18\n",
    "\\end{bmatrix}$ and y = $\\begin{bmatrix}  \n",
    "0\\\\\n",
    " 1\\\\\n",
    " 2\\\\\n",
    " 0\\\\\n",
    " 1\\\\\n",
    " 2\\\\\n",
    " 0\\\\\n",
    " 1\\\\\n",
    " 2\n",
    "\\end{bmatrix}$ **<u>that has been one-hot-encoded</u>**:\n",
    "\n",
    " - Given $X$, $\\widehat{y}$ (one-hot-encoded) and ```thetas``` with layers [2,3,3] as generated by ```genRandThetasArray```, and no regularization, below is a print out of the dthetas dict returned:\n",
    " \n",
    "{1: array([[ 0.00794655,  0.00251996,  0.0104665 ],\n",
    "       [ 0.00561945, -0.11623935, -0.1106199 ],\n",
    "       [ 0.01803231,  0.00777618,  0.02580849]]), 2: array([[-0.1492531 , -0.16799159, -0.15909991, -0.16571646],\n",
    "       [-0.13047005, -0.15019779, -0.14290716, -0.14777361],\n",
    "       [-0.16221194, -0.18071745, -0.17102354, -0.17847968]])}\n",
    "\n",
    " - Given $X$, $\\widehat{y}$ (one-hot-encoded) and ```thetas``` with layers [2,3,3] as generated by ```genRandThetasArray```, and $\\lambda=2$, below is a print out of the dthetas dict returned:\n",
    " \n",
    "{1: array([[ 0.00794655,  0.16259207,  0.01049192],\n",
    "       [ 0.00561945, -0.08362693, -0.09010022],\n",
    "       [ 0.01803231,  0.08456745,  0.11397904]]), 2: array([[-0.1492531 , -0.07483726, -0.00682891, -0.12028263],\n",
    "       [-0.13047005, -0.14411165,  0.00608562, -0.05503921],\n",
    "       [-0.16221194, -0.14952035, -0.12700099, -0.00053645]])}\n",
    "\n",
    " \n",
    " - Given $X$, $\\widehat{y}$ (one-hot-encoded) and ```thetas``` with layers [2,2,1,3] as generated by ```genRandThetasArray```, and no regularization, below is a print out of the dthetas dict returned: \n",
    " \n",
    "{1: array([[ 0.00049427, -0.00012594,  0.00036834],\n",
    "       [-0.00049465, -0.00787919, -0.00837384]]), 2: array([[-0.03990252, -0.04195892, -0.03921051]]), 3: array([[-0.30278166, -0.21759306],\n",
    "       [-0.30380743, -0.21832495],\n",
    "       [-0.28958324, -0.20831331]])}\n",
    "\n",
    "- Given $X$, $\\widehat{y}$ (one-hot-encoded) and ```thetas``` with layers [2,2,1,3] as generated by ```genRandThetasArray```, and $\\lambda=2$, below is a print out of the dthetas dict returned:\n",
    "\n",
    "{1: array([[ 0.00049427,  0.15994617,  0.00039375],\n",
    "       [-0.00049465,  0.02473323,  0.01214585]]), 2: array([[-0.03990252,  0.03483235,  0.04896004]]), 3: array([[-0.30278166, -0.12443872],\n",
    "       [-0.30380743, -0.17289112],\n",
    "       [-0.28958324, -0.20222718]])}"
   ]
  },
  {
   "cell_type": "code",
   "execution_count": null,
   "metadata": {},
   "outputs": [],
   "source": [
    "thetastry1 = genRandThetasArray([2,3,4,1])\n",
    "#Don't forget to one-hot encode your y IF (and only IF) you have more than one output node\n",
    "backProp(X_train_scaled,y_train,thetastry1,lambd=0)\n"
   ]
  },
  {
   "cell_type": "markdown",
   "metadata": {},
   "source": [
    "### Gradient Descent\n",
    "\n",
    "Now that we have backProp working (hopefully), we can use the partial derivatives of all $\\theta$ parameters to minimize the cost function $J$ and arrive at a set of $\\theta$ parameters that separate the data points very effectively, or in other words, arrive at a decision boundary that separates the points very effectively. We've previously implemented gradient descent for logistic regression. And even though it is slightly different here, we won't waste time re-implementing it again here. I've put in the code for you. Make sure you look through the function and figure out what it does, but in summary:\n",
    "\n",
    "- It computes the cost of the initial $\\theta$ parameters\n",
    "- It then continuously:\n",
    "    - Calls on backProp to obtain the partial derivatives\n",
    "    - Updates the $\\Theta^l$ parameters of every layer\n",
    "    - Keeps track of the cost with the updated parameters\n"
   ]
  },
  {
   "cell_type": "code",
   "execution_count": null,
   "metadata": {},
   "outputs": [],
   "source": [
    "# DON'T CHANGE ANYTHING IN THIS FUNCTION WHATSOEVER: BUT Look to see what it's doing\n",
    "def gradDesc(X,y,initthetas,alpha=1,lambd=0,iterations=1):\n",
    "\n",
    "    L = len(initthetas.keys()) + 1\n",
    "    K = len(initthetas[L-1]) #The number of nodes in the final layer determines the number of classes\n",
    "    \n",
    "    thetas = initthetas\n",
    "    \n",
    "    #If the number of classes is greater than 2, then we'll need to apply one-hot-encoding\n",
    "    if (K > 2):\n",
    "        y = onehotenc(y)\n",
    "\n",
    "    J = [costJVec(X,y,thetas,lambd)]\n",
    "\n",
    "    for iter in range(iterations):\n",
    "\n",
    "        dthetas = backProp(X,y,thetas,lambd)\n",
    "\n",
    "        thetas = {k:thetas[k] - alpha*dthetas[k] for k in thetas}\n",
    "\n",
    "        J.append(costJVec(X,y,thetas))\n",
    "\n",
    "    return thetas, np.array(J)"
   ]
  },
  {
   "cell_type": "markdown",
   "metadata": {},
   "source": [
    "---\n",
    "### And Now For Some Magic\n",
    "\n",
    "If you've done everything correctly, when you run the code below, it should display the training set as well as display the decision boundary and the two spaces $y=0$ and $y=1$. Feel very free to experiment with the layers, the number of nodes in the hidden layers (remember that you can't really change the number of input or output nodes - those are defined by the features in your $X$ and labels in your $y$, respectively). Also, don't worry, at the very bottom of this notebook, I've provided you with a cell where you can try out different data sets easily as well.\n",
    "\n",
    "Hopefully you can appreciate the absolutely wonder of Neural Networks - of not having to mess around with the input features in any way, and still get a very complex and almost-perfect decision boundary. This, my friends, is the reason Neural Networks have swallowed the world.\n",
    "\n",
    "The default parameters I've set below (assuming you're still using the noisymoons data set) should hopefully also demonstrate just how beautifully NNs can overfit on some data, if there are too many hidden layers and/or too many hidden nodes. Look at how carefully the decision boundary contorts itself to separate outliers of both classes and include them in their respective class, even going as far as creating pockets/islands to \"save\" outlier points of either class... which of course isn't realistic or the ideal decision boundary. Later on, we'll use regularization to address this problem."
   ]
  },
  {
   "cell_type": "code",
   "execution_count": null,
   "metadata": {},
   "outputs": [],
   "source": [
    "def plotMagic(debug=0):\n",
    "\n",
    "    if debug:\n",
    "        return\n",
    "    \n",
    "    thetas = genRandThetasArray([2,30,30,1],2)\n",
    "    finalthetas,J = gradDesc(X_train_scaled,y_train,thetas,alpha=19,iterations=3000, lambd=0)\n",
    "\n",
    "    printmd(\"## Plot on the Training Data\")\n",
    "    plotDecisionBoundary(X_train_scaled,y_train,\"$X_1$\",\"$X_2$\",plotdecboundary=True, model=lambda x: predict(x,finalthetas),debug=debug)\n",
    "\n",
    "    printmd(\"## Plot on the Testing Data\")\n",
    "    plotDecisionBoundary(X_test_scaled,y_test,\"$X_1$\",\"$X_2$\",plotdecboundary=True, model=lambda x: predict(x,finalthetas),debug=debug)\n",
    "    \n",
    "plotMagic(debug=debug)"
   ]
  },
  {
   "cell_type": "markdown",
   "metadata": {},
   "source": [
    "---\n",
    "\n",
    "## Part C -  Optimization of the Neural Network\n",
    "\n",
    "When making use of Neural Networks (as with any other technique), it's important to optimize them. As a rule of thumb, it is always a good idea to use very high-order complex features and then use regularization to tone them down. In this way, we can use the CV set to compare a range of $\\lambda$ values and determine which works best. This is also a good way to have only one variable (a.k.a hyper-parameter) to optimize i.e. $\\lambda$, while eliminating other potential hyper-parameters, in this case, the number of layers and the number of nodes in the hidden layers.\n",
    "\n",
    "Whereas with logistic and linear regression we had to manually produce a very large number of high-order polynomial features, and it was very expensive to do so (due to the large number features produced) even though it was likely that many/most of these weren't even contributing to a good accuracy, with Neural Networks we no longer need to touch the base features. We can automatically, seamlessly and efficiently produce more complex features in two ways:\n",
    "\n",
    "1. We can cause the NN to automatically produce **a larger variety of features** simply by adding more hidden nodes in the hidden layer(s).\n",
    "\n",
    "2. We can cause the NN to automatically produce **more complex / higher-order features** simply by adding more hidden layers.\n",
    "\n",
    "So with NNs, a good rule of thumb is to use as large a number of hidden layers with as large a number of hidden nodes as possible (provided that we have a very large amount of data to learn from), and then optimize only the regularization parameter to ensure the best decision boundary. And this, my friends, is the base idea behind deep learning. Very large and deep network + a large amount of data + regularization = excellent performance.\n",
    "\n",
    "Technically speaking, to optimize our NN, we would have had to start by creating a NN with the desired layers and nodes, and then proceed to determine a good learning rate using a similar technique as described previously. Once the learning rate was obtained, we would then use it to compare various values of $\\lambda$. Keep this in mind for future purposes. For this prac, we'll skip the learning rate optimization procedure and proceed directly to optimizing $\\lambda$.\n",
    "\n",
    "Before continuing, let's import the f1 score function from sklearn to be able to compute this classification metric, which we'll use for optimization."
   ]
  },
  {
   "cell_type": "code",
   "execution_count": null,
   "metadata": {},
   "outputs": [],
   "source": [
    "from sklearn.metrics import f1_score"
   ]
  },
  {
   "cell_type": "markdown",
   "metadata": {},
   "source": [
    "In this practical, we're using a very small dataset (400 data points). Therefore, it doesn't make sense to go deeper than 2 hidden layers, but we can try having a large number of nodes in each layer e.g. 30 nodes. This is what we'll do.\n",
    "\n",
    "Further below, I've fleshed out a function ```optimizeLambdas``` that will take in a ```thetas``` structure (e.g. as created by ```genRandThetasArray```) and a list containing values of $\\lambda$ to compare, and return a list containing the F1 scores corresponding to NNs trained using each $\\lambda$ value and evaluated on the CV set. Before we can complete that function, first go ahead and complete the function ```getThetasAndLambdasForOptimization``` in the cell below to do the following: \n",
    "\n",
    "1. Initialize a ```thetas``` structure using the ```genRandThetasArray``` function for a NN with the following structure: 2 input nodes $\\rightarrow$ 30 hidden nodes $\\rightarrow$ 30 hidden nodes $\\rightarrow$ 1 output node.\n",
    "\n",
    "2. Create a list of $\\lambda$ values called ```lambds``` with the following values in it $[0.0005, 0.0001, 0.005, 0.001, 0.05, 0.01, 0.5, 0.1]$.\n",
    "\n",
    "**[0.5 marks]**"
   ]
  },
  {
   "cell_type": "code",
   "execution_count": null,
   "metadata": {},
   "outputs": [],
   "source": [
    "def getThetasAndLambdasForOptimization():\n",
    "\n",
    "    #FILL IN CODE BELOW:\n",
    "    \n",
    "    thetas = {} #Set this correctly as per above - Step 1\n",
    "\n",
    "    lambds = [] #Set this correctly as per above - Step 2\n",
    "\n",
    "\n",
    "    #STOP FILLING IN HERE\n",
    "\n",
    "    return thetas, lambds\n"
   ]
  },
  {
   "cell_type": "markdown",
   "metadata": {},
   "source": [
    "The function above should return:\n",
    "\n",
    "- a thetas ```dict``` with three $\\Theta$ matrices, summarized as follows:\n",
    "\n",
    "$\\text{thetas}^1 \\approx \\begin{bmatrix} 0.417022 & 0.72032449 & 0.00011437\\\\\n",
    "0.30233257 & 0.14675589 & 0.09233859\\\\\n",
    "0.18626021 & 0.34556073 & 0.39676747\\\\\n",
    "0.53881673 & 0.41919451 & 0.6852195\\\\\n",
    "0.20445225 & 0.87811744 & 0.02738759\\\\\n",
    " . & .  &  . \\\\\n",
    " . & .  &  . \\\\\n",
    " . & .  &  . \\\\\n",
    "0.1653542 & 0.92750858 & 0.34776586\\\\\n",
    "0.7508121 & 0.72599799 & 0.88330609\\\\\n",
    "0.62367221 & 0.75094243 & 0.34889834\\\\\n",
    "0.26992789 & 0.89588622 & 0.42809119\\\\\n",
    "0.96484005 & 0.6634415 & 0.62169572\n",
    "\\end{bmatrix}$<br>\n",
    "\n",
    "$\\text{thetas}^2 \\approx \\begin{bmatrix} 0.11474597 & 0.94948926 & 0.44991213 & \\ldots  & 0.71152476 & 0.12427096 & 0.01988013\\\\\n",
    "0.02621099 & 0.02830649 & 0.24621107 & \\ldots  & 0.01255598 & 0.07197428 & 0.96727633\\\\\n",
    "0.56810046 & 0.20329323 & 0.25232574 & \\ldots  & 0.62971751 & 0.21017401 & 0.75275555\\\\\n",
    "0.06653648 & 0.2603151 & 0.80475456 & \\ldots  & 0.96326253 & 0.17395567 & 0.12632952\\\\\n",
    "0.13507916 & 0.50566217 & 0.02152481 & \\ldots  & 0.57785722 & 0.1840102 & 0.78792923\\\\\n",
    " . & . & .  & \\ldots  &  . & . & . \\\\\n",
    " . & . & .  & \\ldots  &  . & . & . \\\\\n",
    " . & . & .  & \\ldots  &  . & . & . \\\\\n",
    "0.75112104 & 0.57936054 & 0.92470418 & \\ldots  & 0.46978904 & 0.97948335 & 0.36437807\\\\\n",
    "0.77441013 & 0.5527676 & 0.88913109 & \\ldots  & 0.47701299 & 0.44887884 & 0.88599797\\\\\n",
    "0.52761877 & 0.40909083 & 0.26889202 & \\ldots  & 0.11379636 & 0.65178928 & 0.40265685\\\\\n",
    "0.32102631 & 0.55791199 & 0.99346046 & \\ldots  & 0.52580197 & 0.07602388 & 0.87412594\\\\\n",
    "0.95113562 & 0.8125073 & 0.28380183 & \\ldots  & 0.3356638 & 0.05231295 & 0.60511678\n",
    "\\end{bmatrix}$<br>\n",
    "$\\text{thetas}^3 \\approx \\begin{bmatrix} \\\\\n",
    "0.51206103 & 0.61746101 & 0.43235559 & 0.84770047 & \\ldots  & 0.34486134 & 0.89785072 & 0.43459497 & 0.23581464\n",
    "\\end{bmatrix}$\n",
    "\n",
    "- a ```list``` with $[0.0005, 0.0001, 0.005, 0.001, 0.05, 0.01, 0.5, 0.1]$ in it. Nothing more nothing less.\n"
   ]
  },
  {
   "cell_type": "code",
   "execution_count": null,
   "metadata": {},
   "outputs": [],
   "source": [
    "#You can use this cell to test your function\n",
    "thetasforopt, lambdsforopt = getThetasAndLambdasForOptimization()\n",
    "\n",
    "printmd(getMatSizes(thetasforopt,\"\\\\text{thetasforopt}\"))\n",
    "\n",
    "printmd(getMatSummary(thetasforopt[1],\"\\\\text{thetasforopt^1}\",showrowshead=5,showrowstail=5))\n",
    "printmd(getMatSummary(thetasforopt[2],\"\\\\text{thetasforopt^2}\",showcolshead=3,showcolstail=3,showrowshead=5,showrowstail=5))\n",
    "printmd(getMatSummary(thetasforopt[3],\"\\\\text{thetasforopt^2}\",5,5))\n",
    "\n",
    "printmd(getMatSummary(np.array(lambdsforopt).reshape(1,-1),\"\\\\text{lambdsforopt}\"))"
   ]
  },
  {
   "cell_type": "markdown",
   "metadata": {},
   "source": [
    "Ok now we'll complete the ```optimizeLambdas``` function which takes in a ```thetas``` structure and a list of $\\lambda$ values to compare (both of which we'll obtain by calling ```getThetasAndLambdasForOptimization```. Complete the function below to do only the following steps:\n",
    "\n",
    "- Loop through the values of the ```lambds``` list passed into the function; for each ```lambd``` value:\n",
    "\n",
    "    1. Train a NN as follows: call gradient descent using ```X_train_scaled```, ```y_train``` and the ```thetas``` structure you created, with ```alpha=19```, ```iterations=iterations``` and using the value ```lambd``` currently in the loop. Store the resulting optimized $\\theta$ parameters obtained by gradient descent in a variable called ```finalthetas```. Yes, ```iterations=iterations``` is correct. The parameter ```iterations``` is being read into the function as a parameter.\n",
    "    \n",
    "    2. Use the ```predict``` function to make a prediction on ```X_cv_scaled``` (the CV set) using the ```finalthetas``` obtained in the previous step. This will help us obtain an indication of how the model with current ```lambd``` value is doing on a set that is separate to the training set (the CV set). Store the predicted values in ```ycvpred```.\n",
    "    \n",
    "    3. Obtain the F1 score by making a call to the ```f1_score``` function which we've already imported from ```sklearn```. Store the current F1 score in a variable called ```f1perf```.\n",
    "    \n",
    "    4. Append ```f1perf``` to the list ```lambdsf1``` that has already been created in the function.\n",
    "    \n",
    "\n",
    "If you examine the structure above, you'll see that it aims to take a bunch of $\\lambda$ values, train a complex sufficiently deep NN on each, and then evaluate the each NN on the CV set using the F1 score as a metric.\n",
    "\n",
    "Finally, note that there is an extra \"debug\" parameter being passed into ```optimizeLambdas``` function. Don't touch this in anyway. This will be used to speed up marking with the auto-marker.\n",
    "\n",
    "**[2 marks]**"
   ]
  },
  {
   "cell_type": "code",
   "execution_count": null,
   "metadata": {},
   "outputs": [],
   "source": [
    "def optimizeLambdas(thetas, lambds, debug=0, iterations=3000):\n",
    "    \n",
    "    lambdsf1 = [] #Don't change - this will need to be filled with F1 scores in the loop below\n",
    "\n",
    "    \n",
    "    if debug: #DO NOT TOUCH\n",
    "        return lambdsf1 #DO NOT TOUCH\n",
    "    \n",
    "    for lambd in lambds: #Don't change - for each lambda value being compared:\n",
    "        print(\"Optimizing for {}\".format(lambd))\n",
    "        \n",
    "        #FILL IN CODE BELOW:\n",
    "        \n",
    "        finalthetas = {} #This needs to be set\n",
    "        \n",
    "        ycvpred = [] #This needs to be set\n",
    "        \n",
    "        f1perf = [] #This needs to be set\n",
    "\n",
    "        \n",
    "        #STOP FILLING IN HERE\n",
    "\n",
    "    return lambdsf1 #Don't change - return the F1 scores\n",
    "\n",
    "\n",
    "\n",
    "     "
   ]
  },
  {
   "cell_type": "markdown",
   "metadata": {},
   "source": [
    "The function will be called in the cell below. You shouldn't get any, but if you do, just ignore any divide by zero warnings. If you did it right, it should print a ```list``` as follows:\n",
    "\n",
    "[0.9607843137254902, 0.9345794392523363, 0.970873786407767, 0.9607843137254902, 0.9803921568627451, 0.970873786407767, 0.8627450980392156, 0.8571428571428572]"
   ]
  },
  {
   "cell_type": "code",
   "execution_count": null,
   "metadata": {},
   "outputs": [],
   "source": [
    "f1scorestocompare = optimizeLambdas(thetasforopt, lambdsforopt,debug=debug)\n",
    "print(\"Here are the f1 scores:\\n\",f1scorestocompare)"
   ]
  },
  {
   "cell_type": "markdown",
   "metadata": {},
   "source": [
    "Now let's plot the scores:"
   ]
  },
  {
   "cell_type": "code",
   "execution_count": null,
   "metadata": {
    "scrolled": false
   },
   "outputs": [],
   "source": [
    "plt.figure(figsize=(12, 10))\n",
    "plt.plot(list(map(str,lambdsforopt)),f1scorestocompare)\n",
    "plt.xlabel(\"$\\lambda$\")\n",
    "plt.xticks(rotation=90)\n",
    "plt.ylabel(\"F1 Score on CV Set\")"
   ]
  },
  {
   "cell_type": "markdown",
   "metadata": {},
   "source": [
    "You should hopefully see that for values of $\\lambda$ towards the left of the graph, the F1 score is quite similar, all above 90% and with variation of only about 4%. This is because the data set we're using is very \"sanitary\" and the CV set resembled the training set very closely. In practice, with a real dataset, the graph of F1 score versus $\\lambda$ would most likely have been a bell-shape, with lower F1 scores for smaller $\\lambda$ values to the left of the graph (as the NN overfits the training set and does poorly on the CV set), an increase in F1 score and apex somewhere in the middle (as regularization helps to ease the overfitting thereby doing well on the CV set) which is what we see somehwere in the middle of the graph produced (with the highest F1 score corresponding to $\\lambda = 0.05$ above, and then a sharp decline in F1 score to the right of the graph (as too much regularization causes the NN decision boundary to just become a useless straight line), which is exactly what we see above.\n",
    "\n",
    "Since we're using a data set with only two features, we have the rare luxury of plotting the data and visualizing the decision boundary (something you most likely wouldn't have when using any real data set - in which case you would just have to use the F1 scores produced without visualizing them to determine which NN is doing best). In the cells below, we'll plot the decision boundaries for three $\\lambda$ values: the most overfitting/variance found on the left of the graph above ($\\lambda = 0.0005$), the most underfitting/bias found to the right of the above graph ($\\lambda = 0.1$), and finally the $\\lambda$ that is \"just right\" i.e. not overfitting or underfitting, found somewhere in the middle of the above graph ($\\lambda = 0.05$)."
   ]
  },
  {
   "cell_type": "code",
   "execution_count": null,
   "metadata": {},
   "outputs": [],
   "source": [
    "if (debug): #DON'T CHANGE\n",
    "    ABC() #DON'T CHANGE\n",
    "\n",
    "printmd(\"## Too little regularization - too much overfitting/variance\")\n",
    "\n",
    "thetas = genRandThetasArray([2,30,30,1])\n",
    "finalthetasoverfit,J = gradDesc(X_train_scaled,y_train,thetas,alpha=19,iterations=3000, lambd=0.0005)\n",
    "plotDecisionBoundary(X_cv_scaled,y_cv,\"$X_1$\",\"$X_2$\",plotdecboundary=True, model=lambda x: predict(x,finalthetasoverfit),debug=debug)"
   ]
  },
  {
   "cell_type": "code",
   "execution_count": null,
   "metadata": {},
   "outputs": [],
   "source": [
    "if (debug): #DON'T CHANGE\n",
    "    ABC() #DON'T CHANGE\n",
    "    \n",
    "printmd(\"## Too much regularization - too much underfitting/bias\")\n",
    "\n",
    "thetas = genRandThetasArray([2,30,30,1])\n",
    "finalthetasunderfit,J = gradDesc(X_train_scaled,y_train,thetas,alpha=19,iterations=3000, lambd=0.1)\n",
    "plotDecisionBoundary(X_cv_scaled,y_cv,\"$X_1$\",\"$X_2$\",plotdecboundary=True, model=lambda x: predict(x,finalthetasunderfit))"
   ]
  },
  {
   "cell_type": "code",
   "execution_count": null,
   "metadata": {},
   "outputs": [],
   "source": [
    "if (debug): #DON'T CHANGE\n",
    "    ABC() #DON'T CHANGE\n",
    "    \n",
    "printmd(\"## JUST RIGHT - Not Overfitting or Underfitting\")\n",
    "\n",
    "thetas = genRandThetasArray([2,30,30,1])\n",
    "finalthetasjustright,J = gradDesc(X_train_scaled,y_train,thetas,alpha=19,iterations=3000, lambd=0.05)\n",
    "plotDecisionBoundary(X_cv_scaled,y_cv,\"$X_1$\",\"$X_2$\",plotdecboundary=True, model=lambda x: predict(x,finalthetasjustright))"
   ]
  },
  {
   "cell_type": "markdown",
   "metadata": {},
   "source": [
    "And if you look at the \"Just right\" plot above, you can see that the decision boundary is exactly what it should intuitively be. Congratulations.\n",
    "\n",
    "---\n",
    "\n",
    "## Part D -  Evaluating the Final Optimized Model\n",
    "\n",
    "And finally, once we've selected our final optimized model using cross-validation on the CV set, we need to do a final test to see how it really works on a slightly different set i.e. the test set. That happens below."
   ]
  },
  {
   "cell_type": "code",
   "execution_count": null,
   "metadata": {},
   "outputs": [],
   "source": [
    "ypredtest = predict(X_test_scaled,finalthetasjustright)\n",
    "print(\"Final F1 score on the test set: \", f1_score(y_test,ypredtest))"
   ]
  },
  {
   "cell_type": "markdown",
   "metadata": {},
   "source": [
    "---\n",
    "## Part E - Demonstrating Multi-Class Classification Capabilities\n",
    "\n",
    "If you did everything above correctly, we should just be able to use the very same functions that have been completed to carry out multi-class classification. We'll load and scale a multi-class dataset. Since this is purely for demonstration purposes, we won't split the data up into train, CV or test sets; we'll train on the whole data set and then plot the decision boundary to see how it works. The only difference in this case will be that we will have to ensure that we have the right number output nodes.\n",
    "\n",
    "Feel free to increase ```K``` in the code below, but note that my ```plotDecisionBoundary``` function only caters for a max of 7 classes. If you increase ```K``` to 8 and beyond, it will throw it's toys out the cot, in figurative terms. If you want it to work, you'll have to figure out how to fix it. Hint: I've had to manually specify point colours and their respective matching decision boundary background colours, and I've only specified 7 of them. If you can specify more, it should just work out-the-box.\n",
    "\n",
    "Also feel free to toy with the ```lambd``` and ```alpha``` parameters."
   ]
  },
  {
   "cell_type": "code",
   "execution_count": null,
   "metadata": {
    "scrolled": false
   },
   "outputs": [],
   "source": [
    "if (debug): #DON'T CHANGE\n",
    "    ABC() #DON'T CHANGE\n",
    "\n",
    "K = 7\n",
    "multiclassdata = load_multiclass_dataset(N=400, K=K)\n",
    "X, y = multiclassdata\n",
    "\n",
    "X_scaled, _ = getScaledX(X)\n",
    "\n",
    "multiclassthetas = genRandThetasArray([2,30,30,K])\n",
    "multifinalthetas,J = gradDesc(X_scaled,y,multiclassthetas,alpha=1,iterations=3000, lambd=0.1)\n",
    "\n",
    "printmd(\"## Plot on the Training Data\")\n",
    "plotDecisionBoundary(X_scaled,y,\"$X_1$\",\"$X_2$\",plotdecboundary=True, model=lambda x: predict(x,multifinalthetas))\n"
   ]
  },
  {
   "cell_type": "markdown",
   "metadata": {},
   "source": [
    "---\n",
    "\n",
    "## Part F -  Creating a Similar Neural Network Using Keras / TensorFlow (OPTIONAL)\n",
    "\n",
    "And finally, (and this part if optional), we'll create a similar neural network using Keras. I call it similar because we won't use the sigmoid activation function in any of the hidden layers (but only in the output layer). Rather, we'll use the ReLU activation function in the hidden layers which works much much better. Feel free to experiment below.\n",
    "\n",
    "If you don't already have TensorFlow and Keras, go ahead and install them into your Python install. In most cases, running the following two lines of code in your terminal should be sufficient to install both TensorFlow and Keras, both of which you'll need to make this part of the prac work:\n",
    "\n",
    "```pip install tensorflow```<br>\n",
    "```pip install keras```\n",
    "\n",
    "If these don't work, you'll have to do some Internet searching to find out how to get it installed on your machine.\n",
    "\n",
    "If you've managed to get them installed, go ahead and run the cells below.\n",
    "\n",
    "Also note that there is a wealth of information on Keras online. If you have any interest in ML whatsoever, you will want to go and do a lot of watching and reading and experimenting with Keras. In the real-world, you will definitely want to use efficient, fast, tried-and-tested and full-featured APIs such as Keras, rather than implementing and using a NN of your own. "
   ]
  },
  {
   "cell_type": "code",
   "execution_count": null,
   "metadata": {},
   "outputs": [],
   "source": [
    "if (debug): #DON'T CHANGE\n",
    "    ABC() #DON'T CHANGE\n",
    "    \n",
    "from keras.models import Sequential\n",
    "from keras.layers import Dense,Activation\n",
    "import keras"
   ]
  },
  {
   "cell_type": "code",
   "execution_count": null,
   "metadata": {},
   "outputs": [],
   "source": [
    "if (debug): #DON'T CHANGE\n",
    "    ABC() #DON'T CHANGE\n",
    "\n",
    "#Create a sequential feed-forward neural network - yes, there are other types\n",
    "model = Sequential()\n",
    "\n",
    "model.add(Dense(units=30,input_dim=2)) #First hidden layer with 30 nodes, being fed two features (input nodes)\n",
    "model.add(Activation('relu')) #Apply sigmoid activation\n",
    "model.add(Dense(units=30)) #Second hidden layer with 30 nodes\n",
    "model.add(Activation('relu')) #Apply sigmoid activation\n",
    "model.add(Dense(units=1)) #Output layer with one node\n",
    "model.add(Activation('sigmoid')) #Apply sigmoid activation\n"
   ]
  },
  {
   "cell_type": "code",
   "execution_count": null,
   "metadata": {},
   "outputs": [],
   "source": [
    "if (debug): #DON'T CHANGE\n",
    "    ABC() #DON'T CHANGE\n",
    "\n",
    "model.compile(loss=keras.losses.binary_crossentropy,\n",
    "             optimizer=\"adam\") #Set up the model to use binary_crossentropy as the cost/loss function, which is the same cost function we've been using i.e. -(ylog(h(x)) + (1-y)(1-h(x))\n",
    "# model.summary() #Uncomment if you like. It just provides a print out of the layers"
   ]
  },
  {
   "cell_type": "code",
   "execution_count": null,
   "metadata": {
    "scrolled": true
   },
   "outputs": [],
   "source": [
    "if (debug): #DON'T CHANGE\n",
    "    ABC() #DON'T CHANGE\n",
    "    \n",
    "model.fit(X_train_scaled,y_train,validation_data=(X_cv_scaled,y_cv), epochs=250,verbose=1) #Go ahead and optimize the parameters/weights over 500 iterations/epochs"
   ]
  },
  {
   "cell_type": "code",
   "execution_count": null,
   "metadata": {},
   "outputs": [],
   "source": [
    "if (debug): #DON'T CHANGE\n",
    "    ABC() #DON'T CHANGE\n",
    "\n",
    "def keraspredict(X):\n",
    "    ypredtest = (model.predict(X) >= 0.5).astype(\"int\") #Make predictions on the test set and binarize them\n",
    "    return ypredtest\n",
    "\n",
    "ypredtest = keraspredict(X_test_scaled)\n",
    "f1_score(y_test,ypredtest) #Compute f1 score on test set"
   ]
  },
  {
   "cell_type": "code",
   "execution_count": null,
   "metadata": {},
   "outputs": [],
   "source": [
    "plotDecisionBoundary(X_train_scaled,y_train,\"$X_1$\",\"$X_2$\",plotdecboundary=True, model=keraspredict, debug=debug)"
   ]
  },
  {
   "cell_type": "markdown",
   "metadata": {},
   "source": [
    "---\n",
    "\n",
    "## Part Z: (Last Part): Have Some Fun With Various Datasets (Also Optional)\n",
    "\n",
    "As promised, below I've provided code that allows you to specify any one of the many data sets and apply your NN code to it. Enjoy.\n",
    "\n",
    "Note that you only really need to change the variables at the very top. Everything else should just work."
   ]
  },
  {
   "cell_type": "code",
   "execution_count": null,
   "metadata": {},
   "outputs": [],
   "source": [
    "#Here's all the variables you could possibly want to set\n",
    "\n",
    "N = 400 #No of points to load in the data sets\n",
    "dataset = 'planar' #name of the data set to load - look in the 'datasets' dict below for more names. I personally really like planar\n",
    "NNlayers = [2,30,30,1] #Remember that the input layer must have 2 nodes, and the output layer must have 1 node (we're only using binary data sets here)\n",
    "alpha = 1\n",
    "lambd = 0\n",
    "\n",
    "#You need not change anything below - unless you want to\n",
    "\n",
    "\n",
    "if (debug): #DON'T CHANGE\n",
    "    ABC() #DON'T CHANGE\n",
    "\n",
    "from planar_utils import *\n",
    "\n",
    "noisy_circles, noisy_moons, blobs, gaussian_quantiles = load_extra_datasets(N)\n",
    "planar_data = load_planar_dataset()\n",
    "\n",
    "\n",
    "datasets = {'noisy_circles': noisy_circles,\n",
    "            'noisy_moons': noisy_moons,\n",
    "            'blobs': blobs,\n",
    "            'gaussian_quantiles': gaussian_quantiles,\n",
    "            'planar': planar_data}\n",
    "\n",
    "X, y = datasets[dataset]\n",
    "\n",
    "print(X.shape)\n",
    "print(y.shape)\n",
    "\n",
    "X, y = X.T, y.reshape(1, y.shape[0])\n",
    "\n",
    "# make blobs binary\n",
    "if dataset == \"blobs\":\n",
    "    y = y%2\n",
    "\n",
    "X,y = X.T,y.T\n",
    "\n",
    "X_scaled, _ = getScaledX(X)\n",
    "\n",
    "thets = genRandThetasArray(NNlayers)\n",
    "\n",
    "finalthets,J = gradDesc(X_scaled,y,thets,alpha=alpha,iterations=3000, lambd=lambd)\n",
    "\n",
    "plotDecisionBoundary(X_scaled,y,\"$X_1$\",\"$X_2$\",plotdecboundary=True, model=lambda x: predict(x,finalthets))\n",
    "\n",
    "\n"
   ]
  },
  {
   "cell_type": "code",
   "execution_count": null,
   "metadata": {},
   "outputs": [],
   "source": []
  },
  {
   "cell_type": "code",
   "execution_count": null,
   "metadata": {},
   "outputs": [],
   "source": []
  },
  {
   "cell_type": "code",
   "execution_count": null,
   "metadata": {},
   "outputs": [],
   "source": []
  },
  {
   "cell_type": "code",
   "execution_count": null,
   "metadata": {},
   "outputs": [],
   "source": []
  }
 ],
 "metadata": {
  "kernelspec": {
   "display_name": "Python 3 (ipykernel)",
   "language": "python",
   "name": "python3"
  },
  "language_info": {
   "codemirror_mode": {
    "name": "ipython",
    "version": 3
   },
   "file_extension": ".py",
   "mimetype": "text/x-python",
   "name": "python",
   "nbconvert_exporter": "python",
   "pygments_lexer": "ipython3",
   "version": "3.9.9"
  }
 },
 "nbformat": 4,
 "nbformat_minor": 2
}
