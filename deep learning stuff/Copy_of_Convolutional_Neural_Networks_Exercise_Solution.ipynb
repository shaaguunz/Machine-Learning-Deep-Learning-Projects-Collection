{
 "cells": [
  {
   "cell_type": "markdown",
   "metadata": {
    "id": "Zs3Vxo5dmP7j"
   },
   "source": [
    "## Image classification Prac 2\n",
    "\n",
    "\n",
    "***NOTE***\n",
    "\n",
    "Be sure to use hardware acceleration to use the GPU. Click on `Runtime`, change `runtime type`, and select `GPU` for the *hardware accelerator* option."
   ]
  },
  {
   "cell_type": "markdown",
   "metadata": {
    "id": "gpvo-bqTmP7m"
   },
   "source": [
    "## Imports first"
   ]
  },
  {
   "cell_type": "code",
   "execution_count": null,
   "metadata": {
    "colab": {
     "base_uri": "https://localhost:8080/"
    },
    "id": "nvCXvXq5mP7p",
    "outputId": "6a0d6f8f-7c76-470a-fa87-b6bbc62ccb70"
   },
   "outputs": [
    {
     "name": "stdout",
     "output_type": "stream",
     "text": [
      "2.9.2\n"
     ]
    }
   ],
   "source": [
    "from keras.models import Sequential\n",
    "\n",
    "from keras.layers import Dense\n",
    "from keras.datasets import cifar10\n",
    "import numpy as np\n",
    "import matplotlib.pyplot as plt\n",
    "from keras.utils import np_utils\n",
    "from sklearn.metrics import accuracy_score\n",
    "from sklearn.preprocessing import LabelEncoder\n",
    "\n",
    "import pandas as pd\n",
    "%matplotlib inline\n",
    "\n",
    "import tensorflow as tf\n",
    "print(tf.__version__)"
   ]
  },
  {
   "cell_type": "markdown",
   "metadata": {
    "id": "X1GTR35cmP7v"
   },
   "source": [
    "## Load the dataset"
   ]
  },
  {
   "cell_type": "code",
   "execution_count": null,
   "metadata": {
    "colab": {
     "base_uri": "https://localhost:8080/"
    },
    "id": "uQ_KjFJomP7x",
    "outputId": "d90799e7-9c8f-4afc-c1a9-dc944e812fa5"
   },
   "outputs": [
    {
     "name": "stdout",
     "output_type": "stream",
     "text": [
      "Downloading data from https://www.cs.toronto.edu/~kriz/cifar-10-python.tar.gz\n",
      "170498071/170498071 [==============================] - 14s 0us/step\n"
     ]
    }
   ],
   "source": [
    "(X_train, Y_train), (X_test, Y_test) = cifar10.load_data()"
   ]
  },
  {
   "cell_type": "markdown",
   "metadata": {
    "id": "6suNqQVyF_5I"
   },
   "source": [
    "## Task: create a validation set\n",
    "\n",
    "* set a seed of 1337, such as: ```random_state = 1337```\n"
   ]
  },
  {
   "cell_type": "code",
   "execution_count": null,
   "metadata": {
    "id": "Or94V_cAGACd"
   },
   "outputs": [],
   "source": [
    "from sklearn.model_selection import train_test_split\n",
    "# set a seed of 1337, such as: random_state = 1337\n",
    "X_train, X_val, Y_train, Y_val = train_test_split(X_train, Y_train, test_size=0.3, random_state = 1337)"
   ]
  },
  {
   "cell_type": "markdown",
   "metadata": {
    "id": "E-Lw_bPQKQFX"
   },
   "source": [
    "## View the shape"
   ]
  },
  {
   "cell_type": "code",
   "execution_count": null,
   "metadata": {
    "colab": {
     "base_uri": "https://localhost:8080/"
    },
    "id": "ueyWl-aUmP72",
    "outputId": "2c3f4bf4-5eb2-4566-9a40-ae817ca635c9"
   },
   "outputs": [
    {
     "name": "stdout",
     "output_type": "stream",
     "text": [
      "Training data shape :  (35000, 32, 32, 3) (35000, 1)\n",
      "Validation data shape :  (15000, 32, 32, 3) (15000, 1)\n",
      "Testing data shape :  (10000, 32, 32, 3) (10000, 1)\n"
     ]
    }
   ],
   "source": [
    "print('Training data shape : ', X_train.shape, Y_train.shape)\n",
    "print('Validation data shape : ', X_val.shape, Y_val.shape)\n",
    "print('Testing data shape : ', X_test.shape, Y_test.shape)"
   ]
  },
  {
   "cell_type": "markdown",
   "metadata": {
    "id": "z51sdOntmP78"
   },
   "source": [
    "## Find the unique numbers from the train labels"
   ]
  },
  {
   "cell_type": "code",
   "execution_count": null,
   "metadata": {
    "colab": {
     "base_uri": "https://localhost:8080/"
    },
    "id": "o29O_gUTmP79",
    "outputId": "8fd47cf4-a210-4105-919f-b3e6ce4a3352"
   },
   "outputs": [
    {
     "name": "stdout",
     "output_type": "stream",
     "text": [
      "Total number of outputs :  10\n",
      "Output classes :  [0 1 2 3 4 5 6 7 8 9]\n"
     ]
    }
   ],
   "source": [
    "classes = np.unique(Y_train)\n",
    "nClasses = len(classes)\n",
    "print('Total number of outputs : ', nClasses)\n",
    "print('Output classes : ', classes)"
   ]
  },
  {
   "cell_type": "markdown",
   "metadata": {
    "id": "GMMjLgbimP8B"
   },
   "source": [
    "## Plot some of the data"
   ]
  },
  {
   "cell_type": "code",
   "execution_count": null,
   "metadata": {
    "colab": {
     "base_uri": "https://localhost:8080/",
     "height": 233
    },
    "id": "qQpW4rajmP8C",
    "outputId": "537030fa-3f99-4422-ec49-670201974d8e"
   },
   "outputs": [
    {
     "data": {
      "text/plain": [
       "Text(0.5, 1.0, 'Ground Truth : [8]')"
      ]
     },
     "execution_count": 6,
     "metadata": {},
     "output_type": "execute_result"
    },
    {
     "data": {
      "image/png": "[encoded data removed]",
      "text/plain": [
       "<Figure size 432x216 with 2 Axes>"
      ]
     },
     "metadata": {
      "needs_background": "light"
     },
     "output_type": "display_data"
    }
   ],
   "source": [
    "data_point = 15\n",
    "\n",
    "plt.figure(figsize=[6,3])\n",
    " \n",
    "# training data\n",
    "plt.subplot(121)\n",
    "plt.imshow(X_train[data_point,:,:], cmap='gray')\n",
    "plt.title(\"Ground Truth : {}\".format(Y_train[data_point]))\n",
    " \n",
    "# testing data\n",
    "plt.subplot(122)\n",
    "plt.imshow(X_test[data_point,:,:], cmap='gray')\n",
    "plt.title(\"Ground Truth : {}\".format(Y_test[data_point]))"
   ]
  },
  {
   "cell_type": "markdown",
   "metadata": {
    "id": "BA_mGK_NVHwn"
   },
   "source": [
    "## Task: Do we need to reshape the features?\n",
    "\n",
    "Keras wants to know the depth of an image. "
   ]
  },
  {
   "cell_type": "code",
   "execution_count": null,
   "metadata": {
    "id": "D8HTp2YHVH4_"
   },
   "outputs": [],
   "source": [
    "X_train = np.reshape(X_train, (X_train.shape[0], X_train.shape[1], X_train.shape[2], 3))\n",
    "X_val = np.reshape(X_val, (X_val.shape[0], X_val.shape[1], X_val.shape[2], 3))\n",
    "X_test = np.reshape(X_test, (X_test.shape[0], X_test.shape[1], X_test.shape[2], 3))"
   ]
  },
  {
   "cell_type": "markdown",
   "metadata": {
    "id": "-lQP7CElWVfe"
   },
   "source": [
    "## View the shape"
   ]
  },
  {
   "cell_type": "code",
   "execution_count": null,
   "metadata": {
    "colab": {
     "base_uri": "https://localhost:8080/"
    },
    "id": "5QKOvMPaWVfh",
    "outputId": "4cdd494b-3c7c-4298-b663-672e52ae2d36"
   },
   "outputs": [
    {
     "name": "stdout",
     "output_type": "stream",
     "text": [
      "Training data shape :  (35000, 32, 32, 3) (35000, 1)\n",
      "Validation data shape :  (15000, 32, 32, 3) (15000, 1)\n",
      "Testing data shape :  (10000, 32, 32, 3) (10000, 1)\n"
     ]
    }
   ],
   "source": [
    "print('Training data shape : ', X_train.shape, Y_train.shape)\n",
    "print('Validation data shape : ', X_val.shape, Y_val.shape)\n",
    "print('Testing data shape : ', X_test.shape, Y_test.shape)"
   ]
  },
  {
   "cell_type": "markdown",
   "metadata": {
    "id": "BykRwF2UmP8b"
   },
   "source": [
    "## Normalise"
   ]
  },
  {
   "cell_type": "code",
   "execution_count": null,
   "metadata": {
    "id": "FH2lcHF3mP8c"
   },
   "outputs": [],
   "source": [
    "X_train = X_train / 255\n",
    "X_val = X_val / 255\n",
    "X_test = X_test / 255"
   ]
  },
  {
   "cell_type": "markdown",
   "metadata": {
    "id": "kj0QhPSsmP8e"
   },
   "source": [
    "## One hot encoding"
   ]
  },
  {
   "cell_type": "code",
   "execution_count": null,
   "metadata": {
    "id": "VJXzLHYncYGc"
   },
   "outputs": [],
   "source": [
    "y_train = tf.keras.utils.to_categorical(Y_train, 10)"
   ]
  },
  {
   "cell_type": "code",
   "execution_count": null,
   "metadata": {
    "colab": {
     "base_uri": "https://localhost:8080/"
    },
    "id": "IH9PZUnNcbIg",
    "outputId": "fcd01b20-bb32-4ec3-80c3-c471e2e3668f"
   },
   "outputs": [
    {
     "data": {
      "text/plain": [
       "(35000, 10)"
      ]
     },
     "execution_count": 11,
     "metadata": {},
     "output_type": "execute_result"
    }
   ],
   "source": [
    "y_train.shape"
   ]
  },
  {
   "cell_type": "code",
   "execution_count": null,
   "metadata": {
    "id": "wrKyI7DamP8g"
   },
   "outputs": [],
   "source": [
    "# Alternative approach (using tf.keras.utils.to_categorical() \n",
    "# [https://www.tensorflow.org/api_docs/python/tf/keras/utils/to_categorical]):\n",
    "#Y_train = tf.keras.utils.to_categorical(Y_train, 10)\n",
    "Y_train = np_utils.to_categorical(Y_train, 10)\n",
    "X_val = np_utils.to_categorical(X_val, 10)\n",
    "Y_test = np_utils.to_categorical(Y_test, 10)\n",
    "num_classes = 10"
   ]
  },
  {
   "cell_type": "markdown",
   "metadata": {
    "id": "VungsdeHmP8u"
   },
   "source": [
    "## Create a CNN model\n",
    "\n",
    "Modify LeNet5\n",
    "\n",
    "* Do not add, change or remove any layers\n",
    "* You can however change any hyper-parameter in the model or optimisation stage\n",
    "* You can add dropout"
   ]
  },
  {
   "cell_type": "code",
   "execution_count": null,
   "metadata": {
    "id": "gozmsPxhmP8v"
   },
   "outputs": [],
   "source": [
    "def baseline_model():\n",
    "    # create model\n",
    "    model = tf.keras.Sequential()\n",
    "\n",
    "    model.add(tf.keras.layers.Conv2D(filters=64, kernel_size=5,\n",
    "                                   activation='relu', input_shape = (32,32,3), padding='same'))\n",
    "    model.add(tf.keras.layers.Dropout(rate=0.5))\n",
    "    model.add(tf.keras.layers.AvgPool2D(pool_size=2, strides=2))\n",
    "    model.add(tf.keras.layers.Conv2D(filters=128, kernel_size=5,\n",
    "                                   activation='relu'))\n",
    "    model.add(tf.keras.layers.Dropout(rate=0.5))\n",
    "    model.add(tf.keras.layers.AvgPool2D(pool_size=2, strides=2))\n",
    "    model.add(tf.keras.layers.Flatten())\n",
    "    model.add(tf.keras.layers.Dense(128, activation='relu'))\n",
    "    model.add(tf.keras.layers.Dropout(rate=0.5))\n",
    "    model.add(tf.keras.layers.Dense(128, activation='relu'))\n",
    "    model.add(tf.keras.layers.Dropout(rate=0.5))\n",
    "    model.add(tf.keras.layers.Dense(10, activation = 'softmax'))\n",
    "\n",
    "    # Compile the model\n",
    "    model.compile(loss='categorical_crossentropy',\n",
    "             optimizer='adam',\n",
    "             metrics=['accuracy'])\n",
    "    return model"
   ]
  },
  {
   "cell_type": "code",
   "execution_count": null,
   "metadata": {
    "id": "Q03EcUrxmP8x"
   },
   "outputs": [],
   "source": [
    "model = baseline_model()"
   ]
  },
  {
   "cell_type": "markdown",
   "metadata": {
    "id": "bUN6K31smP80"
   },
   "source": [
    "## Determine the number of trainable parameters"
   ]
  },
  {
   "cell_type": "code",
   "execution_count": null,
   "metadata": {
    "colab": {
     "base_uri": "https://localhost:8080/"
    },
    "id": "_DxDanOHmP80",
    "outputId": "f06b15e5-2188-4e98-af4b-717b14e27ecc"
   },
   "outputs": [
    {
     "name": "stdout",
     "output_type": "stream",
     "text": [
      "Model: \"sequential\"\n",
      "_________________________________________________________________\n",
      " Layer (type)                Output Shape              Param #   \n",
      "=================================================================\n",
      " conv2d (Conv2D)             (None, 32, 32, 64)        4864      \n",
      "                                                                 \n",
      " dropout (Dropout)           (None, 32, 32, 64)        0         \n",
      "                                                                 \n",
      " average_pooling2d (AverageP  (None, 16, 16, 64)       0         \n",
      " ooling2D)                                                       \n",
      "                                                                 \n",
      " conv2d_1 (Conv2D)           (None, 12, 12, 128)       204928    \n",
      "                                                                 \n",
      " dropout_1 (Dropout)         (None, 12, 12, 128)       0         \n",
      "                                                                 \n",
      " average_pooling2d_1 (Averag  (None, 6, 6, 128)        0         \n",
      " ePooling2D)                                                     \n",
      "                                                                 \n",
      " flatten (Flatten)           (None, 4608)              0         \n",
      "                                                                 \n",
      " dense (Dense)               (None, 128)               589952    \n",
      "                                                                 \n",
      " dropout_2 (Dropout)         (None, 128)               0         \n",
      "                                                                 \n",
      " dense_1 (Dense)             (None, 128)               16512     \n",
      "                                                                 \n",
      " dropout_3 (Dropout)         (None, 128)               0         \n",
      "                                                                 \n",
      " dense_2 (Dense)             (None, 10)                1290      \n",
      "                                                                 \n",
      "=================================================================\n",
      "Total params: 817,546\n",
      "Trainable params: 817,546\n",
      "Non-trainable params: 0\n",
      "_________________________________________________________________\n"
     ]
    }
   ],
   "source": [
    "model.summary()"
   ]
  },
  {
   "cell_type": "markdown",
   "metadata": {
    "id": "ifPs0mftmP84"
   },
   "source": [
    "## Begin training"
   ]
  },
  {
   "cell_type": "code",
   "execution_count": null,
   "metadata": {
    "colab": {
     "base_uri": "https://localhost:8080/"
    },
    "id": "j8RZc1rhmP84",
    "outputId": "3238c26f-d7d8-47b1-b6b3-efcf2afb0bea"
   },
   "outputs": [
    {
     "name": "stdout",
     "output_type": "stream",
     "text": [
      "Epoch 1/20\n",
      "175/175 [==============================] - 13s 21ms/step - loss: 2.0617 - accuracy: 0.2228 - val_loss: 1.6620 - val_accuracy: 0.4006\n",
      "Epoch 2/20\n",
      "175/175 [==============================] - 3s 19ms/step - loss: 1.7096 - accuracy: 0.3738 - val_loss: 1.4786 - val_accuracy: 0.4824\n",
      "Epoch 3/20\n",
      "175/175 [==============================] - 3s 19ms/step - loss: 1.5733 - accuracy: 0.4304 - val_loss: 1.3943 - val_accuracy: 0.5070\n",
      "Epoch 4/20\n",
      "175/175 [==============================] - 3s 19ms/step - loss: 1.4974 - accuracy: 0.4645 - val_loss: 1.3239 - val_accuracy: 0.5237\n",
      "Epoch 5/20\n",
      "175/175 [==============================] - 3s 19ms/step - loss: 1.4204 - accuracy: 0.4927 - val_loss: 1.2529 - val_accuracy: 0.5455\n",
      "Epoch 6/20\n",
      "175/175 [==============================] - 3s 19ms/step - loss: 1.3671 - accuracy: 0.5140 - val_loss: 1.2304 - val_accuracy: 0.5629\n",
      "Epoch 7/20\n",
      "175/175 [==============================] - 3s 19ms/step - loss: 1.3109 - accuracy: 0.5350 - val_loss: 1.1443 - val_accuracy: 0.5941\n",
      "Epoch 8/20\n",
      "175/175 [==============================] - 3s 19ms/step - loss: 1.2712 - accuracy: 0.5479 - val_loss: 1.1194 - val_accuracy: 0.6003\n",
      "Epoch 9/20\n",
      "175/175 [==============================] - 3s 19ms/step - loss: 1.2410 - accuracy: 0.5661 - val_loss: 1.0806 - val_accuracy: 0.6237\n",
      "Epoch 10/20\n",
      "175/175 [==============================] - 3s 19ms/step - loss: 1.1918 - accuracy: 0.5782 - val_loss: 1.0747 - val_accuracy: 0.6226\n",
      "Epoch 11/20\n",
      "175/175 [==============================] - 3s 19ms/step - loss: 1.1581 - accuracy: 0.5944 - val_loss: 1.0069 - val_accuracy: 0.6486\n",
      "Epoch 12/20\n",
      "175/175 [==============================] - 3s 19ms/step - loss: 1.1259 - accuracy: 0.6047 - val_loss: 1.0257 - val_accuracy: 0.6387\n",
      "Epoch 13/20\n",
      "175/175 [==============================] - 3s 19ms/step - loss: 1.1173 - accuracy: 0.6105 - val_loss: 1.0115 - val_accuracy: 0.6550\n",
      "Epoch 14/20\n",
      "175/175 [==============================] - 3s 19ms/step - loss: 1.0755 - accuracy: 0.6261 - val_loss: 0.9745 - val_accuracy: 0.6641\n",
      "Epoch 15/20\n",
      "175/175 [==============================] - 3s 19ms/step - loss: 1.0626 - accuracy: 0.6284 - val_loss: 0.9786 - val_accuracy: 0.6596\n",
      "Epoch 16/20\n",
      "175/175 [==============================] - 3s 19ms/step - loss: 1.0383 - accuracy: 0.6384 - val_loss: 0.9686 - val_accuracy: 0.6660\n",
      "Epoch 17/20\n",
      "175/175 [==============================] - 3s 19ms/step - loss: 1.0189 - accuracy: 0.6453 - val_loss: 0.9371 - val_accuracy: 0.6792\n",
      "Epoch 18/20\n",
      "175/175 [==============================] - 3s 19ms/step - loss: 1.0076 - accuracy: 0.6530 - val_loss: 0.9292 - val_accuracy: 0.6774\n",
      "Epoch 19/20\n",
      "175/175 [==============================] - 3s 19ms/step - loss: 0.9863 - accuracy: 0.6577 - val_loss: 0.9152 - val_accuracy: 0.6880\n",
      "Epoch 20/20\n",
      "175/175 [==============================] - 4s 21ms/step - loss: 0.9607 - accuracy: 0.6705 - val_loss: 0.8957 - val_accuracy: 0.6943\n"
     ]
    }
   ],
   "source": [
    "history = model.fit(X_train, Y_train, validation_data=(X_val, Y_val), epochs=20, batch_size=200, verbose=1)"
   ]
  },
  {
   "cell_type": "markdown",
   "metadata": {
    "id": "74HVbElsaATP"
   },
   "source": [
    "## Plot the performance\n",
    "\n",
    "* Plot the performance over the epochs\n",
    "* Plot both the training and validation accuracy\n",
    "* Notice how we are assigning the result of `model.fit()` to the variable `history`?\n",
    "* What does `history` contain?"
   ]
  },
  {
   "cell_type": "code",
   "execution_count": null,
   "metadata": {
    "colab": {
     "base_uri": "https://localhost:8080/"
    },
    "id": "6CWx4k0sKqLK",
    "outputId": "390dc6e1-92d0-40db-98df-ecb7533f8471"
   },
   "outputs": [
    {
     "data": {
      "text/plain": [
       "{'loss': [2.0616719722747803,\n",
       "  1.7096374034881592,\n",
       "  1.5733299255371094,\n",
       "  1.4974313974380493,\n",
       "  1.4203532934188843,\n",
       "  1.3670564889907837,\n",
       "  1.3109482526779175,\n",
       "  1.27122962474823,\n",
       "  1.2410297393798828,\n",
       "  1.1918213367462158,\n",
       "  1.1580758094787598,\n",
       "  1.1259064674377441,\n",
       "  1.1173266172409058,\n",
       "  1.075469970703125,\n",
       "  1.0626215934753418,\n",
       "  1.0382602214813232,\n",
       "  1.0189285278320312,\n",
       "  1.007644534111023,\n",
       "  0.9862678647041321,\n",
       "  0.9606750011444092],\n",
       " 'accuracy': [0.22280000150203705,\n",
       "  0.37382856011390686,\n",
       "  0.430400013923645,\n",
       "  0.4644571542739868,\n",
       "  0.4926857054233551,\n",
       "  0.5139999985694885,\n",
       "  0.5350000262260437,\n",
       "  0.5479142665863037,\n",
       "  0.5661143064498901,\n",
       "  0.5781999826431274,\n",
       "  0.5943999886512756,\n",
       "  0.6047142744064331,\n",
       "  0.6104571223258972,\n",
       "  0.6260571479797363,\n",
       "  0.62842857837677,\n",
       "  0.6384285688400269,\n",
       "  0.6452857255935669,\n",
       "  0.652999997138977,\n",
       "  0.6577428579330444,\n",
       "  0.670457124710083],\n",
       " 'val_loss': [1.6619659662246704,\n",
       "  1.478575587272644,\n",
       "  1.3942711353302002,\n",
       "  1.323865294456482,\n",
       "  1.252852439880371,\n",
       "  1.2304096221923828,\n",
       "  1.1442890167236328,\n",
       "  1.1194185018539429,\n",
       "  1.0806150436401367,\n",
       "  1.0746914148330688,\n",
       "  1.0068650245666504,\n",
       "  1.0256785154342651,\n",
       "  1.011534333229065,\n",
       "  0.974470317363739,\n",
       "  0.978567361831665,\n",
       "  0.968615710735321,\n",
       "  0.937146008014679,\n",
       "  0.9291507601737976,\n",
       "  0.9152072072029114,\n",
       "  0.8956719040870667],\n",
       " 'val_accuracy': [0.40059998631477356,\n",
       "  0.48240000009536743,\n",
       "  0.5070000290870667,\n",
       "  0.5236999988555908,\n",
       "  0.5454999804496765,\n",
       "  0.5629000067710876,\n",
       "  0.5940999984741211,\n",
       "  0.6003000140190125,\n",
       "  0.6237000226974487,\n",
       "  0.6226000189781189,\n",
       "  0.6485999822616577,\n",
       "  0.638700008392334,\n",
       "  0.6549999713897705,\n",
       "  0.6640999913215637,\n",
       "  0.659600019454956,\n",
       "  0.6660000085830688,\n",
       "  0.6791999936103821,\n",
       "  0.6773999929428101,\n",
       "  0.6880000233650208,\n",
       "  0.6942999958992004]}"
      ]
     },
     "execution_count": 15,
     "metadata": {},
     "output_type": "execute_result"
    }
   ],
   "source": [
    "history.history"
   ]
  },
  {
   "cell_type": "code",
   "execution_count": null,
   "metadata": {
    "colab": {
     "base_uri": "https://localhost:8080/",
     "height": 295
    },
    "id": "kk2e8nyOJ3tf",
    "outputId": "a1a63dee-8463-4190-cf65-723d057e9c60"
   },
   "outputs": [
    {
     "data": {
      "image/png": "[encoded data removed]",
      "text/plain": [
       "<Figure size 432x288 with 1 Axes>"
      ]
     },
     "metadata": {
      "needs_background": "light"
     },
     "output_type": "display_data"
    }
   ],
   "source": [
    "plt.plot(history.history['accuracy'])\n",
    "plt.title('Training Performance')\n",
    "plt.ylabel('Accuracy')\n",
    "plt.xlabel('Epochs')\n",
    "plt.legend(['Train'], loc='best')\n",
    "\n",
    "plt.draw()\n",
    "plt.show()"
   ]
  },
  {
   "cell_type": "code",
   "execution_count": null,
   "metadata": {
    "colab": {
     "base_uri": "https://localhost:8080/",
     "height": 295
    },
    "id": "UkE8bmlVKYQS",
    "outputId": "6dcfa445-bcb6-4f0f-ea56-ca0d0ab245de"
   },
   "outputs": [
    {
     "data": {
      "image/png": "[encoded data removed]",
      "text/plain": [
       "<Figure size 432x288 with 1 Axes>"
      ]
     },
     "metadata": {
      "needs_background": "light"
     },
     "output_type": "display_data"
    }
   ],
   "source": [
    "plt.plot(history.history['val_accuracy'])\n",
    "plt.title('Training Performance')\n",
    "plt.ylabel('Validation Accuracy')\n",
    "plt.xlabel('Epochs')\n",
    "plt.legend(['Train'], loc='best')\n",
    "\n",
    "plt.draw()\n",
    "plt.show()"
   ]
  },
  {
   "cell_type": "markdown",
   "metadata": {
    "id": "pykFQrXPLreX"
   },
   "source": [
    "## Plot both lines together\n",
    "\n",
    "* Did your model overfit?"
   ]
  },
  {
   "cell_type": "code",
   "execution_count": null,
   "metadata": {
    "colab": {
     "base_uri": "https://localhost:8080/",
     "height": 449
    },
    "id": "-VW19MsALRYe",
    "outputId": "4136611b-d1e2-4d70-de1c-7167cc8a504e"
   },
   "outputs": [
    {
     "data": {
      "image/png": "[encoded data removed]",
      "text/plain": [
       "<Figure size 1080x1080 with 1 Axes>"
      ]
     },
     "metadata": {
      "needs_background": "light"
     },
     "output_type": "display_data"
    }
   ],
   "source": [
    "fig_size = plt.rcParams[\"figure.figsize\"]\n",
    "plt.rcParams[\"figure.figsize\"] = [15, 15]\n",
    "fig, axes = plt.subplots(nrows=1, ncols=1, sharex=True)\n",
    "\n",
    "plt.subplot(211)\n",
    "plt.plot(history.history['accuracy'])\n",
    "plt.plot(history.history['val_accuracy'])\n",
    "plt.title('Training Performance')\n",
    "plt.ylabel('Accuracy')\n",
    "plt.xlabel('Epochs')\n",
    "plt.legend(['Train', 'Validation'], loc='best')\n",
    "\n",
    "plt.draw()\n",
    "plt.show()"
   ]
  },
  {
   "cell_type": "markdown",
   "metadata": {
    "id": "9do3Cl8vmP87"
   },
   "source": [
    "## Predict on one example"
   ]
  },
  {
   "cell_type": "code",
   "execution_count": null,
   "metadata": {
    "colab": {
     "base_uri": "https://localhost:8080/"
    },
    "id": "OnI4SnbEmP88",
    "outputId": "c40c32e5-f41e-4c80-fa71-30e205fd3e2e"
   },
   "outputs": [
    {
     "name": "stdout",
     "output_type": "stream",
     "text": [
      "1/1 [==============================] - 0s 141ms/step\n"
     ]
    },
    {
     "data": {
      "text/plain": [
       "array([[0.00110766, 0.00281773, 0.02261471, 0.52935696, 0.01505883,\n",
       "        0.3757683 , 0.03531558, 0.011968  , 0.0035713 , 0.00242087]],\n",
       "      dtype=float32)"
      ]
     },
     "execution_count": 19,
     "metadata": {},
     "output_type": "execute_result"
    }
   ],
   "source": [
    "model.predict(np.expand_dims(X_test[0], axis=0))"
   ]
  },
  {
   "cell_type": "markdown",
   "metadata": {
    "id": "_j9LecHgmP8_"
   },
   "source": [
    "## Predict on the test data"
   ]
  },
  {
   "cell_type": "code",
   "execution_count": null,
   "metadata": {
    "colab": {
     "base_uri": "https://localhost:8080/"
    },
    "id": "7TtfkDWjmP8_",
    "outputId": "27ec7054-39a2-4cf2-d643-778c7bf3fa6b"
   },
   "outputs": [
    {
     "name": "stdout",
     "output_type": "stream",
     "text": [
      "313/313 [==============================] - 1s 2ms/step\n"
     ]
    }
   ],
   "source": [
    "predictions = model.predict(X_test)"
   ]
  },
  {
   "cell_type": "markdown",
   "metadata": {
    "id": "yo4UgmBvmP9F"
   },
   "source": [
    "## Compute the accuracy"
   ]
  },
  {
   "cell_type": "code",
   "execution_count": null,
   "metadata": {
    "colab": {
     "base_uri": "https://localhost:8080/"
    },
    "id": "NwJwKLwRmP9G",
    "outputId": "58bd9107-641d-4112-cd68-2cc21b70087e"
   },
   "outputs": [
    {
     "data": {
      "text/plain": [
       "69.43"
      ]
     },
     "execution_count": 21,
     "metadata": {},
     "output_type": "execute_result"
    }
   ],
   "source": [
    "correct_values = np.argmax(Y_test,axis=-1)\n",
    "predicted_classes = np.argmax(predictions,axis=-1)\n",
    "accuracy_score(predicted_classes,correct_values)*100"
   ]
  },
  {
   "cell_type": "markdown",
   "metadata": {
    "id": "RxvpFhj7N574"
   },
   "source": [
    "## Obtain the confusion matrix"
   ]
  },
  {
   "cell_type": "code",
   "execution_count": null,
   "metadata": {
    "colab": {
     "base_uri": "https://localhost:8080/"
    },
    "id": "PJiTOY3aWjcX",
    "outputId": "96c2f719-d0e8-47d5-9345-3a66deb541d8"
   },
   "outputs": [
    {
     "data": {
      "text/plain": [
       "array([[739,  15,  77,  11,  31,  12,   8,  16,  39,  29],\n",
       "       [ 14, 798,   5,   6,   2,   2,  10,   2,  21,  75],\n",
       "       [ 37,   3, 537,  78,  69,  75,  43,  27,   9,   6],\n",
       "       [ 21,  17,  86, 511,  68, 216,  81,  38,  19,  31],\n",
       "       [ 14,   5, 115,  82, 645,  55,  55,  75,   3,   2],\n",
       "       [  4,   2,  59, 176,  23, 548,  19,  71,   4,   8],\n",
       "       [ 12,   6,  63,  54,  46,  19, 754,   1,   0,   6],\n",
       "       [ 12,   8,  30,  34,  91,  49,  11, 754,   5,  19],\n",
       "       [107,  44,  19,  27,  23,  17,  12,   4, 883,  50],\n",
       "       [ 40, 102,   9,  21,   2,   7,   7,  12,  17, 774]])"
      ]
     },
     "execution_count": 22,
     "metadata": {},
     "output_type": "execute_result"
    }
   ],
   "source": [
    "from sklearn.metrics import accuracy_score, confusion_matrix\n",
    "confusion_matrix(predicted_classes,correct_values)"
   ]
  },
  {
   "cell_type": "markdown",
   "metadata": {
    "id": "nHNCSLRNJoZM"
   },
   "source": [
    "## Who got the highest testing performance with the least number of network parameters?"
   ]
  },
  {
   "cell_type": "code",
   "execution_count": null,
   "metadata": {
    "id": "_3d43QhiIeCQ"
   },
   "outputs": [],
   "source": []
  }
 ],
 "metadata": {
  "accelerator": "GPU",
  "colab": {
   "collapsed_sections": [],
   "provenance": []
  },
  "kernelspec": {
   "display_name": "Python 3 (ipykernel)",
   "language": "python",
   "name": "python3"
  },
  "language_info": {
   "codemirror_mode": {
    "name": "ipython",
    "version": 3
   },
   "file_extension": ".py",
   "mimetype": "text/x-python",
   "name": "python",
   "nbconvert_exporter": "python",
   "pygments_lexer": "ipython3",
   "version": "3.9.13"
  }
 },
 "nbformat": 4,
 "nbformat_minor": 1
}
