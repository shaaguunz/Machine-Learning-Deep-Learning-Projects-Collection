{
 "cells": [
  {
   "cell_type": "markdown",
   "metadata": {
    "id": "Zs3Vxo5dmP7j"
   },
   "source": [
    "## Image classification GoogLeNet\n",
    "\n",
    "***NOTE***\n",
    "\n",
    "Be sure to use hardware acceleration to use the GPU. Click on `Runtime`, change `runtime type`, and select `GPU` for the *hardware accelerator* option."
   ]
  },
  {
   "cell_type": "markdown",
   "metadata": {
    "id": "5FUHcE89LT3x"
   },
   "source": [
    "* In 2014, GoogLeNet won the ImageNet Challenge [Szegedy et al., 2015], using a structure that combined the strengths of NiN [Lin et al., 2013], repeated blocks [Simonyan & Zisserman, 2014], and a cocktail of convolution kernels. It is arguably also the first network that exhibits a clear distinction among the stem, body, and head in a CNN. \n",
    "\n",
    "* This design pattern has persisted ever since in the design of deep networks:\n",
    "\n",
    "* the stem is given by the first 2-3 convolutions that operate on the image. They extract low-level features from the underlying images. \n",
    "\n",
    "* This is followed by a body of convolutional blocks. \n",
    "\n",
    "* Finally, the head maps the features obtained so far to the required classification, segmentation, detection, or tracking problem at hand.\n",
    "\n",
    "* The key contribution in GoogLeNet was the design of the network body. It solved the problem of selecting convolution kernels in an ingenious way. \n",
    "\n",
    "* While other works tried to identify which convolution, ranging from to would be best, it simply concatenated multi-branch convolutions.\n",
    "\n",
    "* the inception block consists of four parallel branches.\n",
    "\n",
    "* The first three branches use convolutional layers with window sizes of 1x1, 3x3, and 5x5 to extract information from different spatial sizes.\n",
    "\n",
    "*  The middle two branches also add a 1x1 convolution of the input to reduce the number of channels, reducing the model’s complexity. \n",
    "\n",
    "* The fourth branch uses a  max-pooling layer, followed by a  convolutional layer to change the number of channels. \n",
    "\n",
    "* The four branches all use appropriate padding to give the input and output the same height and width. \n",
    "\n",
    "* Finally, the outputs along each branch are concatenated along the channel dimension and comprise the block’s output. \n",
    "\n",
    "* The commonly-tuned hyperparameters of the Inception block are the number of output channels per layer.\n",
    "\n",
    "* To gain some intuition for why this network works so well, consider the combination of the filters. They explore the image in a variety of filter sizes. This means that details at different extents can be recognized efficiently by filters of different sizes.\n",
    "\n",
    "* GoogLeNet uses a stack of a total of 9 inception blocks, arranged into 3 groups with max-pooling in between, and global average pooling in its head to generate its estimates. Max-pooling between inception blocks reduces the dimensionality. At its stem, the first module is similar to AlexNet and LeNet\n",
    "\n",
    "\n",
    "\n",
    "![From LeNet (left) to AlexNet (right).](https://d2l.ai/_images/inception.svg)\n",
    "\n",
    "(left AlexNet, right VGG)"
   ]
  },
  {
   "cell_type": "markdown",
   "metadata": {
    "id": "gpvo-bqTmP7m"
   },
   "source": [
    "## Imports first"
   ]
  },
  {
   "cell_type": "code",
   "execution_count": null,
   "metadata": {
    "colab": {
     "base_uri": "https://localhost:8080/"
    },
    "id": "nvCXvXq5mP7p",
    "outputId": "f758b970-88ea-472e-c6b2-78b7bfd5cf0f"
   },
   "outputs": [
    {
     "name": "stdout",
     "output_type": "stream",
     "text": [
      "2.9.2\n"
     ]
    }
   ],
   "source": [
    "from keras.models import Sequential\n",
    "from keras.layers import Dense\n",
    "from keras.datasets import fashion_mnist\n",
    "import numpy as np\n",
    "import matplotlib.pyplot as plt\n",
    "from keras.utils import np_utils\n",
    "from sklearn.metrics import accuracy_score, confusion_matrix\n",
    "from sklearn.preprocessing import LabelEncoder\n",
    "import pandas as pd\n",
    "from tensorflow.keras.layers import Conv2D, MaxPool2D, Dropout, Flatten\n",
    "%matplotlib inline\n",
    "\n",
    "import tensorflow as tf\n",
    "print(tf.__version__)"
   ]
  },
  {
   "cell_type": "markdown",
   "metadata": {
    "id": "56fx-uBSR070"
   },
   "source": [
    "# Module 1\n",
    "The first module uses a 64-channel 7x7 convolutional layer."
   ]
  },
  {
   "cell_type": "code",
   "execution_count": null,
   "metadata": {
    "id": "C4qzSC_TB4U5"
   },
   "outputs": [],
   "source": [
    "model = Sequential()\n",
    "\n",
    "# 2D conv\n",
    "model.add(tf.keras.layers.Conv2D(64, 7, strides=2, padding='same',\n",
    "                                   activation='relu', input_shape = (96,96,1)))\n",
    "\n",
    "# Max pooling\n",
    "model.add(tf.keras.layers.MaxPool2D(pool_size=3, strides=2,\n",
    "                                      padding='same'))"
   ]
  },
  {
   "cell_type": "code",
   "execution_count": null,
   "metadata": {
    "colab": {
     "base_uri": "https://localhost:8080/"
    },
    "id": "p7ySTGadSOgq",
    "outputId": "3d4b4dfd-9a3e-40d5-8c53-d568f17fc34a"
   },
   "outputs": [
    {
     "name": "stdout",
     "output_type": "stream",
     "text": [
      "Model: \"sequential_2\"\n",
      "_________________________________________________________________\n",
      " Layer (type)                Output Shape              Param #   \n",
      "=================================================================\n",
      " conv2d_4 (Conv2D)           (None, 48, 48, 64)        3200      \n",
      "                                                                 \n",
      " max_pooling2d (MaxPooling2D  (None, 24, 24, 64)       0         \n",
      " )                                                               \n",
      "                                                                 \n",
      "=================================================================\n",
      "Total params: 3,200\n",
      "Trainable params: 3,200\n",
      "Non-trainable params: 0\n",
      "_________________________________________________________________\n"
     ]
    }
   ],
   "source": [
    "model.summary()"
   ]
  },
  {
   "cell_type": "markdown",
   "metadata": {
    "id": "xxFQlI9aSrMV"
   },
   "source": [
    "# Module 2"
   ]
  },
  {
   "cell_type": "code",
   "execution_count": null,
   "metadata": {
    "id": "mLpaJcBQSqxx"
   },
   "outputs": [],
   "source": [
    "# 1x1 conv\n",
    "model.add(tf.keras.layers.Conv2D(64, 1, activation='relu'))\n",
    "\n",
    "# 2D 3x3 conv\n",
    "model.add(tf.keras.layers.Conv2D(192, 3, padding='same', activation='relu'))\n",
    "\n",
    "# Pooling\n",
    "model.add(tf.keras.layers.MaxPool2D(pool_size=3, strides=2, padding='same'))"
   ]
  },
  {
   "cell_type": "code",
   "execution_count": null,
   "metadata": {
    "colab": {
     "base_uri": "https://localhost:8080/"
    },
    "id": "J8B46HohSq0W",
    "outputId": "ac08cc2e-a1d4-4480-f49b-811e797288a8"
   },
   "outputs": [
    {
     "name": "stdout",
     "output_type": "stream",
     "text": [
      "Model: \"sequential_2\"\n",
      "_________________________________________________________________\n",
      " Layer (type)                Output Shape              Param #   \n",
      "=================================================================\n",
      " conv2d_4 (Conv2D)           (None, 48, 48, 64)        3200      \n",
      "                                                                 \n",
      " max_pooling2d (MaxPooling2D  (None, 24, 24, 64)       0         \n",
      " )                                                               \n",
      "                                                                 \n",
      " conv2d_5 (Conv2D)           (None, 24, 24, 64)        4160      \n",
      "                                                                 \n",
      " conv2d_6 (Conv2D)           (None, 24, 24, 192)       110784    \n",
      "                                                                 \n",
      " max_pooling2d_1 (MaxPooling  (None, 12, 12, 192)      0         \n",
      " 2D)                                                             \n",
      "                                                                 \n",
      "=================================================================\n",
      "Total params: 118,144\n",
      "Trainable params: 118,144\n",
      "Non-trainable params: 0\n",
      "_________________________________________________________________\n"
     ]
    }
   ],
   "source": [
    "model.summary()"
   ]
  },
  {
   "cell_type": "markdown",
   "metadata": {
    "id": "3qZ8FbiYTLjt"
   },
   "source": [
    "# Module 3\n",
    "\n",
    "The third module connects two complete Inception blocks in series. \n",
    "\n",
    "* The number of output channels of the first Inception block is 64+128+32+32=256.\n",
    "\n",
    "![](https://d2l.ai/_images/inception.svg)"
   ]
  },
  {
   "cell_type": "code",
   "execution_count": null,
   "metadata": {
    "id": "OgbJzOtrS2GP"
   },
   "outputs": [],
   "source": [
    "class Inception(tf.keras.Model):\n",
    "    # `c1`--`c4` are the number of output channels for each branch\n",
    "    def __init__(self, c1, c2, c3, c4):\n",
    "        super().__init__()\n",
    "\n",
    "        # Branch 1 - doesn't change width or height\n",
    "        self.b1_1 = tf.keras.layers.Conv2D(c1, 1, activation='relu')\n",
    "\n",
    "        # Branch 2\n",
    "        # 1x1 doesn't change width or height, but does change depth to 96\n",
    "        self.b2_1 = tf.keras.layers.Conv2D(c2[0], 1, activation='relu')\n",
    "        # 2x2 can change width and height, but same padding is used! depth is 128 filters so depth of 128\n",
    "        self.b2_2 = tf.keras.layers.Conv2D(c2[1], 3, padding='same',\n",
    "                                           activation='relu')\n",
    "        \n",
    "        # Branch 3\n",
    "        # 1x1 doesn't change width or height, but does change depth to 16\n",
    "        self.b3_1 = tf.keras.layers.Conv2D(c3[0], 1, activation='relu')\n",
    "        # 2x2 can change width and height, but same padding is used! depth is 32 filters so depth of 32\n",
    "        self.b3_2 = tf.keras.layers.Conv2D(c3[1], 5, padding='same',\n",
    "                                           activation='relu')\n",
    "        \n",
    "        # Branch 4\n",
    "        # max pooling doesn't change depth, but can change width and height. Padding is used to prevent this\n",
    "        self.b4_1 = tf.keras.layers.MaxPool2D(3, 1, padding='same')\n",
    "        # 1x1 doesn't change width or height, but does change depth to 32\n",
    "        self.b4_2 = tf.keras.layers.Conv2D(c4, 1, activation='relu')\n",
    "\n",
    "    def call(self, x):\n",
    "        # Branch 1 is applied to the input data\n",
    "        b1 = self.b1_1(x)\n",
    "\n",
    "        # Branch 2 is first applied to input and then to the output of the resulting feature map\n",
    "        # self.b2_1(x) is done first, and then self.b2_2()\n",
    "        b2 = self.b2_2(self.b2_1(x))\n",
    "\n",
    "        # Branch 3 is first applied to input and then to the output of the resulting feature map\n",
    "        # self.b3_1(x) is done first, and then self.b3_2()\n",
    "        b3 = self.b3_2(self.b3_1(x))\n",
    "\n",
    "        # Branch 4 is applied to input\n",
    "        b4 = self.b4_2(self.b4_1(x))\n",
    "\n",
    "        # Concatenate\n",
    "        return tf.keras.layers.Concatenate()([b1, b2, b3, b4])"
   ]
  },
  {
   "cell_type": "code",
   "execution_count": null,
   "metadata": {
    "id": "-gfqiuHHS2It"
   },
   "outputs": [],
   "source": [
    "model.add(Inception(64, (96, 128), (16, 32), 32))"
   ]
  },
  {
   "cell_type": "code",
   "execution_count": null,
   "metadata": {
    "colab": {
     "base_uri": "https://localhost:8080/"
    },
    "id": "mMn-_TfxS2K-",
    "outputId": "c22e58a3-ae50-4118-e279-4c3c012b77d1"
   },
   "outputs": [
    {
     "name": "stdout",
     "output_type": "stream",
     "text": [
      "Model: \"sequential_2\"\n",
      "_________________________________________________________________\n",
      " Layer (type)                Output Shape              Param #   \n",
      "=================================================================\n",
      " conv2d_4 (Conv2D)           (None, 48, 48, 64)        3200      \n",
      "                                                                 \n",
      " max_pooling2d (MaxPooling2D  (None, 24, 24, 64)       0         \n",
      " )                                                               \n",
      "                                                                 \n",
      " conv2d_5 (Conv2D)           (None, 24, 24, 64)        4160      \n",
      "                                                                 \n",
      " conv2d_6 (Conv2D)           (None, 24, 24, 192)       110784    \n",
      "                                                                 \n",
      " max_pooling2d_1 (MaxPooling  (None, 12, 12, 192)      0         \n",
      " 2D)                                                             \n",
      "                                                                 \n",
      " inception (Inception)       (None, 12, 12, 256)       163696    \n",
      "                                                                 \n",
      "=================================================================\n",
      "Total params: 281,840\n",
      "Trainable params: 281,840\n",
      "Non-trainable params: 0\n",
      "_________________________________________________________________\n"
     ]
    }
   ],
   "source": [
    "model.summary()"
   ]
  },
  {
   "cell_type": "markdown",
   "metadata": {
    "id": "yHNvd9UXWJMh"
   },
   "source": [
    "The number of output channels of the second Inception block is increased to 128+192+96+64=480"
   ]
  },
  {
   "cell_type": "code",
   "execution_count": null,
   "metadata": {
    "id": "4mTO2-pbSq29"
   },
   "outputs": [],
   "source": [
    "model.add(Inception(128, (128, 192), (32, 96), 64))\n",
    "\n",
    "# Remember based on the diagram above, a pooling layer is applied after each module\n",
    "model.add(tf.keras.layers.MaxPool2D(pool_size=3, strides=2, padding='same'))"
   ]
  },
  {
   "cell_type": "code",
   "execution_count": null,
   "metadata": {
    "colab": {
     "base_uri": "https://localhost:8080/"
    },
    "id": "xleHc17dRKmv",
    "outputId": "1aa74caf-4256-4861-e28e-75f50c55e7c7"
   },
   "outputs": [
    {
     "name": "stdout",
     "output_type": "stream",
     "text": [
      "Model: \"sequential_2\"\n",
      "_________________________________________________________________\n",
      " Layer (type)                Output Shape              Param #   \n",
      "=================================================================\n",
      " conv2d_4 (Conv2D)           (None, 48, 48, 64)        3200      \n",
      "                                                                 \n",
      " max_pooling2d (MaxPooling2D  (None, 24, 24, 64)       0         \n",
      " )                                                               \n",
      "                                                                 \n",
      " conv2d_5 (Conv2D)           (None, 24, 24, 64)        4160      \n",
      "                                                                 \n",
      " conv2d_6 (Conv2D)           (None, 24, 24, 192)       110784    \n",
      "                                                                 \n",
      " max_pooling2d_1 (MaxPooling  (None, 12, 12, 192)      0         \n",
      " 2D)                                                             \n",
      "                                                                 \n",
      " inception (Inception)       (None, 12, 12, 256)       163696    \n",
      "                                                                 \n",
      " inception_1 (Inception)     (None, 12, 12, 480)       388736    \n",
      "                                                                 \n",
      " max_pooling2d_4 (MaxPooling  (None, 6, 6, 480)        0         \n",
      " 2D)                                                             \n",
      "                                                                 \n",
      "=================================================================\n",
      "Total params: 670,576\n",
      "Trainable params: 670,576\n",
      "Non-trainable params: 0\n",
      "_________________________________________________________________\n"
     ]
    }
   ],
   "source": [
    "model.summary()"
   ]
  },
  {
   "cell_type": "markdown",
   "metadata": {
    "id": "QKle16IdWXoV"
   },
   "source": [
    "# Module 4\n",
    "The fourth module is more complicated. It connects five Inception blocks in series\n",
    "\n",
    "* block 1 outputs: 192+208+48+64 = 512\n",
    "\n",
    "* block 2 outputs: 160+224+64+64 = 512\n",
    "\n",
    "* block 3 outputs: 128+526+64+64 = 512\n",
    "\n",
    "* block 3 outputs: 112+228+64+64 = 528\n",
    "\n",
    "* block 5 outputs: 256+320+128+128 = 832\n",
    "\n",
    "Each block is learning a different number of features due to usual reasons but also due to difference in number of channels from 1x1 conv."
   ]
  },
  {
   "cell_type": "code",
   "execution_count": null,
   "metadata": {
    "id": "bTtB4f9jRKo7"
   },
   "outputs": [],
   "source": [
    "model.add(Inception(192, (96, 208), (16, 48), 64))\n",
    "model.add(Inception(160, (112, 224), (24, 64), 64))\n",
    "model.add(Inception(128, (128, 256), (24, 64), 64))\n",
    "model.add(Inception(112, (144, 288), (32, 64), 64))\n",
    "model.add(Inception(256, (160, 320), (32, 128), 128))\n",
    "\n",
    "# Remember based on the diagram above, a pooling layer is applied after each module\n",
    "model.add(tf.keras.layers.MaxPool2D(pool_size=3, strides=2, padding='same'))"
   ]
  },
  {
   "cell_type": "code",
   "execution_count": null,
   "metadata": {
    "colab": {
     "base_uri": "https://localhost:8080/"
    },
    "id": "_XBkEK83B4Xs",
    "outputId": "63f2fb82-9fb6-4507-8db9-5fbadb719eac"
   },
   "outputs": [
    {
     "name": "stdout",
     "output_type": "stream",
     "text": [
      "Model: \"sequential_2\"\n",
      "_________________________________________________________________\n",
      " Layer (type)                Output Shape              Param #   \n",
      "=================================================================\n",
      " conv2d_4 (Conv2D)           (None, 48, 48, 64)        3200      \n",
      "                                                                 \n",
      " max_pooling2d (MaxPooling2D  (None, 24, 24, 64)       0         \n",
      " )                                                               \n",
      "                                                                 \n",
      " conv2d_5 (Conv2D)           (None, 24, 24, 64)        4160      \n",
      "                                                                 \n",
      " conv2d_6 (Conv2D)           (None, 24, 24, 192)       110784    \n",
      "                                                                 \n",
      " max_pooling2d_1 (MaxPooling  (None, 12, 12, 192)      0         \n",
      " 2D)                                                             \n",
      "                                                                 \n",
      " inception (Inception)       (None, 12, 12, 256)       163696    \n",
      "                                                                 \n",
      " inception_1 (Inception)     (None, 12, 12, 480)       388736    \n",
      "                                                                 \n",
      " max_pooling2d_4 (MaxPooling  (None, 6, 6, 480)        0         \n",
      " 2D)                                                             \n",
      "                                                                 \n",
      " inception_2 (Inception)     (None, 6, 6, 512)         376176    \n",
      "                                                                 \n",
      " inception_3 (Inception)     (None, 6, 6, 512)         449160    \n",
      "                                                                 \n",
      " inception_4 (Inception)     (None, 6, 6, 512)         510104    \n",
      "                                                                 \n",
      " inception_5 (Inception)     (None, 6, 6, 528)         605376    \n",
      "                                                                 \n",
      " inception_6 (Inception)     (None, 6, 6, 832)         868352    \n",
      "                                                                 \n",
      " max_pooling2d_10 (MaxPoolin  (None, 3, 3, 832)        0         \n",
      " g2D)                                                            \n",
      "                                                                 \n",
      "=================================================================\n",
      "Total params: 3,479,744\n",
      "Trainable params: 3,479,744\n",
      "Non-trainable params: 0\n",
      "_________________________________________________________________\n"
     ]
    }
   ],
   "source": [
    "model.summary()"
   ]
  },
  {
   "cell_type": "markdown",
   "metadata": {
    "id": "rsex3G6fX7ps"
   },
   "source": [
    "# Module 5\n",
    "\n",
    "Two inception blocks\n",
    "\n",
    "* block 1 output: 256+320+128+128=832\n",
    "\n",
    "* block 2 output: 384+384+128+128=1024\n",
    "\n",
    "* This block uses the global average pooling layer to change the height and width of each channel to 1, just as in NiN."
   ]
  },
  {
   "cell_type": "code",
   "execution_count": null,
   "metadata": {
    "id": "7h3DNre8W5Gy"
   },
   "outputs": [],
   "source": [
    "model.add(Inception(256, (160, 320), (32, 128), 128))\n",
    "model.add(Inception(384, (192, 384), (48, 128), 128))\n",
    "model.add(tf.keras.layers.GlobalAvgPool2D())\n",
    "model.add(tf.keras.layers.Flatten())"
   ]
  },
  {
   "cell_type": "code",
   "execution_count": null,
   "metadata": {
    "colab": {
     "base_uri": "https://localhost:8080/"
    },
    "id": "vO2bdVWjW5Mg",
    "outputId": "0bb44692-0dba-4895-ac30-e21d2c3e8c21"
   },
   "outputs": [
    {
     "name": "stdout",
     "output_type": "stream",
     "text": [
      "Model: \"sequential_2\"\n",
      "_________________________________________________________________\n",
      " Layer (type)                Output Shape              Param #   \n",
      "=================================================================\n",
      " conv2d_4 (Conv2D)           (None, 48, 48, 64)        3200      \n",
      "                                                                 \n",
      " max_pooling2d (MaxPooling2D  (None, 24, 24, 64)       0         \n",
      " )                                                               \n",
      "                                                                 \n",
      " conv2d_5 (Conv2D)           (None, 24, 24, 64)        4160      \n",
      "                                                                 \n",
      " conv2d_6 (Conv2D)           (None, 24, 24, 192)       110784    \n",
      "                                                                 \n",
      " max_pooling2d_1 (MaxPooling  (None, 12, 12, 192)      0         \n",
      " 2D)                                                             \n",
      "                                                                 \n",
      " inception (Inception)       (None, 12, 12, 256)       163696    \n",
      "                                                                 \n",
      " inception_1 (Inception)     (None, 12, 12, 480)       388736    \n",
      "                                                                 \n",
      " max_pooling2d_4 (MaxPooling  (None, 6, 6, 480)        0         \n",
      " 2D)                                                             \n",
      "                                                                 \n",
      " inception_2 (Inception)     (None, 6, 6, 512)         376176    \n",
      "                                                                 \n",
      " inception_3 (Inception)     (None, 6, 6, 512)         449160    \n",
      "                                                                 \n",
      " inception_4 (Inception)     (None, 6, 6, 512)         510104    \n",
      "                                                                 \n",
      " inception_5 (Inception)     (None, 6, 6, 528)         605376    \n",
      "                                                                 \n",
      " inception_6 (Inception)     (None, 6, 6, 832)         868352    \n",
      "                                                                 \n",
      " max_pooling2d_10 (MaxPoolin  (None, 3, 3, 832)        0         \n",
      " g2D)                                                            \n",
      "                                                                 \n",
      " inception_7 (Inception)     (None, 3, 3, 832)         1043456   \n",
      "                                                                 \n",
      " inception_8 (Inception)     (None, 3, 3, 1024)        1444080   \n",
      "                                                                 \n",
      " global_average_pooling2d (G  (None, 1024)             0         \n",
      " lobalAveragePooling2D)                                          \n",
      "                                                                 \n",
      " flatten (Flatten)           (None, 1024)              0         \n",
      "                                                                 \n",
      "=================================================================\n",
      "Total params: 5,967,280\n",
      "Trainable params: 5,967,280\n",
      "Non-trainable params: 0\n",
      "_________________________________________________________________\n"
     ]
    }
   ],
   "source": [
    "model.summary()"
   ]
  },
  {
   "cell_type": "markdown",
   "metadata": {
    "id": "t0hnnNudY23M"
   },
   "source": [
    "# Output"
   ]
  },
  {
   "cell_type": "code",
   "execution_count": null,
   "metadata": {
    "id": "xDGsJOyqW5PQ"
   },
   "outputs": [],
   "source": [
    "model.add(tf.keras.layers.Dense(10))\n",
    "model.add(tf.keras.layers.Activation(\"softmax\"))"
   ]
  },
  {
   "cell_type": "code",
   "execution_count": null,
   "metadata": {
    "colab": {
     "base_uri": "https://localhost:8080/"
    },
    "id": "zXRyJhzgW5Rs",
    "outputId": "6754204b-519d-4725-f903-5405e5c309d9"
   },
   "outputs": [
    {
     "name": "stdout",
     "output_type": "stream",
     "text": [
      "Model: \"sequential_2\"\n",
      "_________________________________________________________________\n",
      " Layer (type)                Output Shape              Param #   \n",
      "=================================================================\n",
      " conv2d_4 (Conv2D)           (None, 48, 48, 64)        3200      \n",
      "                                                                 \n",
      " max_pooling2d (MaxPooling2D  (None, 24, 24, 64)       0         \n",
      " )                                                               \n",
      "                                                                 \n",
      " conv2d_5 (Conv2D)           (None, 24, 24, 64)        4160      \n",
      "                                                                 \n",
      " conv2d_6 (Conv2D)           (None, 24, 24, 192)       110784    \n",
      "                                                                 \n",
      " max_pooling2d_1 (MaxPooling  (None, 12, 12, 192)      0         \n",
      " 2D)                                                             \n",
      "                                                                 \n",
      " inception (Inception)       (None, 12, 12, 256)       163696    \n",
      "                                                                 \n",
      " inception_1 (Inception)     (None, 12, 12, 480)       388736    \n",
      "                                                                 \n",
      " max_pooling2d_4 (MaxPooling  (None, 6, 6, 480)        0         \n",
      " 2D)                                                             \n",
      "                                                                 \n",
      " inception_2 (Inception)     (None, 6, 6, 512)         376176    \n",
      "                                                                 \n",
      " inception_3 (Inception)     (None, 6, 6, 512)         449160    \n",
      "                                                                 \n",
      " inception_4 (Inception)     (None, 6, 6, 512)         510104    \n",
      "                                                                 \n",
      " inception_5 (Inception)     (None, 6, 6, 528)         605376    \n",
      "                                                                 \n",
      " inception_6 (Inception)     (None, 6, 6, 832)         868352    \n",
      "                                                                 \n",
      " max_pooling2d_10 (MaxPoolin  (None, 3, 3, 832)        0         \n",
      " g2D)                                                            \n",
      "                                                                 \n",
      " inception_7 (Inception)     (None, 3, 3, 832)         1043456   \n",
      "                                                                 \n",
      " inception_8 (Inception)     (None, 3, 3, 1024)        1444080   \n",
      "                                                                 \n",
      " global_average_pooling2d (G  (None, 1024)             0         \n",
      " lobalAveragePooling2D)                                          \n",
      "                                                                 \n",
      " flatten (Flatten)           (None, 1024)              0         \n",
      "                                                                 \n",
      " dense (Dense)               (None, 10)                10250     \n",
      "                                                                 \n",
      " activation (Activation)     (None, 10)                0         \n",
      "                                                                 \n",
      "=================================================================\n",
      "Total params: 5,977,530\n",
      "Trainable params: 5,977,530\n",
      "Non-trainable params: 0\n",
      "_________________________________________________________________\n"
     ]
    }
   ],
   "source": [
    "model.summary()"
   ]
  },
  {
   "cell_type": "markdown",
   "metadata": {
    "id": "QDtx5Ip0ZE1q"
   },
   "source": [
    "* Note the large number of relatively arbitrary hyperparameters in terms of the number of channels chosen. \n",
    "\n",
    "* This work was done before scientists started using automatic tools to optimize network designs."
   ]
  },
  {
   "cell_type": "markdown",
   "metadata": {
    "id": "PvLNnz0vDnHc"
   },
   "source": [
    "<hr>"
   ]
  },
  {
   "cell_type": "markdown",
   "metadata": {
    "id": "X1GTR35cmP7v"
   },
   "source": [
    "## Load the dataset"
   ]
  },
  {
   "cell_type": "code",
   "execution_count": null,
   "metadata": {
    "colab": {
     "base_uri": "https://localhost:8080/"
    },
    "id": "uQ_KjFJomP7x",
    "outputId": "c4bfbfca-15f9-4e5b-dc36-b28bacaeae8b"
   },
   "outputs": [
    {
     "name": "stdout",
     "output_type": "stream",
     "text": [
      "Downloading data from https://storage.googleapis.com/tensorflow/tf-keras-datasets/train-labels-idx1-ubyte.gz\n",
      "29515/29515 [==============================] - 0s 0us/step\n",
      "Downloading data from https://storage.googleapis.com/tensorflow/tf-keras-datasets/train-images-idx3-ubyte.gz\n",
      "26421880/26421880 [==============================] - 0s 0us/step\n",
      "Downloading data from https://storage.googleapis.com/tensorflow/tf-keras-datasets/t10k-labels-idx1-ubyte.gz\n",
      "5148/5148 [==============================] - 0s 0us/step\n",
      "Downloading data from https://storage.googleapis.com/tensorflow/tf-keras-datasets/t10k-images-idx3-ubyte.gz\n",
      "4422102/4422102 [==============================] - 0s 0us/step\n"
     ]
    }
   ],
   "source": [
    "# load data\n",
    "(X_train, Y_train), (X_test, Y_test) = tf.keras.datasets.fashion_mnist.load_data()"
   ]
  },
  {
   "cell_type": "markdown",
   "metadata": {
    "id": "E-Lw_bPQKQFX"
   },
   "source": [
    "## View the shape"
   ]
  },
  {
   "cell_type": "code",
   "execution_count": null,
   "metadata": {
    "colab": {
     "base_uri": "https://localhost:8080/"
    },
    "id": "ueyWl-aUmP72",
    "outputId": "916e4132-374b-496e-bb20-73659a867ffc"
   },
   "outputs": [
    {
     "name": "stdout",
     "output_type": "stream",
     "text": [
      "Training data shape :  (60000, 28, 28) (60000,)\n"
     ]
    }
   ],
   "source": [
    "print('Training data shape : ', X_train.shape, Y_train.shape)"
   ]
  },
  {
   "cell_type": "code",
   "execution_count": null,
   "metadata": {
    "colab": {
     "base_uri": "https://localhost:8080/"
    },
    "id": "3bsoluyzBOYR",
    "outputId": "83ca9de8-3368-4a4f-bc81-b9fbfdea74f7"
   },
   "outputs": [
    {
     "name": "stdout",
     "output_type": "stream",
     "text": [
      "Testing data shape :  (10000, 28, 28) (10000,)\n"
     ]
    }
   ],
   "source": [
    "print('Testing data shape : ', X_test.shape, Y_test.shape)"
   ]
  },
  {
   "cell_type": "markdown",
   "metadata": {
    "id": "z51sdOntmP78"
   },
   "source": [
    "## Find the unique numbers from the train labels"
   ]
  },
  {
   "cell_type": "code",
   "execution_count": null,
   "metadata": {
    "colab": {
     "base_uri": "https://localhost:8080/"
    },
    "id": "o29O_gUTmP79",
    "outputId": "d8b3ef92-9152-46da-bd60-5b3e44c59da4"
   },
   "outputs": [
    {
     "name": "stdout",
     "output_type": "stream",
     "text": [
      "Total number of outputs :  10\n",
      "Output classes :  [0 1 2 3 4 5 6 7 8 9]\n"
     ]
    }
   ],
   "source": [
    "classes = np.unique(Y_train)\n",
    "nClasses = len(classes)\n",
    "print('Total number of outputs : ', nClasses)\n",
    "print('Output classes : ', classes)"
   ]
  },
  {
   "cell_type": "markdown",
   "metadata": {
    "id": "GMMjLgbimP8B"
   },
   "source": [
    "## Plot some of the data"
   ]
  },
  {
   "cell_type": "code",
   "execution_count": null,
   "metadata": {
    "colab": {
     "base_uri": "https://localhost:8080/",
     "height": 335
    },
    "id": "qQpW4rajmP8C",
    "outputId": "6a44b68d-b61d-4fc5-f478-86bb22a64d18"
   },
   "outputs": [
    {
     "data": {
      "text/plain": [
       "Text(0.5, 1.0, 'Ground Truth : 1')"
      ]
     },
     "execution_count": 23,
     "metadata": {},
     "output_type": "execute_result"
    },
    {
     "data": {
      "image/png": "[encoded data removed]",
      "text/plain": [
       "<Figure size 720x360 with 2 Axes>"
      ]
     },
     "metadata": {
      "needs_background": "light"
     },
     "output_type": "display_data"
    }
   ],
   "source": [
    "data_point = 15\n",
    "\n",
    "plt.figure(figsize=[10,5])\n",
    " \n",
    "# Display the first image in training data\n",
    "plt.subplot(121)\n",
    "plt.imshow(X_train[data_point,:,:], cmap='gray')\n",
    "plt.title(\"Ground Truth : {}\".format(Y_train[data_point]))\n",
    " \n",
    "# Display the first image in testing data\n",
    "plt.subplot(122)\n",
    "plt.imshow(X_test[data_point,:,:], cmap='gray')\n",
    "plt.title(\"Ground Truth : {}\".format(Y_test[data_point]))"
   ]
  },
  {
   "cell_type": "markdown",
   "metadata": {
    "id": "BA_mGK_NVHwn"
   },
   "source": [
    "## Reshape needed\n",
    "\n",
    "Keras wants to know the depth of an image. \n",
    "\n",
    "For CNNS, Keras wants the format of the data as follows: [batches, width, height, depth]. \n",
    "\n",
    "In this case the colour channel/depth of the images is 1. Currently the shape is:"
   ]
  },
  {
   "cell_type": "code",
   "execution_count": null,
   "metadata": {
    "colab": {
     "base_uri": "https://localhost:8080/"
    },
    "id": "TBbn1qONB0M8",
    "outputId": "d0c671b9-03d0-443a-ffef-e3e36e40aefd"
   },
   "outputs": [
    {
     "data": {
      "text/plain": [
       "(60000, 28, 28)"
      ]
     },
     "execution_count": 24,
     "metadata": {},
     "output_type": "execute_result"
    }
   ],
   "source": [
    "X_train.shape"
   ]
  },
  {
   "cell_type": "code",
   "execution_count": null,
   "metadata": {
    "colab": {
     "base_uri": "https://localhost:8080/"
    },
    "id": "FmTJdq8LRDsx",
    "outputId": "de61cffa-e5ef-4931-805e-18ded8c06b23"
   },
   "outputs": [
    {
     "data": {
      "text/plain": [
       "(60000, 28, 28)"
      ]
     },
     "execution_count": 25,
     "metadata": {},
     "output_type": "execute_result"
    }
   ],
   "source": [
    "X_train.shape"
   ]
  },
  {
   "cell_type": "markdown",
   "metadata": {
    "id": "a55ZpEbCB6kQ"
   },
   "source": [
    "But this doesn't have a depth value. So we can reshape it"
   ]
  },
  {
   "cell_type": "code",
   "execution_count": null,
   "metadata": {
    "id": "D8HTp2YHVH4_"
   },
   "outputs": [],
   "source": [
    "X_train = np.reshape(X_train, (X_train.shape[0], X_train.shape[1], X_train.shape[2], 1))\n",
    "X_test = np.reshape(X_test, (X_test.shape[0], X_test.shape[1], X_test.shape[2], 1))"
   ]
  },
  {
   "cell_type": "code",
   "execution_count": null,
   "metadata": {
    "colab": {
     "base_uri": "https://localhost:8080/"
    },
    "id": "pvHP86fjRU8z",
    "outputId": "65e7809d-9a96-4c19-8f27-657682d0521b"
   },
   "outputs": [
    {
     "data": {
      "text/plain": [
       "(60000, 28, 28, 1)"
      ]
     },
     "execution_count": 27,
     "metadata": {},
     "output_type": "execute_result"
    }
   ],
   "source": [
    "X_train.shape"
   ]
  },
  {
   "cell_type": "code",
   "execution_count": null,
   "metadata": {
    "colab": {
     "base_uri": "https://localhost:8080/"
    },
    "id": "9AMa4C0CRWb9",
    "outputId": "997bbc42-7318-42bb-c14f-29da58855403"
   },
   "outputs": [
    {
     "data": {
      "text/plain": [
       "(60000, 28, 28, 1)"
      ]
     },
     "execution_count": 28,
     "metadata": {},
     "output_type": "execute_result"
    }
   ],
   "source": [
    "X_train.shape"
   ]
  },
  {
   "cell_type": "markdown",
   "metadata": {
    "id": "-lQP7CElWVfe"
   },
   "source": [
    "## View the shape"
   ]
  },
  {
   "cell_type": "code",
   "execution_count": null,
   "metadata": {
    "colab": {
     "base_uri": "https://localhost:8080/"
    },
    "id": "5QKOvMPaWVfh",
    "outputId": "70c55fd2-5c6c-4165-a2c9-0569cd1e0967"
   },
   "outputs": [
    {
     "name": "stdout",
     "output_type": "stream",
     "text": [
      "Training data shape :  (60000, 28, 28, 1) (60000,)\n"
     ]
    }
   ],
   "source": [
    "print('Training data shape : ', X_train.shape, Y_train.shape)"
   ]
  },
  {
   "cell_type": "code",
   "execution_count": null,
   "metadata": {
    "colab": {
     "base_uri": "https://localhost:8080/"
    },
    "id": "zzGxSUONCRb2",
    "outputId": "f6be3413-0d71-4ab7-8c6c-5f7edd6ff7cd"
   },
   "outputs": [
    {
     "name": "stdout",
     "output_type": "stream",
     "text": [
      "Testing data shape :  (10000, 28, 28, 1) (10000,)\n"
     ]
    }
   ],
   "source": [
    "print('Testing data shape : ', X_test.shape, Y_test.shape)"
   ]
  },
  {
   "cell_type": "markdown",
   "metadata": {
    "id": "UfClFp-6K7P6"
   },
   "source": [
    "## Convert from categorical labels to one-hot encoded vectors\n",
    "\n",
    "In this case there are 10 classes so we can tell the function to convert into a vector of length 10"
   ]
  },
  {
   "cell_type": "code",
   "execution_count": null,
   "metadata": {
    "id": "i3xjsPnVmP8j"
   },
   "outputs": [],
   "source": [
    "Y_train = np_utils.to_categorical(Y_train, 10)\n",
    "Y_test = np_utils.to_categorical(Y_test, 10)\n",
    "num_classes = 10"
   ]
  },
  {
   "cell_type": "markdown",
   "metadata": {
    "id": "Q7LVPnt1QPQM"
   },
   "source": [
    "## Small twist!\n",
    "\n",
    "API: https://www.tensorflow.org/api_docs/python/tf/data/Dataset"
   ]
  },
  {
   "cell_type": "code",
   "execution_count": null,
   "metadata": {
    "id": "PQNnZHhNSEKW"
   },
   "outputs": [],
   "source": [
    "train_ds = tf.data.Dataset.from_tensor_slices((X_train, Y_train))\n",
    "test_ds = tf.data.Dataset.from_tensor_slices((X_test, Y_test))"
   ]
  },
  {
   "cell_type": "code",
   "execution_count": null,
   "metadata": {
    "id": "aHvmE76ySEMx"
   },
   "outputs": [],
   "source": [
    "def resize_images(image, label):\n",
    "    # Normalize images to have a mean of 0 and standard deviation of 1\n",
    "    image = tf.image.per_image_standardization(image)\n",
    "\n",
    "    image = tf.image.resize(image, (96,96))\n",
    "    return image, label"
   ]
  },
  {
   "cell_type": "code",
   "execution_count": null,
   "metadata": {
    "id": "fqEzyUPLSOdv"
   },
   "outputs": [],
   "source": [
    "train_ds = (train_ds\n",
    "                  .map(resize_images)\n",
    "                  .shuffle(buffer_size=10000)\n",
    "                  .batch(batch_size=64, drop_remainder=True))\n",
    "test_ds = (test_ds\n",
    "                  .map(resize_images)\n",
    "                  .batch(batch_size=10, drop_remainder=False))"
   ]
  },
  {
   "cell_type": "code",
   "execution_count": null,
   "metadata": {
    "id": "gozmsPxhmP8v"
   },
   "outputs": [],
   "source": [
    "model.compile(loss='categorical_crossentropy',\n",
    "             optimizer='adam',\n",
    "             metrics=['accuracy'])"
   ]
  },
  {
   "cell_type": "markdown",
   "metadata": {
    "id": "bUN6K31smP80"
   },
   "source": [
    "## Determine the number of trainable parameters"
   ]
  },
  {
   "cell_type": "code",
   "execution_count": null,
   "metadata": {
    "colab": {
     "base_uri": "https://localhost:8080/"
    },
    "id": "_DxDanOHmP80",
    "outputId": "b9a404de-bcb2-4d22-f9e6-3f1a2256ba14"
   },
   "outputs": [
    {
     "name": "stdout",
     "output_type": "stream",
     "text": [
      "Model: \"sequential_2\"\n",
      "_________________________________________________________________\n",
      " Layer (type)                Output Shape              Param #   \n",
      "=================================================================\n",
      " conv2d_4 (Conv2D)           (None, 48, 48, 64)        3200      \n",
      "                                                                 \n",
      " max_pooling2d (MaxPooling2D  (None, 24, 24, 64)       0         \n",
      " )                                                               \n",
      "                                                                 \n",
      " conv2d_5 (Conv2D)           (None, 24, 24, 64)        4160      \n",
      "                                                                 \n",
      " conv2d_6 (Conv2D)           (None, 24, 24, 192)       110784    \n",
      "                                                                 \n",
      " max_pooling2d_1 (MaxPooling  (None, 12, 12, 192)      0         \n",
      " 2D)                                                             \n",
      "                                                                 \n",
      " inception (Inception)       (None, 12, 12, 256)       163696    \n",
      "                                                                 \n",
      " inception_1 (Inception)     (None, 12, 12, 480)       388736    \n",
      "                                                                 \n",
      " max_pooling2d_4 (MaxPooling  (None, 6, 6, 480)        0         \n",
      " 2D)                                                             \n",
      "                                                                 \n",
      " inception_2 (Inception)     (None, 6, 6, 512)         376176    \n",
      "                                                                 \n",
      " inception_3 (Inception)     (None, 6, 6, 512)         449160    \n",
      "                                                                 \n",
      " inception_4 (Inception)     (None, 6, 6, 512)         510104    \n",
      "                                                                 \n",
      " inception_5 (Inception)     (None, 6, 6, 528)         605376    \n",
      "                                                                 \n",
      " inception_6 (Inception)     (None, 6, 6, 832)         868352    \n",
      "                                                                 \n",
      " max_pooling2d_10 (MaxPoolin  (None, 3, 3, 832)        0         \n",
      " g2D)                                                            \n",
      "                                                                 \n",
      " inception_7 (Inception)     (None, 3, 3, 832)         1043456   \n",
      "                                                                 \n",
      " inception_8 (Inception)     (None, 3, 3, 1024)        1444080   \n",
      "                                                                 \n",
      " global_average_pooling2d (G  (None, 1024)             0         \n",
      " lobalAveragePooling2D)                                          \n",
      "                                                                 \n",
      " flatten (Flatten)           (None, 1024)              0         \n",
      "                                                                 \n",
      " dense (Dense)               (None, 10)                10250     \n",
      "                                                                 \n",
      " activation (Activation)     (None, 10)                0         \n",
      "                                                                 \n",
      "=================================================================\n",
      "Total params: 5,977,530\n",
      "Trainable params: 5,977,530\n",
      "Non-trainable params: 0\n",
      "_________________________________________________________________\n"
     ]
    }
   ],
   "source": [
    "model.summary()"
   ]
  },
  {
   "cell_type": "markdown",
   "metadata": {
    "id": "ifPs0mftmP84"
   },
   "source": [
    "## Begin training"
   ]
  },
  {
   "cell_type": "code",
   "execution_count": null,
   "metadata": {
    "colab": {
     "base_uri": "https://localhost:8080/"
    },
    "id": "j8RZc1rhmP84",
    "outputId": "0a86b6f7-f600-446f-eebf-9a5b304efaa6"
   },
   "outputs": [
    {
     "name": "stdout",
     "output_type": "stream",
     "text": [
      "Epoch 1/2\n",
      "937/937 [==============================] - 75s 59ms/step - loss: 0.7885 - accuracy: 0.6941\n",
      "Epoch 2/2\n",
      "937/937 [==============================] - 57s 61ms/step - loss: 0.3569 - accuracy: 0.8700\n"
     ]
    },
    {
     "data": {
      "text/plain": [
       "<keras.callbacks.History at 0x7f87f0ba9990>"
      ]
     },
     "execution_count": 37,
     "metadata": {},
     "output_type": "execute_result"
    }
   ],
   "source": [
    "model.fit(train_ds, epochs=2, batch_size=32, verbose=1)"
   ]
  },
  {
   "cell_type": "markdown",
   "metadata": {
    "id": "_j9LecHgmP8_"
   },
   "source": [
    "## Predict on all the test data"
   ]
  },
  {
   "cell_type": "code",
   "execution_count": null,
   "metadata": {
    "colab": {
     "base_uri": "https://localhost:8080/"
    },
    "id": "7TtfkDWjmP8_",
    "outputId": "48d11caf-4ee3-460d-ca18-033b03c1b63c"
   },
   "outputs": [
    {
     "name": "stdout",
     "output_type": "stream",
     "text": [
      "1000/1000 [==============================] - 9s 8ms/step\n"
     ]
    }
   ],
   "source": [
    "predictions = model.predict(test_ds)"
   ]
  },
  {
   "cell_type": "code",
   "execution_count": null,
   "metadata": {
    "colab": {
     "base_uri": "https://localhost:8080/"
    },
    "id": "b_zM7W80cFhJ",
    "outputId": "2d002a0b-fcee-4ee8-9c9c-3f60b4f3cc82"
   },
   "outputs": [
    {
     "data": {
      "text/plain": [
       "(10000, 10)"
      ]
     },
     "execution_count": 39,
     "metadata": {},
     "output_type": "execute_result"
    }
   ],
   "source": [
    "predictions.shape"
   ]
  },
  {
   "cell_type": "code",
   "execution_count": null,
   "metadata": {
    "id": "0abcDBFmcCz5"
   },
   "outputs": [],
   "source": [
    "correct_values = np.argmax(Y_test,axis=-1)\n",
    "predicted_classes = np.argmax(predictions,axis=-1)"
   ]
  },
  {
   "cell_type": "code",
   "execution_count": null,
   "metadata": {
    "colab": {
     "base_uri": "https://localhost:8080/"
    },
    "id": "N7keRohxmP9H",
    "outputId": "7db41554-b4c1-4353-9b2d-f011dd2a6b12"
   },
   "outputs": [
    {
     "data": {
      "text/plain": [
       "87.33999999999999"
      ]
     },
     "execution_count": 41,
     "metadata": {},
     "output_type": "execute_result"
    }
   ],
   "source": [
    "accuracy_score(predicted_classes,correct_values)*100"
   ]
  },
  {
   "cell_type": "markdown",
   "metadata": {
    "id": "-1Ik7Odwj9L6"
   },
   "source": [
    "More efficient:"
   ]
  },
  {
   "cell_type": "code",
   "execution_count": null,
   "metadata": {
    "id": "agkf9IKkiotI"
   },
   "outputs": [],
   "source": [
    "targets = []\n",
    "for x,y in test_ds.as_numpy_iterator():\n",
    "  targets.extend(y)"
   ]
  },
  {
   "cell_type": "code",
   "execution_count": null,
   "metadata": {
    "colab": {
     "base_uri": "https://localhost:8080/"
    },
    "id": "5n-nlHvkjhkL",
    "outputId": "222a116e-7977-4714-e256-96a4ad5b2b7e"
   },
   "outputs": [
    {
     "data": {
      "text/plain": [
       "(10000, 10)"
      ]
     },
     "execution_count": 43,
     "metadata": {},
     "output_type": "execute_result"
    }
   ],
   "source": [
    "np.asarray(targets).shape"
   ]
  },
  {
   "cell_type": "code",
   "execution_count": null,
   "metadata": {
    "colab": {
     "base_uri": "https://localhost:8080/"
    },
    "id": "AnlUWwWmirtl",
    "outputId": "c8842e8d-7787-42da-d68b-0791702bcd3d"
   },
   "outputs": [
    {
     "data": {
      "text/plain": [
       "87.33999999999999"
      ]
     },
     "execution_count": 44,
     "metadata": {},
     "output_type": "execute_result"
    }
   ],
   "source": [
    "accuracy_score(predicted_classes,np.argmax(targets,axis=-1))*100"
   ]
  },
  {
   "cell_type": "markdown",
   "metadata": {
    "id": "Pci1FMrJcuSs"
   },
   "source": [
    "## Tasks:\n",
    "\n",
    "* Make adjustments to the actual Inception block (width, choice and order of convolutions)\n",
    "\n"
   ]
  },
  {
   "cell_type": "code",
   "execution_count": null,
   "metadata": {
    "id": "6lPFztVMj3d6"
   },
   "outputs": [],
   "source": []
  }
 ],
 "metadata": {
  "accelerator": "GPU",
  "colab": {
   "collapsed_sections": [],
   "provenance": []
  },
  "gpuClass": "standard",
  "kernelspec": {
   "display_name": "Python 3 (ipykernel)",
   "language": "python",
   "name": "python3"
  },
  "language_info": {
   "codemirror_mode": {
    "name": "ipython",
    "version": 3
   },
   "file_extension": ".py",
   "mimetype": "text/x-python",
   "name": "python",
   "nbconvert_exporter": "python",
   "pygments_lexer": "ipython3",
   "version": "3.9.13"
  }
 },
 "nbformat": 4,
 "nbformat_minor": 1
}
