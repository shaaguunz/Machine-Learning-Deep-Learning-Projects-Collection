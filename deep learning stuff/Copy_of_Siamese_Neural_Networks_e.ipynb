{
 "cells": [
  {
   "cell_type": "markdown",
   "metadata": {
    "id": "YSon7FLdIS1O"
   },
   "source": [
    "## Siamese Neural Network\n",
    "\n",
    "* Here you will create a SNN to compare images of people\n"
   ]
  },
  {
   "cell_type": "markdown",
   "metadata": {
    "id": "e1_Y75QXJS6h"
   },
   "source": [
    "## Import TensorFlow and other libraries"
   ]
  },
  {
   "cell_type": "code",
   "execution_count": null,
   "metadata": {
    "id": "YfIk2es3hJEd"
   },
   "outputs": [],
   "source": [
    "from sklearn.datasets import fetch_olivetti_faces"
   ]
  },
  {
   "cell_type": "markdown",
   "metadata": {
    "id": "1idjchLQ0C3O"
   },
   "source": [
    "## Download the dataset\n",
    "\n",
    "API: https://scikit-learn.org/stable/modules/generated/sklearn.datasets.fetch_olivetti_faces.html\n",
    "\n",
    "Load the Olivetti faces data-set from AT&T (classification).\n",
    "\n",
    "There are 400 images represented as a vector. So each image is actually (64,64)"
   ]
  },
  {
   "cell_type": "code",
   "execution_count": null,
   "metadata": {
    "colab": {
     "base_uri": "https://localhost:8080/"
    },
    "id": "jRS3qt24hU29",
    "outputId": "435c2161-30a0-46b1-e8eb-827c579288f0"
   },
   "outputs": [
    {
     "name": "stdout",
     "output_type": "stream",
     "text": [
      "downloading Olivetti faces from https://ndownloader.figshare.com/files/5976027 to /root/scikit_learn_data\n"
     ]
    }
   ],
   "source": [
    "faces, targets = fetch_olivetti_faces(return_X_y=True, shuffle=True, random_state=42)\n",
    "n_samples, n_features = faces.shape"
   ]
  },
  {
   "cell_type": "code",
   "execution_count": null,
   "metadata": {
    "colab": {
     "base_uri": "https://localhost:8080/"
    },
    "id": "CO4IUWkohU5X",
    "outputId": "592becb3-6923-4653-bbb8-cb943478a060"
   },
   "outputs": [
    {
     "data": {
      "text/plain": [
       "(400, 4096)"
      ]
     },
     "execution_count": 3,
     "metadata": {},
     "output_type": "execute_result"
    }
   ],
   "source": [
    "faces.shape"
   ]
  },
  {
   "cell_type": "code",
   "execution_count": null,
   "metadata": {
    "colab": {
     "base_uri": "https://localhost:8080/"
    },
    "id": "f_i28ek3hU7w",
    "outputId": "211682be-8941-41d9-85b7-28f62e0702c6"
   },
   "outputs": [
    {
     "data": {
      "text/plain": [
       "(4096,)"
      ]
     },
     "execution_count": 4,
     "metadata": {},
     "output_type": "execute_result"
    }
   ],
   "source": [
    "faces[0].shape"
   ]
  },
  {
   "cell_type": "code",
   "execution_count": null,
   "metadata": {
    "colab": {
     "base_uri": "https://localhost:8080/"
    },
    "id": "lGMgjNX6hVAH",
    "outputId": "85971acd-ac61-4613-c91b-5a1108a8baf1"
   },
   "outputs": [
    {
     "data": {
      "text/plain": [
       "(400,)"
      ]
     },
     "execution_count": 5,
     "metadata": {},
     "output_type": "execute_result"
    }
   ],
   "source": [
    "targets.shape"
   ]
  },
  {
   "cell_type": "markdown",
   "metadata": {
    "id": "8w_qz1fo0cHr"
   },
   "source": [
    "## Split into training and testing\n",
    "\n",
    "Set aside 33% for testing and use a seed of 42.\n",
    "\n",
    "You should get the following shapes:\n",
    "\n",
    "```\n",
    "(268, 4096)\n",
    "(268,)\n",
    "(132, 4096)\n",
    "(132,)\n",
    "```\n",
    "\n"
   ]
  },
  {
   "cell_type": "code",
   "execution_count": null,
   "metadata": {
    "id": "tA3cZpD2hVB_"
   },
   "outputs": [],
   "source": [
    "# To do"
   ]
  },
  {
   "cell_type": "markdown",
   "metadata": {
    "id": "PGWBOXOj0eQi"
   },
   "source": [
    "## Check shapes"
   ]
  },
  {
   "cell_type": "code",
   "execution_count": null,
   "metadata": {
    "id": "ka4DvMxunI84"
   },
   "outputs": [],
   "source": [
    "# To do"
   ]
  },
  {
   "cell_type": "markdown",
   "metadata": {
    "id": "geqltjcX0f4B"
   },
   "source": [
    "## Generate pairs\n",
    "\n",
    "This function will generate pairs, thus each element will be two images and the target."
   ]
  },
  {
   "cell_type": "code",
   "execution_count": null,
   "metadata": {
    "id": "HlQhZMt8iL-7"
   },
   "outputs": [],
   "source": [
    "def generate_train_image_pairs(images_dataset, labels_dataset):\n",
    "    unique_labels = np.unique(labels_dataset)\n",
    "    label_wise_indices = dict()\n",
    "    for label in unique_labels:\n",
    "        label_wise_indices.setdefault(label,\n",
    "                                      [index for index, curr_label in enumerate(labels_dataset) if\n",
    "                                       label == curr_label])\n",
    "    \n",
    "    pair_images = []\n",
    "    pair_labels = []\n",
    "    for index, image in enumerate(images_dataset):\n",
    "        pos_indices = label_wise_indices.get(labels_dataset[index])\n",
    "        pos_image = images_dataset[np.random.choice(pos_indices)]\n",
    "        pair_images.append((image, pos_image))\n",
    "        pair_labels.append(1)\n",
    "\n",
    "        neg_indices = np.where(labels_dataset != labels_dataset[index])\n",
    "        neg_image = images_dataset[np.random.choice(neg_indices[0])]\n",
    "        pair_images.append((image, neg_image))\n",
    "        pair_labels.append(0)\n",
    "    return np.array(pair_images), np.array(pair_labels)"
   ]
  },
  {
   "cell_type": "markdown",
   "metadata": {
    "id": "jYiOVPP90sig"
   },
   "source": [
    "## Generate training and testing pairs"
   ]
  },
  {
   "cell_type": "code",
   "execution_count": null,
   "metadata": {
    "id": "_FxMcUSLiMBQ"
   },
   "outputs": [],
   "source": [
    "X_train_pair, y_train_pair = # To do\n",
    "X_test_pair, y_test_pair = # To do"
   ]
  },
  {
   "cell_type": "markdown",
   "metadata": {
    "id": "MEDkLl870un0"
   },
   "source": [
    "The shape is `(536,2,4096)` so there are 536 training data points. Each data point contains two images. Even indexed data points correspond to similar pairs, and odd indices correspond to disimilar pairs. This is why there is a \"2\" in the shape, the first for image one in the pair, and the second for image 2 in the pair."
   ]
  },
  {
   "cell_type": "code",
   "execution_count": null,
   "metadata": {
    "id": "UO2vmMo_jbfU"
   },
   "outputs": [],
   "source": [
    "X_train_pair.shape"
   ]
  },
  {
   "cell_type": "markdown",
   "metadata": {
    "id": "p2xH4eZz3B0w"
   },
   "source": [
    "## Visualise some pairs\n",
    "\n",
    "Try to modify the code from the previous practical. Hint:\n",
    "\n",
    "\n",
    "\n",
    "```\n",
    "fig, m_axs = plt.subplots(2, 8, figsize = (25, 12))\n",
    "for c_a, c_b, (ax1, ax2) in zip(X_train_pair, y_train_pair,m_axs.T):\n",
    "# to do\n",
    "```\n",
    "\n",
    "This will display 8 pairs.\n"
   ]
  },
  {
   "cell_type": "code",
   "execution_count": null,
   "metadata": {
    "id": "aRIT1VeOiMDa"
   },
   "outputs": [],
   "source": [
    "fig, m_axs = plt.subplots(2, 8, figsize = (25, 12))\n",
    "for c_a, c_b, (ax1, ax2) in zip(X_train_pair, y_train_pair,m_axs.T):\n",
    "# To do"
   ]
  },
  {
   "cell_type": "markdown",
   "metadata": {
    "id": "6fwzzbdj1dI8"
   },
   "source": [
    "## Now we create the feature extractor\n",
    "\n",
    "Note that the two feature extractors are the same. But we only need to create this once and we will re-use it twice later on when we combine the two together."
   ]
  },
  {
   "cell_type": "code",
   "execution_count": null,
   "metadata": {
    "id": "vkqmp_cCkdNf"
   },
   "outputs": [],
   "source": [
    "# To do"
   ]
  },
  {
   "cell_type": "markdown",
   "metadata": {
    "id": "ZNU8r80k1iG1"
   },
   "source": [
    "Now we create the feature extractor"
   ]
  },
  {
   "cell_type": "code",
   "execution_count": null,
   "metadata": {
    "id": "bnx_3cYfkdP2"
   },
   "outputs": [],
   "source": []
  },
  {
   "cell_type": "markdown",
   "metadata": {
    "id": "FjFD4yv2lWV6"
   },
   "source": [
    "## Now time to make the SNN"
   ]
  },
  {
   "cell_type": "code",
   "execution_count": null,
   "metadata": {
    "id": "2ozyHqyflWV7"
   },
   "outputs": [],
   "source": [
    "# To do"
   ]
  },
  {
   "cell_type": "markdown",
   "metadata": {
    "id": "igyaZw273VjN"
   },
   "source": [
    "### Create the full model"
   ]
  },
  {
   "cell_type": "code",
   "execution_count": null,
   "metadata": {
    "id": "miowXWhVlWV8"
   },
   "outputs": [],
   "source": [
    "# To do"
   ]
  },
  {
   "cell_type": "markdown",
   "metadata": {
    "id": "tEdFOrxB3Ya6"
   },
   "source": [
    "### Compile"
   ]
  },
  {
   "cell_type": "code",
   "execution_count": null,
   "metadata": {
    "id": "pcM9l8OOlWV8"
   },
   "outputs": [],
   "source": [
    "# To do"
   ]
  },
  {
   "cell_type": "markdown",
   "metadata": {
    "id": "FTu5kzx6li6k"
   },
   "source": [
    "## Pre-processing\n",
    "\n",
    "The data needs to be reshaped to represent images (width, height and depth).\n",
    "\n",
    "The shape of the training pairs (features) is `(536, 2, 4096)`. What we want is `(536, 2, 64, 64, 1)`."
   ]
  },
  {
   "cell_type": "code",
   "execution_count": null,
   "metadata": {
    "id": "6XJvFuOBli_K"
   },
   "outputs": [],
   "source": [
    "X_train_pair.shape, y_train_pair.shape"
   ]
  },
  {
   "cell_type": "code",
   "execution_count": null,
   "metadata": {
    "id": "XX1V5N26lmGY"
   },
   "outputs": [],
   "source": [
    "X_train_pair = # To do\n",
    "\n",
    "X_test_pair = # To do"
   ]
  },
  {
   "cell_type": "code",
   "execution_count": null,
   "metadata": {
    "id": "CYQkmXiOmKRj"
   },
   "outputs": [],
   "source": [
    "X_train_pair.shape, y_train_pair.shape"
   ]
  },
  {
   "cell_type": "code",
   "execution_count": null,
   "metadata": {
    "id": "Su2n72ZPn19s"
   },
   "outputs": [],
   "source": [
    "X_test_pair.shape, y_test_pair.shape"
   ]
  },
  {
   "cell_type": "markdown",
   "metadata": {
    "id": "htHvDiDx2A8R"
   },
   "source": [
    "To train the network, we need to provide the two inputs (input1 and input 2). \n",
    "\n",
    "Since each datapoint is a pair of images, we need to be able to access each one.\n",
    "\n",
    "The one input will have shape: `(536, 64, 64, 1)` and the other will also be `(536, 64, 64, 1)`"
   ]
  },
  {
   "cell_type": "markdown",
   "metadata": {
    "id": "U80rnaWf3z6I"
   },
   "source": [
    "### Train the model"
   ]
  },
  {
   "cell_type": "code",
   "execution_count": null,
   "metadata": {
    "id": "UD86utvtkdR7"
   },
   "outputs": [],
   "source": [
    "# To do"
   ]
  },
  {
   "cell_type": "markdown",
   "metadata": {
    "id": "ph9lINtE2K7i"
   },
   "source": [
    "## Inference\n",
    "\n",
    "To do this we need to provide the one batch if we want to predict in a single image. To test on a single image we need to add a new dimension in front to create a batch size of 1.\n",
    "\n",
    "Predict on the second testing data point."
   ]
  },
  {
   "cell_type": "code",
   "execution_count": null,
   "metadata": {
    "id": "g55vVXIuk5El"
   },
   "outputs": [],
   "source": [
    "similarity_model.predict(# To do"
   ]
  },
  {
   "cell_type": "markdown",
   "metadata": {
    "id": "ZAzYce_c2Umi"
   },
   "source": [
    "## Predicting on a small batch\n",
    "\n",
    "Hint: \n",
    "\n",
    "```\n",
    "fig, m_axs = plt.subplots(2, 8, figsize = (25, 12))\n",
    "for c_a, c_b, (ax1, ax2) in zip(X_test_pair, y_test_pair,m_axs.T):\n",
    "# TO do\n",
    "```\n",
    "\n"
   ]
  },
  {
   "cell_type": "code",
   "execution_count": null,
   "metadata": {
    "id": "rG2KlpoRk5JS"
   },
   "outputs": [],
   "source": [
    "fig, m_axs = plt.subplots(2, 8, figsize = (25, 12))\n",
    "for c_a, c_b, (ax1, ax2) in zip(X_test_pair, y_test_pair,m_axs.T):\n",
    "# To do"
   ]
  },
  {
   "cell_type": "code",
   "execution_count": null,
   "metadata": {
    "id": "BiUhDxknk5Lh"
   },
   "outputs": [],
   "source": []
  },
  {
   "cell_type": "code",
   "execution_count": null,
   "metadata": {
    "id": "ZgJ7RmPAQLHV"
   },
   "outputs": [],
   "source": []
  }
 ],
 "metadata": {
  "accelerator": "GPU",
  "colab": {
   "collapsed_sections": [],
   "provenance": []
  },
  "kernelspec": {
   "display_name": "Python 3 (ipykernel)",
   "language": "python",
   "name": "python3"
  },
  "language_info": {
   "codemirror_mode": {
    "name": "ipython",
    "version": 3
   },
   "file_extension": ".py",
   "mimetype": "text/x-python",
   "name": "python",
   "nbconvert_exporter": "python",
   "pygments_lexer": "ipython3",
   "version": "3.9.13"
  }
 },
 "nbformat": 4,
 "nbformat_minor": 1
}
