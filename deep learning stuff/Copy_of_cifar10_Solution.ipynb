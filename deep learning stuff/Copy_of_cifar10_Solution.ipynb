{
 "cells": [
  {
   "cell_type": "markdown",
   "metadata": {
    "id": "Zs3Vxo5dmP7j"
   },
   "source": [
    "## Image classification Exercise\n",
    "\n",
    "* Use the techniques you have learnt about to create a CNN to solve this image classification problem.\n",
    "\n",
    "* Use batch normalisation, skip connections, 1x1 convolutions and anything else you have learnt.\n",
    "\n",
    "* Do not modify the data\n",
    "\n",
    "* Obtain at least 80% on the test set\n",
    "\n",
    "Be sure to use hardware acceleration to use the GPU. Click on `Runtime`, change `runtime type`, and select `GPU` for the *hardware accelerator* option."
   ]
  },
  {
   "cell_type": "markdown",
   "metadata": {
    "id": "gpvo-bqTmP7m"
   },
   "source": [
    "## Imports first"
   ]
  },
  {
   "cell_type": "code",
   "execution_count": null,
   "metadata": {
    "colab": {
     "base_uri": "https://localhost:8080/"
    },
    "id": "nvCXvXq5mP7p",
    "outputId": "8d44f1eb-6678-4bb2-c56a-61a7699d8c80"
   },
   "outputs": [
    {
     "name": "stdout",
     "output_type": "stream",
     "text": [
      "2.9.2\n"
     ]
    }
   ],
   "source": [
    "from keras.models import Sequential\n",
    "from keras.layers import Dense\n",
    "from keras.datasets import cifar10\n",
    "import numpy as np\n",
    "import matplotlib.pyplot as plt\n",
    "from keras.utils import np_utils\n",
    "from sklearn.metrics import accuracy_score\n",
    "from keras.utils.np_utils import to_categorical\n",
    "from sklearn.model_selection import train_test_split\n",
    "from sklearn.metrics import accuracy_score, confusion_matrix\n",
    "\n",
    "import pandas as pd\n",
    "%matplotlib inline\n",
    "\n",
    "import tensorflow as tf\n",
    "print(tf.__version__)"
   ]
  },
  {
   "cell_type": "markdown",
   "metadata": {
    "id": "X1GTR35cmP7v"
   },
   "source": [
    "## Load the dataset"
   ]
  },
  {
   "cell_type": "code",
   "execution_count": null,
   "metadata": {
    "colab": {
     "base_uri": "https://localhost:8080/"
    },
    "id": "uQ_KjFJomP7x",
    "outputId": "10287aa0-07da-4092-85be-e854af60039e"
   },
   "outputs": [
    {
     "name": "stdout",
     "output_type": "stream",
     "text": [
      "Downloading data from https://www.cs.toronto.edu/~kriz/cifar-10-python.tar.gz\n",
      "170498071/170498071 [==============================] - 2s 0us/step\n"
     ]
    }
   ],
   "source": [
    "(X_train, Y_train), (X_test, Y_test) = cifar10.load_data()"
   ]
  },
  {
   "cell_type": "markdown",
   "metadata": {
    "id": "6suNqQVyF_5I"
   },
   "source": [
    "## Create a validation set\n",
    "\n",
    "Do not modify this part so we can compare results\n",
    "\n",
    "\n"
   ]
  },
  {
   "cell_type": "code",
   "execution_count": null,
   "metadata": {
    "id": "Or94V_cAGACd"
   },
   "outputs": [],
   "source": [
    "X_train, X_val, Y_train, Y_val = train_test_split(X_train, Y_train, test_size=0.3)"
   ]
  },
  {
   "cell_type": "markdown",
   "metadata": {
    "id": "E-Lw_bPQKQFX"
   },
   "source": [
    "## View the shape"
   ]
  },
  {
   "cell_type": "code",
   "execution_count": null,
   "metadata": {
    "colab": {
     "base_uri": "https://localhost:8080/"
    },
    "id": "ueyWl-aUmP72",
    "outputId": "e3bc5020-de09-4ce2-d20f-ec4105b65560"
   },
   "outputs": [
    {
     "name": "stdout",
     "output_type": "stream",
     "text": [
      "(35000, 32, 32, 3)\n",
      "(15000, 32, 32, 3)\n",
      "(10000, 32, 32, 3)\n"
     ]
    }
   ],
   "source": [
    "print(X_train.shape)\n",
    "print(X_val.shape)\n",
    "print(X_test.shape)"
   ]
  },
  {
   "cell_type": "markdown",
   "metadata": {
    "id": "z51sdOntmP78"
   },
   "source": [
    "## Find the unique numbers from the train labels"
   ]
  },
  {
   "cell_type": "code",
   "execution_count": null,
   "metadata": {
    "colab": {
     "base_uri": "https://localhost:8080/"
    },
    "id": "o29O_gUTmP79",
    "outputId": "746d8630-f841-49ca-ca1a-4af6a3257fd6"
   },
   "outputs": [
    {
     "name": "stdout",
     "output_type": "stream",
     "text": [
      "Total number of outputs :  10\n",
      "Output classes :  [0 1 2 3 4 5 6 7 8 9]\n"
     ]
    }
   ],
   "source": [
    "classes = np.unique(Y_train)\n",
    "nClasses = len(classes)\n",
    "print('Total number of outputs : ', nClasses)\n",
    "print('Output classes : ', classes)"
   ]
  },
  {
   "cell_type": "markdown",
   "metadata": {
    "id": "GMMjLgbimP8B"
   },
   "source": [
    "## Plot some of the data"
   ]
  },
  {
   "cell_type": "code",
   "execution_count": null,
   "metadata": {
    "colab": {
     "base_uri": "https://localhost:8080/",
     "height": 233
    },
    "id": "qQpW4rajmP8C",
    "outputId": "1290f4ac-ec58-4a0c-e444-aee9f6a10843"
   },
   "outputs": [
    {
     "data": {
      "text/plain": [
       "Text(0.5, 1.0, 'Ground Truth : [8]')"
      ]
     },
     "execution_count": 6,
     "metadata": {},
     "output_type": "execute_result"
    },
    {
     "data": {
      "image/png": "[encoded data removed]",
      "text/plain": [
       "<Figure size 432x216 with 2 Axes>"
      ]
     },
     "metadata": {
      "needs_background": "light"
     },
     "output_type": "display_data"
    }
   ],
   "source": [
    "data_point = 15\n",
    "\n",
    "plt.figure(figsize=[6,3])\n",
    " \n",
    "# training data\n",
    "plt.subplot(121)\n",
    "plt.imshow(X_train[data_point,:,:], cmap='gray')\n",
    "plt.title(\"Ground Truth : {}\".format(Y_train[data_point]))\n",
    " \n",
    "# testing data\n",
    "plt.subplot(122)\n",
    "plt.imshow(X_test[data_point,:,:], cmap='gray')\n",
    "plt.title(\"Ground Truth : {}\".format(Y_test[data_point]))"
   ]
  },
  {
   "cell_type": "markdown",
   "metadata": {
    "id": "BA_mGK_NVHwn"
   },
   "source": [
    "## Task: Do we need to reshape the features?\n",
    "\n",
    "Keras wants to know the depth of an image. "
   ]
  },
  {
   "cell_type": "code",
   "execution_count": null,
   "metadata": {
    "id": "D8HTp2YHVH4_"
   },
   "outputs": [],
   "source": [
    "# no"
   ]
  },
  {
   "cell_type": "markdown",
   "metadata": {
    "id": "BykRwF2UmP8b"
   },
   "source": [
    "## Normalise\n",
    "\n",
    "We need to normalise the data since the values range from 0 to 255. Training NNs on data ranging between [0,1] can be easier"
   ]
  },
  {
   "cell_type": "code",
   "execution_count": null,
   "metadata": {
    "id": "FH2lcHF3mP8c"
   },
   "outputs": [],
   "source": [
    "X_train = X_train / 255\n",
    "X_val = X_val / 255\n",
    "X_test = X_test / 255"
   ]
  },
  {
   "cell_type": "markdown",
   "metadata": {
    "id": "UfClFp-6K7P6"
   },
   "source": [
    "## Convert from categorical labels to one-hot encoded vectors\n",
    "\n",
    "In this case there are 10 classes so we can tell the function to convert into a vector of length 10"
   ]
  },
  {
   "cell_type": "code",
   "execution_count": null,
   "metadata": {
    "id": "i3xjsPnVmP8j"
   },
   "outputs": [],
   "source": [
    "Y_train = np_utils.to_categorical(Y_train, 10)\n",
    "Y_test = np_utils.to_categorical(Y_test, 10)\n",
    "num_classes = 10"
   ]
  },
  {
   "cell_type": "markdown",
   "metadata": {
    "id": "VungsdeHmP8u"
   },
   "source": [
    "## Create a CNN model"
   ]
  },
  {
   "cell_type": "code",
   "execution_count": null,
   "metadata": {
    "id": "dUTrmkqSGa_z"
   },
   "outputs": [],
   "source": [
    "from tensorflow.keras import Input, Model\n",
    "inputs = Input(shape=(32,32,3))\n",
    "\n",
    "x = tf.keras.layers.Conv2D(filters=64, kernel_size=3, \n",
    "                                  input_shape = (32,32,3), padding='same')(inputs)\n",
    "x = tf.keras.layers.BatchNormalization()(x)\n",
    "x = tf.keras.layers.Activation('relu')(x)\n",
    "\n",
    "x = tf.keras.layers.Conv2D(filters=64, kernel_size=3, padding='same')(inputs)\n",
    "x = tf.keras.layers.BatchNormalization()(x)\n",
    "x = tf.keras.layers.Activation('relu')(x)\n",
    "\n",
    "residual = tf.keras.layers.Conv2D(64, 1, strides=2, padding='same')(x)\n",
    "\n",
    "x2 = tf.keras.layers.SeparableConv2D(filters=64, kernel_size=3, padding='same')(x)\n",
    "x2 = tf.keras.layers.BatchNormalization()(x2)\n",
    "x2 = tf.keras.layers.Activation('relu')(x2)\n",
    "\n",
    "x2 = tf.keras.layers.SeparableConv2D(filters=64, kernel_size=3, padding='same')(x2)\n",
    "x2 = tf.keras.layers.BatchNormalization()(x2)\n",
    "x2 = tf.keras.layers.Activation('relu')(x2)\n",
    "\n",
    "x2 = tf.keras.layers.MaxPooling2D(2, strides=2, padding='same')(x2)\n",
    "x2 = tf.keras.layers.add([x2, residual])  # Add back residual\n",
    "\n",
    "x2 = tf.keras.layers.Conv2D(filters=128, kernel_size=3, strides = 1)(x2)\n",
    "x2 = tf.keras.layers.BatchNormalization()(x2)\n",
    "x2 = tf.keras.layers.Activation('relu')(x2)\n",
    "x2 = tf.keras.layers.Conv2D(filters=128, kernel_size=3, strides = 1)(x2)\n",
    "x2 = tf.keras.layers.BatchNormalization()(x2)\n",
    "x2 = tf.keras.layers.Activation('relu')(x2)\n",
    "x2 = tf.keras.layers.Conv2D(filters=256, kernel_size=3, strides = 1)(x2)\n",
    "x2 = tf.keras.layers.BatchNormalization()(x2)\n",
    "x2 = tf.keras.layers.Activation('relu')(x2)\n",
    "x2 = tf.keras.layers.Conv2D(filters=256, kernel_size=3, strides = 1)(x2)\n",
    "x2 = tf.keras.layers.BatchNormalization()(x2)\n",
    "x2 = tf.keras.layers.Activation('relu')(x2)\n",
    "x2 = tf.keras.layers.Conv2D(filters=256, kernel_size=3, strides = 2)(x2)\n",
    "x2 = tf.keras.layers.BatchNormalization()(x2)\n",
    "x2 = tf.keras.layers.Activation('relu')(x2)\n",
    "x2 = tf.keras.layers.MaxPooling2D(2, strides=1, padding='same')(x2)\n",
    "\n",
    "x4 = tf.keras.layers.Flatten()(x2)\n",
    "x4 = tf.keras.layers.Dense(10, activation = 'softmax')(x4)"
   ]
  },
  {
   "cell_type": "code",
   "execution_count": null,
   "metadata": {
    "id": "l4sraJdgHbGP"
   },
   "outputs": [],
   "source": [
    "model = Model(inputs, x4)\n",
    "model.compile(loss='categorical_crossentropy',\n",
    "             optimizer='adam',\n",
    "             metrics=['accuracy'])"
   ]
  },
  {
   "cell_type": "markdown",
   "metadata": {
    "id": "bUN6K31smP80"
   },
   "source": [
    "## Determine the number of trainable parameters"
   ]
  },
  {
   "cell_type": "code",
   "execution_count": null,
   "metadata": {
    "colab": {
     "base_uri": "https://localhost:8080/"
    },
    "id": "_DxDanOHmP80",
    "outputId": "f2d3fe8f-c094-4258-9527-d35950c33b44"
   },
   "outputs": [
    {
     "name": "stdout",
     "output_type": "stream",
     "text": [
      "Model: \"model\"\n",
      "__________________________________________________________________________________________________\n",
      " Layer (type)                   Output Shape         Param #     Connected to                     \n",
      "==================================================================================================\n",
      " input_1 (InputLayer)           [(None, 32, 32, 3)]  0           []                               \n",
      "                                                                                                  \n",
      " conv2d_1 (Conv2D)              (None, 32, 32, 64)   1792        ['input_1[0][0]']                \n",
      "                                                                                                  \n",
      " batch_normalization_1 (BatchNo  (None, 32, 32, 64)  256         ['conv2d_1[0][0]']               \n",
      " rmalization)                                                                                     \n",
      "                                                                                                  \n",
      " activation_1 (Activation)      (None, 32, 32, 64)   0           ['batch_normalization_1[0][0]']  \n",
      "                                                                                                  \n",
      " separable_conv2d (SeparableCon  (None, 32, 32, 64)  4736        ['activation_1[0][0]']           \n",
      " v2D)                                                                                             \n",
      "                                                                                                  \n",
      " batch_normalization_2 (BatchNo  (None, 32, 32, 64)  256         ['separable_conv2d[0][0]']       \n",
      " rmalization)                                                                                     \n",
      "                                                                                                  \n",
      " activation_2 (Activation)      (None, 32, 32, 64)   0           ['batch_normalization_2[0][0]']  \n",
      "                                                                                                  \n",
      " separable_conv2d_1 (SeparableC  (None, 32, 32, 64)  4736        ['activation_2[0][0]']           \n",
      " onv2D)                                                                                           \n",
      "                                                                                                  \n",
      " batch_normalization_3 (BatchNo  (None, 32, 32, 64)  256         ['separable_conv2d_1[0][0]']     \n",
      " rmalization)                                                                                     \n",
      "                                                                                                  \n",
      " activation_3 (Activation)      (None, 32, 32, 64)   0           ['batch_normalization_3[0][0]']  \n",
      "                                                                                                  \n",
      " max_pooling2d (MaxPooling2D)   (None, 16, 16, 64)   0           ['activation_3[0][0]']           \n",
      "                                                                                                  \n",
      " conv2d_2 (Conv2D)              (None, 16, 16, 64)   4160        ['activation_1[0][0]']           \n",
      "                                                                                                  \n",
      " add (Add)                      (None, 16, 16, 64)   0           ['max_pooling2d[0][0]',          \n",
      "                                                                  'conv2d_2[0][0]']               \n",
      "                                                                                                  \n",
      " conv2d_3 (Conv2D)              (None, 14, 14, 128)  73856       ['add[0][0]']                    \n",
      "                                                                                                  \n",
      " batch_normalization_4 (BatchNo  (None, 14, 14, 128)  512        ['conv2d_3[0][0]']               \n",
      " rmalization)                                                                                     \n",
      "                                                                                                  \n",
      " activation_4 (Activation)      (None, 14, 14, 128)  0           ['batch_normalization_4[0][0]']  \n",
      "                                                                                                  \n",
      " conv2d_4 (Conv2D)              (None, 12, 12, 128)  147584      ['activation_4[0][0]']           \n",
      "                                                                                                  \n",
      " batch_normalization_5 (BatchNo  (None, 12, 12, 128)  512        ['conv2d_4[0][0]']               \n",
      " rmalization)                                                                                     \n",
      "                                                                                                  \n",
      " activation_5 (Activation)      (None, 12, 12, 128)  0           ['batch_normalization_5[0][0]']  \n",
      "                                                                                                  \n",
      " conv2d_5 (Conv2D)              (None, 10, 10, 256)  295168      ['activation_5[0][0]']           \n",
      "                                                                                                  \n",
      " batch_normalization_6 (BatchNo  (None, 10, 10, 256)  1024       ['conv2d_5[0][0]']               \n",
      " rmalization)                                                                                     \n",
      "                                                                                                  \n",
      " activation_6 (Activation)      (None, 10, 10, 256)  0           ['batch_normalization_6[0][0]']  \n",
      "                                                                                                  \n",
      " conv2d_6 (Conv2D)              (None, 8, 8, 256)    590080      ['activation_6[0][0]']           \n",
      "                                                                                                  \n",
      " batch_normalization_7 (BatchNo  (None, 8, 8, 256)   1024        ['conv2d_6[0][0]']               \n",
      " rmalization)                                                                                     \n",
      "                                                                                                  \n",
      " activation_7 (Activation)      (None, 8, 8, 256)    0           ['batch_normalization_7[0][0]']  \n",
      "                                                                                                  \n",
      " conv2d_7 (Conv2D)              (None, 3, 3, 256)    590080      ['activation_7[0][0]']           \n",
      "                                                                                                  \n",
      " batch_normalization_8 (BatchNo  (None, 3, 3, 256)   1024        ['conv2d_7[0][0]']               \n",
      " rmalization)                                                                                     \n",
      "                                                                                                  \n",
      " activation_8 (Activation)      (None, 3, 3, 256)    0           ['batch_normalization_8[0][0]']  \n",
      "                                                                                                  \n",
      " max_pooling2d_1 (MaxPooling2D)  (None, 3, 3, 256)   0           ['activation_8[0][0]']           \n",
      "                                                                                                  \n",
      " flatten (Flatten)              (None, 2304)         0           ['max_pooling2d_1[0][0]']        \n",
      "                                                                                                  \n",
      " dense (Dense)                  (None, 10)           23050       ['flatten[0][0]']                \n",
      "                                                                                                  \n",
      "==================================================================================================\n",
      "Total params: 1,740,106\n",
      "Trainable params: 1,737,674\n",
      "Non-trainable params: 2,432\n",
      "__________________________________________________________________________________________________\n"
     ]
    }
   ],
   "source": [
    "model.summary()"
   ]
  },
  {
   "cell_type": "markdown",
   "metadata": {
    "id": "ifPs0mftmP84"
   },
   "source": [
    "## Begin training\n",
    "\n",
    "Be sure to use validation data.\n",
    "\n",
    "Use checkpoints to load the best model"
   ]
  },
  {
   "cell_type": "code",
   "execution_count": null,
   "metadata": {
    "id": "ig8nSXBQSp5n"
   },
   "outputs": [],
   "source": [
    "from keras.callbacks import EarlyStopping, ModelCheckpoint\n",
    "mc = ModelCheckpoint('best_model.h5', monitor='val_accuracy', mode='max', verbose=1, save_best_only=True)"
   ]
  },
  {
   "cell_type": "code",
   "execution_count": null,
   "metadata": {
    "colab": {
     "base_uri": "https://localhost:8080/"
    },
    "id": "j8RZc1rhmP84",
    "outputId": "41fbe2f5-8dbf-499a-ac03-bc94de3e830e"
   },
   "outputs": [
    {
     "name": "stdout",
     "output_type": "stream",
     "text": [
      "Epoch 1/15\n",
      "1094/1094 [==============================] - ETA: 0s - loss: 1.5070 - accuracy: 0.4692\n",
      "Epoch 1: val_accuracy improved from -inf to 0.52830, saving model to best_model.h5\n",
      "1094/1094 [==============================] - 28s 16ms/step - loss: 1.5070 - accuracy: 0.4692 - val_loss: 1.3596 - val_accuracy: 0.5283\n",
      "Epoch 2/15\n",
      "1094/1094 [==============================] - ETA: 0s - loss: 1.0328 - accuracy: 0.6363\n",
      "Epoch 2: val_accuracy improved from 0.52830 to 0.58010, saving model to best_model.h5\n",
      "1094/1094 [==============================] - 18s 16ms/step - loss: 1.0328 - accuracy: 0.6363 - val_loss: 1.2813 - val_accuracy: 0.5801\n",
      "Epoch 3/15\n",
      "1092/1094 [============================>.] - ETA: 0s - loss: 0.8320 - accuracy: 0.7115\n",
      "Epoch 3: val_accuracy improved from 0.58010 to 0.59360, saving model to best_model.h5\n",
      "1094/1094 [==============================] - 17s 15ms/step - loss: 0.8323 - accuracy: 0.7114 - val_loss: 1.1934 - val_accuracy: 0.5936\n",
      "Epoch 4/15\n",
      "1091/1094 [============================>.] - ETA: 0s - loss: 0.7015 - accuracy: 0.7579\n",
      "Epoch 4: val_accuracy improved from 0.59360 to 0.71410, saving model to best_model.h5\n",
      "1094/1094 [==============================] - 17s 16ms/step - loss: 0.7008 - accuracy: 0.7582 - val_loss: 0.8300 - val_accuracy: 0.7141\n",
      "Epoch 5/15\n",
      "1091/1094 [============================>.] - ETA: 0s - loss: 0.5983 - accuracy: 0.7937\n",
      "Epoch 5: val_accuracy did not improve from 0.71410\n",
      "1094/1094 [==============================] - 18s 17ms/step - loss: 0.5987 - accuracy: 0.7935 - val_loss: 0.9427 - val_accuracy: 0.6913\n",
      "Epoch 6/15\n",
      "1092/1094 [============================>.] - ETA: 0s - loss: 0.5135 - accuracy: 0.8230\n",
      "Epoch 6: val_accuracy improved from 0.71410 to 0.71510, saving model to best_model.h5\n",
      "1094/1094 [==============================] - 17s 15ms/step - loss: 0.5136 - accuracy: 0.8229 - val_loss: 0.9243 - val_accuracy: 0.7151\n",
      "Epoch 7/15\n",
      "1091/1094 [============================>.] - ETA: 0s - loss: 0.4390 - accuracy: 0.8487\n",
      "Epoch 7: val_accuracy improved from 0.71510 to 0.73710, saving model to best_model.h5\n",
      "1094/1094 [==============================] - 17s 15ms/step - loss: 0.4392 - accuracy: 0.8486 - val_loss: 0.9009 - val_accuracy: 0.7371\n",
      "Epoch 8/15\n",
      "1093/1094 [============================>.] - ETA: 0s - loss: 0.3593 - accuracy: 0.8745\n",
      "Epoch 8: val_accuracy improved from 0.73710 to 0.75710, saving model to best_model.h5\n",
      "1094/1094 [==============================] - 18s 16ms/step - loss: 0.3593 - accuracy: 0.8745 - val_loss: 0.7865 - val_accuracy: 0.7571\n",
      "Epoch 9/15\n",
      "1093/1094 [============================>.] - ETA: 0s - loss: 0.2988 - accuracy: 0.8938\n",
      "Epoch 9: val_accuracy improved from 0.75710 to 0.76620, saving model to best_model.h5\n",
      "1094/1094 [==============================] - 17s 15ms/step - loss: 0.2987 - accuracy: 0.8938 - val_loss: 0.7752 - val_accuracy: 0.7662\n",
      "Epoch 10/15\n",
      "1094/1094 [==============================] - ETA: 0s - loss: 0.2399 - accuracy: 0.9160\n",
      "Epoch 10: val_accuracy did not improve from 0.76620\n",
      "1094/1094 [==============================] - 18s 16ms/step - loss: 0.2399 - accuracy: 0.9160 - val_loss: 0.8122 - val_accuracy: 0.7662\n",
      "Epoch 11/15\n",
      "1093/1094 [============================>.] - ETA: 0s - loss: 0.1889 - accuracy: 0.9326\n",
      "Epoch 11: val_accuracy did not improve from 0.76620\n",
      "1094/1094 [==============================] - 17s 15ms/step - loss: 0.1889 - accuracy: 0.9326 - val_loss: 1.0598 - val_accuracy: 0.7499\n",
      "Epoch 12/15\n",
      "1092/1094 [============================>.] - ETA: 0s - loss: 0.1582 - accuracy: 0.9451\n",
      "Epoch 12: val_accuracy improved from 0.76620 to 0.78670, saving model to best_model.h5\n",
      "1094/1094 [==============================] - 17s 15ms/step - loss: 0.1581 - accuracy: 0.9451 - val_loss: 0.8175 - val_accuracy: 0.7867\n",
      "Epoch 13/15\n",
      "1092/1094 [============================>.] - ETA: 0s - loss: 0.1333 - accuracy: 0.9542\n",
      "Epoch 13: val_accuracy did not improve from 0.78670\n",
      "1094/1094 [==============================] - 18s 16ms/step - loss: 0.1334 - accuracy: 0.9541 - val_loss: 0.9703 - val_accuracy: 0.7819\n",
      "Epoch 14/15\n",
      "1093/1094 [============================>.] - ETA: 0s - loss: 0.1170 - accuracy: 0.9587\n",
      "Epoch 14: val_accuracy did not improve from 0.78670\n",
      "1094/1094 [==============================] - 18s 16ms/step - loss: 0.1169 - accuracy: 0.9587 - val_loss: 0.9788 - val_accuracy: 0.7716\n",
      "Epoch 15/15\n",
      "1093/1094 [============================>.] - ETA: 0s - loss: 0.0961 - accuracy: 0.9656\n",
      "Epoch 15: val_accuracy improved from 0.78670 to 0.79210, saving model to best_model.h5\n",
      "1094/1094 [==============================] - 17s 15ms/step - loss: 0.0961 - accuracy: 0.9656 - val_loss: 0.9665 - val_accuracy: 0.7921\n"
     ]
    }
   ],
   "source": [
    "history = model.fit(X_train, Y_train, validation_data=(X_test, Y_test), epochs=15, batch_size=32, verbose=1, callbacks=[mc])"
   ]
  },
  {
   "cell_type": "code",
   "execution_count": null,
   "metadata": {
    "id": "Ucz7Y-7gT3iK"
   },
   "outputs": [],
   "source": [
    "from keras.models import load_model\n",
    "model = load_model('best_model.h5')"
   ]
  },
  {
   "cell_type": "markdown",
   "metadata": {
    "id": "_j9LecHgmP8_"
   },
   "source": [
    "## Predict on the test data"
   ]
  },
  {
   "cell_type": "code",
   "execution_count": null,
   "metadata": {
    "colab": {
     "base_uri": "https://localhost:8080/"
    },
    "id": "7TtfkDWjmP8_",
    "outputId": "12489e54-4217-4fc6-d589-f6cf2168b652"
   },
   "outputs": [
    {
     "name": "stdout",
     "output_type": "stream",
     "text": [
      "313/313 [==============================] - 1s 4ms/step\n"
     ]
    }
   ],
   "source": [
    "predictions = model.predict(X_test)"
   ]
  },
  {
   "cell_type": "markdown",
   "metadata": {
    "id": "yo4UgmBvmP9F"
   },
   "source": [
    "## Compute the accuracy"
   ]
  },
  {
   "cell_type": "code",
   "execution_count": null,
   "metadata": {
    "colab": {
     "base_uri": "https://localhost:8080/"
    },
    "id": "NwJwKLwRmP9G",
    "outputId": "fc3e5bb4-c0d8-45d8-be09-b5ff420ca523"
   },
   "outputs": [
    {
     "data": {
      "text/plain": [
       "79.21000000000001"
      ]
     },
     "execution_count": 17,
     "metadata": {},
     "output_type": "execute_result"
    }
   ],
   "source": [
    "correct_values = np.argmax(Y_test,axis=-1)\n",
    "predicted_classes = np.argmax(predictions,axis=-1)\n",
    "accuracy_score(predicted_classes,correct_values)*100"
   ]
  },
  {
   "cell_type": "markdown",
   "metadata": {
    "id": "RxvpFhj7N574"
   },
   "source": [
    "## Obtain the confusion matrix"
   ]
  },
  {
   "cell_type": "code",
   "execution_count": null,
   "metadata": {
    "colab": {
     "base_uri": "https://localhost:8080/"
    },
    "id": "PJiTOY3aWjcX",
    "outputId": "721b1b71-1744-4825-9435-8e8be2b71690"
   },
   "outputs": [
    {
     "data": {
      "text/plain": [
       "array([[755,  10,  47,  15,   7,   3,   6,   4,  42,  12],\n",
       "       [ 21, 888,   7,   4,   0,   1,   1,   1,  22,  39],\n",
       "       [ 43,   1, 596,  25,  10,  21,  13,   9,   5,   3],\n",
       "       [ 18,  11,  83, 660,  40, 115,  59,  45,  14,  17],\n",
       "       [ 47,   5, 105,  81, 837,  34,  43,  47,   9,   4],\n",
       "       [ 12,   7,  59, 153,  32, 787,  32,  70,   8,   9],\n",
       "       [  6,   1,  60,  30,  18,   6, 836,   5,  12,   5],\n",
       "       [ 15,   2,  27,  16,  47,  28,   4, 808,   1,   4],\n",
       "       [ 54,   8,   4,  10,   4,   0,   4,   3, 864,  17],\n",
       "       [ 29,  67,  12,   6,   5,   5,   2,   8,  23, 890]])"
      ]
     },
     "execution_count": 18,
     "metadata": {},
     "output_type": "execute_result"
    }
   ],
   "source": [
    "confusion_matrix(predicted_classes,correct_values)"
   ]
  },
  {
   "cell_type": "code",
   "execution_count": null,
   "metadata": {
    "id": "qbslm_mIA2iB"
   },
   "outputs": [],
   "source": []
  }
 ],
 "metadata": {
  "accelerator": "GPU",
  "colab": {
   "collapsed_sections": [],
   "provenance": []
  },
  "kernelspec": {
   "display_name": "Python 3 (ipykernel)",
   "language": "python",
   "name": "python3"
  },
  "language_info": {
   "codemirror_mode": {
    "name": "ipython",
    "version": 3
   },
   "file_extension": ".py",
   "mimetype": "text/x-python",
   "name": "python",
   "nbconvert_exporter": "python",
   "pygments_lexer": "ipython3",
   "version": "3.9.13"
  }
 },
 "nbformat": 4,
 "nbformat_minor": 1
}
