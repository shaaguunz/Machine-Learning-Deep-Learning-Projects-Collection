{
 "cells": [
  {
   "cell_type": "markdown",
   "metadata": {
    "id": "YSon7FLdIS1O"
   },
   "source": [
    "## Autoencoders: denoising\n",
    "\n",
    "In this prac we will train a network to remove noise from an image.\n",
    "\n",
    "![Image denoising results](https://raw.githubusercontent.com/tensorflow/docs/master/site/en/tutorials/generative/images/image_denoise_fmnist_results.png)\n",
    "\n"
   ]
  },
  {
   "cell_type": "markdown",
   "metadata": {
    "id": "e1_Y75QXJS6h"
   },
   "source": [
    "## Import TensorFlow and other libraries"
   ]
  },
  {
   "cell_type": "code",
   "execution_count": null,
   "metadata": {
    "id": "g8FDtJVReB-p"
   },
   "outputs": [],
   "source": []
  },
  {
   "cell_type": "code",
   "execution_count": null,
   "metadata": {
    "id": "YfIk2es3hJEd"
   },
   "outputs": [],
   "source": [
    "import matplotlib.pyplot as plt\n",
    "import numpy as np\n",
    "import pandas as pd\n",
    "import tensorflow as tf\n",
    "from tensorflow import keras\n",
    "from tensorflow.keras import layers\n",
    "from tensorflow.keras import backend as K\n",
    "import tensorflow as tf\n",
    "\n",
    "from sklearn.metrics import accuracy_score, precision_score, recall_score\n",
    "from sklearn.model_selection import train_test_split\n",
    "from tensorflow.keras import layers, losses\n",
    "from tensorflow.keras.datasets import fashion_mnist\n",
    "from tensorflow.keras.models import Model"
   ]
  },
  {
   "cell_type": "markdown",
   "metadata": {
    "id": "sRD3m-MYT6qJ"
   },
   "source": [
    "### Download the data\n",
    "\n",
    "This is an unsupervised problem so we don't need the labels"
   ]
  },
  {
   "cell_type": "code",
   "execution_count": null,
   "metadata": {
    "colab": {
     "base_uri": "https://localhost:8080/"
    },
    "id": "xqGTf1Q9i84Q",
    "outputId": "0941c62d-9c1b-4f4d-929e-5a3f15fd1caa"
   },
   "outputs": [
    {
     "name": "stdout",
     "output_type": "stream",
     "text": [
      "Downloading data from https://storage.googleapis.com/tensorflow/tf-keras-datasets/train-labels-idx1-ubyte.gz\n",
      "32768/29515 [=================================] - 0s 0us/step\n",
      "40960/29515 [=========================================] - 0s 0us/step\n",
      "Downloading data from https://storage.googleapis.com/tensorflow/tf-keras-datasets/train-images-idx3-ubyte.gz\n",
      "26427392/26421880 [==============================] - 0s 0us/step\n",
      "26435584/26421880 [==============================] - 0s 0us/step\n",
      "Downloading data from https://storage.googleapis.com/tensorflow/tf-keras-datasets/t10k-labels-idx1-ubyte.gz\n",
      "16384/5148 [===============================================================================================] - 0s 0us/step\n",
      "Downloading data from https://storage.googleapis.com/tensorflow/tf-keras-datasets/t10k-images-idx3-ubyte.gz\n",
      "4423680/4422102 [==============================] - 0s 0us/step\n",
      "4431872/4422102 [==============================] - 0s 0us/step\n"
     ]
    }
   ],
   "source": [
    "(x_train, _), (x_test, _) = fashion_mnist.load_data()"
   ]
  },
  {
   "cell_type": "markdown",
   "metadata": {
    "id": "Y0J_uY7lT_X2"
   },
   "source": [
    "### Normalise the data\n",
    "\n",
    "Divide by the maximum pixel value, 255."
   ]
  },
  {
   "cell_type": "code",
   "execution_count": null,
   "metadata": {
    "id": "b1cW0HfYi86v"
   },
   "outputs": [],
   "source": [
    "x_train = x_train.astype('float32') / 255.\n",
    "x_test = x_test.astype('float32') / 255."
   ]
  },
  {
   "cell_type": "code",
   "execution_count": null,
   "metadata": {
    "colab": {
     "base_uri": "https://localhost:8080/"
    },
    "id": "_ZCVNc46UKB8",
    "outputId": "e640d50a-efc7-4797-9a42-1a7bd99c0b45"
   },
   "outputs": [
    {
     "data": {
      "text/plain": [
       "(60000, 28, 28)"
      ]
     },
     "execution_count": 6,
     "metadata": {},
     "output_type": "execute_result"
    }
   ],
   "source": [
    "x_train.shape"
   ]
  },
  {
   "cell_type": "markdown",
   "metadata": {
    "id": "rv1JLVAZUEhV"
   },
   "source": [
    "### Reshape the data so that it has a 1 to indicate the depth of each image"
   ]
  },
  {
   "cell_type": "code",
   "execution_count": null,
   "metadata": {
    "id": "YsG2DF21niEv"
   },
   "outputs": [],
   "source": [
    "x_train = x_train[..., tf.newaxis]\n",
    "x_test = x_test[..., tf.newaxis]"
   ]
  },
  {
   "cell_type": "code",
   "execution_count": null,
   "metadata": {
    "colab": {
     "base_uri": "https://localhost:8080/"
    },
    "id": "l4RIFtGxnY0D",
    "outputId": "0554b25a-0ec3-4b1b-f555-dce89126b6ae"
   },
   "outputs": [
    {
     "data": {
      "text/plain": [
       "(60000, 28, 28, 1)"
      ]
     },
     "execution_count": 8,
     "metadata": {},
     "output_type": "execute_result"
    }
   ],
   "source": [
    "x_train.shape"
   ]
  },
  {
   "cell_type": "markdown",
   "metadata": {
    "id": "aPZl_6P65_8R"
   },
   "source": [
    "### Create some noise\n",
    "\n",
    "Adding random noise to the images\n",
    "\n",
    "If you change the value of ```noise_factor``` you will make the resulting images more/less noisy."
   ]
  },
  {
   "cell_type": "code",
   "execution_count": null,
   "metadata": {
    "id": "axSMyxC354fc"
   },
   "outputs": [],
   "source": [
    "noise_factor = 0.1\n",
    "x_train_noisy = x_train + noise_factor * tf.random.normal(shape=x_train.shape) \n",
    "x_test_noisy = x_test + noise_factor * tf.random.normal(shape=x_test.shape) \n",
    "\n",
    "x_train_noisy = tf.clip_by_value(x_train_noisy, clip_value_min=0., clip_value_max=1.)\n",
    "x_test_noisy = tf.clip_by_value(x_test_noisy, clip_value_min=0., clip_value_max=1.)"
   ]
  },
  {
   "cell_type": "markdown",
   "metadata": {
    "id": "wRxHe4XXltNd"
   },
   "source": [
    "Plot the noisy images.\n"
   ]
  },
  {
   "cell_type": "code",
   "execution_count": null,
   "metadata": {
    "colab": {
     "base_uri": "https://localhost:8080/",
     "height": 158
    },
    "id": "thKUmbVVCQpt",
    "outputId": "2e19f47b-da69-4901-f1e2-18b27c671585"
   },
   "outputs": [
    {
     "data": {
      "image/png": "[encoded data removed]",
      "text/plain": [
       "<Figure size 1440x144 with 10 Axes>"
      ]
     },
     "metadata": {
      "needs_background": "light"
     },
     "output_type": "display_data"
    }
   ],
   "source": [
    "n = 10\n",
    "plt.figure(figsize=(20, 2))\n",
    "for i in range(n):\n",
    "    ax = plt.subplot(1, n, i + 1)\n",
    "    plt.title(\"original + noise\")\n",
    "    plt.imshow(tf.squeeze(x_test_noisy[i]))\n",
    "    plt.gray()\n",
    "plt.show()"
   ]
  },
  {
   "cell_type": "markdown",
   "metadata": {
    "id": "HeEb5e6B0ay5"
   },
   "source": [
    "Plot the original images"
   ]
  },
  {
   "cell_type": "code",
   "execution_count": null,
   "metadata": {
    "colab": {
     "base_uri": "https://localhost:8080/",
     "height": 158
    },
    "id": "cjsVeRMS0a32",
    "outputId": "c1a8d87f-d549-46d7-ab37-cae92004a000"
   },
   "outputs": [
    {
     "data": {
      "image/png": "[encoded data removed]",
      "text/plain": [
       "<Figure size 1440x144 with 10 Axes>"
      ]
     },
     "metadata": {
      "needs_background": "light"
     },
     "output_type": "display_data"
    }
   ],
   "source": [
    "n = 10\n",
    "plt.figure(figsize=(20, 2))\n",
    "for i in range(n):\n",
    "    ax = plt.subplot(1, n, i + 1)\n",
    "    plt.title(\"original\")\n",
    "    plt.imshow(tf.squeeze(x_test[i]))\n",
    "    plt.gray()\n",
    "plt.show()"
   ]
  },
  {
   "cell_type": "markdown",
   "metadata": {
    "id": "ZjdkpnvbUOmb"
   },
   "source": [
    "### Encoder\n",
    "\n",
    "Here we want to input an image of (28,28,1) and output a shape of (16) which is the encoded image.\n",
    "\n",
    "So we need to build an appropriate architecture which will produce that output.\n",
    "\n"
   ]
  },
  {
   "cell_type": "code",
   "execution_count": null,
   "metadata": {
    "id": "OQx7glP75J_r"
   },
   "outputs": [],
   "source": [
    "# Here we use the Functional API which requires 3 things (Input, model and output)\n",
    "\n",
    "# Specify the input layer here a shape of 28x28x1 (greyscale images)\n",
    "encoder_input = tf.keras.Input(shape=(28, 28, 1))\n",
    "\n",
    "# First conv layer which will reduce the shape by half given a stride of 2\n",
    "encoder = tf.keras.layers.Conv2D(16, (3, 3), activation='relu', padding='same', strides=2)(encoder_input)\n",
    "\n",
    "# Second conv layer which will reduce the shape by half given a stride of 2\n",
    "encoder_output = tf.keras.layers.Conv2D(8, (3, 3), activation='relu', padding='same', strides=2)(encoder)"
   ]
  },
  {
   "cell_type": "code",
   "execution_count": null,
   "metadata": {
    "colab": {
     "base_uri": "https://localhost:8080/"
    },
    "id": "7pJg6bfD5Tpr",
    "outputId": "b6e8af10-60a9-48c8-920e-ffb0f2ada399"
   },
   "outputs": [
    {
     "data": {
      "text/plain": [
       "TensorShape([None, 7, 7, 8])"
      ]
     },
     "execution_count": 53,
     "metadata": {},
     "output_type": "execute_result"
    }
   ],
   "source": [
    "encoder_output.shape"
   ]
  },
  {
   "cell_type": "markdown",
   "metadata": {
    "id": "XInYfe46Votj"
   },
   "source": [
    "### Decoder\n",
    "\n",
    "Here we want to input a shape of (16) and output an image of (28,28,1) which is the decoded image.\n",
    "\n",
    "So we need to build an appropriate architecture which will produce that output.\n",
    "\n",
    "The decoder is essentially the inverse of the encoder."
   ]
  },
  {
   "cell_type": "code",
   "execution_count": null,
   "metadata": {
    "id": "TgmBipx15hrh"
   },
   "outputs": [],
   "source": [
    "# Here we use the Functional API which requires 3 things (Input, model and output)\n",
    "\n",
    "# Specify the input layer here a shape of (16) (encoded images)\n",
    "decoder_input = tf.keras.Input(shape=(7,7,8))\n",
    "\n",
    "# Working backwards, we can to the opposite of Conv2D which is Transpose convolution. \n",
    "# API https://www.tensorflow.org/api_docs/python/tf/keras/layers/Conv2DTranspose\n",
    "decoder = layers.Conv2DTranspose(8, kernel_size=3, strides=2, activation='relu', padding='same')(decoder_input)\n",
    "\n",
    "decoder = layers.Conv2DTranspose(16, kernel_size=3, strides=2, activation='relu', padding='same')(decoder)\n",
    "\n",
    "# At this point our shape is (28,28,16) but we want (28,28,1) so we can remove the 16 features by\n",
    "# applying a convolutional layer with 1 filter.\n",
    "decoder_output = layers.Conv2D(1, kernel_size=(3, 3), activation='sigmoid', padding='same')(decoder)"
   ]
  },
  {
   "cell_type": "markdown",
   "metadata": {
    "id": "89MasJ8UlzLx"
   },
   "source": [
    "Now, let's take everything above and create our own Model object as a Python class which will inheret from the Model object. Thus we need to override the `__init__ `function and `call` function."
   ]
  },
  {
   "cell_type": "code",
   "execution_count": null,
   "metadata": {
    "id": "ef49wkt_i89Y"
   },
   "outputs": [],
   "source": [
    "from tensorflow.keras.initializers import HeNormal\n",
    "\n",
    "class Autoencoder(Model):\n",
    "  def __init__(self, name=\"autoencoder\"):\n",
    "    super(Autoencoder, self).__init__()\n",
    "\n",
    "    # The Autoencoder has an encoder which we can make using normal layers\n",
    "    # Here we use the Functional API which requires 3 things (Input, model and output)\n",
    "    # ------------------------------------------\n",
    "    # Specify the input layer here a shape of 28x28x1 (greyscale images)\n",
    "    self.encoder_input = tf.keras.Input(shape=(28, 28, 1))\n",
    "\n",
    "    self.encoder = layers.Conv2D(16, (3, 3), activation='relu', padding='same', strides=2, kernel_initializer=HeNormal())(self.encoder_input)\n",
    "\n",
    "    self.encoder_output = layers.Conv2D(8, (3, 3), activation='relu', padding='same', strides=2, kernel_initializer=HeNormal())(self.encoder)\n",
    "\n",
    "    self.encoder_model = tf.keras.Model(self.encoder_input, self.encoder_output)\n",
    "    # ------------------------------------------\n",
    "\n",
    "    # The Autoencoder has an decoder  which we can make using normal layers\n",
    "    # Here we use the Functional API which requires 3 things (Input, model and output)\n",
    "    # ------------------------------------------\n",
    "\n",
    "    self.decoder_input = tf.keras.Input(shape=(7,7,8))\n",
    "\n",
    "    self.decoder = layers.Conv2DTranspose(8, kernel_size=3, strides=2, activation='relu', padding='same', kernel_initializer=HeNormal())(self.decoder_input)\n",
    "    self.decoder = layers.Conv2DTranspose(16, kernel_size=3, strides=2, activation='relu', padding='same', kernel_initializer=HeNormal())(self.decoder)\n",
    "    self.decoder_output = layers.Conv2D(1, kernel_size=(3, 3), activation='sigmoid', padding='same', kernel_initializer=HeNormal())(self.decoder)\n",
    "\n",
    "    self.decoder_model = tf.keras.Model(self.decoder_input, self.decoder_output)\n",
    "    # ------------------------------------------\n",
    "\n",
    "  # The forward pass\n",
    "  def call(self, x):\n",
    "\n",
    "    # Encode the inputs x using the propery defined above\n",
    "    # In the previous notebook we created the encoder and decoder as Sequential Models\n",
    "    # but now since we used the Functional API we need to call the Model objects we created above\n",
    "    encoded = self.encoder_model(x)\n",
    "\n",
    "    # Decode the encoded vector using the property defined above\n",
    "    decoded = self.decoder_model(encoded)\n",
    "\n",
    "    # Return the decoded (28,28) data\n",
    "    return decoded\n",
    "    \n",
    "autoencoder = Autoencoder() "
   ]
  },
  {
   "cell_type": "code",
   "execution_count": null,
   "metadata": {
    "id": "MDsPp1USi8_-"
   },
   "outputs": [],
   "source": [
    "autoencoder.compile(optimizer='adam', loss=losses.MeanSquaredError())"
   ]
  },
  {
   "cell_type": "code",
   "execution_count": null,
   "metadata": {
    "colab": {
     "base_uri": "https://localhost:8080/"
    },
    "id": "QLUPvT_Ii9Ck",
    "outputId": "b0119a7c-36d7-42df-9606-be0c1f59a45b"
   },
   "outputs": [
    {
     "name": "stdout",
     "output_type": "stream",
     "text": [
      "Epoch 1/5\n",
      "1875/1875 [==============================] - 8s 4ms/step - loss: 0.0119 - val_loss: 0.0044\n",
      "Epoch 2/5\n",
      "1875/1875 [==============================] - 6s 3ms/step - loss: 0.0037 - val_loss: 0.0033\n",
      "Epoch 3/5\n",
      "1875/1875 [==============================] - 7s 4ms/step - loss: 0.0030 - val_loss: 0.0028\n",
      "Epoch 4/5\n",
      "1875/1875 [==============================] - 6s 3ms/step - loss: 0.0025 - val_loss: 0.0023\n",
      "Epoch 5/5\n",
      "1875/1875 [==============================] - 7s 4ms/step - loss: 0.0022 - val_loss: 0.0022\n"
     ]
    },
    {
     "data": {
      "text/plain": [
       "<keras.callbacks.History at 0x7ff580471790>"
      ]
     },
     "execution_count": 57,
     "metadata": {},
     "output_type": "execute_result"
    }
   ],
   "source": [
    "autoencoder.fit(x_train, x_train,\n",
    "                epochs=5,\n",
    "                shuffle=True,\n",
    "                validation_data=(x_test, x_test))"
   ]
  },
  {
   "cell_type": "code",
   "execution_count": null,
   "metadata": {
    "colab": {
     "base_uri": "https://localhost:8080/"
    },
    "id": "4-MFPKXei9FL",
    "outputId": "75f2fadc-98c8-42d6-9912-25fd6e038587"
   },
   "outputs": [
    {
     "name": "stdout",
     "output_type": "stream",
     "text": [
      "Model: \"autoencoder_1\"\n",
      "_________________________________________________________________\n",
      " Layer (type)                Output Shape              Param #   \n",
      "=================================================================\n",
      " model_2 (Functional)        (None, 7, 7, 8)           1320      \n",
      "                                                                 \n",
      " model_3 (Functional)        (None, 28, 28, 1)         1897      \n",
      "                                                                 \n",
      "=================================================================\n",
      "Total params: 3,217\n",
      "Trainable params: 3,217\n",
      "Non-trainable params: 0\n",
      "_________________________________________________________________\n"
     ]
    }
   ],
   "source": [
    "autoencoder.summary()"
   ]
  },
  {
   "cell_type": "code",
   "execution_count": null,
   "metadata": {
    "colab": {
     "base_uri": "https://localhost:8080/"
    },
    "id": "qV8kHSieonBg",
    "outputId": "ec499c61-6610-4c29-9583-6e6c4b164818"
   },
   "outputs": [
    {
     "data": {
      "text/plain": [
       "(28, 28)"
      ]
     },
     "execution_count": 59,
     "metadata": {},
     "output_type": "execute_result"
    }
   ],
   "source": [
    "# Let's view a test example\n",
    "x_test[0,:,:,0].shape"
   ]
  },
  {
   "cell_type": "code",
   "execution_count": null,
   "metadata": {
    "colab": {
     "base_uri": "https://localhost:8080/",
     "height": 265
    },
    "id": "w8uZpo6Hi9Hz",
    "outputId": "f5007272-613d-4824-9290-6128bd8787d9"
   },
   "outputs": [
    {
     "data": {
      "image/png": "[encoded data removed]",
      "text/plain": [
       "<Figure size 432x288 with 1 Axes>"
      ]
     },
     "metadata": {
      "needs_background": "light"
     },
     "output_type": "display_data"
    }
   ],
   "source": [
    "plt.imshow(x_test_noisy[0,:,:,0])\n",
    "plt.gray()"
   ]
  },
  {
   "cell_type": "code",
   "execution_count": null,
   "metadata": {
    "id": "zl8weMhci9Ku"
   },
   "outputs": [],
   "source": [
    "# Encode the testing example\n",
    "encoded_img = autoencoder.encoder_model(np.expand_dims(x_test_noisy[0],0)).numpy()"
   ]
  },
  {
   "cell_type": "code",
   "execution_count": null,
   "metadata": {
    "colab": {
     "base_uri": "https://localhost:8080/"
    },
    "id": "GOQOuPRri9Mu",
    "outputId": "54b6aab0-896c-437f-a298-3b47a2995e77"
   },
   "outputs": [
    {
     "data": {
      "text/plain": [
       "(1, 7, 7, 8)"
      ]
     },
     "execution_count": 62,
     "metadata": {},
     "output_type": "execute_result"
    }
   ],
   "source": [
    "encoded_img.shape"
   ]
  },
  {
   "cell_type": "code",
   "execution_count": null,
   "metadata": {
    "colab": {
     "base_uri": "https://localhost:8080/"
    },
    "id": "YpyOM9t1o0hb",
    "outputId": "e15bfb43-4e5c-4f47-e48f-646f3c686739"
   },
   "outputs": [
    {
     "data": {
      "text/plain": [
       "(1, 7, 7, 8)"
      ]
     },
     "execution_count": 63,
     "metadata": {},
     "output_type": "execute_result"
    }
   ],
   "source": [
    "# 16 values!\n",
    "encoded_img.shape"
   ]
  },
  {
   "cell_type": "code",
   "execution_count": null,
   "metadata": {
    "id": "Pm6sVs2_o4Hk"
   },
   "outputs": [],
   "source": [
    "# Now take those 16 values and reconstruct the input\n",
    "# i.e. we will go from 16 values to 784 values\n",
    "decoded_img = autoencoder.decoder_model(encoded_img).numpy()"
   ]
  },
  {
   "cell_type": "code",
   "execution_count": null,
   "metadata": {
    "colab": {
     "base_uri": "https://localhost:8080/"
    },
    "id": "7dPKImAWo4KP",
    "outputId": "fec1b5aa-1d88-42ec-fd96-734df67bb951"
   },
   "outputs": [
    {
     "data": {
      "text/plain": [
       "(1, 28, 28, 1)"
      ]
     },
     "execution_count": 65,
     "metadata": {},
     "output_type": "execute_result"
    }
   ],
   "source": [
    "decoded_img.shape"
   ]
  },
  {
   "cell_type": "code",
   "execution_count": null,
   "metadata": {
    "colab": {
     "base_uri": "https://localhost:8080/",
     "height": 265
    },
    "id": "VAs8Xt5Ko4Rk",
    "outputId": "3bb7845e-d24f-4861-fd9f-48740b0675c7"
   },
   "outputs": [
    {
     "data": {
      "image/png": "[encoded data removed]",
      "text/plain": [
       "<Figure size 432x288 with 1 Axes>"
      ]
     },
     "metadata": {
      "needs_background": "light"
     },
     "output_type": "display_data"
    }
   ],
   "source": [
    "plt.imshow(decoded_img[0,:,:,0])\n",
    "plt.gray()"
   ]
  },
  {
   "cell_type": "markdown",
   "metadata": {
    "id": "8BWCx-rOPWWl"
   },
   "source": [
    "## Now let's compare the original images to the recontructed images on all of the testing data"
   ]
  },
  {
   "cell_type": "code",
   "execution_count": null,
   "metadata": {
    "id": "lfZF_P7kPeyT"
   },
   "outputs": [],
   "source": [
    "encoded_imgs = autoencoder.encoder_model(x_test_noisy).numpy()\n",
    "decoded_imgs = autoencoder.decoder_model(encoded_imgs).numpy()"
   ]
  },
  {
   "cell_type": "code",
   "execution_count": null,
   "metadata": {
    "colab": {
     "base_uri": "https://localhost:8080/",
     "height": 264
    },
    "id": "s4LlDOS6FUA1",
    "outputId": "0a48c796-b16f-4922-cf55-66935f2aaf9a"
   },
   "outputs": [
    {
     "data": {
      "image/png": "[encoded data removed]",
      "text/plain": [
       "<Figure size 1440x288 with 20 Axes>"
      ]
     },
     "metadata": {
      "needs_background": "light"
     },
     "output_type": "display_data"
    }
   ],
   "source": [
    "n = 10\n",
    "plt.figure(figsize=(20, 4))\n",
    "for i in range(n):\n",
    "  # display original\n",
    "  ax = plt.subplot(2, n, i + 1)\n",
    "  plt.imshow(x_test_noisy[i,:,:,0])\n",
    "  plt.title(\"original\")\n",
    "  plt.gray()\n",
    "  ax.get_xaxis().set_visible(False)\n",
    "  ax.get_yaxis().set_visible(False)\n",
    "\n",
    "  # display reconstruction\n",
    "  ax = plt.subplot(2, n, i + 1 + n)\n",
    "  plt.imshow(decoded_imgs[i,:,:,0])\n",
    "  plt.title(\"reconstructed\")\n",
    "  plt.gray()\n",
    "  ax.get_xaxis().set_visible(False)\n",
    "  ax.get_yaxis().set_visible(False)\n",
    "plt.show()"
   ]
  },
  {
   "cell_type": "code",
   "execution_count": null,
   "metadata": {
    "id": "sVRPQaTQeY4f"
   },
   "outputs": [],
   "source": []
  }
 ],
 "metadata": {
  "accelerator": "GPU",
  "colab": {
   "collapsed_sections": [],
   "provenance": []
  },
  "kernelspec": {
   "display_name": "Python 3 (ipykernel)",
   "language": "python",
   "name": "python3"
  },
  "language_info": {
   "codemirror_mode": {
    "name": "ipython",
    "version": 3
   },
   "file_extension": ".py",
   "mimetype": "text/x-python",
   "name": "python",
   "nbconvert_exporter": "python",
   "pygments_lexer": "ipython3",
   "version": "3.9.13"
  }
 },
 "nbformat": 4,
 "nbformat_minor": 1
}
