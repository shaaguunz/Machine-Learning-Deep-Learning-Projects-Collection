{
 "cells": [
  {
   "cell_type": "markdown",
   "metadata": {
    "id": "DmTjXzYnkyNK"
   },
   "source": [
    "# 2D CNNs for audio classification\n",
    "\n",
    "## Note: run this notebook in advance, it takes some time to downsample the audio files\n"
   ]
  },
  {
   "cell_type": "code",
   "execution_count": null,
   "metadata": {
    "id": "m6r6RmD5n_Em"
   },
   "outputs": [],
   "source": [
    "import os\n",
    "from os.path import isdir, join\n",
    "from pathlib import Path\n",
    "\n",
    "# Scientific Math \n",
    "import numpy as np\n",
    "from scipy.fftpack import fft\n",
    "from scipy import signal\n",
    "from scipy.io import wavfile\n",
    "from sklearn.model_selection import train_test_split\n",
    "\n",
    "# Visualization\n",
    "import matplotlib.pyplot as plt\n",
    "import tensorflow as tf\n",
    "import plotly.offline as py\n",
    "import plotly.graph_objs as go\n",
    "\n",
    "#Deep learning\n",
    "import tensorflow.keras as keras\n",
    "from tensorflow.keras.layers import Dense, Dropout, Flatten\n",
    "from tensorflow.keras import Input, layers\n",
    "\n",
    "import random\n",
    "import copy\n",
    "import librosa\n",
    "import shutil\n",
    "\n",
    "%matplotlib inline"
   ]
  },
  {
   "cell_type": "markdown",
   "metadata": {
    "id": "6jxF_e4Hs4xd"
   },
   "source": [
    "## Download the data"
   ]
  },
  {
   "cell_type": "code",
   "execution_count": null,
   "metadata": {
    "colab": {
     "base_uri": "https://localhost:8080/"
    },
    "id": "MENkH3pqlSXJ",
    "outputId": "41959c0c-25ef-4269-b5a4-83f1fecaf456"
   },
   "outputs": [
    {
     "name": "stdout",
     "output_type": "stream",
     "text": [
      "--2022-08-27 09:30:42--  http://download.tensorflow.org/data/speech_commands_v0.01.tar.gz\n",
      "Resolving download.tensorflow.org (download.tensorflow.org)... 172.253.115.128, 2607:f8b0:4004:c06::80\n",
      "Connecting to download.tensorflow.org (download.tensorflow.org)|172.253.115.128|:80... connected.\n",
      "HTTP request sent, awaiting response... 200 OK\n",
      "Length: 1489096277 (1.4G) [application/gzip]\n",
      "Saving to: ‘speech_commands_v0.01.tar.gz’\n",
      "\n",
      "speech_commands_v0. 100%[===================>]   1.39G   208MB/s    in 7.1s    \n",
      "\n",
      "2022-08-27 09:30:49 (199 MB/s) - ‘speech_commands_v0.01.tar.gz’ saved [1489096277/1489096277]\n",
      "\n"
     ]
    }
   ],
   "source": [
    "!wget http://download.tensorflow.org/data/speech_commands_v0.01.tar.gz"
   ]
  },
  {
   "cell_type": "markdown",
   "metadata": {
    "id": "47ydOtBls2ZY"
   },
   "source": [
    "## Create a folder and extract the files"
   ]
  },
  {
   "cell_type": "code",
   "execution_count": null,
   "metadata": {
    "id": "0HfDFTgwliYF"
   },
   "outputs": [],
   "source": [
    "!mkdir speech_commands\n",
    "!tar -C ./speech_commands -xf speech_commands_v0.01.tar.gz "
   ]
  },
  {
   "cell_type": "markdown",
   "metadata": {
    "id": "JfUlJhMPszSm"
   },
   "source": [
    "## Only keep the numbers and get rid of the other command words"
   ]
  },
  {
   "cell_type": "code",
   "execution_count": null,
   "metadata": {
    "id": "k19eOzkVrtCE"
   },
   "outputs": [],
   "source": [
    "folders_to_delete = ['bed','bird','cat','dog','down','go','happy','house',\n",
    "                     'left','marvin','no','off','sheila','stop','up','wow','yes',\n",
    "                     'on','right','tree', 'six','seven','eight','nine']\n",
    "for folder in folders_to_delete:  \n",
    "  if os.path.isdir(\"./speech_commands/\"+folder):\n",
    "    shutil.rmtree(\"./speech_commands/\"+folder)"
   ]
  },
  {
   "cell_type": "markdown",
   "metadata": {
    "id": "KUxVBEVts8QH"
   },
   "source": [
    "## Keep track of all the folders (i.e. all command words)"
   ]
  },
  {
   "cell_type": "code",
   "execution_count": null,
   "metadata": {
    "colab": {
     "base_uri": "https://localhost:8080/"
    },
    "id": "X7mHQwHtqeC4",
    "outputId": "d4e6629b-b425-47ed-da64-e54d8c137281"
   },
   "outputs": [
    {
     "name": "stdout",
     "output_type": "stream",
     "text": [
      "Number of labels: 6\n",
      "['_background_noise_', 'five', 'four', 'one', 'three', 'two', 'zero']\n"
     ]
    }
   ],
   "source": [
    "train_audio_path = \"./speech_commands/\"\n",
    "\n",
    "dirs = [f for f in os.listdir(train_audio_path) if isdir(join(train_audio_path, f))]\n",
    "dirs.sort()\n",
    "print('Number of labels: ' + str(len(dirs[1:])))\n",
    "print(dirs)"
   ]
  },
  {
   "cell_type": "markdown",
   "metadata": {
    "id": "J_0IkLD-tAuk"
   },
   "source": [
    "## Read all the data"
   ]
  },
  {
   "cell_type": "code",
   "execution_count": null,
   "metadata": {
    "colab": {
     "base_uri": "https://localhost:8080/"
    },
    "id": "5A5OQse9pGDN",
    "outputId": "ad440172-f884-4d71-fb67-436261b18888"
   },
   "outputs": [
    {
     "name": "stdout",
     "output_type": "stream",
     "text": [
      "['zero', 'one', 'two', 'three', 'four', 'five']\n"
     ]
    }
   ],
   "source": [
    "target_list = ['zero', 'one', 'two', 'three', 'four', 'five']\n",
    "print(target_list)\n",
    "\n",
    "# Keep an index so that each class can get a number starting from zero\n",
    "i=0;"
   ]
  },
  {
   "cell_type": "markdown",
   "metadata": {
    "id": "vO5hHlButYkJ"
   },
   "source": [
    "## Read all the background noise files\n",
    "\n",
    "Note that was are resampling the data to 8000Hz. This will speed up computation later on. The original sample rate was 16000Hz which means that each data point has a higher resolution and computationally more expensive to process.\n",
    "\n",
    "Takes about 15 seconds to run"
   ]
  },
  {
   "cell_type": "code",
   "execution_count": null,
   "metadata": {
    "id": "kOYFPfAQtFGW"
   },
   "outputs": [],
   "source": [
    "# Get all the files which end with .wav from the background noise folder\n",
    "background = [f for f in os.listdir(join(train_audio_path, '_background_noise_')) if f.endswith('.wav')]\n",
    "\n",
    "# Create an empty list to store them\n",
    "X_noise = []\n",
    "y_noise = []\n",
    "\n",
    "# Iterate over each audio file\n",
    "for wav in background : \n",
    "    # Read the file\n",
    "    samples, sample_rate = librosa.load(join(join(train_audio_path,'_background_noise_'),wav))\n",
    "\n",
    "    # Downsample\n",
    "    samples = librosa.resample(samples, sample_rate, 8000)\n",
    "\n",
    "    # Append to list\n",
    "    X_noise.append(samples)\n",
    "    y_noise.append(0)\n"
   ]
  },
  {
   "cell_type": "code",
   "execution_count": null,
   "metadata": {
    "colab": {
     "base_uri": "https://localhost:8080/"
    },
    "id": "OeAKz1SNtoH8",
    "outputId": "ca6729dd-60eb-47c0-fc62-057c1cc5dacc"
   },
   "outputs": [
    {
     "data": {
      "text/plain": [
       "6"
      ]
     },
     "execution_count": 8,
     "metadata": {},
     "output_type": "execute_result"
    }
   ],
   "source": [
    "len(X_noise)"
   ]
  },
  {
   "cell_type": "code",
   "execution_count": null,
   "metadata": {
    "colab": {
     "base_uri": "https://localhost:8080/"
    },
    "id": "sMBdlUK_-Qw1",
    "outputId": "134ad878-1849-453e-f4bd-7428b238d4a1"
   },
   "outputs": [
    {
     "data": {
      "text/plain": [
       "6"
      ]
     },
     "execution_count": 9,
     "metadata": {},
     "output_type": "execute_result"
    }
   ],
   "source": [
    "len(y_noise)"
   ]
  },
  {
   "cell_type": "markdown",
   "metadata": {
    "id": "8WXFq5zE6Kyd"
   },
   "source": [
    "This part below takes about 4 minutes to execute.\n",
    "\n",
    "It gets all the audio files (except for the files in the background folder) and appends them to a list. Each audio file is downsampled."
   ]
  },
  {
   "cell_type": "code",
   "execution_count": null,
   "metadata": {
    "colab": {
     "base_uri": "https://localhost:8080/"
    },
    "id": "jyxoNAwCtCye",
    "outputId": "493febca-407d-4adc-bc2e-108bba290f84"
   },
   "outputs": [
    {
     "name": "stdout",
     "output_type": "stream",
     "text": [
      "1:five 2:four 3:one 4:three 5:two 6:zero "
     ]
    }
   ],
   "source": [
    "X_other = []\n",
    "y_other = []\n",
    "\n",
    "for direct in dirs[1:]:\n",
    "    # Get all the files which end with .wav from all folders except for the background\n",
    "    waves = [f for f in os.listdir(join(train_audio_path, direct)) if f.endswith('.wav')]\n",
    "    i = i + 1\n",
    "    print(str(i)+\":\" +str(direct) + \" \", end=\"\")\n",
    "\n",
    "    for wav in waves:\n",
    "        samples, sample_rate = librosa.load(join(join(train_audio_path,direct),wav), sr = 16000)\n",
    "        samples = librosa.resample(samples, sample_rate, 8000)\n",
    "        if len(samples) != 8000 : \n",
    "            continue\n",
    "            \n",
    "        X_other.append(samples)\n",
    "        y_other.append(i)"
   ]
  },
  {
   "cell_type": "code",
   "execution_count": null,
   "metadata": {
    "id": "czbCMKy3-sIE"
   },
   "outputs": [],
   "source": [
    "X_other = np.asarray(X_other)"
   ]
  },
  {
   "cell_type": "code",
   "execution_count": null,
   "metadata": {
    "id": "GmVAVBvd-uqA"
   },
   "outputs": [],
   "source": [
    "y_other = np.asarray(y_other)"
   ]
  },
  {
   "cell_type": "code",
   "execution_count": null,
   "metadata": {
    "colab": {
     "base_uri": "https://localhost:8080/"
    },
    "id": "2N1kvaEe_x9q",
    "outputId": "09af35d1-805e-41e7-be71-6813c8d02f49"
   },
   "outputs": [
    {
     "data": {
      "text/plain": [
       "(12908, 8000)"
      ]
     },
     "execution_count": 13,
     "metadata": {},
     "output_type": "execute_result"
    }
   ],
   "source": [
    "X_other.shape"
   ]
  },
  {
   "cell_type": "code",
   "execution_count": null,
   "metadata": {
    "colab": {
     "base_uri": "https://localhost:8080/"
    },
    "id": "6LIhL3lJ_x_c",
    "outputId": "63475114-d92b-4fc9-b33a-3d6764f6fa6a"
   },
   "outputs": [
    {
     "data": {
      "text/plain": [
       "(12908,)"
      ]
     },
     "execution_count": 14,
     "metadata": {},
     "output_type": "execute_result"
    }
   ],
   "source": [
    "y_other.shape"
   ]
  },
  {
   "cell_type": "code",
   "execution_count": null,
   "metadata": {
    "id": "XdGY4LfK6v6D"
   },
   "outputs": [],
   "source": [
    "def get_noise():\n",
    "  # Randomly select one of the background noise files\n",
    "  select_noise_file = random.randint(0, len(X_noise)-1)\n",
    "\n",
    "  # Get the randomly selected noise file\n",
    "  noisy_audio = X_noise[select_noise_file]\n",
    "\n",
    "  # Ranomly shift this noisy file by some random value\n",
    "  noisy_audio = np.roll(noisy_audio,shift = random.randint(0,len(noisy_audio)-1))\n",
    "\n",
    "  # Get the first 8000 samples of noisy data which was randomly shifted so it's not\n",
    "  # always the same\n",
    "  noisy_segment = noisy_audio[0:8000]\n",
    "\n",
    "  return noisy_segment"
   ]
  },
  {
   "cell_type": "markdown",
   "metadata": {
    "id": "Qg-TxsTf639C"
   },
   "source": [
    "Here we augment the dataset.\n",
    "\n",
    "All"
   ]
  },
  {
   "cell_type": "code",
   "execution_count": null,
   "metadata": {
    "id": "E0mltv2h60-J"
   },
   "outputs": [],
   "source": [
    "max_ratio = 0.1\n",
    "X = []\n",
    "y = []\n",
    "augment = 1\n",
    "\n",
    "# Iterate over all the data\n",
    "for i, signal in enumerate(X_other):\n",
    "\n",
    "  # We might not always want to augment everything\n",
    "  if random.uniform(0, 1) > 0.5:\n",
    "    # Get a noisy segment\n",
    "    noise = get_noise()\n",
    "\n",
    "    # Combine an original file along with a noisy file\n",
    "    signal = signal + (max_ratio * noise)\n",
    "\n",
    "  X.append(signal)\n",
    "  y.append(y_other[i])"
   ]
  },
  {
   "cell_type": "code",
   "execution_count": null,
   "metadata": {
    "id": "DWWGWYIJ8qGy"
   },
   "outputs": [],
   "source": [
    "X = np.asarray(X)\n",
    "y = np.asarray(y)"
   ]
  },
  {
   "cell_type": "code",
   "execution_count": null,
   "metadata": {
    "colab": {
     "base_uri": "https://localhost:8080/"
    },
    "id": "DecKdx9T67FC",
    "outputId": "cafe603e-f113-45ad-a5f7-8e168317bed7"
   },
   "outputs": [
    {
     "name": "stdout",
     "output_type": "stream",
     "text": [
      "(12908, 8000)\n",
      "(12908,)\n"
     ]
    }
   ],
   "source": [
    "print(X.shape)\n",
    "print(y.shape)"
   ]
  },
  {
   "cell_type": "markdown",
   "metadata": {
    "id": "uq3Tc1J5O144"
   },
   "source": [
    "# Create, view and pre-process a spectrogram"
   ]
  },
  {
   "cell_type": "code",
   "execution_count": null,
   "metadata": {
    "colab": {
     "base_uri": "https://localhost:8080/"
    },
    "id": "8b-YOiPWN13b",
    "outputId": "90f0d4d7-6922-4f9e-ebcc-e975fb4fa05a"
   },
   "outputs": [
    {
     "data": {
      "text/plain": [
       "8000"
      ]
     },
     "execution_count": 19,
     "metadata": {},
     "output_type": "execute_result"
    }
   ],
   "source": [
    "ID = 10000\n",
    "audio = X[ID]\n",
    "len(audio)"
   ]
  },
  {
   "cell_type": "code",
   "execution_count": null,
   "metadata": {
    "id": "W-qTZWWZOZAW"
   },
   "outputs": [],
   "source": [
    "n_fft = 1024\n",
    "hop_length = 128\n",
    "n_mels = 128"
   ]
  },
  {
   "cell_type": "code",
   "execution_count": null,
   "metadata": {
    "id": "2Ckv92t1Nz6E"
   },
   "outputs": [],
   "source": [
    "S = librosa.feature.melspectrogram(audio, n_fft=n_fft,hop_length=hop_length, \n",
    "                                    n_mels=n_mels)"
   ]
  },
  {
   "cell_type": "code",
   "execution_count": null,
   "metadata": {
    "id": "_zDODMNbOvak"
   },
   "outputs": [],
   "source": [
    "import librosa.display"
   ]
  },
  {
   "cell_type": "code",
   "execution_count": null,
   "metadata": {
    "colab": {
     "base_uri": "https://localhost:8080/",
     "height": 296
    },
    "id": "KjvBfdpEONxy",
    "outputId": "a47bb669-f593-4e58-91a6-bdf8a500bc0f"
   },
   "outputs": [
    {
     "name": "stdout",
     "output_type": "stream",
     "text": [
      "5\n"
     ]
    },
    {
     "data": {
      "image/png": "[encoded data removed]",
      "text/plain": [
       "<Figure size 432x288 with 1 Axes>"
      ]
     },
     "metadata": {
      "needs_background": "light"
     },
     "output_type": "display_data"
    }
   ],
   "source": [
    "# This snippet of code is only for viewing\n",
    "S_dB = librosa.power_to_db(S, ref=np.max)\n",
    "librosa.display.specshow(S_dB, x_axis='time',\n",
    "                         y_axis='mel', sr=8000)\n",
    "print (y[ID])"
   ]
  },
  {
   "cell_type": "code",
   "execution_count": null,
   "metadata": {
    "id": "tbIT82mgN4-a"
   },
   "outputs": [],
   "source": [
    "image = librosa.core.power_to_db(S)\n",
    "image_np = np.asmatrix(image)"
   ]
  },
  {
   "cell_type": "code",
   "execution_count": null,
   "metadata": {
    "id": "RZHm_mjiN5Aq"
   },
   "outputs": [],
   "source": [
    "image_np_scaled_temp = (image_np - np.min(image_np))\n",
    "image_np_scaled = image_np_scaled_temp / np.max(image_np_scaled_temp)"
   ]
  },
  {
   "cell_type": "code",
   "execution_count": null,
   "metadata": {
    "colab": {
     "base_uri": "https://localhost:8080/"
    },
    "id": "8vgAlOdkOCXk",
    "outputId": "813bf3c9-27c5-423c-9b4c-4dfabf3984f5"
   },
   "outputs": [
    {
     "data": {
      "text/plain": [
       "(128, 63)"
      ]
     },
     "execution_count": 26,
     "metadata": {},
     "output_type": "execute_result"
    }
   ],
   "source": [
    "image_np_scaled.shape"
   ]
  },
  {
   "cell_type": "code",
   "execution_count": null,
   "metadata": {
    "id": "_vGT8hrfOEob"
   },
   "outputs": [],
   "source": [
    "mean = image.flatten().mean()\n",
    "std = image.flatten().std()"
   ]
  },
  {
   "cell_type": "code",
   "execution_count": null,
   "metadata": {
    "colab": {
     "base_uri": "https://localhost:8080/"
    },
    "id": "XxKAdEpVN_za",
    "outputId": "52af8e63-570d-4989-b70a-b767e58be5e3"
   },
   "outputs": [
    {
     "data": {
      "text/plain": [
       "-55.480896"
      ]
     },
     "execution_count": 28,
     "metadata": {},
     "output_type": "execute_result"
    }
   ],
   "source": [
    "mean"
   ]
  },
  {
   "cell_type": "code",
   "execution_count": null,
   "metadata": {
    "colab": {
     "base_uri": "https://localhost:8080/"
    },
    "id": "f03PtsgTOAlf",
    "outputId": "81c1cd6e-4263-4876-d399-439bf7fcbe30"
   },
   "outputs": [
    {
     "data": {
      "text/plain": [
       "16.838982"
      ]
     },
     "execution_count": 29,
     "metadata": {},
     "output_type": "execute_result"
    }
   ],
   "source": [
    "std"
   ]
  },
  {
   "cell_type": "code",
   "execution_count": null,
   "metadata": {},
   "outputs": [],
   "source": []
  },
  {
   "cell_type": "code",
   "execution_count": null,
   "metadata": {
    "id": "1O2Q_u6gN5Cw"
   },
   "outputs": [],
   "source": [
    "\n",
    "\n",
    "eps=1e-8\n",
    "spec_norm = (image - mean) / (std + eps)\n",
    "spec_min, spec_max = spec_norm.min(), spec_norm.max()a\n",
    "spec_scaled = (spec_norm - spec_min) / (spec_max - spec_min)\n",
    "S1 = spec_scaled"
   ]
  },
  {
   "cell_type": "code",
   "execution_count": null,
   "metadata": {
    "id": "6MF8E0LCNQFw"
   },
   "outputs": [],
   "source": [
    "def convert_single_to_image(audio, n_fft, hop_length, n_mels):\n",
    "\n",
    "    '''\n",
    "    Convert amplitude values into a mel-spectrogram.\n",
    "    '''\n",
    "    S = librosa.feature.melspectrogram(audio, n_fft=n_fft,hop_length=hop_length, \n",
    "                                        n_mels=n_mels)\n",
    "    \n",
    "    image = librosa.core.power_to_db(S)\n",
    "    image_np = np.asmatrix(image)\n",
    "    image_np_scaled_temp = (image_np - np.min(image_np))\n",
    "    image_np_scaled = image_np_scaled_temp / np.max(image_np_scaled_temp)\n",
    "    mean = image.flatten().mean()\n",
    "    std = image.flatten().std()\n",
    "    eps=1e-8\n",
    "    spec_norm = (image - mean) / (std + eps)\n",
    "    spec_min, spec_max = spec_norm.min(), spec_norm.max()\n",
    "    spec_scaled = (spec_norm - spec_min) / (spec_max - spec_min)\n",
    "    S1 = spec_scaled\n",
    "    \n",
    "    return S1"
   ]
  },
  {
   "cell_type": "code",
   "execution_count": null,
   "metadata": {
    "id": "gJ5Y2hquNQIN"
   },
   "outputs": [],
   "source": [
    "def convert_all_to_image(segments, n_fft, hop_length, n_mels):\n",
    "    '''\n",
    "    Convert a number of segments into their corresponding spectrograms.\n",
    "    '''\n",
    "    spectrograms = []\n",
    "    for segment in segments:\n",
    "        spectrograms.append(convert_single_to_image(segment, n_fft, hop_length, n_mels))\n",
    "\n",
    "    return np.array(spectrograms)"
   ]
  },
  {
   "cell_type": "code",
   "execution_count": null,
   "metadata": {
    "id": "3vIPcQ0VTRnh"
   },
   "outputs": [],
   "source": [
    "def add_extra_dim(spectrograms):\n",
    "    '''\n",
    "    Add an extra dimension to the data so that it matches\n",
    "    the input requirement of Tensorflow.\n",
    "    '''\n",
    "    spectrograms = np.reshape(spectrograms, \n",
    "                              (spectrograms.shape[0],\n",
    "                                spectrograms.shape[1],\n",
    "                                spectrograms.shape[2],1))\n",
    "    return spectrograms"
   ]
  },
  {
   "cell_type": "code",
   "execution_count": null,
   "metadata": {
    "colab": {
     "base_uri": "https://localhost:8080/"
    },
    "id": "XfBWjfleCBK4",
    "outputId": "da36f09e-e005-41a6-8337-da48f7af19ef"
   },
   "outputs": [
    {
     "data": {
      "text/plain": [
       "array([1, 2, 3, 4, 5, 6])"
      ]
     },
     "execution_count": 34,
     "metadata": {},
     "output_type": "execute_result"
    }
   ],
   "source": [
    "np.unique(y)"
   ]
  },
  {
   "cell_type": "code",
   "execution_count": null,
   "metadata": {
    "id": "Qi8wEoJbCDxv"
   },
   "outputs": [],
   "source": [
    "y = y-1"
   ]
  },
  {
   "cell_type": "code",
   "execution_count": null,
   "metadata": {
    "id": "tF6t4PsZB4XN"
   },
   "outputs": [],
   "source": [
    "y = keras.utils.to_categorical(y)"
   ]
  },
  {
   "cell_type": "code",
   "execution_count": null,
   "metadata": {
    "colab": {
     "base_uri": "https://localhost:8080/"
    },
    "id": "3YbvSiw8CGxr",
    "outputId": "cbe373e5-260f-4058-810d-1b07271a3b29"
   },
   "outputs": [
    {
     "name": "stdout",
     "output_type": "stream",
     "text": [
      "(12908, 8000)\n",
      "(12908, 6)\n"
     ]
    }
   ],
   "source": [
    "print(X.shape)\n",
    "print(y.shape)"
   ]
  },
  {
   "cell_type": "code",
   "execution_count": null,
   "metadata": {
    "id": "c7EQwtgjPjmY"
   },
   "outputs": [],
   "source": [
    "X = convert_all_to_image(X, n_fft, hop_length, n_mels)"
   ]
  },
  {
   "cell_type": "code",
   "execution_count": null,
   "metadata": {
    "colab": {
     "base_uri": "https://localhost:8080/"
    },
    "id": "AzDgn5foS9BL",
    "outputId": "7a901d0d-56a4-4c26-df54-d877e50de016"
   },
   "outputs": [
    {
     "name": "stdout",
     "output_type": "stream",
     "text": [
      "(12908, 128, 63)\n",
      "(12908, 6)\n"
     ]
    }
   ],
   "source": [
    "print(X.shape)\n",
    "print(y.shape)"
   ]
  },
  {
   "cell_type": "code",
   "execution_count": null,
   "metadata": {
    "id": "P7fV6VUxTV40"
   },
   "outputs": [],
   "source": [
    "X = add_extra_dim(X)"
   ]
  },
  {
   "cell_type": "code",
   "execution_count": null,
   "metadata": {
    "colab": {
     "base_uri": "https://localhost:8080/"
    },
    "id": "8LRW0V7uTV9v",
    "outputId": "b29a21a1-91b5-4e6c-810c-a7917aeeae13"
   },
   "outputs": [
    {
     "name": "stdout",
     "output_type": "stream",
     "text": [
      "(12908, 128, 63, 1)\n",
      "(12908, 6)\n"
     ]
    }
   ],
   "source": [
    "print(X.shape)\n",
    "print(y.shape)"
   ]
  },
  {
   "cell_type": "code",
   "execution_count": null,
   "metadata": {
    "id": "IeEFVrHc7hBo"
   },
   "outputs": [],
   "source": [
    "X_train, X_test, y_train, y_test = train_test_split(X,y,test_size = 0.2)"
   ]
  },
  {
   "cell_type": "code",
   "execution_count": null,
   "metadata": {
    "colab": {
     "base_uri": "https://localhost:8080/"
    },
    "id": "ZoxdagUYBtyF",
    "outputId": "006b1088-20d6-4bf7-f438-d62ea23e307b"
   },
   "outputs": [
    {
     "name": "stdout",
     "output_type": "stream",
     "text": [
      "Model: \"model\"\n",
      "_________________________________________________________________\n",
      " Layer (type)                Output Shape              Param #   \n",
      "=================================================================\n",
      " input_1 (InputLayer)        [(None, 128, 63, 1)]      0         \n",
      "                                                                 \n",
      " conv2d (Conv2D)             (None, 125, 60, 32)       544       \n",
      "                                                                 \n",
      " max_pooling2d (MaxPooling2D  (None, 62, 30, 32)       0         \n",
      " )                                                               \n",
      "                                                                 \n",
      " conv2d_1 (Conv2D)           (None, 59, 27, 64)        32832     \n",
      "                                                                 \n",
      " max_pooling2d_1 (MaxPooling  (None, 29, 13, 64)       0         \n",
      " 2D)                                                             \n",
      "                                                                 \n",
      " conv2d_2 (Conv2D)           (None, 26, 10, 128)       131200    \n",
      "                                                                 \n",
      " max_pooling2d_2 (MaxPooling  (None, 13, 5, 128)       0         \n",
      " 2D)                                                             \n",
      "                                                                 \n",
      " flatten (Flatten)           (None, 8320)              0         \n",
      "                                                                 \n",
      " dense (Dense)               (None, 6)                 49926     \n",
      "                                                                 \n",
      "=================================================================\n",
      "Total params: 214,502\n",
      "Trainable params: 214,502\n",
      "Non-trainable params: 0\n",
      "_________________________________________________________________\n",
      "None\n"
     ]
    }
   ],
   "source": [
    "from keras.layers import Conv2D, Input, MaxPooling2D, Flatten, Dense\n",
    "from keras.models import Model\n",
    " \n",
    "inputs = Input(shape=(128,63,1))\n",
    "\n",
    "x = inputs\n",
    "\n",
    "x = Conv2D(filters = 32,kernel_size=4, activation='relu', input_shape=(128,63,1))(x)\n",
    "x = MaxPooling2D(2)(x)\n",
    "x = Conv2D(filters = 64,kernel_size=4, activation='relu')(x)\n",
    "x = MaxPooling2D(2)(x)\n",
    "x = Conv2D(filters = 128,kernel_size=4, activation='relu')(x)\n",
    "x = MaxPooling2D(2)(x)\n",
    "x = Flatten()(x)\n",
    "x = Dense(6, activation='softmax')(x)\n",
    "\n",
    "outputs = x \n",
    " \n",
    "model = Model(inputs, outputs)\n",
    "\n",
    "print(model.summary())"
   ]
  },
  {
   "cell_type": "code",
   "execution_count": null,
   "metadata": {
    "colab": {
     "base_uri": "https://localhost:8080/"
    },
    "id": "RprEkzAzCJX1",
    "outputId": "bf0114db-a7fd-48a2-b028-61da7972c400"
   },
   "outputs": [
    {
     "name": "stdout",
     "output_type": "stream",
     "text": [
      "Epoch 1/5\n",
      "259/259 [==============================] - 16s 16ms/step - loss: 1.1382 - accuracy: 0.5492 - val_loss: 0.6741 - val_accuracy: 0.7667\n",
      "Epoch 2/5\n",
      "259/259 [==============================] - 4s 14ms/step - loss: 0.4735 - accuracy: 0.8321 - val_loss: 0.4955 - val_accuracy: 0.8180\n",
      "Epoch 3/5\n",
      "259/259 [==============================] - 3s 13ms/step - loss: 0.3182 - accuracy: 0.8914 - val_loss: 0.3518 - val_accuracy: 0.8814\n",
      "Epoch 4/5\n",
      "259/259 [==============================] - 4s 14ms/step - loss: 0.2436 - accuracy: 0.9202 - val_loss: 0.2703 - val_accuracy: 0.9119\n",
      "Epoch 5/5\n",
      "259/259 [==============================] - 3s 13ms/step - loss: 0.1979 - accuracy: 0.9343 - val_loss: 0.2767 - val_accuracy: 0.9119\n"
     ]
    }
   ],
   "source": [
    "model.compile(loss='categorical_crossentropy',optimizer='adam',metrics=['accuracy'])\n",
    "\n",
    "history = model.fit(X_train, y_train, validation_split = 0.2, epochs=5, batch_size=32)"
   ]
  },
  {
   "cell_type": "code",
   "execution_count": null,
   "metadata": {
    "colab": {
     "base_uri": "https://localhost:8080/",
     "height": 573
    },
    "id": "Z0VU4ZFvNIlz",
    "outputId": "aaf4f8c6-3ff1-4941-faf9-b8d19a10761f"
   },
   "outputs": [
    {
     "data": {
      "image/png": "[encoded data removed]",
      "text/plain": [
       "<Figure size 432x288 with 1 Axes>"
      ]
     },
     "metadata": {
      "needs_background": "light"
     },
     "output_type": "display_data"
    },
    {
     "data": {
      "image/png": "[encoded data removed]",
      "text/plain": [
       "<Figure size 432x288 with 1 Axes>"
      ]
     },
     "metadata": {
      "needs_background": "light"
     },
     "output_type": "display_data"
    }
   ],
   "source": [
    "plt.plot(history.history['accuracy'])\n",
    "plt.plot(history.history['val_accuracy'])\n",
    "plt.title('model accuracy')\n",
    "plt.ylabel('accuracy')\n",
    "plt.xlabel('epoch')\n",
    "plt.legend(['train', 'test'], loc='upper left')\n",
    "plt.show()\n",
    "# summarize history for loss\n",
    "plt.plot(history.history['loss'])\n",
    "plt.plot(history.history['val_loss'])\n",
    "plt.title('model loss')\n",
    "plt.ylabel('loss')\n",
    "plt.xlabel('epoch')\n",
    "plt.legend(['train', 'test'], loc='upper left')\n",
    "plt.show()"
   ]
  },
  {
   "cell_type": "code",
   "execution_count": null,
   "metadata": {
    "colab": {
     "base_uri": "https://localhost:8080/"
    },
    "id": "SXb4MYa3NdUX",
    "outputId": "2804648a-967f-486e-9eb8-a77ed5ac2bb5"
   },
   "outputs": [
    {
     "name": "stdout",
     "output_type": "stream",
     "text": [
      "81/81 [==============================] - 1s 6ms/step - loss: 0.2401 - accuracy: 0.9167\n"
     ]
    },
    {
     "data": {
      "text/plain": [
       "[0.24005812406539917, 0.9167312383651733]"
      ]
     },
     "execution_count": 46,
     "metadata": {},
     "output_type": "execute_result"
    }
   ],
   "source": [
    "model.evaluate(X_test, y_test)"
   ]
  },
  {
   "cell_type": "markdown",
   "metadata": {
    "id": "ObvmNI7kM7wT"
   },
   "source": [
    "## Task:\n",
    "\n",
    "* Train on the up,down,left, right comments\n",
    "* Use different layers, for example, global average pooling 2D, average pooling 2D, anything else you can think of? How about attemping to include skip connections?\n",
    "* Given all the things we have learnt, what else do you think would be worth trying? Here we can discuss them, you don't have to implement anything."
   ]
  },
  {
   "cell_type": "code",
   "execution_count": null,
   "metadata": {
    "id": "GBScbyjHCxzp"
   },
   "outputs": [],
   "source": []
  }
 ],
 "metadata": {
  "accelerator": "GPU",
  "colab": {
   "collapsed_sections": [],
   "provenance": []
  },
  "gpuClass": "standard",
  "kernelspec": {
   "display_name": "Python 3 (ipykernel)",
   "language": "python",
   "name": "python3"
  },
  "language_info": {
   "codemirror_mode": {
    "name": "ipython",
    "version": 3
   },
   "file_extension": ".py",
   "mimetype": "text/x-python",
   "name": "python",
   "nbconvert_exporter": "python",
   "pygments_lexer": "ipython3",
   "version": "3.9.13"
  }
 },
 "nbformat": 4,
 "nbformat_minor": 1
}
