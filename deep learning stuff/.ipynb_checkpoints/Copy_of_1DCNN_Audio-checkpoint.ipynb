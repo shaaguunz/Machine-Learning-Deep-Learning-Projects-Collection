{
 "cells": [
  {
   "cell_type": "code",
   "execution_count": null,
   "metadata": {
    "id": "RN6KP9LeO3NH"
   },
   "outputs": [],
   "source": []
  },
  {
   "cell_type": "markdown",
   "metadata": {
    "id": "DmTjXzYnkyNK"
   },
   "source": [
    "# 1D CNNs for audio classification\n",
    "\n",
    "## Note: run this notebook in advance, it takes some time to downsample the audio files\n",
    "\n",
    "From Kaggle:\n",
    "\n",
    "We might be on the verge of too many screens. It seems like everyday, new versions of common objects are “re-invented” with built-in wifi and bright touchscreens. A promising antidote to our screen addiction are voice interfaces.\n",
    "\n",
    "But, for independent makers and entrepreneurs, it’s hard to build a simple speech detector using free, open data and code. Many voice recognition datasets require preprocessing before a neural network model can be built on them. To help with this, TensorFlow recently released the Speech Commands Datasets. It includes 65,000 one-second long utterances of 30 short words, by thousands of different people.\n",
    "\n",
    "In this competition, you're challenged to use the Speech Commands Dataset to build an algorithm that understands simple spoken commands. By improving the recognition accuracy of open-sourced voice interface tools, we can improve product effectiveness and their accessibility."
   ]
  },
  {
   "cell_type": "markdown",
   "metadata": {
    "id": "_ioTgY9HJqwS"
   },
   "source": [
    "### 1D conv\n",
    "\n",
    "This is very similar to 2D convolution. The primary difference is that the kernel is not 2D, it is 1D, so the kernel size only has one hyper-parameter. The kernel is applied to the entire input just like for 2D conv. Except now, we start on the left, and slide all the way to the right. The idea of strides still applies. See below a nice example.\n",
    "\n",
    "![](https://miro.medium.com/max/1150/1*BqNxNytX2Ihp-xGH-XSF8Q.jpeg)\n",
    "\n",
    "### 1D pooling\n",
    "\n",
    "Again, similar idea to 2D pooling. Now the pooling is applied 1 dimensionally, and there is only one hyper-parameter. See below for an example.\n",
    "\n",
    "![](https://www.researchgate.net/publication/324177888/figure/fig4/AS:611641670524928@1522838146208/1D-max-pooling-operation.png)"
   ]
  },
  {
   "cell_type": "markdown",
   "metadata": {
    "id": "pTjCrrf6MtIe"
   },
   "source": [
    "## Let's code the 1d convolution operation from scratch"
   ]
  },
  {
   "cell_type": "code",
   "execution_count": null,
   "metadata": {
    "id": "18s-LkawKzYI"
   },
   "outputs": [],
   "source": [
    "import tensorflow as tf\n",
    "\n",
    "def conv1d(X, K):\n",
    "\n",
    "    # Get the shape of the filter\n",
    "    w = K.shape[0]\n",
    "\n",
    "    # Create the feature mape as 0's having the correct shape\n",
    "    # using the formula we mentioned above\n",
    "    Y = tf.Variable(tf.zeros((X.shape[0] - w + 1)))\n",
    "\n",
    "    # For each row\n",
    "    for i in range(Y.shape[0]):\n",
    "\n",
    "      # Get the correct chunk from the image\n",
    "      image_chunk = X[i: i + w]\n",
    "\n",
    "      # Element wise multiplication with the kernel\n",
    "      result = image_chunk * K\n",
    "\n",
    "      # Sum everything up\n",
    "      result = tf.reduce_sum(result)\n",
    "\n",
    "      # Set the value in the feature map\n",
    "      Y[i].assign(result)\n",
    "\n",
    "    return Y"
   ]
  },
  {
   "cell_type": "code",
   "execution_count": null,
   "metadata": {
    "colab": {
     "base_uri": "https://localhost:8080/"
    },
    "id": "_M9YNNZ4LEUK",
    "outputId": "ca95134c-d34f-484b-f308-a2fdc841e8f3"
   },
   "outputs": [
    {
     "name": "stdout",
     "output_type": "stream",
     "text": [
      "(6,)\n",
      "(3,)\n"
     ]
    }
   ],
   "source": [
    "X = tf.constant([1.0, 3.0, 3.0, 0.0, 1.0, 2.0])\n",
    "K = tf.constant([2.0, 0.0, 1.0])\n",
    "\n",
    "print(X.shape)\n",
    "print(K.shape)"
   ]
  },
  {
   "cell_type": "code",
   "execution_count": null,
   "metadata": {
    "colab": {
     "base_uri": "https://localhost:8080/"
    },
    "id": "Jb971T2tLS_D",
    "outputId": "fda23f15-3a83-4a18-bb62-e34c1f2e08e2"
   },
   "outputs": [
    {
     "data": {
      "text/plain": [
       "<tf.Variable 'Variable:0' shape=(4,) dtype=float32, numpy=array([5., 6., 7., 2.], dtype=float32)>"
      ]
     },
     "execution_count": 58,
     "metadata": {},
     "output_type": "execute_result"
    }
   ],
   "source": [
    "conv1d(X, K)"
   ]
  },
  {
   "cell_type": "code",
   "execution_count": null,
   "metadata": {
    "id": "m6r6RmD5n_Em"
   },
   "outputs": [],
   "source": [
    "import os\n",
    "from os.path import isdir, join\n",
    "from pathlib import Path\n",
    "\n",
    "# Scientific Math \n",
    "import numpy as np\n",
    "from scipy.fftpack import fft\n",
    "from scipy import signal\n",
    "from scipy.io import wavfile\n",
    "from sklearn.model_selection import train_test_split\n",
    "\n",
    "# Visualization\n",
    "import matplotlib.pyplot as plt\n",
    "import tensorflow as tf\n",
    "import plotly.offline as py\n",
    "import plotly.graph_objs as go\n",
    "\n",
    "#Deep learning\n",
    "import tensorflow.keras as keras\n",
    "from tensorflow.keras.layers import Dense, Dropout, Flatten\n",
    "from tensorflow.keras import Input, layers\n",
    "from tensorflow.keras import backend as K\n",
    "\n",
    "import random\n",
    "import copy\n",
    "import librosa\n",
    "\n",
    "import shutil\n",
    "\n",
    "%matplotlib inline"
   ]
  },
  {
   "cell_type": "markdown",
   "metadata": {
    "id": "6jxF_e4Hs4xd"
   },
   "source": [
    "## Download the data"
   ]
  },
  {
   "cell_type": "code",
   "execution_count": null,
   "metadata": {
    "colab": {
     "base_uri": "https://localhost:8080/"
    },
    "id": "MENkH3pqlSXJ",
    "outputId": "4dc57a6f-f44b-4438-b315-6c6b3831c913"
   },
   "outputs": [
    {
     "name": "stdout",
     "output_type": "stream",
     "text": [
      "--2022-08-24 13:47:01--  http://download.tensorflow.org/data/speech_commands_v0.01.tar.gz\n",
      "Resolving download.tensorflow.org (download.tensorflow.org)... 142.251.10.128, 2404:6800:4003:c0f::80\n",
      "Connecting to download.tensorflow.org (download.tensorflow.org)|142.251.10.128|:80... connected.\n",
      "HTTP request sent, awaiting response... 200 OK\n",
      "Length: 1489096277 (1.4G) [application/gzip]\n",
      "Saving to: ‘speech_commands_v0.01.tar.gz’\n",
      "\n",
      "speech_commands_v0. 100%[===================>]   1.39G   243MB/s    in 6.0s    \n",
      "\n",
      "2022-08-24 13:47:07 (237 MB/s) - ‘speech_commands_v0.01.tar.gz’ saved [1489096277/1489096277]\n",
      "\n"
     ]
    }
   ],
   "source": [
    "!wget http://download.tensorflow.org/data/speech_commands_v0.01.tar.gz"
   ]
  },
  {
   "cell_type": "markdown",
   "metadata": {
    "id": "47ydOtBls2ZY"
   },
   "source": [
    "## Create a folder and extract the files"
   ]
  },
  {
   "cell_type": "code",
   "execution_count": null,
   "metadata": {
    "id": "0HfDFTgwliYF"
   },
   "outputs": [],
   "source": [
    "!mkdir speech_commands\n",
    "!tar -C ./speech_commands -xf speech_commands_v0.01.tar.gz "
   ]
  },
  {
   "cell_type": "markdown",
   "metadata": {
    "id": "JfUlJhMPszSm"
   },
   "source": [
    "## Only keep the numbers and get rid of the other command words"
   ]
  },
  {
   "cell_type": "code",
   "execution_count": null,
   "metadata": {
    "id": "k19eOzkVrtCE"
   },
   "outputs": [],
   "source": [
    "folders_to_delete = ['bed','bird','cat','dog','down','go','happy','house',\n",
    "                     'left','marvin','no','off','sheila','stop','up','wow','yes',\n",
    "                     'on','right','tree', 'six','seven','eight','nine']\n",
    "for folder in folders_to_delete:  \n",
    "  if os.path.isdir(\"./speech_commands/\"+folder):\n",
    "    shutil.rmtree(\"./speech_commands/\"+folder)"
   ]
  },
  {
   "cell_type": "markdown",
   "metadata": {
    "id": "KUxVBEVts8QH"
   },
   "source": [
    "## Keep track of all the folders (i.e. all command words)"
   ]
  },
  {
   "cell_type": "code",
   "execution_count": null,
   "metadata": {
    "colab": {
     "base_uri": "https://localhost:8080/"
    },
    "id": "X7mHQwHtqeC4",
    "outputId": "556f9416-1e06-44da-eea7-d83949ffefe1"
   },
   "outputs": [
    {
     "name": "stdout",
     "output_type": "stream",
     "text": [
      "Number of labels: 6\n",
      "['_background_noise_', 'five', 'four', 'one', 'three', 'two', 'zero']\n"
     ]
    }
   ],
   "source": [
    "train_audio_path = \"./speech_commands/\"\n",
    "\n",
    "dirs = [f for f in os.listdir(train_audio_path) if isdir(join(train_audio_path, f))]\n",
    "dirs.sort()\n",
    "print('Number of labels: ' + str(len(dirs[1:])))\n",
    "print(dirs)"
   ]
  },
  {
   "cell_type": "markdown",
   "metadata": {
    "id": "J_0IkLD-tAuk"
   },
   "source": [
    "## Read all the data"
   ]
  },
  {
   "cell_type": "code",
   "execution_count": null,
   "metadata": {
    "colab": {
     "base_uri": "https://localhost:8080/"
    },
    "id": "5A5OQse9pGDN",
    "outputId": "f71833bd-bcb1-454d-b95a-33549747e3cd"
   },
   "outputs": [
    {
     "name": "stdout",
     "output_type": "stream",
     "text": [
      "['zero', 'one', 'two', 'three', 'four', 'five']\n"
     ]
    }
   ],
   "source": [
    "target_list = ['zero', 'one', 'two', 'three', 'four', 'five']\n",
    "print(target_list)\n",
    "\n",
    "# Keep an index so that each class can get a number starting from zero\n",
    "i=0;"
   ]
  },
  {
   "cell_type": "markdown",
   "metadata": {
    "id": "vO5hHlButYkJ"
   },
   "source": [
    "## Read all the background noise files\n",
    "\n",
    "Note that was are resampling the data to 8000Hz. This will speed up computation later on. The original sample rate was 16000Hz which means that each data point has a higher resolution and computationally more expensive to process.\n",
    "\n",
    "Takes about 15 seconds to run"
   ]
  },
  {
   "cell_type": "code",
   "execution_count": null,
   "metadata": {
    "id": "kOYFPfAQtFGW"
   },
   "outputs": [],
   "source": [
    "# Get all the files which end with .wav from the background noise folder\n",
    "background = [f for f in os.listdir(join(train_audio_path, '_background_noise_')) if f.endswith('.wav')]\n",
    "\n",
    "# Create an empty list to store them\n",
    "X_noise = []\n",
    "y_noise = []\n",
    "\n",
    "# Iterate over each audio file\n",
    "for wav in background : \n",
    "    # Read the file\n",
    "    samples, sample_rate = librosa.load(join(join(train_audio_path,'_background_noise_'),wav))\n",
    "\n",
    "    # Downsample\n",
    "    samples = librosa.resample(samples, sample_rate, 8000)\n",
    "\n",
    "    # Append to list\n",
    "    X_noise.append(samples)\n",
    "    y_noise.append(0)\n"
   ]
  },
  {
   "cell_type": "code",
   "execution_count": null,
   "metadata": {
    "colab": {
     "base_uri": "https://localhost:8080/"
    },
    "id": "OeAKz1SNtoH8",
    "outputId": "1e56dbf3-cfdf-4814-c592-3cf0995704c9"
   },
   "outputs": [
    {
     "data": {
      "text/plain": [
       "6"
      ]
     },
     "execution_count": 8,
     "metadata": {},
     "output_type": "execute_result"
    }
   ],
   "source": [
    "len(X_noise)"
   ]
  },
  {
   "cell_type": "code",
   "execution_count": null,
   "metadata": {
    "colab": {
     "base_uri": "https://localhost:8080/"
    },
    "id": "sMBdlUK_-Qw1",
    "outputId": "76a25004-e2fb-44ef-e058-41496954fa9c"
   },
   "outputs": [
    {
     "data": {
      "text/plain": [
       "6"
      ]
     },
     "execution_count": 9,
     "metadata": {},
     "output_type": "execute_result"
    }
   ],
   "source": [
    "len(y_noise)"
   ]
  },
  {
   "cell_type": "markdown",
   "metadata": {
    "id": "8WXFq5zE6Kyd"
   },
   "source": [
    "This part below takes about 4 minutes to execute.\n",
    "\n",
    "It gets all the audio files (except for the files in the background folder) and appends them to a list. Each audio file is downsampled."
   ]
  },
  {
   "cell_type": "code",
   "execution_count": null,
   "metadata": {
    "colab": {
     "base_uri": "https://localhost:8080/"
    },
    "id": "jyxoNAwCtCye",
    "outputId": "d085ea85-d0de-4f27-d52c-28209dd44b02"
   },
   "outputs": [
    {
     "name": "stdout",
     "output_type": "stream",
     "text": [
      "1:five 2:four 3:one 4:three 5:two 6:zero "
     ]
    }
   ],
   "source": [
    "X_other = []\n",
    "y_other = []\n",
    "\n",
    "for direct in dirs[1:]:\n",
    "    # Get all the files which end with .wav from all folders except for the background\n",
    "    waves = [f for f in os.listdir(join(train_audio_path, direct)) if f.endswith('.wav')]\n",
    "    i = i + 1\n",
    "    print(str(i)+\":\" +str(direct) + \" \", end=\"\")\n",
    "\n",
    "    for wav in waves:\n",
    "        samples, sample_rate = librosa.load(join(join(train_audio_path,direct),wav), sr = 16000)\n",
    "        samples = librosa.resample(samples, sample_rate, 8000)\n",
    "        if len(samples) != 8000 : \n",
    "            continue\n",
    "            \n",
    "        X_other.append(samples)\n",
    "        y_other.append(i)"
   ]
  },
  {
   "cell_type": "code",
   "execution_count": null,
   "metadata": {
    "id": "czbCMKy3-sIE"
   },
   "outputs": [],
   "source": [
    "X_other = np.asarray(X_other)"
   ]
  },
  {
   "cell_type": "code",
   "execution_count": null,
   "metadata": {
    "id": "GmVAVBvd-uqA"
   },
   "outputs": [],
   "source": [
    "y_other = np.asarray(y_other)"
   ]
  },
  {
   "cell_type": "code",
   "execution_count": null,
   "metadata": {
    "colab": {
     "base_uri": "https://localhost:8080/"
    },
    "id": "2N1kvaEe_x9q",
    "outputId": "612e8c7a-d707-4438-f833-8c707635dfa0"
   },
   "outputs": [
    {
     "data": {
      "text/plain": [
       "(12908, 8000)"
      ]
     },
     "execution_count": 13,
     "metadata": {},
     "output_type": "execute_result"
    }
   ],
   "source": [
    "X_other.shape"
   ]
  },
  {
   "cell_type": "code",
   "execution_count": null,
   "metadata": {
    "colab": {
     "base_uri": "https://localhost:8080/"
    },
    "id": "6LIhL3lJ_x_c",
    "outputId": "299ffec2-f8d8-42eb-feac-2c5c3a0b05f5"
   },
   "outputs": [
    {
     "data": {
      "text/plain": [
       "(12908,)"
      ]
     },
     "execution_count": 14,
     "metadata": {},
     "output_type": "execute_result"
    }
   ],
   "source": [
    "y_other.shape"
   ]
  },
  {
   "cell_type": "code",
   "execution_count": null,
   "metadata": {
    "id": "XdGY4LfK6v6D"
   },
   "outputs": [],
   "source": [
    "def get_noise():\n",
    "  # Randomly select one of the background noise files\n",
    "  select_noise_file = random.randint(0, len(X_noise)-1)\n",
    "\n",
    "  # Get the randomly selected noise file\n",
    "  noisy_audio = X_noise[select_noise_file]\n",
    "\n",
    "  # Ranomly shift this noisy file by some random value\n",
    "  noisy_audio = np.roll(noisy_audio,shift = random.randint(0,len(noisy_audio)-1))\n",
    "\n",
    "  # Get the first 8000 samples of noisy data which was randomly shifted so it's not\n",
    "  # always the same\n",
    "  noisy_segment = noisy_audio[0:8000]\n",
    "\n",
    "  return noisy_segment"
   ]
  },
  {
   "cell_type": "markdown",
   "metadata": {
    "id": "Qg-TxsTf639C"
   },
   "source": [
    "Here we augment the dataset.\n",
    "\n",
    "All"
   ]
  },
  {
   "cell_type": "code",
   "execution_count": null,
   "metadata": {
    "id": "E0mltv2h60-J"
   },
   "outputs": [],
   "source": [
    "max_ratio = 0.1\n",
    "X = []\n",
    "y = []\n",
    "augment = 1\n",
    "\n",
    "# Iterate over all the data\n",
    "for i, signal in enumerate(X_other):\n",
    "\n",
    "  # We might not always want to augment everything\n",
    "  if random.uniform(0, 1) > 0.5:\n",
    "    # Get a noisy segment\n",
    "    noise = get_noise()\n",
    "\n",
    "    # Combine an original file along with a noisy file\n",
    "    signal = signal + (max_ratio * noise)\n",
    "\n",
    "  X.append(signal)\n",
    "  y.append(y_other[i])"
   ]
  },
  {
   "cell_type": "code",
   "execution_count": null,
   "metadata": {
    "id": "DWWGWYIJ8qGy"
   },
   "outputs": [],
   "source": [
    "X = np.asarray(X)\n",
    "y = np.asarray(y)"
   ]
  },
  {
   "cell_type": "code",
   "execution_count": null,
   "metadata": {
    "colab": {
     "base_uri": "https://localhost:8080/"
    },
    "id": "DecKdx9T67FC",
    "outputId": "e9e10b76-febe-4173-eb8b-f2f7a77c5d3a"
   },
   "outputs": [
    {
     "name": "stdout",
     "output_type": "stream",
     "text": [
      "(12908, 8000)\n",
      "(12908,)\n"
     ]
    }
   ],
   "source": [
    "print(X.shape)\n",
    "print(y.shape)"
   ]
  },
  {
   "cell_type": "code",
   "execution_count": null,
   "metadata": {
    "colab": {
     "base_uri": "https://localhost:8080/"
    },
    "id": "XfBWjfleCBK4",
    "outputId": "4c5d9ea3-35d5-44d3-f68c-3a1e2bae4f68"
   },
   "outputs": [
    {
     "data": {
      "text/plain": [
       "array([1, 2, 3, 4, 5, 6])"
      ]
     },
     "execution_count": 19,
     "metadata": {},
     "output_type": "execute_result"
    }
   ],
   "source": [
    "np.unique(y)"
   ]
  },
  {
   "cell_type": "code",
   "execution_count": null,
   "metadata": {
    "id": "Qi8wEoJbCDxv"
   },
   "outputs": [],
   "source": [
    "y = y-1"
   ]
  },
  {
   "cell_type": "code",
   "execution_count": null,
   "metadata": {
    "id": "tF6t4PsZB4XN"
   },
   "outputs": [],
   "source": [
    "y = keras.utils.to_categorical(y)"
   ]
  },
  {
   "cell_type": "code",
   "execution_count": null,
   "metadata": {
    "colab": {
     "base_uri": "https://localhost:8080/"
    },
    "id": "3YbvSiw8CGxr",
    "outputId": "710a7a86-f992-4213-f2c4-9890687c30a9"
   },
   "outputs": [
    {
     "name": "stdout",
     "output_type": "stream",
     "text": [
      "(12908, 8000)\n",
      "(12908, 6)\n"
     ]
    }
   ],
   "source": [
    "print(X.shape)\n",
    "print(y.shape)"
   ]
  },
  {
   "cell_type": "code",
   "execution_count": null,
   "metadata": {
    "id": "IeEFVrHc7hBo"
   },
   "outputs": [],
   "source": [
    "X_train, X_test, y_train, y_test = train_test_split(X,y,test_size = 0.2)"
   ]
  },
  {
   "cell_type": "code",
   "execution_count": null,
   "metadata": {
    "colab": {
     "base_uri": "https://localhost:8080/"
    },
    "id": "ZoxdagUYBtyF",
    "outputId": "e2a0b5f9-40ef-4d77-889a-d6860973de48"
   },
   "outputs": [
    {
     "name": "stdout",
     "output_type": "stream",
     "text": [
      "Model: \"model\"\n",
      "_________________________________________________________________\n",
      " Layer (type)                Output Shape              Param #   \n",
      "=================================================================\n",
      " input_1 (InputLayer)        [(None, 8000)]            0         \n",
      "                                                                 \n",
      " dense (Dense)               (None, 200)               1600200   \n",
      "                                                                 \n",
      " dense_1 (Dense)             (None, 6)                 1206      \n",
      "                                                                 \n",
      "=================================================================\n",
      "Total params: 1,601,406\n",
      "Trainable params: 1,601,406\n",
      "Non-trainable params: 0\n",
      "_________________________________________________________________\n",
      "None\n"
     ]
    }
   ],
   "source": [
    "from keras.layers import Conv1D, Input, MaxPooling1D, Flatten, Dense\n",
    "from keras.models import Model\n",
    " \n",
    "inputs = Input(shape=(8000,))\n",
    "\n",
    "x = inputs\n",
    "\n",
    "x = Dense(200, activation='relu')(x)\n",
    "x = Dense(6, activation='softmax')(x)\n",
    "\n",
    "outputs = x \n",
    " \n",
    "model = Model(inputs, outputs)\n",
    "\n",
    "print(model.summary())"
   ]
  },
  {
   "cell_type": "code",
   "execution_count": null,
   "metadata": {
    "colab": {
     "base_uri": "https://localhost:8080/"
    },
    "id": "RprEkzAzCJX1",
    "outputId": "9eadfff4-d439-4216-ef6f-d72348a70745"
   },
   "outputs": [
    {
     "name": "stdout",
     "output_type": "stream",
     "text": [
      "Epoch 1/5\n",
      "323/323 [==============================] - 4s 3ms/step - loss: 1.8231 - accuracy: 0.2192\n",
      "Epoch 2/5\n",
      "323/323 [==============================] - 1s 3ms/step - loss: 1.4042 - accuracy: 0.4907\n",
      "Epoch 3/5\n",
      "323/323 [==============================] - 1s 3ms/step - loss: 1.0758 - accuracy: 0.6302\n",
      "Epoch 4/5\n",
      "323/323 [==============================] - 1s 3ms/step - loss: 0.7860 - accuracy: 0.7534\n",
      "Epoch 5/5\n",
      "323/323 [==============================] - 1s 3ms/step - loss: 0.5949 - accuracy: 0.8373\n"
     ]
    },
    {
     "data": {
      "text/plain": [
       "<keras.callbacks.History at 0x7f8ffa303d10>"
      ]
     },
     "execution_count": 25,
     "metadata": {},
     "output_type": "execute_result"
    }
   ],
   "source": [
    "model.compile(loss='categorical_crossentropy',optimizer='adam',metrics=['accuracy'])\n",
    "\n",
    "model.fit(X_train, y_train ,epochs=5, batch_size=32)"
   ]
  },
  {
   "cell_type": "code",
   "execution_count": null,
   "metadata": {
    "id": "unHELm8qC2O9"
   },
   "outputs": [],
   "source": [
    "X = np.reshape(X,(X.shape[0],X.shape[1],1))"
   ]
  },
  {
   "cell_type": "code",
   "execution_count": null,
   "metadata": {
    "colab": {
     "base_uri": "https://localhost:8080/"
    },
    "id": "cKwiTqt6DCQ4",
    "outputId": "a12a21e8-fcba-4545-8e3e-e97c2c2aa9fa"
   },
   "outputs": [
    {
     "data": {
      "text/plain": [
       "(12908, 8000, 1)"
      ]
     },
     "execution_count": 27,
     "metadata": {},
     "output_type": "execute_result"
    }
   ],
   "source": [
    "X.shape"
   ]
  },
  {
   "cell_type": "code",
   "execution_count": null,
   "metadata": {
    "colab": {
     "base_uri": "https://localhost:8080/"
    },
    "id": "kRiitMdMCixS",
    "outputId": "d1c2ffb8-0263-4be1-f6e7-8e48e982eca4"
   },
   "outputs": [
    {
     "name": "stdout",
     "output_type": "stream",
     "text": [
      "Model: \"model_5\"\n",
      "_________________________________________________________________\n",
      " Layer (type)                Output Shape              Param #   \n",
      "=================================================================\n",
      " input_6 (InputLayer)        [(None, 8000, 1)]         0         \n",
      "                                                                 \n",
      " conv1d_11 (Conv1D)          (None, 7937, 32)          2080      \n",
      "                                                                 \n",
      " max_pooling1d_9 (MaxPooling  (None, 992, 32)          0         \n",
      " 1D)                                                             \n",
      "                                                                 \n",
      " conv1d_12 (Conv1D)          (None, 929, 32)           65568     \n",
      "                                                                 \n",
      " max_pooling1d_10 (MaxPoolin  (None, 116, 32)          0         \n",
      " g1D)                                                            \n",
      "                                                                 \n",
      " conv1d_13 (Conv1D)          (None, 53, 32)            65568     \n",
      "                                                                 \n",
      " max_pooling1d_11 (MaxPoolin  (None, 6, 32)            0         \n",
      " g1D)                                                            \n",
      "                                                                 \n",
      " flatten_4 (Flatten)         (None, 192)               0         \n",
      "                                                                 \n",
      " dense_6 (Dense)             (None, 6)                 1158      \n",
      "                                                                 \n",
      "=================================================================\n",
      "Total params: 134,374\n",
      "Trainable params: 134,374\n",
      "Non-trainable params: 0\n",
      "_________________________________________________________________\n",
      "None\n"
     ]
    }
   ],
   "source": [
    "from keras.layers import Conv1D, Input, MaxPooling1D, Flatten, Dense\n",
    "from keras.models import Model\n",
    " \n",
    "inputs = Input(shape=(8000,1))\n",
    "\n",
    "x = inputs\n",
    "\n",
    "x = Conv1D(filters=32, kernel_size=64, activation='relu')(x)\n",
    "x = MaxPooling1D(pool_size=8)(x)\n",
    "x = Conv1D(filters=32, kernel_size=64, activation='relu')(x)\n",
    "x = MaxPooling1D(pool_size=8)(x)\n",
    "x = Conv1D(filters=32, kernel_size=64, activation='relu')(x)\n",
    "x = MaxPooling1D(pool_size=8)(x)\n",
    "x = Flatten()(x)\n",
    "x = Dense(6, activation='softmax')(x)\n",
    "\n",
    "outputs = x \n",
    " \n",
    "model = Model(inputs, outputs)\n",
    "\n",
    "print(model.summary())"
   ]
  },
  {
   "cell_type": "code",
   "execution_count": null,
   "metadata": {
    "colab": {
     "background_save": true,
     "base_uri": "https://localhost:8080/"
    },
    "id": "b278M20qC0iv",
    "outputId": "465b3852-ef65-4db5-a471-0fc2dee12cbf"
   },
   "outputs": [
    {
     "name": "stdout",
     "output_type": "stream",
     "text": [
      "Epoch 1/5\n",
      "323/323 [==============================] - 3358s 10s/step - loss: 1.7923 - accuracy: 0.1650\n",
      "Epoch 2/5\n",
      " 23/323 [=>............................] - ETA: 52:46 - loss: 1.7922 - accuracy: 0.1766"
     ]
    }
   ],
   "source": [
    "model.compile(loss='categorical_crossentropy',optimizer='adam',metrics=['accuracy'])\n",
    "\n",
    "history = model.fit(X_train, y_train ,epochs=5, validation_split=0.2, batch_size=32)"
   ]
  },
  {
   "cell_type": "code",
   "execution_count": null,
   "metadata": {
    "colab": {
     "base_uri": "https://localhost:8080/",
     "height": 573
    },
    "id": "Z0VU4ZFvNIlz",
    "outputId": "a2a212b8-869a-4937-ce62-9a6072a562d4"
   },
   "outputs": [
    {
     "data": {
      "image/png": "[encoded data removed]",
      "text/plain": [
       "<Figure size 432x288 with 1 Axes>"
      ]
     },
     "metadata": {},
     "output_type": "display_data"
    },
    {
     "data": {
      "image/png": "[encoded data removed]",
      "text/plain": [
       "<Figure size 432x288 with 1 Axes>"
      ]
     },
     "metadata": {},
     "output_type": "display_data"
    }
   ],
   "source": [
    "plt.plot(history.history['accuracy'])\n",
    "plt.plot(history.history['val_accuracy'])\n",
    "plt.title('model accuracy')\n",
    "plt.ylabel('accuracy')\n",
    "plt.xlabel('epoch')\n",
    "plt.legend(['train', 'test'], loc='upper left')\n",
    "plt.show()\n",
    "# summarize history for loss\n",
    "plt.plot(history.history['loss'])\n",
    "plt.plot(history.history['val_loss'])\n",
    "plt.title('model loss')\n",
    "plt.ylabel('loss')\n",
    "plt.xlabel('epoch')\n",
    "plt.legend(['train', 'test'], loc='upper left')\n",
    "plt.show()"
   ]
  },
  {
   "cell_type": "code",
   "execution_count": null,
   "metadata": {
    "colab": {
     "base_uri": "https://localhost:8080/"
    },
    "id": "SXb4MYa3NdUX",
    "outputId": "599b16d2-2e52-45b0-c4d6-e5a06b97cb12"
   },
   "outputs": [
    {
     "name": "stdout",
     "output_type": "stream",
     "text": [
      "81/81 [==============================] - 1s 6ms/step - loss: 0.5034 - accuracy: 0.8431\n"
     ]
    },
    {
     "data": {
      "text/plain": [
       "[0.5034137964248657, 0.8431448340415955]"
      ]
     },
     "execution_count": 66,
     "metadata": {},
     "output_type": "execute_result"
    }
   ],
   "source": [
    "model.evaluate(X_test, y_test)"
   ]
  },
  {
   "cell_type": "markdown",
   "metadata": {
    "id": "ObvmNI7kM7wT"
   },
   "source": [
    "## Task:\n",
    "\n",
    "* Train on the up,down,left, right comments\n",
    "* Use different layers, for example, global average pooling 1D, average pooling 1D"
   ]
  },
  {
   "cell_type": "code",
   "execution_count": null,
   "metadata": {
    "id": "GBScbyjHCxzp"
   },
   "outputs": [],
   "source": []
  }
 ],
 "metadata": {
  "accelerator": "GPU",
  "colab": {
   "collapsed_sections": [],
   "provenance": []
  },
  "gpuClass": "standard",
  "kernelspec": {
   "display_name": "Python 3 (ipykernel)",
   "language": "python",
   "name": "python3"
  },
  "language_info": {
   "codemirror_mode": {
    "name": "ipython",
    "version": 3
   },
   "file_extension": ".py",
   "mimetype": "text/x-python",
   "name": "python",
   "nbconvert_exporter": "python",
   "pygments_lexer": "ipython3",
   "version": "3.9.13"
  }
 },
 "nbformat": 4,
 "nbformat_minor": 1
}
