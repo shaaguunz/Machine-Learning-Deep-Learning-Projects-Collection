{
 "cells": [
  {
   "cell_type": "markdown",
   "metadata": {
    "id": "YSon7FLdIS1O"
   },
   "source": [
    "## Autoencoders\n",
    "\n",
    "\n",
    "Material adapted from: https://colab.research.google.com/github/tensorflow/docs/blob/master/site/en/tutorials/generative/autoencoder.ipynb\n",
    "\n",
    "Code licensed under https://www.apache.org/licenses/LICENSE-2.0\n",
    "\n",
    "\n"
   ]
  },
  {
   "cell_type": "markdown",
   "metadata": {
    "id": "K1SSF6Sa2gzB"
   },
   "source": [
    "An autoencoder is a special type of neural network that is trained to copy its input to its output. \n",
    "\n",
    "For example, given an image of a handwritten digit, an autoencoder first encodes the image into a lower dimensional latent representation, then decodes the latent representation back to an image. An autoencoder learns to compress the data while minimizing the reconstruction error. An AE is made up of:\n",
    "\n",
    "* encoder\n",
    "* decoder\n",
    "\n",
    "The encoder takes in the input and compresses the input into a latent space represtation which is smaller than the input.\n",
    "\n",
    "The decoder takes the latent vector and upsamples the data to match the input shape.\n",
    "\n",
    "An autoencoder has two main parts: an encoder that maps the message to a code, and a decoder that reconstructs the message from the code. An optimal autoencoder would perform as close to perfect reconstruction as possible, with \"close to perfect\" defined by the reconstruction quality function d.\n",
    "\n",
    "Common applications:\n",
    "\n",
    "* data compression\n",
    "* medical denoising of images\n",
    "* enhancing OCR\n",
    "\n",
    "![](https://upload.wikimedia.org/wikipedia/commons/3/37/Autoencoder_schema.png)"
   ]
  },
  {
   "cell_type": "markdown",
   "metadata": {
    "id": "e1_Y75QXJS6h"
   },
   "source": [
    "## Import TensorFlow and other libraries"
   ]
  },
  {
   "cell_type": "code",
   "execution_count": null,
   "metadata": {
    "id": "YfIk2es3hJEd"
   },
   "outputs": [],
   "source": [
    "import matplotlib.pyplot as plt\n",
    "import numpy as np\n",
    "import pandas as pd\n",
    "import tensorflow as tf\n",
    "from tensorflow import keras\n",
    "from tensorflow.keras import layers\n",
    "from tensorflow.keras import backend as K\n",
    "import tensorflow as tf\n",
    "\n",
    "from sklearn.metrics import accuracy_score, precision_score, recall_score\n",
    "from sklearn.model_selection import train_test_split\n",
    "from tensorflow.keras import layers, losses\n",
    "from tensorflow.keras.datasets import mnist\n",
    "from tensorflow.keras.models import Model"
   ]
  },
  {
   "cell_type": "markdown",
   "metadata": {
    "id": "sRD3m-MYT6qJ"
   },
   "source": [
    "### Download the data\n",
    "\n",
    "This is an unsupervised problem so we don't need the labels"
   ]
  },
  {
   "cell_type": "code",
   "execution_count": null,
   "metadata": {
    "colab": {
     "base_uri": "https://localhost:8080/"
    },
    "id": "xqGTf1Q9i84Q",
    "outputId": "ca3bbcfa-90ac-47e6-a196-32886fe6a5a4"
   },
   "outputs": [
    {
     "name": "stdout",
     "output_type": "stream",
     "text": [
      "Downloading data from https://storage.googleapis.com/tensorflow/tf-keras-datasets/mnist.npz\n",
      "11490434/11490434 [==============================] - 0s 0us/step\n"
     ]
    }
   ],
   "source": [
    "(x_train, _), (x_test, _) = mnist.load_data()"
   ]
  },
  {
   "cell_type": "markdown",
   "metadata": {
    "id": "Y0J_uY7lT_X2"
   },
   "source": [
    "### Normalise the data\n",
    "\n",
    "Divide by the maximum pixel value, 255."
   ]
  },
  {
   "cell_type": "code",
   "execution_count": null,
   "metadata": {
    "id": "b1cW0HfYi86v"
   },
   "outputs": [],
   "source": [
    "x_train = x_train.astype('float32') / 255.\n",
    "x_test = x_test.astype('float32') / 255."
   ]
  },
  {
   "cell_type": "code",
   "execution_count": null,
   "metadata": {
    "colab": {
     "base_uri": "https://localhost:8080/"
    },
    "id": "_ZCVNc46UKB8",
    "outputId": "2170c3e6-0d1d-4492-f92f-df03fecc7f59"
   },
   "outputs": [
    {
     "data": {
      "text/plain": [
       "(60000, 28, 28)"
      ]
     },
     "execution_count": 4,
     "metadata": {},
     "output_type": "execute_result"
    }
   ],
   "source": [
    "x_train.shape"
   ]
  },
  {
   "cell_type": "markdown",
   "metadata": {
    "id": "rv1JLVAZUEhV"
   },
   "source": [
    "### Reshape the data so that it has a 1 to indicate the depth of each image"
   ]
  },
  {
   "cell_type": "code",
   "execution_count": null,
   "metadata": {
    "id": "YsG2DF21niEv"
   },
   "outputs": [],
   "source": [
    "x_train = x_train[..., tf.newaxis]\n",
    "x_test = x_test[..., tf.newaxis]"
   ]
  },
  {
   "cell_type": "code",
   "execution_count": null,
   "metadata": {
    "colab": {
     "base_uri": "https://localhost:8080/"
    },
    "id": "l4RIFtGxnY0D",
    "outputId": "01e22054-2dd7-4fcc-8591-bf31553ed6f0"
   },
   "outputs": [
    {
     "data": {
      "text/plain": [
       "(60000, 28, 28, 1)"
      ]
     },
     "execution_count": 6,
     "metadata": {},
     "output_type": "execute_result"
    }
   ],
   "source": [
    "x_train.shape"
   ]
  },
  {
   "cell_type": "markdown",
   "metadata": {
    "id": "8dPOSQwgUdmc"
   },
   "source": [
    "Instead of working on the class directly like in the last prac, let's build the encoder and decoded using the functional API separately to make sure we get the shapes correct."
   ]
  },
  {
   "cell_type": "markdown",
   "metadata": {
    "id": "ZjdkpnvbUOmb"
   },
   "source": [
    "### Encoder\n",
    "\n",
    "Here we want to input an image of (28,28,1) and output a shape of (16) which is the encoded image.\n",
    "\n",
    "So we need to build an appropriate architecture which will produce that output.\n",
    "\n"
   ]
  },
  {
   "cell_type": "code",
   "execution_count": null,
   "metadata": {
    "id": "OQx7glP75J_r"
   },
   "outputs": [],
   "source": [
    "# Here we use the Functional API which requires 3 things (Input, model and output)\n",
    "\n",
    "# Specify the input layer here a shape of 28x28x1 (greyscale images)\n",
    "encoder_input = tf.keras.Input(shape=(28, 28, 1))\n",
    "print(encoder_input.shape)\n",
    "\n",
    "# First conv layer which will reduce the shape by half given a stride of 2\n",
    "encoder = tf.keras.layers.Conv2D(16, (3, 3), activation='relu', padding='same', strides=2)(encoder_input)\n",
    "print(encoder.shape)\n",
    "# Second conv layer which will reduce the shape by half given a stride of 2\n",
    "encoder = tf.keras.layers.Conv2D(8, (3, 3), activation='relu', padding='same', strides=2)(encoder)\n",
    "print(encoder.shape)\n",
    "# Get the size of the current tensor - this will help us re-create this size when we create the decoder\n",
    "# This will make more sense below.\n",
    "tensor_shape = K.int_shape(encoder)\n",
    "\n",
    "# Flatten\n",
    "encoder = tf.keras.layers.Flatten()(encoder)\n",
    "print(encoder.shape)\n",
    "# Output layer has units based on latent dimension - here 16.\n",
    "encoder_output = tf.keras.layers.Dense(16, activation = 'linear')(encoder)\n",
    "print(encoder_output.shape)"
   ]
  },
  {
   "cell_type": "markdown",
   "metadata": {
    "id": "yUc3tRYf5VBM"
   },
   "source": [
    "Take note of the shape before we flatten to the latest space vector. This will become handy when we try do the reverse operations in terms of upsampling.\n",
    "\n",
    "Also note the compression achieved here, from 28x28 images (784 pixels) to only 16 values!"
   ]
  },
  {
   "cell_type": "code",
   "execution_count": null,
   "metadata": {
    "colab": {
     "base_uri": "https://localhost:8080/"
    },
    "id": "7pJg6bfD5Tpr",
    "outputId": "477d1e26-4a40-4357-c068-131e2251f6be"
   },
   "outputs": [
    {
     "data": {
      "text/plain": [
       "(None, 7, 7, 8)"
      ]
     },
     "execution_count": 8,
     "metadata": {},
     "output_type": "execute_result"
    }
   ],
   "source": [
    "tensor_shape"
   ]
  },
  {
   "cell_type": "code",
   "execution_count": null,
   "metadata": {
    "id": "hboDnAaW6tu8"
   },
   "outputs": [],
   "source": [
    "# Create a Model and specify the input and output\n",
    "# This is normal Keras functional API like in the ANN prac\n",
    "model = tf.keras.Model(encoder_input, encoder_output)"
   ]
  },
  {
   "cell_type": "code",
   "execution_count": null,
   "metadata": {
    "colab": {
     "base_uri": "https://localhost:8080/"
    },
    "id": "hJ6pfo4j6z4N",
    "outputId": "b59db3e5-d952-4abe-de1f-1e6144650837"
   },
   "outputs": [
    {
     "name": "stdout",
     "output_type": "stream",
     "text": [
      "Model: \"model\"\n",
      "_________________________________________________________________\n",
      " Layer (type)                Output Shape              Param #   \n",
      "=================================================================\n",
      " input_1 (InputLayer)        [(None, 28, 28, 1)]       0         \n",
      "                                                                 \n",
      " conv2d (Conv2D)             (None, 14, 14, 16)        160       \n",
      "                                                                 \n",
      " conv2d_1 (Conv2D)           (None, 7, 7, 8)           1160      \n",
      "                                                                 \n",
      " flatten (Flatten)           (None, 392)               0         \n",
      "                                                                 \n",
      " dense (Dense)               (None, 16)                6288      \n",
      "                                                                 \n",
      "=================================================================\n",
      "Total params: 7,608\n",
      "Trainable params: 7,608\n",
      "Non-trainable params: 0\n",
      "_________________________________________________________________\n"
     ]
    }
   ],
   "source": [
    "model.summary()"
   ]
  },
  {
   "cell_type": "markdown",
   "metadata": {
    "id": "sN2W0JYXVK7A"
   },
   "source": [
    "here we see that we saved the volume as (7,7,8). In the encoder, we go from (7,7,8) which is 392 pixels to 16. So when we create the decoder, essentially we will go from 16 to 392 to (7,7,8). \n",
    "\n",
    "By saving this we can obtain two things: \n",
    "\n",
    "* the shape of 392, i.e. no hard-coding of values\n",
    "\n",
    "* the shape (7,7,8), i.e. again no hard-coding. We can do so without manually knowing these value and having to manually input them. See below from the two cells."
   ]
  },
  {
   "cell_type": "code",
   "execution_count": null,
   "metadata": {
    "colab": {
     "base_uri": "https://localhost:8080/"
    },
    "id": "hEHT9QR562Xk",
    "outputId": "874cb573-f77e-4dc2-e9cd-4bbf77b917eb"
   },
   "outputs": [
    {
     "data": {
      "text/plain": [
       "(None, 7, 7, 8)"
      ]
     },
     "execution_count": 11,
     "metadata": {},
     "output_type": "execute_result"
    }
   ],
   "source": [
    "tensor_shape"
   ]
  },
  {
   "cell_type": "code",
   "execution_count": null,
   "metadata": {
    "colab": {
     "base_uri": "https://localhost:8080/"
    },
    "id": "kVcgKBz07y_h",
    "outputId": "521812a9-177e-4a36-c289-b5ca422271cd"
   },
   "outputs": [
    {
     "data": {
      "text/plain": [
       "392"
      ]
     },
     "execution_count": 12,
     "metadata": {},
     "output_type": "execute_result"
    }
   ],
   "source": [
    "np.prod(tensor_shape[1:])"
   ]
  },
  {
   "cell_type": "markdown",
   "metadata": {
    "id": "XInYfe46Votj"
   },
   "source": [
    "### Decoder\n",
    "\n",
    "Here we want to input a shape of (16) and output an image of (28,28,1) which is the decoded image.\n",
    "\n",
    "So we need to build an appropriate architecture which will produce that output.\n",
    "\n",
    "The decoder is essentially the inverse of the encoder."
   ]
  },
  {
   "cell_type": "code",
   "execution_count": null,
   "metadata": {
    "id": "TgmBipx15hrh"
   },
   "outputs": [],
   "source": [
    "# Here we use the Functional API which requires 3 things (Input, model and output)\n",
    "\n",
    "# Specify the input layer here a shape of (16) (encoded images)\n",
    "decoder_input = tf.keras.Input(shape=(16,))\n",
    "\n",
    "# Now we create our first dense layer which will go from 16 -> 392. But we don't need to manually\n",
    "# enter the value of 392 since we have a way to automatically calculate this (see above)\n",
    "decoder = tf.keras.layers.Dense(np.prod(tensor_shape[1:]), activation = 'linear')(decoder_input)\n",
    "\n",
    "# If we look at the encoder, the step before 392 unit layer was a tensor of shape (7,7,8). Again\n",
    "# we don't have to manually enter these values. So here we reshape the vector to get a tensor of\n",
    "# shape (7,7,8)\n",
    "decoder = tf.keras.layers.Reshape((tensor_shape[1], tensor_shape[2], tensor_shape[3]))(decoder)\n",
    "\n",
    "# Working backwards, we can to the opposite of Conv2D which is Transpose convolution. \n",
    "# API https://www.tensorflow.org/api_docs/python/tf/keras/layers/Conv2DTranspose\n",
    "decoder = layers.Conv2DTranspose(8, kernel_size=3, strides=2, activation='relu', padding='same')(decoder)\n",
    "\n",
    "decoder = layers.Conv2DTranspose(16, kernel_size=3, strides=2, activation='relu', padding='same')(decoder)\n",
    "\n",
    "# At this point our shape is (28,28,16) but we want (28,28,1) so we can remove the 16 features by\n",
    "# applying a convolutional layer with 1 filter.\n",
    "decoder_output = layers.Conv2D(1, kernel_size=(3, 3), activation='sigmoid', padding='same')(decoder)"
   ]
  },
  {
   "cell_type": "code",
   "execution_count": null,
   "metadata": {
    "id": "TDiWLOig8HGN"
   },
   "outputs": [],
   "source": [
    "model = tf.keras.Model(decoder_input, decoder_output)"
   ]
  },
  {
   "cell_type": "code",
   "execution_count": null,
   "metadata": {
    "colab": {
     "base_uri": "https://localhost:8080/"
    },
    "id": "jFyuGmSV5ht0",
    "outputId": "7a2df0c2-3dc2-4ed5-bfa0-e044efce6d89"
   },
   "outputs": [
    {
     "name": "stdout",
     "output_type": "stream",
     "text": [
      "Model: \"model_1\"\n",
      "_________________________________________________________________\n",
      " Layer (type)                Output Shape              Param #   \n",
      "=================================================================\n",
      " input_2 (InputLayer)        [(None, 16)]              0         \n",
      "                                                                 \n",
      " dense_1 (Dense)             (None, 392)               6664      \n",
      "                                                                 \n",
      " reshape (Reshape)           (None, 7, 7, 8)           0         \n",
      "                                                                 \n",
      " conv2d_transpose (Conv2DTra  (None, 14, 14, 8)        584       \n",
      " nspose)                                                         \n",
      "                                                                 \n",
      " conv2d_transpose_1 (Conv2DT  (None, 28, 28, 16)       1168      \n",
      " ranspose)                                                       \n",
      "                                                                 \n",
      " conv2d_2 (Conv2D)           (None, 28, 28, 1)         145       \n",
      "                                                                 \n",
      "=================================================================\n",
      "Total params: 8,561\n",
      "Trainable params: 8,561\n",
      "Non-trainable params: 0\n",
      "_________________________________________________________________\n"
     ]
    }
   ],
   "source": [
    "model.summary()"
   ]
  },
  {
   "cell_type": "markdown",
   "metadata": {
    "id": "89MasJ8UlzLx"
   },
   "source": [
    "Now, let's take everything above and create our own Model object as a Python class which will inheret from the Model object. Thus we need to override the `__init__ `function and `call` function."
   ]
  },
  {
   "cell_type": "code",
   "execution_count": null,
   "metadata": {
    "id": "ef49wkt_i89Y"
   },
   "outputs": [],
   "source": [
    "# Define the latent dimension\n",
    "latent_dim = 16\n",
    "\n",
    "class Autoencoder(Model):\n",
    "  def __init__(self, latent_dim, name=\"autoencoder\"):\n",
    "    super(Autoencoder, self).__init__()\n",
    "\n",
    "    # The latent dimension is a property of an autoencoder\n",
    "    self.latent_dim = latent_dim  \n",
    "\n",
    "    # The Autoencoder has an encoder which we can make using normal layers\n",
    "    # Here we use the Functional API which requires 3 things (Input, model and output)\n",
    "    # ------------------------------------------\n",
    "    # Specify the input layer here a shape of 28x28x1 (greyscale images)\n",
    "    self.encoder_input = tf.keras.Input(shape=(28, 28, 1))\n",
    "    self.encoder = tf.keras.layers.Conv2D(16, (3, 3), activation='relu', padding='same', strides=2)(self.encoder_input)\n",
    "    self.encoder = tf.keras.layers.Conv2D(8, (3, 3), activation='relu', padding='same', strides=2)(self.encoder)\n",
    "\n",
    "    # Get this size\n",
    "    volumeSize = K.int_shape(self.encoder)\n",
    "\n",
    "    # Flatten\n",
    "    self.encoder = tf.keras.layers.Flatten()(self.encoder)\n",
    "\n",
    "    # Output\n",
    "    self.encoder_output = tf.keras.layers.Dense(latent_dim, activation = 'linear')(self.encoder)\n",
    "\n",
    "    self.encoder_model = tf.keras.Model(self.encoder_input, self.encoder_output)\n",
    "    # ------------------------------------------\n",
    "\n",
    "    # The Autoencoder has an decoder  which we can make using normal layers\n",
    "    # Here we use the Functional API which requires 3 things (Input, model and output)\n",
    "    # ------------------------------------------\n",
    "\n",
    "    self.decoder_input = tf.keras.Input(shape=(latent_dim,))\n",
    "\n",
    "    self.decoder = tf.keras.layers.Dense(np.prod(tensor_shape[1:]), activation = 'linear')(self.decoder_input)\n",
    "\n",
    "    self.decoder = tf.keras.layers.Reshape((tensor_shape[1], tensor_shape[2], tensor_shape[3]))(self.decoder)\n",
    "\n",
    "    self.decoder = layers.Conv2DTranspose(8, kernel_size=3, strides=2, activation='relu', padding='same')(self.decoder)\n",
    "\n",
    "    self.decoder = layers.Conv2DTranspose(16, kernel_size=3, strides=2, activation='relu', padding='same')(self.decoder)\n",
    "\n",
    "    self.decoder_output = layers.Conv2D(1, kernel_size=(3, 3), activation='sigmoid', padding='same')(self.decoder)\n",
    "\n",
    "    self.decoder_model = tf.keras.Model(self.decoder_input, self.decoder_output)\n",
    "    # ------------------------------------------\n",
    "\n",
    "  # The forward pass\n",
    "  def call(self, x):\n",
    "\n",
    "    # Encode the inputs x using the propery defined above\n",
    "    # In the previous notebook we created the encoder and decoder as Sequential Models\n",
    "    # but now since we used the Functional API we need to call the Model objects we created above\n",
    "    encoded = self.encoder_model(x)\n",
    "\n",
    "    # Decode the encoded vector using the property defined above\n",
    "    decoded = self.decoder_model(encoded)\n",
    "\n",
    "    # Return the decoded (28,28) data\n",
    "    return decoded\n",
    "  \n",
    "autoencoder = Autoencoder(latent_dim) "
   ]
  },
  {
   "cell_type": "code",
   "execution_count": null,
   "metadata": {
    "id": "MDsPp1USi8_-"
   },
   "outputs": [],
   "source": [
    "autoencoder.compile(optimizer='adam', loss=losses.MeanSquaredError())"
   ]
  },
  {
   "cell_type": "code",
   "execution_count": null,
   "metadata": {
    "colab": {
     "base_uri": "https://localhost:8080/"
    },
    "id": "QLUPvT_Ii9Ck",
    "outputId": "1d7a02ea-faf6-4bef-a351-58af7b31b638"
   },
   "outputs": [
    {
     "name": "stdout",
     "output_type": "stream",
     "text": [
      "Epoch 1/5\n",
      "1875/1875 [==============================] - 21s 4ms/step - loss: 0.0316 - val_loss: 0.0164\n",
      "Epoch 2/5\n",
      "1875/1875 [==============================] - 7s 4ms/step - loss: 0.0156 - val_loss: 0.0143\n",
      "Epoch 3/5\n",
      "1875/1875 [==============================] - 7s 4ms/step - loss: 0.0142 - val_loss: 0.0133\n",
      "Epoch 4/5\n",
      "1875/1875 [==============================] - 7s 4ms/step - loss: 0.0133 - val_loss: 0.0126\n",
      "Epoch 5/5\n",
      "1875/1875 [==============================] - 8s 4ms/step - loss: 0.0128 - val_loss: 0.0122\n"
     ]
    },
    {
     "data": {
      "text/plain": [
       "<keras.callbacks.History at 0x7f4b00e87f10>"
      ]
     },
     "execution_count": 18,
     "metadata": {},
     "output_type": "execute_result"
    }
   ],
   "source": [
    "autoencoder.fit(x_train, x_train,\n",
    "                epochs=5,\n",
    "                shuffle=True,\n",
    "                validation_data=(x_test, x_test))"
   ]
  },
  {
   "cell_type": "code",
   "execution_count": null,
   "metadata": {
    "colab": {
     "base_uri": "https://localhost:8080/"
    },
    "id": "4-MFPKXei9FL",
    "outputId": "0752adc8-0493-4083-a4d5-89cb77482500"
   },
   "outputs": [
    {
     "name": "stdout",
     "output_type": "stream",
     "text": [
      "Model: \"autoencoder\"\n",
      "_________________________________________________________________\n",
      " Layer (type)                Output Shape              Param #   \n",
      "=================================================================\n",
      " model_2 (Functional)        (None, 16)                7608      \n",
      "                                                                 \n",
      " model_3 (Functional)        (None, 28, 28, 1)         8561      \n",
      "                                                                 \n",
      "=================================================================\n",
      "Total params: 16,169\n",
      "Trainable params: 16,169\n",
      "Non-trainable params: 0\n",
      "_________________________________________________________________\n"
     ]
    }
   ],
   "source": [
    "autoencoder.summary()"
   ]
  },
  {
   "cell_type": "code",
   "execution_count": null,
   "metadata": {
    "colab": {
     "base_uri": "https://localhost:8080/"
    },
    "id": "qV8kHSieonBg",
    "outputId": "16be4b31-4609-43a2-85fb-592c1406ea87"
   },
   "outputs": [
    {
     "data": {
      "text/plain": [
       "(28, 28)"
      ]
     },
     "execution_count": 20,
     "metadata": {},
     "output_type": "execute_result"
    }
   ],
   "source": [
    "# Let's view a test example\n",
    "x_test[0,:,:,0].shape"
   ]
  },
  {
   "cell_type": "code",
   "execution_count": null,
   "metadata": {
    "colab": {
     "base_uri": "https://localhost:8080/",
     "height": 265
    },
    "id": "w8uZpo6Hi9Hz",
    "outputId": "17c28f88-2725-49f2-8666-012919d3db5f"
   },
   "outputs": [
    {
     "data": {
      "image/png": "[encoded data removed]",
      "text/plain": [
       "<Figure size 432x288 with 1 Axes>"
      ]
     },
     "metadata": {
      "needs_background": "light"
     },
     "output_type": "display_data"
    }
   ],
   "source": [
    "# Let's view a test example\n",
    "plt.imshow(x_test[0,:,:,0])\n",
    "plt.gray()"
   ]
  },
  {
   "cell_type": "code",
   "execution_count": null,
   "metadata": {
    "id": "zl8weMhci9Ku"
   },
   "outputs": [],
   "source": [
    "# Encode the testing example\n",
    "encoded_img = autoencoder.encoder_model(np.expand_dims(x_test[0],0)).numpy()"
   ]
  },
  {
   "cell_type": "code",
   "execution_count": null,
   "metadata": {
    "colab": {
     "base_uri": "https://localhost:8080/"
    },
    "id": "GOQOuPRri9Mu",
    "outputId": "f16a6b0a-8d7e-4e96-8a18-78d69aa1f287"
   },
   "outputs": [
    {
     "data": {
      "text/plain": [
       "array([[-3.302598  ,  7.078636  ,  0.5563028 ,  2.7324147 , -3.58512   ,\n",
       "         6.7053113 , -4.7408695 , -4.431025  , -0.07351862, -2.3180866 ,\n",
       "        -1.7459167 , -7.693223  , -0.7297868 , -2.7880156 , -1.3355354 ,\n",
       "        -0.6244915 ]], dtype=float32)"
      ]
     },
     "execution_count": 23,
     "metadata": {},
     "output_type": "execute_result"
    }
   ],
   "source": [
    "encoded_img"
   ]
  },
  {
   "cell_type": "code",
   "execution_count": null,
   "metadata": {
    "colab": {
     "base_uri": "https://localhost:8080/"
    },
    "id": "YpyOM9t1o0hb",
    "outputId": "c12c6082-4124-4378-858c-960115413a5f"
   },
   "outputs": [
    {
     "data": {
      "text/plain": [
       "(1, 16)"
      ]
     },
     "execution_count": 24,
     "metadata": {},
     "output_type": "execute_result"
    }
   ],
   "source": [
    "# 16 values!\n",
    "encoded_img.shape"
   ]
  },
  {
   "cell_type": "code",
   "execution_count": null,
   "metadata": {
    "id": "Pm6sVs2_o4Hk"
   },
   "outputs": [],
   "source": [
    "# Now take those 16 values and reconstruct the input\n",
    "# i.e. we will go from 16 values to 784 values\n",
    "decoded_img = autoencoder.decoder_model(encoded_img).numpy()"
   ]
  },
  {
   "cell_type": "code",
   "execution_count": null,
   "metadata": {
    "colab": {
     "base_uri": "https://localhost:8080/"
    },
    "id": "7dPKImAWo4KP",
    "outputId": "048f0991-ece5-44f1-8d99-e18c3dd7147a"
   },
   "outputs": [
    {
     "data": {
      "text/plain": [
       "(1, 28, 28, 1)"
      ]
     },
     "execution_count": 26,
     "metadata": {},
     "output_type": "execute_result"
    }
   ],
   "source": [
    "decoded_img.shape"
   ]
  },
  {
   "cell_type": "code",
   "execution_count": null,
   "metadata": {
    "colab": {
     "base_uri": "https://localhost:8080/",
     "height": 265
    },
    "id": "VAs8Xt5Ko4Rk",
    "outputId": "9f8871a1-0efe-49cd-ac9f-f1878662db12"
   },
   "outputs": [
    {
     "data": {
      "image/png": "[encoded data removed]",
      "text/plain": [
       "<Figure size 432x288 with 1 Axes>"
      ]
     },
     "metadata": {
      "needs_background": "light"
     },
     "output_type": "display_data"
    }
   ],
   "source": [
    "plt.imshow(decoded_img[0,:,:,0])\n",
    "plt.gray()"
   ]
  },
  {
   "cell_type": "markdown",
   "metadata": {
    "id": "8BWCx-rOPWWl"
   },
   "source": [
    "## Now let's compare the original images to the recontructed images on all of the testing data"
   ]
  },
  {
   "cell_type": "code",
   "execution_count": null,
   "metadata": {
    "id": "lfZF_P7kPeyT"
   },
   "outputs": [],
   "source": [
    "encoded_imgs = autoencoder.encoder_model(x_test).numpy()\n",
    "decoded_imgs = autoencoder.decoder_model(encoded_imgs).numpy()"
   ]
  },
  {
   "cell_type": "code",
   "execution_count": null,
   "metadata": {
    "colab": {
     "base_uri": "https://localhost:8080/",
     "height": 264
    },
    "id": "s4LlDOS6FUA1",
    "outputId": "0087c3fe-a640-4923-f4a0-f29b40d1a92c"
   },
   "outputs": [
    {
     "data": {
      "image/png": "[encoded data removed]",
      "text/plain": [
       "<Figure size 1440x288 with 20 Axes>"
      ]
     },
     "metadata": {
      "needs_background": "light"
     },
     "output_type": "display_data"
    }
   ],
   "source": [
    "n = 10\n",
    "plt.figure(figsize=(20, 4))\n",
    "for i in range(n):\n",
    "  # display original\n",
    "  ax = plt.subplot(2, n, i + 1)\n",
    "  plt.imshow(x_test[i,:,:,0])\n",
    "  plt.title(\"original\")\n",
    "  plt.gray()\n",
    "  ax.get_xaxis().set_visible(False)\n",
    "  ax.get_yaxis().set_visible(False)\n",
    "\n",
    "  # display reconstruction\n",
    "  ax = plt.subplot(2, n, i + 1 + n)\n",
    "  plt.imshow(decoded_imgs[i,:,:,0])\n",
    "  plt.title(\"reconstructed\")\n",
    "  plt.gray()\n",
    "  ax.get_xaxis().set_visible(False)\n",
    "  ax.get_yaxis().set_visible(False)\n",
    "plt.show()"
   ]
  },
  {
   "cell_type": "markdown",
   "metadata": {
    "id": "mll7JUsSeMrI"
   },
   "source": [
    "## Task:\n",
    "\n",
    "* Explore modifications to the encoder and decoder (i.e. different conv layers in the encoder and decover).\n",
    "\n",
    "* Try different values for the latent dimensions\n",
    "\n",
    "* What is the best compression you can achieve?\n",
    "\n"
   ]
  },
  {
   "cell_type": "code",
   "execution_count": null,
   "metadata": {
    "id": "sVRPQaTQeY4f"
   },
   "outputs": [],
   "source": []
  }
 ],
 "metadata": {
  "accelerator": "GPU",
  "colab": {
   "collapsed_sections": [],
   "provenance": []
  },
  "kernelspec": {
   "display_name": "Python 3 (ipykernel)",
   "language": "python",
   "name": "python3"
  },
  "language_info": {
   "codemirror_mode": {
    "name": "ipython",
    "version": 3
   },
   "file_extension": ".py",
   "mimetype": "text/x-python",
   "name": "python",
   "nbconvert_exporter": "python",
   "pygments_lexer": "ipython3",
   "version": "3.9.13"
  }
 },
 "nbformat": 4,
 "nbformat_minor": 1
}
