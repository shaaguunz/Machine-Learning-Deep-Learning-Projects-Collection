{
 "cells": [
  {
   "cell_type": "markdown",
   "metadata": {
    "id": "LhWiLK0IEsqX"
   },
   "source": [
    "# Class Activation Maps with Fashion MNIST\n",
    "\n",
    "In this lab, you will see how to implement a simple class activation map (CAM) of a model trained on the [Fashion MNIST dataset](https://github.com/zalandoresearch/fashion-mnist). \n",
    "\n",
    "This will show what parts of the image the model was paying attention to when deciding the class of the image. Let's begin!"
   ]
  },
  {
   "cell_type": "markdown",
   "metadata": {
    "id": "hXY5nSkciBBy"
   },
   "source": [
    "First, some theory on CAM!\n",
    "\n",
    "* Saliency maps computes the derivate of the loss function with respect to each input pixel.\n",
    "\n",
    "* Another technique to understand what CNNs focus on is class activation maps (CAM). It was proposed by Zhou et al. https://arxiv.org/abs/1512.04150\n",
    "\n",
    "* This technique relies on the network having a global average pooling layer instead of fully connect output layers. Remember network-in-network architecture. \n",
    "\n",
    "* Fully connected layers at the end of the architecture consume tremendous numbers of parameters. This is a significant impediment to speedy computation, in particular on mobile and embedded devices. \n",
    "\n",
    "* The stack of fully connected layers at the very end of the model has been replaced by a layer named Global Average Pooling (GAP). \n",
    "\n",
    "* GAP simply averages the activations of each feature map and concatenates these averages and outputs them as a vector.\n",
    "\n",
    "* Saliency maps didn't require GAP, it can be applied to any network.\n",
    "\n",
    "* CAM requires GAP.\n",
    "\n",
    "* With CAM, we consider:\n",
    "\n",
    "  * a class, \n",
    "  * we also consider the weight vector in the output layer,\n",
    "  * the feature map from the last convolutional layer. \n",
    "  \n",
    "* In doing so, we can visualise which parts of the image are important for that class being considered. See below for a high level explanation\n",
    "\n",
    "![](https://miro.medium.com/max/1400/1*MFqz4qB107yEZUAPrigSEQ.png)\n",
    "\n",
    "* See below for a more detailed explanation.\n",
    "\n",
    "* Say we have a 28x28x3 image dataset for which we train a classifier which has GAP. Say the fashion mnist dataset.\n",
    "\n",
    "* We get the feature map from the last convolutional layer, here a 3x3x128 tensor.\n",
    "\n",
    "* For a given class, say the shoe class, there will be certain features which are useful for the classification of shoes, for example, shoe laces. The shoe laces might be present in some channels in the feature map.\n",
    "\n",
    "* Now applying GAP, those features will be repesented by a vector of length 128 (since the feature map had a depth of 128)\n",
    "\n",
    "* There will most likely be some value in that vector which corresponds to the shoe lace.\n",
    "\n",
    "* Next in the network, there will be the output layer. This layer will have a number of weights which connect the output of GAP to the output units, say 128 units connecting to 10 output units. \n",
    "\n",
    "* If we however only consider the unit corresponding to the shoe class, say some class k, then there will be 128 weights which connect this output unit K to the vector obtained from GAP. It is very much likely that the values from GAP which are useful for the shoe classification will have large weights associated with it. This makes sense since certain features from the feature map of the convolution layer will be responsible for \"useful shoe features\".\n",
    "\n",
    "* The idea of CAM, is to take the dot product between the weights (we just spoke about) and the feature vector at every pixel in the feature map. There is only one small problem, the feature map in our case was a 3x3x128. The depth is not a problem, it's the fact that the feature map is 3x3. We want to know which parts of the input image were being used to determine the classification. So we need to upscale the 3x3 feature map to match the input, here 28x28. So we upscale it to 28x28x128. So now, each feature vector (of depth 128) within the 28x28x128 map is used to compute the dot product with the weight vector.\n",
    "\n",
    "* Finally, we get a 28x28 CAM!\n",
    "\n",
    "![](https://drive.google.com/uc?export=view&id=1KIstgsnZ1HYyMUUI2jJciHsLX-i0lfD_)\n",
    "\n"
   ]
  },
  {
   "cell_type": "markdown",
   "metadata": {
    "id": "wOAlJAfRIY50"
   },
   "source": [
    "## Imports"
   ]
  },
  {
   "cell_type": "code",
   "execution_count": null,
   "metadata": {
    "id": "zSyMHuCVys-O"
   },
   "outputs": [],
   "source": [
    "import keras\n",
    "from keras.datasets import fashion_mnist\n",
    "import numpy as np\n",
    "import matplotlib.pyplot as plt\n",
    "from keras.models import Sequential,Model\n",
    "from keras.layers import Dense, Conv2D, MaxPooling2D, GlobalAveragePooling2D\n",
    "import scipy as sp\n",
    "%matplotlib inline"
   ]
  },
  {
   "cell_type": "markdown",
   "metadata": {
    "id": "uMIJYr6FIbZt"
   },
   "source": [
    "## Download and Prepare the Data"
   ]
  },
  {
   "cell_type": "code",
   "execution_count": null,
   "metadata": {
    "colab": {
     "base_uri": "https://localhost:8080/"
    },
    "id": "01974419yy5W",
    "outputId": "beaaf468-4d4c-4779-b1e9-037289e1a6bc"
   },
   "outputs": [
    {
     "name": "stdout",
     "output_type": "stream",
     "text": [
      "Downloading data from https://storage.googleapis.com/tensorflow/tf-keras-datasets/train-labels-idx1-ubyte.gz\n",
      "29515/29515 [==============================] - 0s 0us/step\n",
      "Downloading data from https://storage.googleapis.com/tensorflow/tf-keras-datasets/train-images-idx3-ubyte.gz\n",
      "26421880/26421880 [==============================] - 0s 0us/step\n",
      "Downloading data from https://storage.googleapis.com/tensorflow/tf-keras-datasets/t10k-labels-idx1-ubyte.gz\n",
      "5148/5148 [==============================] - 0s 0us/step\n",
      "Downloading data from https://storage.googleapis.com/tensorflow/tf-keras-datasets/t10k-images-idx3-ubyte.gz\n",
      "4422102/4422102 [==============================] - 0s 0us/step\n"
     ]
    }
   ],
   "source": [
    "# load the Fashion MNIST dataset\n",
    "(X_train,Y_train),(X_test,Y_test)  = fashion_mnist.load_data()"
   ]
  },
  {
   "cell_type": "code",
   "execution_count": null,
   "metadata": {
    "id": "VfVB6x6Oy1yF"
   },
   "outputs": [],
   "source": [
    "# Put an additional axis for the channels of the image.\n",
    "# Fashion MNIST is grayscale so we place 1 at the end. Other datasets\n",
    "# will need 3 if it's in RGB.\n",
    "X_train = X_train.reshape(60000,28,28,1)\n",
    "X_test = X_test.reshape(10000,28,28,1)\n",
    "\n",
    "# Normalize the pixel values from 0 to 1\n",
    "X_train = X_train/255\n",
    "X_test  = X_test/255\n",
    "\n",
    "# Cast to float\n",
    "X_train = X_train.astype('float')\n",
    "X_test  = X_test.astype('float')"
   ]
  },
  {
   "cell_type": "code",
   "execution_count": null,
   "metadata": {
    "id": "SDx99oRCzfTr"
   },
   "outputs": [],
   "source": [
    "def show_img(img):\n",
    "    '''utility function for reshaping and displaying an image'''\n",
    "\n",
    "    # convert to float array if img is not yet preprocessed\n",
    "    img  = np.array(img,dtype='float')\n",
    "\n",
    "    # remove channel dimension\n",
    "    img = img.reshape((28,28))\n",
    "\n",
    "    # display image\n",
    "    plt.imshow(img)"
   ]
  },
  {
   "cell_type": "code",
   "execution_count": null,
   "metadata": {
    "colab": {
     "base_uri": "https://localhost:8080/",
     "height": 265
    },
    "id": "rAL6lD1PLlj2",
    "outputId": "a4869cdb-6452-4998-91b1-d7ae42428988"
   },
   "outputs": [
    {
     "data": {
      "image/png": "[encoded data removed]",
      "text/plain": [
       "<Figure size 432x288 with 1 Axes>"
      ]
     },
     "metadata": {
      "needs_background": "light"
     },
     "output_type": "display_data"
    }
   ],
   "source": [
    "# test the function for the first train image. you can vary the index of X_train\n",
    "# below to see other images\n",
    "\n",
    "show_img(X_train[1])"
   ]
  },
  {
   "cell_type": "markdown",
   "metadata": {
    "id": "1xPggGPyOhm5"
   },
   "source": [
    "## Build the Classifier\n",
    "\n",
    "Let's quickly recap how we can build a simple classifier with this dataset."
   ]
  },
  {
   "cell_type": "markdown",
   "metadata": {
    "id": "Ds9n85HmJySy"
   },
   "source": [
    "### Define the Model\n",
    "\n",
    "You can build the classifier with the model below. The image will go through 4 convolutions followed by pooling layers. The final Dense layer will output the probabilities for each class."
   ]
  },
  {
   "cell_type": "code",
   "execution_count": null,
   "metadata": {
    "colab": {
     "base_uri": "https://localhost:8080/"
    },
    "id": "QyCoMd93zpc_",
    "outputId": "d928417b-4342-478b-bced-572058c759b0"
   },
   "outputs": [
    {
     "name": "stdout",
     "output_type": "stream",
     "text": [
      "Model: \"sequential\"\n",
      "_________________________________________________________________\n",
      " Layer (type)                Output Shape              Param #   \n",
      "=================================================================\n",
      " conv2d (Conv2D)             (None, 28, 28, 16)        160       \n",
      "                                                                 \n",
      " max_pooling2d (MaxPooling2D  (None, 14, 14, 16)       0         \n",
      " )                                                               \n",
      "                                                                 \n",
      " conv2d_1 (Conv2D)           (None, 14, 14, 32)        4640      \n",
      "                                                                 \n",
      " max_pooling2d_1 (MaxPooling  (None, 7, 7, 32)         0         \n",
      " 2D)                                                             \n",
      "                                                                 \n",
      " conv2d_2 (Conv2D)           (None, 7, 7, 64)          18496     \n",
      "                                                                 \n",
      " max_pooling2d_2 (MaxPooling  (None, 3, 3, 64)         0         \n",
      " 2D)                                                             \n",
      "                                                                 \n",
      " conv2d_3 (Conv2D)           (None, 3, 3, 128)         73856     \n",
      "                                                                 \n",
      " global_average_pooling2d (G  (None, 128)              0         \n",
      " lobalAveragePooling2D)                                          \n",
      "                                                                 \n",
      " dense (Dense)               (None, 10)                1290      \n",
      "                                                                 \n",
      "=================================================================\n",
      "Total params: 98,442\n",
      "Trainable params: 98,442\n",
      "Non-trainable params: 0\n",
      "_________________________________________________________________\n"
     ]
    }
   ],
   "source": [
    "# use the Sequential API\n",
    "model = Sequential()\n",
    "\n",
    "# notice the padding parameter to recover the lost border pixels when doing the convolution\n",
    "model.add(Conv2D(16,input_shape=(28,28,1),kernel_size=(3,3),activation='relu',padding='same'))\n",
    "# pooling layer with a stride of 2 will reduce the image dimensions by half\n",
    "model.add(MaxPooling2D(pool_size=(2,2)))\n",
    "\n",
    "# pass through more convolutions with increasing filters\n",
    "model.add(Conv2D(32,kernel_size=(3,3),activation='relu',padding='same'))\n",
    "model.add(MaxPooling2D(pool_size=(2,2)))\n",
    "\n",
    "model.add(Conv2D(64,kernel_size=(3,3),activation='relu',padding='same'))\n",
    "model.add(MaxPooling2D(pool_size=(2,2)))\n",
    "\n",
    "model.add(Conv2D(128,kernel_size=(3,3),activation='relu',padding='same'))\n",
    "\n",
    "# use global average pooling to take into account lesser intensity pixels\n",
    "model.add(GlobalAveragePooling2D())\n",
    "\n",
    "# output class probabilities\n",
    "model.add(Dense(10,activation='softmax'))\n",
    "\n",
    "model.summary()"
   ]
  },
  {
   "cell_type": "markdown",
   "metadata": {
    "id": "Fxsip1WuOk0Q"
   },
   "source": [
    "### Train the Model"
   ]
  },
  {
   "cell_type": "code",
   "execution_count": null,
   "metadata": {
    "colab": {
     "base_uri": "https://localhost:8080/"
    },
    "id": "t8LswgblLvc8",
    "outputId": "75080fdc-bd8c-44f1-8960-1f7e48110890"
   },
   "outputs": [
    {
     "name": "stdout",
     "output_type": "stream",
     "text": [
      "Epoch 1/8\n",
      "1688/1688 [==============================] - 19s 5ms/step - loss: 0.6125 - accuracy: 0.7749 - val_loss: 0.4199 - val_accuracy: 0.8452\n",
      "Epoch 2/8\n",
      "1688/1688 [==============================] - 8s 5ms/step - loss: 0.3761 - accuracy: 0.8621 - val_loss: 0.3503 - val_accuracy: 0.8715\n",
      "Epoch 3/8\n",
      "1688/1688 [==============================] - 7s 4ms/step - loss: 0.3185 - accuracy: 0.8836 - val_loss: 0.3450 - val_accuracy: 0.8738\n",
      "Epoch 4/8\n",
      "1688/1688 [==============================] - 7s 4ms/step - loss: 0.2839 - accuracy: 0.8950 - val_loss: 0.2937 - val_accuracy: 0.8928\n",
      "Epoch 5/8\n",
      "1688/1688 [==============================] - 7s 4ms/step - loss: 0.2577 - accuracy: 0.9041 - val_loss: 0.2607 - val_accuracy: 0.9020\n",
      "Epoch 6/8\n",
      "1688/1688 [==============================] - 8s 5ms/step - loss: 0.2353 - accuracy: 0.9130 - val_loss: 0.2771 - val_accuracy: 0.8988\n",
      "Epoch 7/8\n",
      "1688/1688 [==============================] - 8s 5ms/step - loss: 0.2199 - accuracy: 0.9189 - val_loss: 0.2348 - val_accuracy: 0.9143\n",
      "Epoch 8/8\n",
      "1688/1688 [==============================] - 7s 4ms/step - loss: 0.2007 - accuracy: 0.9255 - val_loss: 0.2488 - val_accuracy: 0.9107\n"
     ]
    },
    {
     "data": {
      "text/plain": [
       "<keras.callbacks.History at 0x7f280037ec90>"
      ]
     },
     "execution_count": 7,
     "metadata": {},
     "output_type": "execute_result"
    }
   ],
   "source": [
    "# configure the training\n",
    "model.compile(loss='sparse_categorical_crossentropy',metrics=['accuracy'],optimizer='adam')\n",
    "\n",
    "# train the model. just run a few epochs for this test run. you can adjust later.\n",
    "model.fit(X_train,Y_train,batch_size=32, epochs=8, validation_split=0.1, shuffle=True)"
   ]
  },
  {
   "cell_type": "markdown",
   "metadata": {
    "id": "eriUpnzxQkus"
   },
   "source": [
    "## Generate the Class Activation Map\n",
    "\n",
    "* To generate the class activation map, we want to get the features detected in the last convolution layer and see which ones are most active when generating the output probabilities. In our model above, we are interested in the layers shown below.\n",
    "\n",
    "* Based on what we discussed, we need two things:\n",
    "\n",
    "1. The feature map from the last convolutional layer\n",
    "2. The weights which connect the GAP to the output layer"
   ]
  },
  {
   "cell_type": "code",
   "execution_count": null,
   "metadata": {
    "colab": {
     "base_uri": "https://localhost:8080/"
    },
    "id": "UblFRpsK0Gd7",
    "outputId": "cbb272b7-c230-4ac0-ec47-0bb9d4aa0e84"
   },
   "outputs": [
    {
     "name": "stdout",
     "output_type": "stream",
     "text": [
      "conv2d_3\n",
      "global_average_pooling2d\n",
      "dense\n"
     ]
    }
   ],
   "source": [
    "# final convolution layer\n",
    "print(model.layers[-3].name)\n",
    "\n",
    "# global average pooling layer\n",
    "print(model.layers[-2].name)\n",
    "\n",
    "# output of the classifier\n",
    "print(model.layers[-1].name)"
   ]
  },
  {
   "cell_type": "markdown",
   "metadata": {
    "id": "cXAYTZZVrZFB"
   },
   "source": [
    "You can now create your CAM model as shown below."
   ]
  },
  {
   "cell_type": "code",
   "execution_count": null,
   "metadata": {
    "colab": {
     "base_uri": "https://localhost:8080/"
    },
    "id": "JSc42Fd4rZFB",
    "outputId": "8279497e-54bb-4946-e8e2-7f60de2c3072"
   },
   "outputs": [
    {
     "name": "stdout",
     "output_type": "stream",
     "text": [
      "Model: \"model\"\n",
      "_________________________________________________________________\n",
      " Layer (type)                Output Shape              Param #   \n",
      "=================================================================\n",
      " conv2d_input (InputLayer)   [(None, 28, 28, 1)]       0         \n",
      "                                                                 \n",
      " conv2d (Conv2D)             (None, 28, 28, 16)        160       \n",
      "                                                                 \n",
      " max_pooling2d (MaxPooling2D  (None, 14, 14, 16)       0         \n",
      " )                                                               \n",
      "                                                                 \n",
      " conv2d_1 (Conv2D)           (None, 14, 14, 32)        4640      \n",
      "                                                                 \n",
      " max_pooling2d_1 (MaxPooling  (None, 7, 7, 32)         0         \n",
      " 2D)                                                             \n",
      "                                                                 \n",
      " conv2d_2 (Conv2D)           (None, 7, 7, 64)          18496     \n",
      "                                                                 \n",
      " max_pooling2d_2 (MaxPooling  (None, 3, 3, 64)         0         \n",
      " 2D)                                                             \n",
      "                                                                 \n",
      " conv2d_3 (Conv2D)           (None, 3, 3, 128)         73856     \n",
      "                                                                 \n",
      " global_average_pooling2d (G  (None, 128)              0         \n",
      " lobalAveragePooling2D)                                          \n",
      "                                                                 \n",
      " dense (Dense)               (None, 10)                1290      \n",
      "                                                                 \n",
      "=================================================================\n",
      "Total params: 98,442\n",
      "Trainable params: 98,442\n",
      "Non-trainable params: 0\n",
      "_________________________________________________________________\n"
     ]
    }
   ],
   "source": [
    "# same as previous model but with an additional output\n",
    "cam_model  = Model(inputs=model.input,outputs=(model.layers[-3].output,model.layers[-1].output))\n",
    "cam_model.summary()"
   ]
  },
  {
   "cell_type": "markdown",
   "metadata": {
    "id": "MvWbe6sLrZFB"
   },
   "source": [
    "Use the CAM model to predict on the test set, so that it generates the features and the predicted probability for each class (`results`)."
   ]
  },
  {
   "cell_type": "code",
   "execution_count": null,
   "metadata": {
    "colab": {
     "base_uri": "https://localhost:8080/"
    },
    "id": "R8625UmNrxOU",
    "outputId": "cf4e9261-23b6-48e6-f7ae-a1ae41b3768e"
   },
   "outputs": [
    {
     "name": "stdout",
     "output_type": "stream",
     "text": [
      "313/313 [==============================] - 1s 2ms/step\n",
      "features shape:  (10000, 3, 3, 128)\n",
      "results shape (10000, 10)\n"
     ]
    }
   ],
   "source": [
    "# get the features and results of the test images using the newly created model\n",
    "features,results = cam_model.predict(X_test)\n",
    "\n",
    "# shape of the features\n",
    "print(\"features shape: \", features.shape)\n",
    "print(\"results shape\", results.shape)"
   ]
  },
  {
   "cell_type": "markdown",
   "metadata": {
    "id": "bfQMCOtmTaDX"
   },
   "source": [
    "You can generate the CAM by getting the dot product of the class activation features and the class activation weights.\n",
    "\n",
    "You will need the weights from the Global Average Pooling layer (GAP) to calculate the activations of each feature given a particular class.\n",
    "- Note that you'll get the weights from the dense layer that follows the global average pooling layer.\n",
    "  - The last conv2D layer has (h,w,depth) of (3 x 3 x 128), so there are 128 features.\n",
    "  - The global average pooling layer collapses the h,w,f (3 x 3 x 128) into a dense layer of 128 neurons (1 neuron per feature).\n",
    "  - The activations from the global average pooling layer get passed to the last dense layer.\n",
    "  - The last dense layer assigns weights to each of those 128 features (for each of the 10 classes),\n",
    "  - So the weights of the last dense layer (which immmediately follows the global average pooling layer) are referred to in this context as the \"weights of the global average pooling layer\".\n",
    "\n",
    "For each of the 10 classes, there are 128 features, so there are 128 feature weights, one weight per feature."
   ]
  },
  {
   "cell_type": "code",
   "execution_count": null,
   "metadata": {
    "colab": {
     "base_uri": "https://localhost:8080/"
    },
    "id": "7BXoBtrJZXg0",
    "outputId": "9d4852ff-dba8-4bae-f1dc-53d51d9f3ab3"
   },
   "outputs": [
    {
     "name": "stdout",
     "output_type": "stream",
     "text": [
      "dense\n"
     ]
    }
   ],
   "source": [
    "print(model.layers[-1].name)"
   ]
  },
  {
   "cell_type": "code",
   "execution_count": null,
   "metadata": {
    "colab": {
     "base_uri": "https://localhost:8080/"
    },
    "id": "UwfG1vyprZFC",
    "outputId": "9c48936f-40c3-4f07-a7b2-d34282c2eb95"
   },
   "outputs": [
    {
     "name": "stdout",
     "output_type": "stream",
     "text": [
      "gap_weights_l index 0 contains weights  (128, 10)\n",
      "gap_weights_l index 1 contains biases  (10,)\n",
      "There are 128 feature weights and 10 classes.\n"
     ]
    }
   ],
   "source": [
    "# these are the weights going into the softmax layer\n",
    "last_dense_layer = model.layers[-1]\n",
    "\n",
    "# get the weights list.  index 0 contains the weights, index 1 contains the biases\n",
    "gap_weights_l = last_dense_layer.get_weights()\n",
    "\n",
    "print(\"gap_weights_l index 0 contains weights \", gap_weights_l[0].shape)\n",
    "print(\"gap_weights_l index 1 contains biases \", gap_weights_l[1].shape)\n",
    "\n",
    "# shows the number of features per class, and the total number of classes\n",
    "# Store the weights\n",
    "gap_weights = gap_weights_l[0]\n",
    "\n",
    "print(f\"There are {gap_weights.shape[0]} feature weights and {gap_weights.shape[1]} classes.\")"
   ]
  },
  {
   "cell_type": "markdown",
   "metadata": {
    "id": "Y7GtR-4NrZFC"
   },
   "source": [
    "Now, get the features for a specific image, indexed between 0 and 999."
   ]
  },
  {
   "cell_type": "code",
   "execution_count": null,
   "metadata": {
    "colab": {
     "base_uri": "https://localhost:8080/"
    },
    "id": "x2aA6_ZTrZFD",
    "outputId": "0f573212-2d22-400d-cb40-c41b9de7e4b4"
   },
   "outputs": [
    {
     "name": "stdout",
     "output_type": "stream",
     "text": [
      "The features for image index 0 has shape (height, width, num of feature channels) :  (3, 3, 128)\n"
     ]
    }
   ],
   "source": [
    "# Get the features for the image at index 0\n",
    "# Essentially, here we are selecting an image\n",
    "# features contains the feature map output for all the \n",
    "# X_test images, so features[0] would be the feature map\n",
    "# for the 0th image in X_test\n",
    "idx = 0\n",
    "features_for_img = features[idx,:,:,:]\n",
    "\n",
    "print(f\"The features for image index {idx} has shape (height, width, num of feature channels) : \", features_for_img.shape)"
   ]
  },
  {
   "cell_type": "markdown",
   "metadata": {
    "id": "0OSiDiTnrZFD"
   },
   "source": [
    "The features have height and width of 3 by 3.  Scale them up to the original image height and width, which is 28 by 28."
   ]
  },
  {
   "cell_type": "code",
   "execution_count": null,
   "metadata": {
    "colab": {
     "base_uri": "https://localhost:8080/"
    },
    "id": "1sNUNDLDrZFD",
    "outputId": "fd93ff09-3c5b-4d54-fbdf-cf71b6102da6"
   },
   "outputs": [
    {
     "name": "stdout",
     "output_type": "stream",
     "text": [
      "features_for_img_scaled up to 28 by 28 height and width: (28, 28, 128)\n"
     ]
    }
   ],
   "source": [
    "features_for_img_scaled = sp.ndimage.zoom(features_for_img, (28/3, 28/3,1), order=2)\n",
    "\n",
    "# Check the shape after scaling up to 28 by 28 (still 128 feature channels)\n",
    "print(\"features_for_img_scaled up to 28 by 28 height and width:\", features_for_img_scaled.shape)"
   ]
  },
  {
   "cell_type": "markdown",
   "metadata": {
    "id": "AYj5w9NhrZFD"
   },
   "source": [
    "For a particular class (0...9), get the 128 weights.\n",
    "\n",
    "Take the dot product with the scaled features for this selected image with the weights.\n",
    "\n",
    "The shapes are:\n",
    "scaled features: (h,w,depth) of (28 x 28 x 128).\n",
    "weights for one class: 128\n",
    "\n",
    "The dot product produces the class activation map, with the shape equal to the height and width of the image: 28 x 28."
   ]
  },
  {
   "cell_type": "code",
   "execution_count": null,
   "metadata": {
    "colab": {
     "base_uri": "https://localhost:8080/"
    },
    "id": "sNj4D8FprZFD",
    "outputId": "68bb0ebd-b57a-41dc-b666-f21d15cc8c21"
   },
   "outputs": [
    {
     "name": "stdout",
     "output_type": "stream",
     "text": [
      "features_for_img_scaled has shape  (28, 28, 128)\n",
      "gap_weights_for_one_class has shape  (128,)\n",
      "class activation map shape  (28, 28)\n"
     ]
    }
   ],
   "source": [
    "# Select the weights that are used for a specific class (0...9)\n",
    "class_id = 9\n",
    "# take the dot product between the scaled image features and the weights for \n",
    "gap_weights_for_one_class = gap_weights[:,class_id]\n",
    "\n",
    "print(\"features_for_img_scaled has shape \", features_for_img_scaled.shape)\n",
    "print(\"gap_weights_for_one_class has shape \", gap_weights_for_one_class.shape)\n",
    "# take the dot product between the scaled features and the weights for one class\n",
    "cam = np.dot(features_for_img_scaled, gap_weights_for_one_class)\n",
    "\n",
    "print(\"class activation map shape \", cam.shape)"
   ]
  },
  {
   "cell_type": "code",
   "execution_count": null,
   "metadata": {
    "colab": {
     "base_uri": "https://localhost:8080/"
    },
    "id": "QcymTK4wjmCJ",
    "outputId": "cfdec316-838d-4191-aec4-b893ea8eaffc"
   },
   "outputs": [
    {
     "data": {
      "text/plain": [
       "9"
      ]
     },
     "execution_count": 16,
     "metadata": {},
     "output_type": "execute_result"
    }
   ],
   "source": [
    "prediction = np.argmax(results[0],axis=-1)\n",
    "prediction"
   ]
  },
  {
   "cell_type": "code",
   "execution_count": null,
   "metadata": {
    "colab": {
     "base_uri": "https://localhost:8080/",
     "height": 283
    },
    "id": "WLcieUNaiMSs",
    "outputId": "d17e94fe-cf2a-4ad3-9fc9-e592fca184df"
   },
   "outputs": [
    {
     "data": {
      "text/plain": [
       "<matplotlib.image.AxesImage at 0x7f27ac6a3a10>"
      ]
     },
     "execution_count": 17,
     "metadata": {},
     "output_type": "execute_result"
    },
    {
     "data": {
      "image/png": "[encoded data removed]",
      "text/plain": [
       "<Figure size 432x288 with 1 Axes>"
      ]
     },
     "metadata": {
      "needs_background": "light"
     },
     "output_type": "display_data"
    }
   ],
   "source": [
    "plt.imshow(cam, alpha=0.9)"
   ]
  },
  {
   "cell_type": "code",
   "execution_count": null,
   "metadata": {
    "colab": {
     "base_uri": "https://localhost:8080/",
     "height": 283
    },
    "id": "Gj5zTzYEkTBM",
    "outputId": "3ad6e60e-3a36-4d15-fda4-6541bcf96183"
   },
   "outputs": [
    {
     "data": {
      "text/plain": [
       "<matplotlib.image.AxesImage at 0x7f27ac607d90>"
      ]
     },
     "execution_count": 18,
     "metadata": {},
     "output_type": "execute_result"
    },
    {
     "data": {
      "image/png": "[encoded data removed]",
      "text/plain": [
       "<Figure size 432x288 with 1 Axes>"
      ]
     },
     "metadata": {
      "needs_background": "light"
     },
     "output_type": "display_data"
    }
   ],
   "source": [
    "plt.imshow(np.squeeze(X_test[0],-1), alpha=0.5)"
   ]
  },
  {
   "cell_type": "markdown",
   "metadata": {
    "id": "Vag5enPdrZFE"
   },
   "source": [
    "### Conceptual interpretation\n",
    "To think conceptually about what what you're doing and why:\n",
    "- In the 28 x 28 x 128 feature map, each of the 128 feature filters is tailored to look for a specific set of features (for example, a shoelace).  \n",
    "  - The actual features are learned, not selected by you directly.\n",
    "- Each of the 128 weights for a particular class decide how much weight to give to each of the 128 features, for that class.\n",
    "  - For instance, for the \"shoe\" class, it may have a higher weight for the feature filters that look for shoelaces.\n",
    "- At each of the 28 by 28 pixels, you can take the vector of 128 features and compare them with the vector of 128 weights.  \n",
    "  - You can do this comparison with a dot product.\n",
    "  - The dot product results in a scalar value at each pixel.\n",
    "  - Apply this dot product across all of the 28 x 28 pixels.\n",
    "  - The scalar result of the dot product will be larger when the image both has the particular feature (e.g. shoelace), and that feature is also weighted more heavily for the particular class (e.g shoe).\n",
    "  \n",
    "So you've created a matrix with the same number of pixels as the image, where the value at each pixel is higher when that pixel is relevant to the prediction of a particular class."
   ]
  },
  {
   "cell_type": "markdown",
   "metadata": {
    "id": "G-e9U5poVBis"
   },
   "source": [
    "Here is the function that implements the Class activation map calculations that you just saw."
   ]
  },
  {
   "cell_type": "code",
   "execution_count": null,
   "metadata": {
    "id": "YByJ8J1008Ms"
   },
   "outputs": [],
   "source": [
    "def show_cam(image_index):\n",
    "  '''displays the class activation map of a particular image'''\n",
    "\n",
    "  # takes the features of the chosen image\n",
    "  features_for_img = features[image_index,:,:,:]\n",
    "\n",
    "  # get the class with the highest output probability\n",
    "  prediction = np.argmax(results[image_index])\n",
    "\n",
    "  # get the gap weights at the predicted class\n",
    "  class_activation_weights = gap_weights[:,prediction]\n",
    "\n",
    "  # upsample the features to the image's original size (28 x 28)\n",
    "  class_activation_features = sp.ndimage.zoom(features_for_img, (28/3, 28/3, 1), order=2)\n",
    "\n",
    "  # compute the intensity of each feature in the CAM\n",
    "  cam_output  = np.dot(class_activation_features,class_activation_weights)\n",
    "  \n",
    "  print('Predicted Class = ' +str(prediction)+ ', Probability = ' + str(results[image_index][prediction]))\n",
    "  \n",
    "  # show the upsampled image\n",
    "  plt.imshow(np.squeeze(X_test[image_index],-1), alpha=0.5)\n",
    "  \n",
    "  # strongly classified (95% probability) images will be in green, else red\n",
    "  if results[image_index][prediction]>0.95:\n",
    "    cmap_str = 'Greens'\n",
    "  else:\n",
    "    cmap_str = 'Reds'\n",
    "\n",
    "  # overlay the cam output\n",
    "  plt.imshow(cam_output, cmap=cmap_str, alpha=0.5)\n",
    "\n",
    "  # display the image\n",
    "  plt.show()"
   ]
  },
  {
   "cell_type": "markdown",
   "metadata": {
    "id": "9fjIdEmlXbez"
   },
   "source": [
    "You can now test generating class activation maps. Let's use the utility function below. "
   ]
  },
  {
   "cell_type": "code",
   "execution_count": null,
   "metadata": {
    "id": "8iQjMfg9U03_"
   },
   "outputs": [],
   "source": [
    "def show_maps(desired_class, num_maps):\n",
    "    '''\n",
    "    goes through the first 10,000 test images and generates CAMs \n",
    "    for the first `num_maps`(int) of the `desired_class`(int)\n",
    "    '''\n",
    "\n",
    "    counter = 0\n",
    "\n",
    "    if desired_class < 10:\n",
    "        print(\"please choose a class less than 10\")\n",
    "\n",
    "    # go through the first 10000 images\n",
    "    for i in range(0,10000):\n",
    "        # break if we already displayed the specified number of maps\n",
    "        if counter == num_maps:\n",
    "            break\n",
    "\n",
    "        # images that match the class will be shown\n",
    "        if np.argmax(results[i]) == desired_class:\n",
    "            counter += 1\n",
    "            show_cam(i)"
   ]
  },
  {
   "cell_type": "markdown",
   "metadata": {
    "id": "ctjDEfzrjXa5"
   },
   "source": [
    "For class 8 (handbag), you'll notice that most of the images have dark spots in the middle and right side. \n",
    "- This means that these areas were given less importance when categorizing the image. \n",
    "- The other parts such as the outline or handle contribute more when deciding if an image is a handbag or not. \n",
    "\n",
    "Observe the other classes and see if there are also other common areas that the model uses more in determining the class of the image.\n",
    "\n",
    "* Lighter areas denote areas where the model focused on."
   ]
  },
  {
   "cell_type": "code",
   "execution_count": null,
   "metadata": {
    "colab": {
     "base_uri": "https://localhost:8080/",
     "height": 1000
    },
    "id": "AkPMvVurezkb",
    "outputId": "88904300-2595-4fbe-f44b-f0029003095a"
   },
   "outputs": [
    {
     "name": "stdout",
     "output_type": "stream",
     "text": [
      "please choose a class less than 10\n",
      "Predicted Class = 9, Probability = 0.9986532\n"
     ]
    },
    {
     "data": {
      "image/png": "[encoded data removed]",
      "text/plain": [
       "<Figure size 432x288 with 1 Axes>"
      ]
     },
     "metadata": {
      "needs_background": "light"
     },
     "output_type": "display_data"
    },
    {
     "name": "stdout",
     "output_type": "stream",
     "text": [
      "Predicted Class = 9, Probability = 0.9996069\n"
     ]
    },
    {
     "data": {
      "image/png": "[encoded data removed]",
      "text/plain": [
       "<Figure size 432x288 with 1 Axes>"
      ]
     },
     "metadata": {
      "needs_background": "light"
     },
     "output_type": "display_data"
    },
    {
     "name": "stdout",
     "output_type": "stream",
     "text": [
      "Predicted Class = 9, Probability = 0.99992955\n"
     ]
    },
    {
     "data": {
      "image/png": "[encoded data removed]",
      "text/plain": [
       "<Figure size 432x288 with 1 Axes>"
      ]
     },
     "metadata": {
      "needs_background": "light"
     },
     "output_type": "display_data"
    },
    {
     "name": "stdout",
     "output_type": "stream",
     "text": [
      "Predicted Class = 9, Probability = 0.9999862\n"
     ]
    },
    {
     "data": {
      "image/png": "[encoded data removed]",
      "text/plain": [
       "<Figure size 432x288 with 1 Axes>"
      ]
     },
     "metadata": {
      "needs_background": "light"
     },
     "output_type": "display_data"
    },
    {
     "name": "stdout",
     "output_type": "stream",
     "text": [
      "Predicted Class = 9, Probability = 0.99797744\n"
     ]
    },
    {
     "data": {
      "image/png": "[encoded data removed]",
      "text/plain": [
       "<Figure size 432x288 with 1 Axes>"
      ]
     },
     "metadata": {
      "needs_background": "light"
     },
     "output_type": "display_data"
    },
    {
     "name": "stdout",
     "output_type": "stream",
     "text": [
      "Predicted Class = 9, Probability = 0.97777873\n"
     ]
    },
    {
     "data": {
      "image/png": "[encoded data removed]",
      "text/plain": [
       "<Figure size 432x288 with 1 Axes>"
      ]
     },
     "metadata": {
      "needs_background": "light"
     },
     "output_type": "display_data"
    },
    {
     "name": "stdout",
     "output_type": "stream",
     "text": [
      "Predicted Class = 9, Probability = 0.999806\n"
     ]
    },
    {
     "data": {
      "image/png": "[encoded data removed]",
      "text/plain": [
       "<Figure size 432x288 with 1 Axes>"
      ]
     },
     "metadata": {
      "needs_background": "light"
     },
     "output_type": "display_data"
    },
    {
     "name": "stdout",
     "output_type": "stream",
     "text": [
      "Predicted Class = 9, Probability = 0.9663498\n"
     ]
    },
    {
     "data": {
      "image/png": "[encoded data removed]",
      "text/plain": [
       "<Figure size 432x288 with 1 Axes>"
      ]
     },
     "metadata": {
      "needs_background": "light"
     },
     "output_type": "display_data"
    },
    {
     "name": "stdout",
     "output_type": "stream",
     "text": [
      "Predicted Class = 9, Probability = 0.99998593\n"
     ]
    },
    {
     "data": {
      "image/png": "[encoded data removed]",
      "text/plain": [
       "<Figure size 432x288 with 1 Axes>"
      ]
     },
     "metadata": {
      "needs_background": "light"
     },
     "output_type": "display_data"
    },
    {
     "name": "stdout",
     "output_type": "stream",
     "text": [
      "Predicted Class = 9, Probability = 0.99887663\n"
     ]
    },
    {
     "data": {
      "image/png": "[encoded data removed]",
      "text/plain": [
       "<Figure size 432x288 with 1 Axes>"
      ]
     },
     "metadata": {
      "needs_background": "light"
     },
     "output_type": "display_data"
    }
   ],
   "source": [
    "show_maps(desired_class=9, num_maps=10)"
   ]
  },
  {
   "cell_type": "code",
   "execution_count": null,
   "metadata": {
    "id": "XHAWGNFxfdke"
   },
   "outputs": [],
   "source": []
  }
 ],
 "metadata": {
  "accelerator": "GPU",
  "colab": {
   "collapsed_sections": [],
   "provenance": []
  },
  "kernelspec": {
   "display_name": "Python 3 (ipykernel)",
   "language": "python",
   "name": "python3"
  },
  "language_info": {
   "codemirror_mode": {
    "name": "ipython",
    "version": 3
   },
   "file_extension": ".py",
   "mimetype": "text/x-python",
   "name": "python",
   "nbconvert_exporter": "python",
   "pygments_lexer": "ipython3",
   "version": "3.9.13"
  }
 },
 "nbformat": 4,
 "nbformat_minor": 1
}
