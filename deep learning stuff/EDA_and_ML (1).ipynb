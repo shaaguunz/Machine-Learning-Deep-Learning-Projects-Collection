{
 "cells": [
  {
   "cell_type": "markdown",
   "metadata": {
    "id": "yGW4zoE4loEv"
   },
   "source": [
    "# EDA and ML project\n",
    "\n",
    "**Requirements:**\n",
    "# Task 1\n",
    "- Lode the data\n",
    "- Do a preproccessing \n",
    "- Explore the data and make sure to write comments and insight on everything that you discover about the data \n",
    "- Do the EDA and draw at least 10 plots that have a meaningful and insights\n",
    "- Discover unusual data or outlier data and make prediction why that happend\n",
    "- Creat new columns that could be your target in Classification models at least 2 more columns \n",
    "**Notes:**\n",
    "  - Any additional plot will consider as bouns\n",
    "  - Comments is very important\n",
    "\n",
    "\n",
    "#  Task 2\n",
    "\n",
    "- Build ML models at least two models for Classification and for Regression\n",
    "\n",
    "Notes: Any additional model will consider as bouns"
   ]
  },
  {
   "cell_type": "markdown",
   "metadata": {
    "id": "m-bJavVw-p5K"
   },
   "source": [
    "## Importing Packages "
   ]
  },
  {
   "cell_type": "code",
   "execution_count": 2,
   "metadata": {
    "id": "y7dQc4oDc0fz"
   },
   "outputs": [],
   "source": [
    "# Importing various libraries for experimentation\n"
   ]
  },
  {
   "cell_type": "markdown",
   "metadata": {
    "id": "QnieXIS0-p5L"
   },
   "source": [
    "## Loading Dataset "
   ]
  },
  {
   "cell_type": "code",
   "execution_count": 3,
   "metadata": {
    "id": "xeIq9PWLaGof",
    "scrolled": true
   },
   "outputs": [],
   "source": [
    "# Load the dataset\n"
   ]
  },
  {
   "cell_type": "markdown",
   "metadata": {
    "id": "4_L8a_uZ-p5M"
   },
   "source": [
    "**Insights**\n",
    "- \n",
    "- \n",
    "- "
   ]
  },
  {
   "cell_type": "markdown",
   "metadata": {
    "id": "FJ_8o4zxj-j7"
   },
   "source": [
    "# PreProccessing"
   ]
  },
  {
   "cell_type": "code",
   "execution_count": null,
   "metadata": {
    "id": "tinQFbkVrH_q"
   },
   "outputs": [],
   "source": []
  },
  {
   "cell_type": "code",
   "execution_count": null,
   "metadata": {
    "id": "L5XhVEKVrHze"
   },
   "outputs": [],
   "source": []
  },
  {
   "cell_type": "markdown",
   "metadata": {
    "id": "enIiifQUmVD5"
   },
   "source": [
    "## Exploratory Data  Analysis"
   ]
  },
  {
   "cell_type": "code",
   "execution_count": null,
   "metadata": {
    "id": "nLhcoFjPj8Qu"
   },
   "outputs": [],
   "source": []
  },
  {
   "cell_type": "code",
   "execution_count": null,
   "metadata": {
    "id": "iTsQqtgcj8Gd"
   },
   "outputs": [],
   "source": []
  },
  {
   "cell_type": "code",
   "execution_count": null,
   "metadata": {
    "id": "8HaQq-lGj7Uh"
   },
   "outputs": [],
   "source": []
  },
  {
   "cell_type": "markdown",
   "metadata": {
    "id": "WEMu0OIG-p5P"
   },
   "source": [
    "### 1st plot insights"
   ]
  },
  {
   "cell_type": "code",
   "execution_count": 4,
   "metadata": {
    "id": "PwF_PwWH-p5Q"
   },
   "outputs": [],
   "source": [
    "# code for \n"
   ]
  },
  {
   "cell_type": "markdown",
   "metadata": {
    "id": "E-L4Friv-p5Q"
   },
   "source": [
    "**Insights**\n",
    "- \n",
    "- \n",
    "- "
   ]
  },
  {
   "cell_type": "markdown",
   "metadata": {
    "id": "FgdDoUr1-p5Q"
   },
   "source": [
    "### 2nd plot insights "
   ]
  },
  {
   "cell_type": "code",
   "execution_count": 5,
   "metadata": {
    "id": "-k-h07bQ-p5Q"
   },
   "outputs": [],
   "source": [
    "# Code for "
   ]
  },
  {
   "cell_type": "markdown",
   "metadata": {
    "id": "KCjFK5SQ-p5R"
   },
   "source": [
    "**Insights**\n",
    "- \n",
    "- \n",
    "- "
   ]
  },
  {
   "cell_type": "markdown",
   "metadata": {
    "id": "cQODF9Kr-p5R"
   },
   "source": [
    "### 3rd plot insights "
   ]
  },
  {
   "cell_type": "code",
   "execution_count": 6,
   "metadata": {
    "id": "xKOelhyc-p5R"
   },
   "outputs": [],
   "source": [
    "#Build \n"
   ]
  },
  {
   "cell_type": "markdown",
   "metadata": {
    "id": "PiqRElWR-p5S"
   },
   "source": [
    "**Insights**\n",
    "- \n",
    "- \n",
    "- "
   ]
  },
  {
   "cell_type": "markdown",
   "metadata": {
    "id": "wqD6HhWc-p5S"
   },
   "source": [
    "### 4th plot insights "
   ]
  },
  {
   "cell_type": "code",
   "execution_count": 7,
   "metadata": {
    "id": "JFkgcReM-p5S"
   },
   "outputs": [],
   "source": [
    "#Build\n"
   ]
  },
  {
   "cell_type": "markdown",
   "metadata": {
    "id": "_ELlxaKO-p5T"
   },
   "source": [
    "**Insights**\n",
    "-  \n",
    "- \n",
    "- "
   ]
  },
  {
   "cell_type": "markdown",
   "metadata": {
    "id": "nbknqg62-p5T"
   },
   "source": [
    "### 5th plot insights "
   ]
  },
  {
   "cell_type": "code",
   "execution_count": 8,
   "metadata": {
    "id": "ul5RBgfU-p5T"
   },
   "outputs": [],
   "source": [
    "#Build \n"
   ]
  },
  {
   "cell_type": "markdown",
   "metadata": {
    "id": "Ud-4XrQp-p5T"
   },
   "source": [
    "**Insights**\n",
    "- \n",
    "- \n",
    "- "
   ]
  },
  {
   "cell_type": "markdown",
   "metadata": {
    "id": "Xmvviats-p5U"
   },
   "source": [
    "### 6th Plot Insights"
   ]
  },
  {
   "cell_type": "code",
   "execution_count": 9,
   "metadata": {
    "id": "mqnjMGIU-p5U"
   },
   "outputs": [],
   "source": [
    "#Build \n"
   ]
  },
  {
   "cell_type": "markdown",
   "metadata": {
    "id": "P4njdJ1N-p5U"
   },
   "source": [
    "**Insights**\n",
    "- \n",
    "-\n",
    "- "
   ]
  },
  {
   "cell_type": "markdown",
   "metadata": {
    "id": "6wUH6zqJ-p5U"
   },
   "source": [
    "### 7th Plot Insight"
   ]
  },
  {
   "cell_type": "code",
   "execution_count": 9,
   "metadata": {
    "id": "dlivt-wO-p5U",
    "scrolled": true
   },
   "outputs": [],
   "source": []
  },
  {
   "cell_type": "markdown",
   "metadata": {
    "id": "6_sy5Aqz-p5V"
   },
   "source": [
    "**Insights**\n",
    "- \n",
    "- \n",
    "- "
   ]
  },
  {
   "cell_type": "markdown",
   "metadata": {
    "id": "_sV-e4Wd-p5V"
   },
   "source": [
    "### 8th Plot Insight"
   ]
  },
  {
   "cell_type": "code",
   "execution_count": 9,
   "metadata": {
    "id": "wAARpyRu-p5V",
    "scrolled": false
   },
   "outputs": [],
   "source": []
  },
  {
   "cell_type": "markdown",
   "metadata": {
    "id": "u5MszQUz-p5V"
   },
   "source": [
    "**Insights**\n",
    "- \n",
    "-\n",
    "- "
   ]
  },
  {
   "cell_type": "code",
   "execution_count": null,
   "metadata": {
    "id": "mbofYGlLkpFV"
   },
   "outputs": [],
   "source": []
  },
  {
   "cell_type": "markdown",
   "metadata": {
    "id": "tpcGlrEukp6O"
   },
   "source": [
    "# 9th Plot Insight"
   ]
  },
  {
   "cell_type": "code",
   "execution_count": null,
   "metadata": {
    "id": "fgurilGckxQl"
   },
   "outputs": [],
   "source": []
  },
  {
   "cell_type": "markdown",
   "metadata": {
    "id": "pejrLeSgkx-4"
   },
   "source": [
    "**Insights**\n",
    "- \n",
    "- \n",
    "- \n"
   ]
  },
  {
   "cell_type": "markdown",
   "metadata": {
    "id": "GqvJwB_bk8PW"
   },
   "source": [
    "# 10 Plot Insight"
   ]
  },
  {
   "cell_type": "code",
   "execution_count": null,
   "metadata": {
    "id": "y74gHbffk9cm"
   },
   "outputs": [],
   "source": []
  },
  {
   "cell_type": "markdown",
   "metadata": {
    "id": "-riOD0RklBhQ"
   },
   "source": [
    "**Insights**\n",
    "- \n",
    "- \n",
    "- "
   ]
  },
  {
   "cell_type": "markdown",
   "metadata": {
    "id": "lShOItb6rQah"
   },
   "source": [
    "--------------------------------------------------------------------------------\n",
    "# Task 2\n",
    "--------------------------------------------------------------------------------"
   ]
  },
  {
   "cell_type": "markdown",
   "metadata": {
    "id": "cUkoMCmdriY3"
   },
   "source": [
    "#ML Part"
   ]
  },
  {
   "cell_type": "code",
   "execution_count": null,
   "metadata": {
    "id": "7LUvccrcrsB3"
   },
   "outputs": [],
   "source": []
  },
  {
   "cell_type": "code",
   "execution_count": null,
   "metadata": {
    "id": "9TQTprOerug8"
   },
   "outputs": [],
   "source": []
  },
  {
   "cell_type": "code",
   "execution_count": null,
   "metadata": {
    "id": "IELQC2TWrvj0"
   },
   "outputs": [],
   "source": []
  }
 ],
 "metadata": {
  "colab": {
   "collapsed_sections": [],
   "provenance": [],
   "toc_visible": true
  },
  "kernelspec": {
   "display_name": "Python 3 (ipykernel)",
   "language": "python",
   "name": "python3"
  },
  "language_info": {
   "codemirror_mode": {
    "name": "ipython",
    "version": 3
   },
   "file_extension": ".py",
   "mimetype": "text/x-python",
   "name": "python",
   "nbconvert_exporter": "python",
   "pygments_lexer": "ipython3",
   "version": "3.9.13"
  }
 },
 "nbformat": 4,
 "nbformat_minor": 1
}
