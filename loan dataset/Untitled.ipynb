{
 "cells": [
  {
   "cell_type": "code",
   "execution_count": 1,
   "id": "c9f91b69",
   "metadata": {},
   "outputs": [],
   "source": [
    "#importing common libraries  it has prebuilt functions\n",
    "import numpy as np\n",
    "import pandas as pd\n",
    "import matplotlib.pyplot as plt\n",
    "from scipy.stats import mode\n",
    "%matplotlib inline"
   ]
  },
  {
   "cell_type": "code",
   "execution_count": 2,
   "id": "4e1502d4",
   "metadata": {},
   "outputs": [],
   "source": [
    "df= pd.read_csv(\"Dataset.csv\") #reading the dataset"
   ]
  },
  {
   "cell_type": "code",
   "execution_count": null,
   "id": "e05c0957",
   "metadata": {},
   "outputs": [],
   "source": []
  },
  {
   "cell_type": "code",
   "execution_count": 3,
   "id": "f1e30543",
   "metadata": {},
   "outputs": [
    {
     "data": {
      "text/plain": [
       "Loan_ID               0\n",
       "Gender               13\n",
       "Married               3\n",
       "Dependents           15\n",
       "Education             0\n",
       "Self_Employed        32\n",
       "ApplicantIncome       0\n",
       "CoapplicantIncome     0\n",
       "LoanAmount           22\n",
       "Loan_Amount_Term     14\n",
       "Credit_History       50\n",
       "Property_Area         0\n",
       "Loan_Status           0\n",
       "dtype: int64"
      ]
     },
     "execution_count": 3,
     "metadata": {},
     "output_type": "execute_result"
    }
   ],
   "source": [
    "df.isnull().sum()  #checking to see if the dataset has any null values"
   ]
  },
  {
   "cell_type": "markdown",
   "id": "0e6d0f7d",
   "metadata": {},
   "source": [
    "\n",
    "so it looks like the dataset has few null values we need to fix it by removing or replacing those \n",
    "\n",
    "0 means that it has no null values "
   ]
  },
  {
   "cell_type": "code",
   "execution_count": 4,
   "id": "83622c5e",
   "metadata": {},
   "outputs": [
    {
     "name": "stdout",
     "output_type": "stream",
     "text": [
      "<class 'pandas.core.frame.DataFrame'>\n",
      "RangeIndex: 614 entries, 0 to 613\n",
      "Data columns (total 13 columns):\n",
      " #   Column             Non-Null Count  Dtype  \n",
      "---  ------             --------------  -----  \n",
      " 0   Loan_ID            614 non-null    object \n",
      " 1   Gender             601 non-null    object \n",
      " 2   Married            611 non-null    object \n",
      " 3   Dependents         599 non-null    object \n",
      " 4   Education          614 non-null    object \n",
      " 5   Self_Employed      582 non-null    object \n",
      " 6   ApplicantIncome    614 non-null    int64  \n",
      " 7   CoapplicantIncome  614 non-null    float64\n",
      " 8   LoanAmount         592 non-null    float64\n",
      " 9   Loan_Amount_Term   600 non-null    float64\n",
      " 10  Credit_History     564 non-null    float64\n",
      " 11  Property_Area      614 non-null    object \n",
      " 12  Loan_Status        614 non-null    object \n",
      "dtypes: float64(4), int64(1), object(8)\n",
      "memory usage: 62.5+ KB\n"
     ]
    }
   ],
   "source": [
    "df.info()"
   ]
  },
  {
   "cell_type": "markdown",
   "id": "b959fd31",
   "metadata": {},
   "source": [
    "from above we can see that there are object Dtype which means they are categoricaland rest are numerical."
   ]
  },
  {
   "cell_type": "markdown",
   "id": "63c29533",
   "metadata": {},
   "source": [
    "#let's fill categorical columns like Gender, Married, Dependents, Self_Employed and Credit_History with mode since thy have few value missing with mode  and rest with mean"
   ]
  },
  {
   "cell_type": "code",
   "execution_count": 5,
   "id": "d4874357",
   "metadata": {},
   "outputs": [],
   "source": [
    "#since there are null values which is represented as NAN replace them using mode and mean column by column\n",
    "df['Credit_History'].fillna(df['Credit_History'].mode(), inplace=True)  # inplace=true means that change will affect dataset\n",
    " \n",
    "df['LoanAmount'].fillna(df['LoanAmount'].mean(), inplace=True)  #fillna is a function to fill NAN values\n",
    " \n",
    "\n",
    "df['Gender'].fillna(df['Gender'].mode()[0], inplace=True)  #mode() is a  function to find out mode of that column\n",
    " \n",
    "\n",
    "df['Married'].fillna(df['Married'].mode()[0], inplace=True)\n",
    "\n",
    "\n",
    "df['Dependents'].fillna(df['Dependents'].mode()[0], inplace=True)\n",
    "\n",
    "\n",
    "df['Self_Employed'].fillna(df['Self_Employed'].mode()[0], inplace=True)\n",
    "\n",
    "\n",
    "df['Credit_History'].fillna(df['Credit_History'].mode()[0], inplace=True)\n",
    "\n",
    "df['Loan_Amount_Term'].fillna(df['Loan_Amount_Term'].mode()[0], inplace=True)\n",
    "\n"
   ]
  },
  {
   "cell_type": "markdown",
   "id": "55bc800c",
   "metadata": {},
   "source": [
    "so what we have done in upper lines is replace null values which is represented as NAN in dataset by selecting mode of that particular column, mode = most common/repeated data point"
   ]
  },
  {
   "cell_type": "code",
   "execution_count": 6,
   "id": "7dbfbc14",
   "metadata": {},
   "outputs": [],
   "source": [
    "df['LoanAmount'].fillna(df['LoanAmount'].mean(), inplace=True)\n",
    "\n"
   ]
  },
  {
   "cell_type": "markdown",
   "id": "e977f432",
   "metadata": {},
   "source": [
    "but for loanamount column we cannot use mode, so we will use mean to replace the null values"
   ]
  },
  {
   "cell_type": "code",
   "execution_count": 7,
   "id": "411434d5",
   "metadata": {},
   "outputs": [
    {
     "data": {
      "text/plain": [
       "Loan_ID              0\n",
       "Gender               0\n",
       "Married              0\n",
       "Dependents           0\n",
       "Education            0\n",
       "Self_Employed        0\n",
       "ApplicantIncome      0\n",
       "CoapplicantIncome    0\n",
       "LoanAmount           0\n",
       "Loan_Amount_Term     0\n",
       "Credit_History       0\n",
       "Property_Area        0\n",
       "Loan_Status          0\n",
       "dtype: int64"
      ]
     },
     "execution_count": 7,
     "metadata": {},
     "output_type": "execute_result"
    }
   ],
   "source": [
    "df.isnull().sum() #checking again to see if there are any null values left"
   ]
  },
  {
   "cell_type": "markdown",
   "id": "f89b1aa8",
   "metadata": {},
   "source": [
    "now since all null variables have been feixed"
   ]
  },
  {
   "cell_type": "markdown",
   "id": "650b57d6",
   "metadata": {},
   "source": []
  },
  {
   "cell_type": "code",
   "execution_count": 8,
   "id": "b718cb36",
   "metadata": {},
   "outputs": [
    {
     "data": {
      "text/plain": [
       "Index(['Loan_ID', 'Gender', 'Married', 'Dependents', 'Education',\n",
       "       'Self_Employed', 'ApplicantIncome', 'CoapplicantIncome', 'LoanAmount',\n",
       "       'Loan_Amount_Term', 'Credit_History', 'Property_Area', 'Loan_Status'],\n",
       "      dtype='object')"
      ]
     },
     "execution_count": 8,
     "metadata": {},
     "output_type": "execute_result"
    }
   ],
   "source": [
    "df.columns #to check all the columns name"
   ]
  },
  {
   "cell_type": "code",
   "execution_count": 9,
   "id": "df3251b0",
   "metadata": {},
   "outputs": [],
   "source": [
    "df= df.drop('Loan_ID', axis=1)#dropping Loan_Id since id has nothing to do with loanstatus\n"
   ]
  },
  {
   "cell_type": "code",
   "execution_count": null,
   "id": "ce9de212",
   "metadata": {},
   "outputs": [],
   "source": []
  },
  {
   "cell_type": "markdown",
   "id": "b04a3d7c",
   "metadata": {},
   "source": [
    "### now since preprocessing is done let's visualize the dataset"
   ]
  },
  {
   "cell_type": "code",
   "execution_count": 10,
   "id": "e6bef662",
   "metadata": {},
   "outputs": [
    {
     "data": {
      "text/plain": [
       "<AxesSubplot:title={'center':'Loan Status Count bar plot'}>"
      ]
     },
     "execution_count": 10,
     "metadata": {},
     "output_type": "execute_result"
    },
    {
     "data": {
      "image/png": "[encoded data removed]",
      "text/plain": [
       "<Figure size 432x288 with 1 Axes>"
      ]
     },
     "metadata": {
      "needs_background": "light"
     },
     "output_type": "display_data"
    }
   ],
   "source": [
    "plt.title(\"Loan Status Count bar plot\")\n",
    "df['Loan_Status'].value_counts().plot.bar(color=['red','green'],edgecolor= 'blue')"
   ]
  },
  {
   "cell_type": "markdown",
   "id": "f8b12621",
   "metadata": {},
   "source": [
    "it is plotting the number of Loan Staus Y= yes and N= No"
   ]
  },
  {
   "cell_type": "code",
   "execution_count": 11,
   "id": "774d36ee",
   "metadata": {},
   "outputs": [
    {
     "data": {
      "text/plain": [
       "<AxesSubplot:title={'center':'Credit History'}>"
      ]
     },
     "execution_count": 11,
     "metadata": {},
     "output_type": "execute_result"
    },
    {
     "data": {
      "image/png": "[encoded data removed]",
      "text/plain": [
       "<Figure size 1440x720 with 4 Axes>"
      ]
     },
     "metadata": {
      "needs_background": "light"
     },
     "output_type": "display_data"
    }
   ],
   "source": [
    "#now plot of categorical features\n",
    "plt.figure(figsize=(20,10))\n",
    "plt.subplot(2,2,1)\n",
    "df['Gender'].value_counts(normalize=True).plot.bar(title='Gender')\n",
    "plt.subplot(2,2,2)\n",
    "df['Married'].value_counts(normalize=True).plot.bar(title='Married')\n",
    "plt.subplot(2,2,3)\n",
    "df['Self_Employed'].value_counts(normalize=True).plot.bar(title='Self Employed')\n",
    "plt.subplot(2,2,4)\n",
    "df['Credit_History'].value_counts(normalize=True).plot.bar(title='Credit History')"
   ]
  },
  {
   "cell_type": "markdown",
   "id": "00b0ab49",
   "metadata": {},
   "source": [
    "it is the plot of total number of coulmns , here normalize = True means that it is showing the data in percentage"
   ]
  },
  {
   "cell_type": "code",
   "execution_count": 12,
   "id": "e1662faf",
   "metadata": {},
   "outputs": [
    {
     "data": {
      "image/png": "[encoded data removed]",
      "text/plain": [
       "<Figure size 1296x432 with 1 Axes>"
      ]
     },
     "metadata": {
      "needs_background": "light"
     },
     "output_type": "display_data"
    }
   ],
   "source": [
    "#relationship versus Applicant Income vs Loan Amount\n",
    "plt.figure(figsize=(18, 6))\n",
    "plt.title(\"Relation Between Applicatoin Income vs Loan Amount \")\n",
    "\n",
    "plt.grid()\n",
    "plt.scatter(df['ApplicantIncome'] , df['LoanAmount'], c='k', marker='x')\n",
    "plt.xlabel(\"Applicant Income\")\n",
    "plt.ylabel(\"Loan Amount\")\n",
    "plt.show()"
   ]
  },
  {
   "cell_type": "markdown",
   "id": "b0af748f",
   "metadata": {},
   "source": [
    "it is the plot of Applicant Income vs Loan Amount , we can see that people with lower income took the highest loan"
   ]
  },
  {
   "cell_type": "code",
   "execution_count": 13,
   "id": "5d18af8d",
   "metadata": {},
   "outputs": [
    {
     "data": {
      "image/png": "[encoded data removed]",
      "text/plain": [
       "<Figure size 1296x432 with 1 Axes>"
      ]
     },
     "metadata": {
      "needs_background": "light"
     },
     "output_type": "display_data"
    }
   ],
   "source": [
    "#relationship versus Applicant Income vs Education\n",
    "plt.figure(figsize=(18, 6))\n",
    "plt.title(\"Relation Between Applicant Income vs Education \")\n",
    "\n",
    "plt.grid()\n",
    "plt.scatter(df['ApplicantIncome'] , df['Education'], c='k', marker='x')\n",
    "plt.xlabel(\"Applicant Income\")\n",
    "plt.ylabel(\"Loan Amount\")\n",
    "plt.show()"
   ]
  },
  {
   "cell_type": "markdown",
   "id": "1bbab781",
   "metadata": {},
   "source": [
    "it is the plot of  Applicant Income vs Education we can see that People who are graduates have higher income compared to Non graduates"
   ]
  },
  {
   "cell_type": "markdown",
   "id": "17fac4e9",
   "metadata": {},
   "source": [
    "### now we need to encode = convert them into numeric data \n",
    "ex there are 2 values in Gender columsn Male and Female so it will be represented as 1 and 0."
   ]
  },
  {
   "cell_type": "code",
   "execution_count": 14,
   "id": "b68b816c",
   "metadata": {},
   "outputs": [
    {
     "data": {
      "text/plain": [
       "{'Gender': ['Male', 'Female'],\n",
       " 'Married': ['No', 'Yes'],\n",
       " 'Dependents': ['0', '1', '2', '3+'],\n",
       " 'Education': ['Graduate', 'Not Graduate'],\n",
       " 'Self_Employed': ['No', 'Yes'],\n",
       " 'Property_Area': ['Urban', 'Rural', 'Semiurban'],\n",
       " 'Loan_Status': ['Y', 'N']}"
      ]
     },
     "execution_count": 14,
     "metadata": {},
     "output_type": "execute_result"
    }
   ],
   "source": [
    "#unique values\n",
    "{column: list(df[column].unique()) for column in df.select_dtypes('object').columns}"
   ]
  },
  {
   "cell_type": "markdown",
   "id": "1ee52909",
   "metadata": {},
   "source": [
    "#now using LabelEncoder to encode columns \n",
    "dfLoan_Status= df.Loan_Status.replace(['Male','Female'],[1,0])\n",
    "<br>#but sklearn as easier way to do this\n",
    "\n",
    "\n"
   ]
  },
  {
   "cell_type": "code",
   "execution_count": 15,
   "id": "4d4a7634",
   "metadata": {},
   "outputs": [],
   "source": [
    "from sklearn.preprocessing import LabelEncoder\n",
    "feature_cols=  ['Education', 'Dependents',\n",
    "                'Gender','Married','Self_Employed','Loan_Status']\n",
    "le= LabelEncoder()\n",
    "for cols in feature_cols:\n",
    "    df[cols]= le.fit_transform(df[cols])\n",
    "    "
   ]
  },
  {
   "cell_type": "markdown",
   "id": "455d1123",
   "metadata": {},
   "source": [
    "we are passing column by column using for loop and LabelEncoder can itself assign different labels on different columns"
   ]
  },
  {
   "cell_type": "code",
   "execution_count": 16,
   "id": "44d06032",
   "metadata": {},
   "outputs": [],
   "source": [
    "#but since Property_area has 3 different columns it is better to one hot encode it\n",
    "df= pd.get_dummies(df,columns=['Property_Area'])"
   ]
  },
  {
   "cell_type": "code",
   "execution_count": 17,
   "id": "f64851b4",
   "metadata": {},
   "outputs": [
    {
     "name": "stdout",
     "output_type": "stream",
     "text": [
      "<class 'pandas.core.frame.DataFrame'>\n",
      "RangeIndex: 614 entries, 0 to 613\n",
      "Data columns (total 14 columns):\n",
      " #   Column                   Non-Null Count  Dtype  \n",
      "---  ------                   --------------  -----  \n",
      " 0   Gender                   614 non-null    int32  \n",
      " 1   Married                  614 non-null    int32  \n",
      " 2   Dependents               614 non-null    int32  \n",
      " 3   Education                614 non-null    int32  \n",
      " 4   Self_Employed            614 non-null    int32  \n",
      " 5   ApplicantIncome          614 non-null    int64  \n",
      " 6   CoapplicantIncome        614 non-null    float64\n",
      " 7   LoanAmount               614 non-null    float64\n",
      " 8   Loan_Amount_Term         614 non-null    float64\n",
      " 9   Credit_History           614 non-null    float64\n",
      " 10  Loan_Status              614 non-null    int32  \n",
      " 11  Property_Area_Rural      614 non-null    uint8  \n",
      " 12  Property_Area_Semiurban  614 non-null    uint8  \n",
      " 13  Property_Area_Urban      614 non-null    uint8  \n",
      "dtypes: float64(4), int32(6), int64(1), uint8(3)\n",
      "memory usage: 40.3 KB\n"
     ]
    }
   ],
   "source": [
    "df.info()"
   ]
  },
  {
   "cell_type": "markdown",
   "id": "39e7f7a1",
   "metadata": {},
   "source": [
    "df['CoapplicantIncome']=df['CoapplicantIncome'].astype(np.int32)\n",
    "df['LoanAmount'] = df['LoanAmount'].astype(np.int32)\n",
    "df['Credit_History']=df['Credit_History'].astype(np.int32)\n",
    "df['ApplicantIncome']=df['ApplicantIncome'].astype(np.int32)\n",
    "df['Loan_Amount_Term']=df['Loan_Amount_Term'].astype(np.int32)\n"
   ]
  },
  {
   "cell_type": "code",
   "execution_count": 18,
   "id": "63514bc1",
   "metadata": {},
   "outputs": [
    {
     "name": "stdout",
     "output_type": "stream",
     "text": [
      "<class 'pandas.core.frame.DataFrame'>\n",
      "RangeIndex: 614 entries, 0 to 613\n",
      "Data columns (total 14 columns):\n",
      " #   Column                   Non-Null Count  Dtype  \n",
      "---  ------                   --------------  -----  \n",
      " 0   Gender                   614 non-null    int32  \n",
      " 1   Married                  614 non-null    int32  \n",
      " 2   Dependents               614 non-null    int32  \n",
      " 3   Education                614 non-null    int32  \n",
      " 4   Self_Employed            614 non-null    int32  \n",
      " 5   ApplicantIncome          614 non-null    int64  \n",
      " 6   CoapplicantIncome        614 non-null    float64\n",
      " 7   LoanAmount               614 non-null    float64\n",
      " 8   Loan_Amount_Term         614 non-null    float64\n",
      " 9   Credit_History           614 non-null    float64\n",
      " 10  Loan_Status              614 non-null    int32  \n",
      " 11  Property_Area_Rural      614 non-null    uint8  \n",
      " 12  Property_Area_Semiurban  614 non-null    uint8  \n",
      " 13  Property_Area_Urban      614 non-null    uint8  \n",
      "dtypes: float64(4), int32(6), int64(1), uint8(3)\n",
      "memory usage: 40.3 KB\n"
     ]
    }
   ],
   "source": [
    "df.info()"
   ]
  },
  {
   "cell_type": "markdown",
   "id": "418fb869",
   "metadata": {},
   "source": [
    "now let's scale the numerical colulmns because KNN is a algorithm which works with distance and if there are very large distances between data points then it will be misclassified so  let's use StandardScaler definition to scale the numerical columns"
   ]
  },
  {
   "cell_type": "code",
   "execution_count": 19,
   "id": "6b5cebef",
   "metadata": {},
   "outputs": [],
   "source": [
    "class StandardScaler(object):\n",
    "    def __init__(self):\n",
    "        pass\n",
    "\n",
    "    def fit(self, X):\n",
    "        self.mean_ = np.mean(X, axis=0)\n",
    "        self.scale_ = np.std(X - self.mean_, axis=0)\n",
    "        return self\n",
    "\n",
    "    def transform(self, X):\n",
    "        return (X - self.mean_) / self.scale_\n",
    "\n",
    "    def fit_transform(self, X):\n",
    "        return self.fit(X).transform(X)"
   ]
  },
  {
   "cell_type": "markdown",
   "id": "730ff8cb",
   "metadata": {},
   "source": [
    "so in the first function  we are finding mean for the whole columns and in the second function we are finding standard deviation "
   ]
  },
  {
   "cell_type": "code",
   "execution_count": 20,
   "id": "b5b1f212",
   "metadata": {},
   "outputs": [
    {
     "data": {
      "text/plain": [
       "Index(['Gender', 'Married', 'Dependents', 'Education', 'Self_Employed',\n",
       "       'ApplicantIncome', 'CoapplicantIncome', 'LoanAmount',\n",
       "       'Loan_Amount_Term', 'Credit_History', 'Loan_Status',\n",
       "       'Property_Area_Rural', 'Property_Area_Semiurban',\n",
       "       'Property_Area_Urban'],\n",
       "      dtype='object')"
      ]
     },
     "execution_count": 20,
     "metadata": {},
     "output_type": "execute_result"
    }
   ],
   "source": [
    "df.columns"
   ]
  },
  {
   "cell_type": "code",
   "execution_count": 21,
   "id": "b80a7068",
   "metadata": {},
   "outputs": [],
   "source": [
    "\n",
    "rows= ['ApplicantIncome', 'CoapplicantIncome', 'LoanAmount']\n",
    "SS= StandardScaler()\n",
    "for row in rows:\n",
    "    df[rows]= SS.fit_transform(df[rows])"
   ]
  },
  {
   "cell_type": "code",
   "execution_count": 22,
   "id": "70ad8209",
   "metadata": {},
   "outputs": [
    {
     "data": {
      "text/html": [
       "<div>\n",
       "<style scoped>\n",
       "    .dataframe tbody tr th:only-of-type {\n",
       "        vertical-align: middle;\n",
       "    }\n",
       "\n",
       "    .dataframe tbody tr th {\n",
       "        vertical-align: top;\n",
       "    }\n",
       "\n",
       "    .dataframe thead th {\n",
       "        text-align: right;\n",
       "    }\n",
       "</style>\n",
       "<table border=\"1\" class=\"dataframe\">\n",
       "  <thead>\n",
       "    <tr style=\"text-align: right;\">\n",
       "      <th></th>\n",
       "      <th>Gender</th>\n",
       "      <th>Married</th>\n",
       "      <th>Dependents</th>\n",
       "      <th>Education</th>\n",
       "      <th>Self_Employed</th>\n",
       "      <th>ApplicantIncome</th>\n",
       "      <th>CoapplicantIncome</th>\n",
       "      <th>LoanAmount</th>\n",
       "      <th>Loan_Amount_Term</th>\n",
       "      <th>Credit_History</th>\n",
       "      <th>Loan_Status</th>\n",
       "      <th>Property_Area_Rural</th>\n",
       "      <th>Property_Area_Semiurban</th>\n",
       "      <th>Property_Area_Urban</th>\n",
       "    </tr>\n",
       "  </thead>\n",
       "  <tbody>\n",
       "    <tr>\n",
       "      <th>0</th>\n",
       "      <td>1</td>\n",
       "      <td>0</td>\n",
       "      <td>0</td>\n",
       "      <td>0</td>\n",
       "      <td>0</td>\n",
       "      <td>0.072991</td>\n",
       "      <td>-0.554487</td>\n",
       "      <td>-1.157236e-17</td>\n",
       "      <td>360.0</td>\n",
       "      <td>1.0</td>\n",
       "      <td>1</td>\n",
       "      <td>0</td>\n",
       "      <td>0</td>\n",
       "      <td>1</td>\n",
       "    </tr>\n",
       "    <tr>\n",
       "      <th>1</th>\n",
       "      <td>1</td>\n",
       "      <td>1</td>\n",
       "      <td>1</td>\n",
       "      <td>0</td>\n",
       "      <td>0</td>\n",
       "      <td>-0.134412</td>\n",
       "      <td>-0.038732</td>\n",
       "      <td>-2.192733e-01</td>\n",
       "      <td>360.0</td>\n",
       "      <td>1.0</td>\n",
       "      <td>0</td>\n",
       "      <td>1</td>\n",
       "      <td>0</td>\n",
       "      <td>0</td>\n",
       "    </tr>\n",
       "    <tr>\n",
       "      <th>2</th>\n",
       "      <td>1</td>\n",
       "      <td>1</td>\n",
       "      <td>0</td>\n",
       "      <td>0</td>\n",
       "      <td>1</td>\n",
       "      <td>-0.393747</td>\n",
       "      <td>-0.554487</td>\n",
       "      <td>-9.576410e-01</td>\n",
       "      <td>360.0</td>\n",
       "      <td>1.0</td>\n",
       "      <td>1</td>\n",
       "      <td>0</td>\n",
       "      <td>0</td>\n",
       "      <td>1</td>\n",
       "    </tr>\n",
       "    <tr>\n",
       "      <th>3</th>\n",
       "      <td>1</td>\n",
       "      <td>1</td>\n",
       "      <td>0</td>\n",
       "      <td>1</td>\n",
       "      <td>0</td>\n",
       "      <td>-0.462062</td>\n",
       "      <td>0.251980</td>\n",
       "      <td>-3.145466e-01</td>\n",
       "      <td>360.0</td>\n",
       "      <td>1.0</td>\n",
       "      <td>1</td>\n",
       "      <td>0</td>\n",
       "      <td>0</td>\n",
       "      <td>1</td>\n",
       "    </tr>\n",
       "    <tr>\n",
       "      <th>4</th>\n",
       "      <td>1</td>\n",
       "      <td>0</td>\n",
       "      <td>0</td>\n",
       "      <td>0</td>\n",
       "      <td>0</td>\n",
       "      <td>0.097728</td>\n",
       "      <td>-0.554487</td>\n",
       "      <td>-6.445428e-02</td>\n",
       "      <td>360.0</td>\n",
       "      <td>1.0</td>\n",
       "      <td>1</td>\n",
       "      <td>0</td>\n",
       "      <td>0</td>\n",
       "      <td>1</td>\n",
       "    </tr>\n",
       "    <tr>\n",
       "      <th>...</th>\n",
       "      <td>...</td>\n",
       "      <td>...</td>\n",
       "      <td>...</td>\n",
       "      <td>...</td>\n",
       "      <td>...</td>\n",
       "      <td>...</td>\n",
       "      <td>...</td>\n",
       "      <td>...</td>\n",
       "      <td>...</td>\n",
       "      <td>...</td>\n",
       "      <td>...</td>\n",
       "      <td>...</td>\n",
       "      <td>...</td>\n",
       "      <td>...</td>\n",
       "    </tr>\n",
       "    <tr>\n",
       "      <th>609</th>\n",
       "      <td>0</td>\n",
       "      <td>0</td>\n",
       "      <td>0</td>\n",
       "      <td>0</td>\n",
       "      <td>0</td>\n",
       "      <td>-0.410130</td>\n",
       "      <td>-0.554487</td>\n",
       "      <td>-8.980952e-01</td>\n",
       "      <td>360.0</td>\n",
       "      <td>1.0</td>\n",
       "      <td>1</td>\n",
       "      <td>1</td>\n",
       "      <td>0</td>\n",
       "      <td>0</td>\n",
       "    </tr>\n",
       "    <tr>\n",
       "      <th>610</th>\n",
       "      <td>1</td>\n",
       "      <td>1</td>\n",
       "      <td>3</td>\n",
       "      <td>0</td>\n",
       "      <td>0</td>\n",
       "      <td>-0.212557</td>\n",
       "      <td>-0.554487</td>\n",
       "      <td>-1.267279e+00</td>\n",
       "      <td>180.0</td>\n",
       "      <td>1.0</td>\n",
       "      <td>1</td>\n",
       "      <td>1</td>\n",
       "      <td>0</td>\n",
       "      <td>0</td>\n",
       "    </tr>\n",
       "    <tr>\n",
       "      <th>611</th>\n",
       "      <td>1</td>\n",
       "      <td>1</td>\n",
       "      <td>1</td>\n",
       "      <td>0</td>\n",
       "      <td>0</td>\n",
       "      <td>0.437174</td>\n",
       "      <td>-0.472404</td>\n",
       "      <td>1.269371e+00</td>\n",
       "      <td>360.0</td>\n",
       "      <td>1.0</td>\n",
       "      <td>1</td>\n",
       "      <td>0</td>\n",
       "      <td>0</td>\n",
       "      <td>1</td>\n",
       "    </tr>\n",
       "    <tr>\n",
       "      <th>612</th>\n",
       "      <td>1</td>\n",
       "      <td>1</td>\n",
       "      <td>2</td>\n",
       "      <td>0</td>\n",
       "      <td>0</td>\n",
       "      <td>0.357064</td>\n",
       "      <td>-0.554487</td>\n",
       "      <td>4.833669e-01</td>\n",
       "      <td>360.0</td>\n",
       "      <td>1.0</td>\n",
       "      <td>1</td>\n",
       "      <td>0</td>\n",
       "      <td>0</td>\n",
       "      <td>1</td>\n",
       "    </tr>\n",
       "    <tr>\n",
       "      <th>613</th>\n",
       "      <td>0</td>\n",
       "      <td>0</td>\n",
       "      <td>0</td>\n",
       "      <td>0</td>\n",
       "      <td>1</td>\n",
       "      <td>-0.134412</td>\n",
       "      <td>-0.554487</td>\n",
       "      <td>-1.597275e-01</td>\n",
       "      <td>360.0</td>\n",
       "      <td>0.0</td>\n",
       "      <td>0</td>\n",
       "      <td>0</td>\n",
       "      <td>1</td>\n",
       "      <td>0</td>\n",
       "    </tr>\n",
       "  </tbody>\n",
       "</table>\n",
       "<p>614 rows × 14 columns</p>\n",
       "</div>"
      ],
      "text/plain": [
       "     Gender  Married  Dependents  Education  Self_Employed  ApplicantIncome  \\\n",
       "0         1        0           0          0              0         0.072991   \n",
       "1         1        1           1          0              0        -0.134412   \n",
       "2         1        1           0          0              1        -0.393747   \n",
       "3         1        1           0          1              0        -0.462062   \n",
       "4         1        0           0          0              0         0.097728   \n",
       "..      ...      ...         ...        ...            ...              ...   \n",
       "609       0        0           0          0              0        -0.410130   \n",
       "610       1        1           3          0              0        -0.212557   \n",
       "611       1        1           1          0              0         0.437174   \n",
       "612       1        1           2          0              0         0.357064   \n",
       "613       0        0           0          0              1        -0.134412   \n",
       "\n",
       "     CoapplicantIncome    LoanAmount  Loan_Amount_Term  Credit_History  \\\n",
       "0            -0.554487 -1.157236e-17             360.0             1.0   \n",
       "1            -0.038732 -2.192733e-01             360.0             1.0   \n",
       "2            -0.554487 -9.576410e-01             360.0             1.0   \n",
       "3             0.251980 -3.145466e-01             360.0             1.0   \n",
       "4            -0.554487 -6.445428e-02             360.0             1.0   \n",
       "..                 ...           ...               ...             ...   \n",
       "609          -0.554487 -8.980952e-01             360.0             1.0   \n",
       "610          -0.554487 -1.267279e+00             180.0             1.0   \n",
       "611          -0.472404  1.269371e+00             360.0             1.0   \n",
       "612          -0.554487  4.833669e-01             360.0             1.0   \n",
       "613          -0.554487 -1.597275e-01             360.0             0.0   \n",
       "\n",
       "     Loan_Status  Property_Area_Rural  Property_Area_Semiurban  \\\n",
       "0              1                    0                        0   \n",
       "1              0                    1                        0   \n",
       "2              1                    0                        0   \n",
       "3              1                    0                        0   \n",
       "4              1                    0                        0   \n",
       "..           ...                  ...                      ...   \n",
       "609            1                    1                        0   \n",
       "610            1                    1                        0   \n",
       "611            1                    0                        0   \n",
       "612            1                    0                        0   \n",
       "613            0                    0                        1   \n",
       "\n",
       "     Property_Area_Urban  \n",
       "0                      1  \n",
       "1                      0  \n",
       "2                      1  \n",
       "3                      1  \n",
       "4                      1  \n",
       "..                   ...  \n",
       "609                    0  \n",
       "610                    0  \n",
       "611                    1  \n",
       "612                    1  \n",
       "613                    0  \n",
       "\n",
       "[614 rows x 14 columns]"
      ]
     },
     "execution_count": 22,
     "metadata": {},
     "output_type": "execute_result"
    }
   ],
   "source": [
    "df # now that the data is scaled "
   ]
  },
  {
   "cell_type": "code",
   "execution_count": null,
   "id": "48184d18",
   "metadata": {},
   "outputs": [],
   "source": []
  },
  {
   "cell_type": "markdown",
   "id": "c5ddf6ef",
   "metadata": {},
   "source": [
    "now making sure that X has features and Y has target variables we are trying to predict"
   ]
  },
  {
   "cell_type": "code",
   "execution_count": 23,
   "id": "bacca8a2",
   "metadata": {},
   "outputs": [
    {
     "data": {
      "text/html": [
       "<div>\n",
       "<style scoped>\n",
       "    .dataframe tbody tr th:only-of-type {\n",
       "        vertical-align: middle;\n",
       "    }\n",
       "\n",
       "    .dataframe tbody tr th {\n",
       "        vertical-align: top;\n",
       "    }\n",
       "\n",
       "    .dataframe thead th {\n",
       "        text-align: right;\n",
       "    }\n",
       "</style>\n",
       "<table border=\"1\" class=\"dataframe\">\n",
       "  <thead>\n",
       "    <tr style=\"text-align: right;\">\n",
       "      <th></th>\n",
       "      <th>Gender</th>\n",
       "      <th>Married</th>\n",
       "      <th>Dependents</th>\n",
       "      <th>Education</th>\n",
       "      <th>Self_Employed</th>\n",
       "      <th>ApplicantIncome</th>\n",
       "      <th>CoapplicantIncome</th>\n",
       "      <th>LoanAmount</th>\n",
       "      <th>Loan_Amount_Term</th>\n",
       "      <th>Credit_History</th>\n",
       "      <th>Loan_Status</th>\n",
       "      <th>Property_Area_Rural</th>\n",
       "      <th>Property_Area_Semiurban</th>\n",
       "      <th>Property_Area_Urban</th>\n",
       "    </tr>\n",
       "  </thead>\n",
       "  <tbody>\n",
       "    <tr>\n",
       "      <th>0</th>\n",
       "      <td>1</td>\n",
       "      <td>0</td>\n",
       "      <td>0</td>\n",
       "      <td>0</td>\n",
       "      <td>0</td>\n",
       "      <td>0.072991</td>\n",
       "      <td>-0.554487</td>\n",
       "      <td>-1.157236e-17</td>\n",
       "      <td>360.0</td>\n",
       "      <td>1.0</td>\n",
       "      <td>1</td>\n",
       "      <td>0</td>\n",
       "      <td>0</td>\n",
       "      <td>1</td>\n",
       "    </tr>\n",
       "    <tr>\n",
       "      <th>1</th>\n",
       "      <td>1</td>\n",
       "      <td>1</td>\n",
       "      <td>1</td>\n",
       "      <td>0</td>\n",
       "      <td>0</td>\n",
       "      <td>-0.134412</td>\n",
       "      <td>-0.038732</td>\n",
       "      <td>-2.192733e-01</td>\n",
       "      <td>360.0</td>\n",
       "      <td>1.0</td>\n",
       "      <td>0</td>\n",
       "      <td>1</td>\n",
       "      <td>0</td>\n",
       "      <td>0</td>\n",
       "    </tr>\n",
       "    <tr>\n",
       "      <th>2</th>\n",
       "      <td>1</td>\n",
       "      <td>1</td>\n",
       "      <td>0</td>\n",
       "      <td>0</td>\n",
       "      <td>1</td>\n",
       "      <td>-0.393747</td>\n",
       "      <td>-0.554487</td>\n",
       "      <td>-9.576410e-01</td>\n",
       "      <td>360.0</td>\n",
       "      <td>1.0</td>\n",
       "      <td>1</td>\n",
       "      <td>0</td>\n",
       "      <td>0</td>\n",
       "      <td>1</td>\n",
       "    </tr>\n",
       "    <tr>\n",
       "      <th>3</th>\n",
       "      <td>1</td>\n",
       "      <td>1</td>\n",
       "      <td>0</td>\n",
       "      <td>1</td>\n",
       "      <td>0</td>\n",
       "      <td>-0.462062</td>\n",
       "      <td>0.251980</td>\n",
       "      <td>-3.145466e-01</td>\n",
       "      <td>360.0</td>\n",
       "      <td>1.0</td>\n",
       "      <td>1</td>\n",
       "      <td>0</td>\n",
       "      <td>0</td>\n",
       "      <td>1</td>\n",
       "    </tr>\n",
       "    <tr>\n",
       "      <th>4</th>\n",
       "      <td>1</td>\n",
       "      <td>0</td>\n",
       "      <td>0</td>\n",
       "      <td>0</td>\n",
       "      <td>0</td>\n",
       "      <td>0.097728</td>\n",
       "      <td>-0.554487</td>\n",
       "      <td>-6.445428e-02</td>\n",
       "      <td>360.0</td>\n",
       "      <td>1.0</td>\n",
       "      <td>1</td>\n",
       "      <td>0</td>\n",
       "      <td>0</td>\n",
       "      <td>1</td>\n",
       "    </tr>\n",
       "    <tr>\n",
       "      <th>...</th>\n",
       "      <td>...</td>\n",
       "      <td>...</td>\n",
       "      <td>...</td>\n",
       "      <td>...</td>\n",
       "      <td>...</td>\n",
       "      <td>...</td>\n",
       "      <td>...</td>\n",
       "      <td>...</td>\n",
       "      <td>...</td>\n",
       "      <td>...</td>\n",
       "      <td>...</td>\n",
       "      <td>...</td>\n",
       "      <td>...</td>\n",
       "      <td>...</td>\n",
       "    </tr>\n",
       "    <tr>\n",
       "      <th>609</th>\n",
       "      <td>0</td>\n",
       "      <td>0</td>\n",
       "      <td>0</td>\n",
       "      <td>0</td>\n",
       "      <td>0</td>\n",
       "      <td>-0.410130</td>\n",
       "      <td>-0.554487</td>\n",
       "      <td>-8.980952e-01</td>\n",
       "      <td>360.0</td>\n",
       "      <td>1.0</td>\n",
       "      <td>1</td>\n",
       "      <td>1</td>\n",
       "      <td>0</td>\n",
       "      <td>0</td>\n",
       "    </tr>\n",
       "    <tr>\n",
       "      <th>610</th>\n",
       "      <td>1</td>\n",
       "      <td>1</td>\n",
       "      <td>3</td>\n",
       "      <td>0</td>\n",
       "      <td>0</td>\n",
       "      <td>-0.212557</td>\n",
       "      <td>-0.554487</td>\n",
       "      <td>-1.267279e+00</td>\n",
       "      <td>180.0</td>\n",
       "      <td>1.0</td>\n",
       "      <td>1</td>\n",
       "      <td>1</td>\n",
       "      <td>0</td>\n",
       "      <td>0</td>\n",
       "    </tr>\n",
       "    <tr>\n",
       "      <th>611</th>\n",
       "      <td>1</td>\n",
       "      <td>1</td>\n",
       "      <td>1</td>\n",
       "      <td>0</td>\n",
       "      <td>0</td>\n",
       "      <td>0.437174</td>\n",
       "      <td>-0.472404</td>\n",
       "      <td>1.269371e+00</td>\n",
       "      <td>360.0</td>\n",
       "      <td>1.0</td>\n",
       "      <td>1</td>\n",
       "      <td>0</td>\n",
       "      <td>0</td>\n",
       "      <td>1</td>\n",
       "    </tr>\n",
       "    <tr>\n",
       "      <th>612</th>\n",
       "      <td>1</td>\n",
       "      <td>1</td>\n",
       "      <td>2</td>\n",
       "      <td>0</td>\n",
       "      <td>0</td>\n",
       "      <td>0.357064</td>\n",
       "      <td>-0.554487</td>\n",
       "      <td>4.833669e-01</td>\n",
       "      <td>360.0</td>\n",
       "      <td>1.0</td>\n",
       "      <td>1</td>\n",
       "      <td>0</td>\n",
       "      <td>0</td>\n",
       "      <td>1</td>\n",
       "    </tr>\n",
       "    <tr>\n",
       "      <th>613</th>\n",
       "      <td>0</td>\n",
       "      <td>0</td>\n",
       "      <td>0</td>\n",
       "      <td>0</td>\n",
       "      <td>1</td>\n",
       "      <td>-0.134412</td>\n",
       "      <td>-0.554487</td>\n",
       "      <td>-1.597275e-01</td>\n",
       "      <td>360.0</td>\n",
       "      <td>0.0</td>\n",
       "      <td>0</td>\n",
       "      <td>0</td>\n",
       "      <td>1</td>\n",
       "      <td>0</td>\n",
       "    </tr>\n",
       "  </tbody>\n",
       "</table>\n",
       "<p>614 rows × 14 columns</p>\n",
       "</div>"
      ],
      "text/plain": [
       "     Gender  Married  Dependents  Education  Self_Employed  ApplicantIncome  \\\n",
       "0         1        0           0          0              0         0.072991   \n",
       "1         1        1           1          0              0        -0.134412   \n",
       "2         1        1           0          0              1        -0.393747   \n",
       "3         1        1           0          1              0        -0.462062   \n",
       "4         1        0           0          0              0         0.097728   \n",
       "..      ...      ...         ...        ...            ...              ...   \n",
       "609       0        0           0          0              0        -0.410130   \n",
       "610       1        1           3          0              0        -0.212557   \n",
       "611       1        1           1          0              0         0.437174   \n",
       "612       1        1           2          0              0         0.357064   \n",
       "613       0        0           0          0              1        -0.134412   \n",
       "\n",
       "     CoapplicantIncome    LoanAmount  Loan_Amount_Term  Credit_History  \\\n",
       "0            -0.554487 -1.157236e-17             360.0             1.0   \n",
       "1            -0.038732 -2.192733e-01             360.0             1.0   \n",
       "2            -0.554487 -9.576410e-01             360.0             1.0   \n",
       "3             0.251980 -3.145466e-01             360.0             1.0   \n",
       "4            -0.554487 -6.445428e-02             360.0             1.0   \n",
       "..                 ...           ...               ...             ...   \n",
       "609          -0.554487 -8.980952e-01             360.0             1.0   \n",
       "610          -0.554487 -1.267279e+00             180.0             1.0   \n",
       "611          -0.472404  1.269371e+00             360.0             1.0   \n",
       "612          -0.554487  4.833669e-01             360.0             1.0   \n",
       "613          -0.554487 -1.597275e-01             360.0             0.0   \n",
       "\n",
       "     Loan_Status  Property_Area_Rural  Property_Area_Semiurban  \\\n",
       "0              1                    0                        0   \n",
       "1              0                    1                        0   \n",
       "2              1                    0                        0   \n",
       "3              1                    0                        0   \n",
       "4              1                    0                        0   \n",
       "..           ...                  ...                      ...   \n",
       "609            1                    1                        0   \n",
       "610            1                    1                        0   \n",
       "611            1                    0                        0   \n",
       "612            1                    0                        0   \n",
       "613            0                    0                        1   \n",
       "\n",
       "     Property_Area_Urban  \n",
       "0                      1  \n",
       "1                      0  \n",
       "2                      1  \n",
       "3                      1  \n",
       "4                      1  \n",
       "..                   ...  \n",
       "609                    0  \n",
       "610                    0  \n",
       "611                    1  \n",
       "612                    1  \n",
       "613                    0  \n",
       "\n",
       "[614 rows x 14 columns]"
      ]
     },
     "execution_count": 23,
     "metadata": {},
     "output_type": "execute_result"
    }
   ],
   "source": [
    "df"
   ]
  },
  {
   "cell_type": "code",
   "execution_count": 24,
   "id": "22b42900",
   "metadata": {},
   "outputs": [],
   "source": [
    "df= df.reset_index(drop=True)"
   ]
  },
  {
   "cell_type": "code",
   "execution_count": 25,
   "id": "7a9cff20",
   "metadata": {},
   "outputs": [],
   "source": [
    "X=df.drop('Loan_Status', axis=1) #putting all column except Loan_Status column on X\n",
    "y= df.Loan_Status  #putting only Loan_Status column on Y since it's target variable"
   ]
  },
  {
   "cell_type": "code",
   "execution_count": 26,
   "id": "59008519",
   "metadata": {},
   "outputs": [],
   "source": [
    "X= X.to_numpy()"
   ]
  },
  {
   "cell_type": "code",
   "execution_count": 27,
   "id": "10ffb014",
   "metadata": {},
   "outputs": [],
   "source": [
    "y= y.to_numpy()"
   ]
  },
  {
   "cell_type": "code",
   "execution_count": 28,
   "id": "6069dcb3",
   "metadata": {},
   "outputs": [],
   "source": [
    "#now preprocessing part is done , now let's divide dataset into train and test set\n",
    "from sklearn.model_selection import train_test_split\n",
    "X_train,X_test,y_train,y_test= train_test_split(X,y,test_size=0.25)\n"
   ]
  },
  {
   "cell_type": "markdown",
   "id": "ef03c99d",
   "metadata": {},
   "source": [
    "#test_size= 0.25 means that 25% of the datset wiil be used for testing purpose \n"
   ]
  },
  {
   "cell_type": "markdown",
   "id": "ad9dbc19",
   "metadata": {},
   "source": [
    "now let's implement our own custom KNN function from scratch"
   ]
  },
  {
   "cell_type": "code",
   "execution_count": 29,
   "id": "2bb4da48",
   "metadata": {},
   "outputs": [],
   "source": [
    "##########till here check"
   ]
  },
  {
   "cell_type": "code",
   "execution_count": 30,
   "id": "426ac728",
   "metadata": {},
   "outputs": [
    {
     "data": {
      "text/plain": [
       "array([[1., 1., 3., ..., 0., 0., 1.],\n",
       "       [1., 0., 0., ..., 1., 0., 0.],\n",
       "       [1., 0., 0., ..., 0., 1., 0.],\n",
       "       ...,\n",
       "       [1., 1., 0., ..., 0., 1., 0.],\n",
       "       [1., 1., 0., ..., 0., 0., 1.],\n",
       "       [1., 1., 0., ..., 0., 1., 0.]])"
      ]
     },
     "execution_count": 30,
     "metadata": {},
     "output_type": "execute_result"
    }
   ],
   "source": [
    "X_train"
   ]
  },
  {
   "cell_type": "code",
   "execution_count": 31,
   "id": "c208960b",
   "metadata": {},
   "outputs": [
    {
     "data": {
      "text/plain": [
       "array([[1., 1., 0., ..., 0., 1., 0.],\n",
       "       [1., 1., 2., ..., 1., 0., 0.],\n",
       "       [1., 1., 2., ..., 0., 0., 1.],\n",
       "       ...,\n",
       "       [1., 0., 0., ..., 1., 0., 0.],\n",
       "       [1., 1., 0., ..., 0., 1., 0.],\n",
       "       [0., 0., 0., ..., 0., 1., 0.]])"
      ]
     },
     "execution_count": 31,
     "metadata": {},
     "output_type": "execute_result"
    }
   ],
   "source": [
    "X_test"
   ]
  },
  {
   "cell_type": "code",
   "execution_count": 32,
   "id": "d2f46fee",
   "metadata": {},
   "outputs": [
    {
     "data": {
      "text/plain": [
       "array([0, 1, 1, 0, 1, 1, 0, 0, 1, 1, 1, 1, 1, 1, 0, 1, 1, 1, 1, 1, 1, 1,\n",
       "       0, 1, 1, 0, 1, 0, 1, 1, 1, 1, 1, 1, 1, 0, 0, 1, 1, 1, 1, 0, 1, 1,\n",
       "       1, 0, 1, 0, 0, 1, 0, 0, 1, 0, 1, 1, 1, 1, 0, 1, 1, 1, 0, 1, 1, 1,\n",
       "       1, 1, 0, 0, 0, 1, 0, 1, 0, 1, 1, 1, 1, 1, 0, 0, 0, 1, 1, 0, 1, 1,\n",
       "       1, 1, 1, 1, 1, 1, 1, 1, 1, 0, 1, 1, 1, 1, 1, 0, 0, 1, 1, 0, 1, 0,\n",
       "       1, 1, 1, 0, 1, 1, 1, 1, 1, 0, 1, 1, 1, 0, 1, 1, 1, 0, 1, 0, 1, 1,\n",
       "       1, 1, 1, 1, 1, 1, 1, 1, 0, 1, 0, 1, 1, 1, 1, 1, 1, 1, 0, 1, 1, 0,\n",
       "       1, 1, 0, 1, 0, 1, 1, 0, 1, 1, 1, 0, 1, 0, 1, 1, 1, 1, 1, 1, 1, 1,\n",
       "       0, 1, 1, 1, 1, 1, 1, 0, 0, 1, 1, 1, 1, 1, 1, 1, 1, 1, 0, 0, 1, 1,\n",
       "       0, 1, 1, 1, 1, 0, 0, 1, 1, 1, 1, 1, 1, 0, 1, 0, 1, 0, 1, 1, 1, 0,\n",
       "       1, 1, 1, 0, 1, 1, 0, 1, 1, 1, 1, 1, 1, 1, 1, 1, 1, 1, 1, 1, 0, 1,\n",
       "       0, 0, 0, 1, 0, 1, 1, 0, 0, 1, 1, 0, 1, 1, 1, 0, 1, 0, 1, 1, 1, 1,\n",
       "       1, 1, 1, 0, 1, 1, 1, 0, 1, 0, 1, 1, 0, 1, 0, 0, 1, 0, 0, 1, 0, 1,\n",
       "       1, 1, 1, 1, 1, 1, 0, 1, 1, 0, 1, 1, 0, 1, 1, 0, 0, 0, 1, 1, 1, 1,\n",
       "       1, 0, 0, 0, 1, 1, 0, 1, 1, 0, 0, 0, 1, 1, 0, 0, 0, 1, 1, 1, 1, 0,\n",
       "       1, 0, 1, 0, 1, 0, 1, 0, 1, 1, 0, 0, 1, 0, 1, 0, 1, 0, 1, 0, 1, 1,\n",
       "       1, 0, 0, 1, 1, 0, 1, 1, 1, 1, 0, 1, 1, 1, 1, 1, 1, 1, 1, 0, 0, 0,\n",
       "       1, 1, 1, 1, 1, 1, 0, 0, 0, 1, 0, 1, 1, 0, 0, 1, 1, 0, 1, 0, 0, 0,\n",
       "       1, 0, 1, 1, 0, 1, 1, 1, 0, 1, 1, 1, 0, 1, 1, 1, 1, 1, 1, 0, 1, 0,\n",
       "       1, 1, 1, 0, 1, 1, 1, 1, 0, 0, 0, 0, 1, 1, 1, 1, 1, 1, 1, 1, 1, 1,\n",
       "       1, 0, 1, 1, 1, 1, 1, 1, 1, 0, 0, 0, 0, 1, 1, 0, 0, 1, 0, 1])"
      ]
     },
     "execution_count": 32,
     "metadata": {},
     "output_type": "execute_result"
    }
   ],
   "source": [
    "y_train"
   ]
  },
  {
   "cell_type": "code",
   "execution_count": 33,
   "id": "22fd019b",
   "metadata": {},
   "outputs": [],
   "source": [
    "def EuclideanDistance(v1, v2):\n",
    "    sum = 0.0\n",
    "    for index in range(len(v1)):\n",
    "        ## Your CODE\n",
    "        sum += (v1[index]-v2[index])**2\n",
    "    return sum ** 0.5"
   ]
  },
  {
   "cell_type": "code",
   "execution_count": 34,
   "id": "66bad386",
   "metadata": {},
   "outputs": [
    {
     "data": {
      "text/plain": [
       "\"in the function above we are calculating distance of each point of test data with all points of training data and we are \\nfinding it' labels bases on shortest distance between k points hence the name K -nearest neighbors\\nwe are using mode function to take out the most common label and return it so that our predict function can return the list of\\nlabels for  out test set\""
      ]
     },
     "execution_count": 34,
     "metadata": {},
     "output_type": "execute_result"
    }
   ],
   "source": [
    "class OurKNearestNeighbors:\n",
    "    # Initialize an instance of the class.\n",
    "    def __init__(self,k, metric=EuclideanDistance):  # here we are instantiating a class class _init__ so that it will be always be called \n",
    "        self.metric = metric\n",
    "        self.k=k\n",
    "    \n",
    "    # No training for Nearest Neighbors. Just store the data.\n",
    "    def fit(self, train_data, train_labels):  #here we are just copying the data so it's Big-O is O(1) \n",
    "        self.train_data = train_data\n",
    "        self.train_labels = train_labels\n",
    "    \n",
    "    # Make predictions for each test example and return results.\n",
    "    def predict(self, test_data):    #here since it wehave to go through each test data point and calculate distance with \n",
    "        results = []                 #all the train data points it's complexity will be O(m*n), m =no of testdata and\n",
    "        for item in test_data:       #n = no of train data point\n",
    "            results.append(self._predict_item(item))\n",
    "        return results\n",
    "    \n",
    "# in the function above we get all the test data and we iterate over it means that we go 1 by 1 over each row in test data set and we \n",
    "#call the function below to provide labels\n",
    "    \n",
    "    # Private function for making a single prediction using KNN.\n",
    "    def _predict_item(self, item):\n",
    "        \n",
    "        best_labels = None\n",
    "        distances= []\n",
    "        \n",
    "        for i in range(len(self.train_data)):  #it means for each training data\n",
    "            distance= self.metric(self.train_data[i,:],item)  # calculate distance between test data point and training data\n",
    "            distances.append(distance)  # add all the distance to a list\n",
    "        distances= np.array(distances)  # covert it into array for using argsort\n",
    "        dist= np.argsort(distances)[:self.k]  # it sorts distances because we need least k distances\n",
    "        labels= self.train_labels[dist]  # it converts so k lists to labels\n",
    "        \n",
    "        #voting\n",
    "        lab= mode(labels)  # it calculated mode of the label\n",
    "        best_labels= lab.mode[0]  # it selects most repeated label\n",
    "        return best_labels # it returns that label   for a test point\n",
    "    \n",
    "    \n",
    "\"\"\"in the function above we are calculating distance of each point of test data with all points of training data and we are \n",
    "finding it' labels bases on shortest distance between k points hence the name K -nearest neighbors\n",
    "we are using mode function to take out the most common label and return it so that our predict function can return the list of\n",
    "labels for  out test set\"\"\""
   ]
  },
  {
   "cell_type": "code",
   "execution_count": null,
   "id": "50c43739",
   "metadata": {},
   "outputs": [],
   "source": []
  },
  {
   "cell_type": "markdown",
   "id": "49c6b0c8",
   "metadata": {},
   "source": [
    "#now what's importank is to pick K-> number of points to consider inorder to\n",
    "classify the test point"
   ]
  },
  {
   "cell_type": "code",
   "execution_count": 35,
   "id": "c2121815",
   "metadata": {},
   "outputs": [
    {
     "name": "stdout",
     "output_type": "stream",
     "text": [
      "total: 154  correct: 110  accuracy: 0.71 K=1\n",
      "total: 154  correct: 102  accuracy: 0.66 K=2\n",
      "total: 154  correct: 115  accuracy: 0.75 K=3\n",
      "total: 154  correct: 116  accuracy: 0.75 K=4\n",
      "total: 154  correct: 113  accuracy: 0.73 K=5\n",
      "total: 154  correct: 110  accuracy: 0.71 K=6\n",
      "total: 154  correct: 108  accuracy: 0.70 K=7\n",
      "total: 154  correct: 111  accuracy: 0.72 K=8\n",
      "total: 154  correct: 110  accuracy: 0.71 K=9\n",
      "total: 154  correct: 108  accuracy: 0.70 K=10\n",
      "total: 154  correct: 109  accuracy: 0.71 K=11\n",
      "total: 154  correct: 110  accuracy: 0.71 K=12\n",
      "total: 154  correct: 109  accuracy: 0.71 K=13\n",
      "total: 154  correct: 113  accuracy: 0.73 K=14\n",
      "total: 154  correct: 108  accuracy: 0.70 K=15\n",
      "total: 154  correct: 112  accuracy: 0.73 K=16\n",
      "total: 154  correct: 109  accuracy: 0.71 K=17\n",
      "total: 154  correct: 110  accuracy: 0.71 K=18\n",
      "total: 154  correct: 107  accuracy: 0.69 K=19\n",
      "total: 154  correct: 109  accuracy: 0.71 K=20\n",
      "total: 154  correct: 108  accuracy: 0.70 K=21\n",
      "total: 154  correct: 109  accuracy: 0.71 K=22\n",
      "total: 154  correct: 107  accuracy: 0.69 K=23\n",
      "total: 154  correct: 109  accuracy: 0.71 K=24\n",
      "total: 154  correct: 108  accuracy: 0.70 K=25\n",
      "total: 154  correct: 108  accuracy: 0.70 K=26\n",
      "total: 154  correct: 107  accuracy: 0.69 K=27\n",
      "total: 154  correct: 107  accuracy: 0.69 K=28\n",
      "total: 154  correct: 107  accuracy: 0.69 K=29\n"
     ]
    },
    {
     "data": {
      "text/plain": [
       "Text(0, 0.5, 'Testing Accuracy')"
      ]
     },
     "execution_count": 35,
     "metadata": {},
     "output_type": "execute_result"
    },
    {
     "data": {
      "image/png": "[encoded data removed]",
      "text/plain": [
       "<Figure size 432x288 with 1 Axes>"
      ]
     },
     "metadata": {
      "needs_background": "light"
     },
     "output_type": "display_data"
    }
   ],
   "source": [
    "#\n",
    "result = []\n",
    "for k in range(1,30):\n",
    "    \n",
    "    clf = OurKNearestNeighbors(k)  \n",
    "    clf.fit(X_train, y_train)\n",
    "    preds = clf.predict(X_test)\n",
    "    correct, total = 0, 0\n",
    "    for pred, label in zip(preds, y_test):\n",
    "        if pred == label: correct += 1\n",
    "        total += 1\n",
    "    print ('total: %3d  correct: %3d  accuracy: %3.2f K=%d' %(total, correct, 1.0*correct/total,k))\n",
    "    result.append(1.0*correct/total)\n",
    "##plot the result\n",
    "plt.plot(range(1,30),result)\n",
    "plt.xlabel(\"Value of K for KNN\")\n",
    "plt.ylabel(\"Testing Accuracy\")"
   ]
  },
  {
   "cell_type": "markdown",
   "id": "8f5765ab",
   "metadata": {},
   "source": [
    "in the above function are just repeating the above function to find best value of k because the accuracy or performance of the algorithm depends on value of k\n",
    "so we are just trying to predict the best value of k\n"
   ]
  },
  {
   "cell_type": "code",
   "execution_count": 36,
   "id": "2ab22c2c",
   "metadata": {},
   "outputs": [],
   "source": [
    "#it looks like the best valur for K= 3 so we will use that to predict \n",
    "model= OurKNearestNeighbors(3)\n",
    "model.fit(X_train,y_train)"
   ]
  },
  {
   "cell_type": "code",
   "execution_count": 37,
   "id": "6b1d995c",
   "metadata": {},
   "outputs": [],
   "source": [
    "pred= model.predict(X_test)"
   ]
  },
  {
   "cell_type": "code",
   "execution_count": 38,
   "id": "98aaa0f6",
   "metadata": {},
   "outputs": [],
   "source": [
    "#now let's print accuracy score again\n",
    "def accuracy_score(y_true, y_pred, normalize=True):\n",
    "    correct = sum(y_true == y_pred)\n",
    "    return correct / len(y_true) if normalize else correct"
   ]
  },
  {
   "cell_type": "code",
   "execution_count": 39,
   "id": "2b3e9481",
   "metadata": {},
   "outputs": [
    {
     "data": {
      "text/plain": [
       "0.7337662337662337"
      ]
     },
     "execution_count": 39,
     "metadata": {},
     "output_type": "execute_result"
    }
   ],
   "source": [
    "accuracy_score(y_test,pred)"
   ]
  },
  {
   "cell_type": "code",
   "execution_count": 40,
   "id": "370debdb",
   "metadata": {},
   "outputs": [],
   "source": [
    "#now let's print confusion matrix it helps to see how our classifider did\n",
    "def confusion_matrix(y_true, y_pred, labels=None):\n",
    "    labels = labels if labels else sorted(set(y_true) | set(y_pred))        \n",
    "    indexes = {v:i for i, v in enumerate(labels)}\n",
    "    matrix = np.zeros((len(indexes),len(indexes))).astype(int)\n",
    "    for t, p in zip(y_true, y_pred):\n",
    "        matrix[indexes[t], indexes[p]] += 1\n",
    "    return matrix"
   ]
  },
  {
   "cell_type": "code",
   "execution_count": 41,
   "id": "1194f2df",
   "metadata": {},
   "outputs": [
    {
     "data": {
      "text/plain": [
       "array([[ 11,  38],\n",
       "       [  3, 102]])"
      ]
     },
     "execution_count": 41,
     "metadata": {},
     "output_type": "execute_result"
    }
   ],
   "source": [
    "confusion_matrix(y_test,pred)"
   ]
  },
  {
   "cell_type": "markdown",
   "id": "da8faa80",
   "metadata": {},
   "source": [
    "so 10 = true positive = which is true and is also predicted true\n",
    "31 is true negative = which is true but positive false\n",
    "3 is false positve= which is false but predicted as positive\n",
    "and 110 is false positive = which is false and predicted as false\n",
    "In our case model did 34 predictions but that is good since we had so little data"
   ]
  },
  {
   "cell_type": "markdown",
   "id": "562c8a55",
   "metadata": {},
   "source": [
    "let's create Big-O plots for the KNN algorithm\n",
    "for that let's create random 1000values to see it\n",
    "so we are creating random integers using randint function\n",
    "and passing it through KNN to calcuate the time it needs to process it\n",
    "and shape is important bcs training data shape and test data shape neeeds to be same\n"
   ]
  },
  {
   "cell_type": "code",
   "execution_count": 139,
   "id": "7aa04cb9",
   "metadata": {},
   "outputs": [
    {
     "name": "stdout",
     "output_type": "stream",
     "text": [
      "100 element took time to fit : 0.0 50 element took to predict 0.03888082504272461\n",
      "200 element took time to fit : 0.0 100 element took to predict 0.10854029655456543\n",
      "300 element took time to fit : 0.0 150 element took to predict 0.2116231918334961\n",
      "400 element took time to fit : 0.0 200 element took to predict 0.3381381034851074\n",
      "500 element took time to fit : 0.0 250 element took to predict 0.5412273406982422\n",
      "600 element took time to fit : 0.0 300 element took to predict 0.7990808486938477\n",
      "700 element took time to fit : 0.0 350 element took to predict 0.9756183624267578\n",
      "800 element took time to fit : 0.0 400 element took to predict 1.2160592079162598\n",
      "900 element took time to fit : 0.0 450 element took to predict 1.7159230709075928\n",
      "1000 element took time to fit : 0.0 500 element took to predict 2.4040279388427734\n",
      "1100 element took time to fit : 0.0 550 element took to predict 2.8181653022766113\n",
      "1200 element took time to fit : 0.0 600 element took to predict 3.254863739013672\n",
      "1300 element took time to fit : 0.0 650 element took to predict 3.665374517440796\n",
      "1400 element took time to fit : 0.0 700 element took to predict 4.1557981967926025\n",
      "1500 element took time to fit : 0.0 750 element took to predict 5.095269680023193\n",
      "1600 element took time to fit : 0.0 800 element took to predict 5.668664216995239\n",
      "1700 element took time to fit : 0.0 850 element took to predict 6.421248197555542\n",
      "1800 element took time to fit : 0.0 900 element took to predict 7.3136067390441895\n",
      "1900 element took time to fit : 0.0 950 element took to predict 7.931086778640747\n"
     ]
    }
   ],
   "source": [
    "from numpy.random import randint\n",
    "import time\n",
    "elements= list()\n",
    "elements2= list()\n",
    "times= list()\n",
    "times2= list()\n",
    "for i in range(1,20):\n",
    "    train = randint(0,100*i, size=(100*i,2))\n",
    "    label= randint(0,100*i, 100*i)\n",
    "    test= randint(0,50*i,size=(50*i,2))\n",
    "    cc= OurKNearestNeighbors(14)\n",
    "    start= time.time()\n",
    "    cc.fit(train,label)\n",
    "    end= time.time()\n",
    "    cc.predict(test)\n",
    "    end2 = time.time()\n",
    "    \n",
    "    print(len(train), \"element took time to fit :\",end-start,len(test), \"element took to predict\", end2-start)\n",
    "    elements.append(len(train))\n",
    "    elements2.append(len(test))\n",
    "    times.append(end-start)\n",
    "    times2.append(end2-start)\n",
    "    \n",
    "    "
   ]
  },
  {
   "cell_type": "code",
   "execution_count": 128,
   "id": "fa6d8f1d",
   "metadata": {},
   "outputs": [
    {
     "data": {
      "image/png": "[encoded data removed]",
      "text/plain": [
       "<Figure size 432x288 with 1 Axes>"
      ]
     },
     "metadata": {
      "needs_background": "light"
     },
     "output_type": "display_data"
    }
   ],
   "source": [
    "plt.xlabel('elements to predict')\n",
    "plt.ylabel('Time Complexity')\n",
    "plt.plot(elements2, times2, label ='predict')\n",
    "plt.plot(elements, times,label='fit')\n",
    "plt.grid()\n",
    "plt.legend()\n",
    "plt.show()"
   ]
  },
  {
   "cell_type": "markdown",
   "id": "cdd892f0",
   "metadata": {},
   "source": [
    "from above graph we can see that to fit it always takes O(1) time and to predict it takes  quadratic time so it's complexity is O(n*m)  = O(n^2)"
   ]
  },
  {
   "cell_type": "markdown",
   "id": "f3e7ce68",
   "metadata": {},
   "source": [
    "for the upper one we put dimension of training and testing data constant let's see what happens  if we increase it as well\n"
   ]
  },
  {
   "cell_type": "markdown",
   "id": "847d40a1",
   "metadata": {},
   "source": [
    "so it looks like the shape of test shape has increasing effect on time taken to predict as well because this algorithm works by calculating distance between each row of points in test set with each row of point in training data \n",
    "which in a simple word means \n",
    "there is 1 row data\n",
    "there are 10 rows data\n",
    "then that 1 row data iterated through 10 rows   to find distance\n",
    "then it gets labels from closest k points\n",
    "and the most common label is returned\n",
    "so more data = more time and also more dimension = more time\n",
    "so it depends on data as well as it's dimension\n"
   ]
  },
  {
   "cell_type": "code",
   "execution_count": 133,
   "id": "6c1393c6",
   "metadata": {},
   "outputs": [
    {
     "name": "stdout",
     "output_type": "stream",
     "text": [
      "(100, 1) shape wit element took time to fit : 0.0 (50, 1) element took to predict 0.046552181243896484\n",
      "(200, 2) shape wit element took time to fit : 0.0 (100, 2) element took to predict 0.09917974472045898\n",
      "(300, 3) shape wit element took time to fit : 0.0 (150, 3) element took to predict 0.2359023094177246\n",
      "(400, 4) shape wit element took time to fit : 0.0 (200, 4) element took to predict 0.4268949031829834\n",
      "(500, 5) shape wit element took time to fit : 0.0 (250, 5) element took to predict 0.7460341453552246\n",
      "(600, 6) shape wit element took time to fit : 0.0 (300, 6) element took to predict 1.2049787044525146\n",
      "(700, 7) shape wit element took time to fit : 0.0 (350, 7) element took to predict 1.843062400817871\n",
      "(800, 8) shape wit element took time to fit : 0.0 (400, 8) element took to predict 2.5432260036468506\n",
      "(900, 9) shape wit element took time to fit : 0.0 (450, 9) element took to predict 3.01304292678833\n",
      "(1000, 10) shape wit element took time to fit : 0.0 (500, 10) element took to predict 4.018648147583008\n",
      "(1100, 11) shape wit element took time to fit : 0.0 (550, 11) element took to predict 5.265822172164917\n",
      "(1200, 12) shape wit element took time to fit : 0.0 (600, 12) element took to predict 6.704207897186279\n",
      "(1300, 13) shape wit element took time to fit : 0.0 (650, 13) element took to predict 8.318779230117798\n",
      "(1400, 14) shape wit element took time to fit : 0.0 (700, 14) element took to predict 10.023093223571777\n",
      "(1500, 15) shape wit element took time to fit : 0.0 (750, 15) element took to predict 12.046000480651855\n",
      "(1600, 16) shape wit element took time to fit : 0.0 (800, 16) element took to predict 14.472787141799927\n",
      "(1700, 17) shape wit element took time to fit : 0.0 (850, 17) element took to predict 16.98479127883911\n",
      "(1800, 18) shape wit element took time to fit : 0.0 (900, 18) element took to predict 20.377829551696777\n",
      "(1900, 19) shape wit element took time to fit : 0.0 (950, 19) element took to predict 23.474464416503906\n"
     ]
    }
   ],
   "source": [
    "from numpy.random import randint\n",
    "import time\n",
    "elements= list()\n",
    "elements3= list()\n",
    "times= list()\n",
    "times3= list()\n",
    "for i in range(1,20):\n",
    "    train = randint(0,100*i, size=(100*i,i))\n",
    "    label= randint(0,100*i, 100*i)\n",
    "    test= randint(0,50*i,size=(50*i,i))\n",
    "    cc= OurKNearestNeighbors(14)\n",
    "    start= time.time()\n",
    "    cc.fit(train,label)\n",
    "    end= time.time()\n",
    "    cc.predict(test)\n",
    "    end2 = time.time()\n",
    "    \n",
    "    print(np.shape(train), \"shape wit element took time to fit :\",end-start,np.shape(test), \"element took to predict\", end2-start)\n",
    "    elements.append(np.shape(train))\n",
    "    elements3.append(np.shape(test))\n",
    "    times.append(end-start)\n",
    "    times3.append(end2-start)\n",
    "    \n",
    "    "
   ]
  },
  {
   "cell_type": "code",
   "execution_count": 134,
   "id": "9e4eaab9",
   "metadata": {},
   "outputs": [],
   "source": [
    "# now since there are dimension of data let's multiply them to get understandable result\n",
    "for i in range(19):\n",
    "    elements[i]=elements[i][0]\n",
    "    elements3[i]=elements3[i][0]\n",
    "    \n",
    "#this function just saves number of elements to make it easier to plot\n",
    "    "
   ]
  },
  {
   "cell_type": "code",
   "execution_count": 135,
   "id": "07c64d38",
   "metadata": {},
   "outputs": [
    {
     "data": {
      "image/png": "[encoded data removed]",
      "text/plain": [
       "<Figure size 432x288 with 1 Axes>"
      ]
     },
     "metadata": {
      "needs_background": "light"
     },
     "output_type": "display_data"
    }
   ],
   "source": [
    "plt.xlabel('shape and element to predict')\n",
    "plt.ylabel('Time Complexity')\n",
    "plt.plot(elements3, times3, label ='predict')\n",
    "plt.plot(elements, times,label='fit')\n",
    "plt.grid()\n",
    "plt.legend()\n",
    "plt.show()"
   ]
  },
  {
   "cell_type": "markdown",
   "id": "22d3b4dd",
   "metadata": {},
   "source": [
    "#now let's compare the plot "
   ]
  },
  {
   "cell_type": "code",
   "execution_count": 140,
   "id": "4e8b44a1",
   "metadata": {},
   "outputs": [
    {
     "data": {
      "text/plain": [
       "[50,\n",
       " 100,\n",
       " 150,\n",
       " 200,\n",
       " 250,\n",
       " 300,\n",
       " 350,\n",
       " 400,\n",
       " 450,\n",
       " 500,\n",
       " 550,\n",
       " 600,\n",
       " 650,\n",
       " 700,\n",
       " 750,\n",
       " 800,\n",
       " 850,\n",
       " 900,\n",
       " 950]"
      ]
     },
     "execution_count": 140,
     "metadata": {},
     "output_type": "execute_result"
    }
   ],
   "source": [
    "elements2"
   ]
  },
  {
   "cell_type": "code",
   "execution_count": 138,
   "id": "8b7f8f6e",
   "metadata": {},
   "outputs": [
    {
     "data": {
      "text/plain": [
       "[0.043035268783569336,\n",
       " 0.14699959754943848,\n",
       " 0.31800293922424316,\n",
       " 0.5559630393981934,\n",
       " 0.856034517288208,\n",
       " 1.204958438873291,\n",
       " 1.8890008926391602,\n",
       " 2.406839370727539,\n",
       " 3.1272215843200684,\n",
       " 3.863431930541992,\n",
       " 4.601558685302734,\n",
       " 4.933000326156616,\n",
       " 5.623035669326782,\n",
       " 6.531926393508911,\n",
       " 7.491034507751465,\n",
       " 8.896083116531372,\n",
       " 10.090017318725586,\n",
       " 10.673909902572632,\n",
       " 11.946033477783203,\n",
       " 0.03900623321533203,\n",
       " 0.15299558639526367,\n",
       " 0.3710305690765381,\n",
       " 0.6890013217926025,\n",
       " 1.1519160270690918,\n",
       " 1.7990553379058838,\n",
       " 2.6280362606048584,\n",
       " 3.6650002002716064,\n",
       " 4.945003032684326,\n",
       " 6.715239524841309,\n",
       " 8.891733169555664,\n",
       " 10.640003442764282,\n",
       " 11.79299783706665,\n",
       " 8.707037448883057,\n",
       " 10.636057615280151,\n",
       " 14.989886999130249,\n",
       " 16.584561824798584,\n",
       " 19.414154052734375,\n",
       " 22.372262954711914]"
      ]
     },
     "execution_count": 138,
     "metadata": {},
     "output_type": "execute_result"
    }
   ],
   "source": [
    "times2"
   ]
  },
  {
   "cell_type": "code",
   "execution_count": 141,
   "id": "69c9ba90",
   "metadata": {},
   "outputs": [
    {
     "data": {
      "image/png": "[encoded data removed]",
      "text/plain": [
       "<Figure size 432x288 with 1 Axes>"
      ]
     },
     "metadata": {
      "needs_background": "light"
     },
     "output_type": "display_data"
    }
   ],
   "source": [
    "plt.xlabel('shape and element to predict')\n",
    "plt.ylabel('Time Complexity')\n",
    "plt.plot(elements3, times3, label ='predict varying dimension')\n",
    "plt.plot(elements2, times2, label ='predict constant dimension')\n",
    "\n",
    "plt.plot(elements, times,label='fit')\n",
    "plt.grid()\n",
    "plt.legend()\n",
    "plt.show()"
   ]
  },
  {
   "cell_type": "markdown",
   "id": "9aa2fcee",
   "metadata": {},
   "source": [
    "#from this plot we can see that dimenstion also has clear impact on the KNN algorithm performance\n",
    "hence the complexity of KNN model is d*M*n where d= dimension, M - training data and n = test data"
   ]
  },
  {
   "cell_type": "code",
   "execution_count": null,
   "id": "a90b0ada",
   "metadata": {},
   "outputs": [],
   "source": []
  }
 ],
 "metadata": {
  "kernelspec": {
   "display_name": "Python 3 (ipykernel)",
   "language": "python",
   "name": "python3"
  },
  "language_info": {
   "codemirror_mode": {
    "name": "ipython",
    "version": 3
   },
   "file_extension": ".py",
   "mimetype": "text/x-python",
   "name": "python",
   "nbconvert_exporter": "python",
   "pygments_lexer": "ipython3",
   "version": "3.9.9"
  }
 },
 "nbformat": 4,
 "nbformat_minor": 5
}
